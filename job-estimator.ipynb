{
 "cells": [
  {
   "cell_type": "markdown",
   "id": "727b38e3-4bf1-469b-bbdf-1c3b01079f22",
   "metadata": {},
   "source": [
    "# Salary estimator from listings"
   ]
  },
  {
   "cell_type": "markdown",
   "id": "c608e48e",
   "metadata": {},
   "source": [
    "The city_state.json file was modified from this github repo [agalea91 - city_to_state_dictionary](https://github.com/agalea91/city_to_state_dictionary/blob/master/city_to_state.py).\n",
    "\n",
    "The state_abbr.json file was modified from this github repo [JeffPaine - us_state_abbreviations.py](https://gist.github.com/JeffPaine/3083347).\n",
    "\n",
    "The job posting dataset can be found on Kaggle [LinkedIn Job Postings (2023 - 2024)](https://www.kaggle.com/datasets/arshkon/linkedin-job-postings)"
   ]
  },
  {
   "cell_type": "markdown",
   "id": "ddaaa672-a66a-449e-acaa-c9f995ec1ef6",
   "metadata": {},
   "source": [
    "## Setup"
   ]
  },
  {
   "cell_type": "code",
   "execution_count": 1,
   "id": "a3e0ae1b",
   "metadata": {},
   "outputs": [],
   "source": [
    "%%capture\n",
    "%pip install pandas xgboost scikit-learn plotly gensim #swifter\n",
    "print('')"
   ]
  },
  {
   "cell_type": "markdown",
   "id": "9a5ffcbf-6ac8-46c6-92b2-446fc546a08d",
   "metadata": {},
   "source": [
    "First we must import our packages to manage the dataset. Then we can import the data."
   ]
  },
  {
   "cell_type": "markdown",
   "id": "1e044b65-ce26-48fa-a2fa-e8e0f7ff831c",
   "metadata": {},
   "source": [
    "## Setup\n",
    "Import the many packages"
   ]
  },
  {
   "cell_type": "code",
   "execution_count": 2,
   "id": "335c66c8-11a7-422b-a512-baa3ff106c6b",
   "metadata": {},
   "outputs": [
    {
     "data": {
      "text/plain": [
       "(JobPostingManager.JobPostingManager, Job2Vec.Job2Vec, categorizer.Categorizer)"
      ]
     },
     "execution_count": 2,
     "metadata": {},
     "output_type": "execute_result"
    }
   ],
   "source": [
    "import pandas as pd\n",
    "import numpy as np\n",
    "import plotly.graph_objects as go\n",
    "from plotly.subplots import make_subplots\n",
    "\n",
    "global JPM\n",
    "global J2V\n",
    "global CTR\n",
    "\n",
    "def load_scripts():\n",
    "    %load_ext autoreload\n",
    "    %aimport JobPostingManager\n",
    "    %aimport Job2Vec\n",
    "    %aimport categorizer\n",
    "    %aimport settings\n",
    "    %autoreload 1\n",
    "    \n",
    "    global JPM\n",
    "    JPM = JobPostingManager.JobPostingManager\n",
    "    global J2V\n",
    "    J2V = Job2Vec.Job2Vec\n",
    "    global CTR\n",
    "    CTR = categorizer.Categorizer\n",
    "    return (JPM, J2V, CTR)\n",
    "\n",
    "load_scripts()"
   ]
  },
  {
   "cell_type": "markdown",
   "id": "5d8261e7",
   "metadata": {},
   "source": [
    "Extract the job posting data from the CSV and clean it."
   ]
  },
  {
   "cell_type": "code",
   "execution_count": 3,
   "id": "d8fd8abb",
   "metadata": {},
   "outputs": [
    {
     "name": "stdout",
     "output_type": "stream",
     "text": [
      "Average vacation days: 13.445833333333333\n",
      "Retrieving an existing dataset at c:\\dev\\job-estimator/archive/clean_postings.bin\n"
     ]
    }
   ],
   "source": [
    "jpm = JPM()\n",
    "df = jpm.postings.copy()"
   ]
  },
  {
   "cell_type": "code",
   "execution_count": 4,
   "id": "4078bb05",
   "metadata": {},
   "outputs": [
    {
     "name": "stdout",
     "output_type": "stream",
     "text": [
      "YEARLY\n"
     ]
    },
    {
     "data": {
      "text/html": [
       "<style type=\"text/css\">\n",
       "</style>\n",
       "<table id=\"T_c71b6\">\n",
       "  <thead>\n",
       "    <tr>\n",
       "      <th class=\"blank level0\" >&nbsp;</th>\n",
       "      <th id=\"T_c71b6_level0_col0\" class=\"col_heading level0 col0\" >pay_col</th>\n",
       "      <th id=\"T_c71b6_level0_col1\" class=\"col_heading level0 col1\" >min</th>\n",
       "      <th id=\"T_c71b6_level0_col2\" class=\"col_heading level0 col2\" >Q1</th>\n",
       "      <th id=\"T_c71b6_level0_col3\" class=\"col_heading level0 col3\" >median</th>\n",
       "      <th id=\"T_c71b6_level0_col4\" class=\"col_heading level0 col4\" >Q3</th>\n",
       "      <th id=\"T_c71b6_level0_col5\" class=\"col_heading level0 col5\" >max</th>\n",
       "      <th id=\"T_c71b6_level0_col6\" class=\"col_heading level0 col6\" >mean</th>\n",
       "      <th id=\"T_c71b6_level0_col7\" class=\"col_heading level0 col7\" >mode</th>\n",
       "    </tr>\n",
       "  </thead>\n",
       "  <tbody>\n",
       "    <tr>\n",
       "      <th id=\"T_c71b6_level0_row0\" class=\"row_heading level0 row0\" >2</th>\n",
       "      <td id=\"T_c71b6_row0_col0\" class=\"data row0 col0\" >max_salary</td>\n",
       "      <td id=\"T_c71b6_row0_col1\" class=\"data row0 col1\" >12,000</td>\n",
       "      <td id=\"T_c71b6_row0_col2\" class=\"data row0 col2\" >85,000</td>\n",
       "      <td id=\"T_c71b6_row0_col3\" class=\"data row0 col3\" >120,000</td>\n",
       "      <td id=\"T_c71b6_row0_col4\" class=\"data row0 col4\" >170,000</td>\n",
       "      <td id=\"T_c71b6_row0_col5\" class=\"data row0 col5\" >1,500,000</td>\n",
       "      <td id=\"T_c71b6_row0_col6\" class=\"data row0 col6\" >139,481</td>\n",
       "      <td id=\"T_c71b6_row0_col7\" class=\"data row0 col7\" >[150000.0]</td>\n",
       "    </tr>\n",
       "    <tr>\n",
       "      <th id=\"T_c71b6_level0_row1\" class=\"row_heading level0 row1\" >1</th>\n",
       "      <td id=\"T_c71b6_row1_col0\" class=\"data row1 col0\" >med_salary</td>\n",
       "      <td id=\"T_c71b6_row1_col1\" class=\"data row1 col1\" >10,000</td>\n",
       "      <td id=\"T_c71b6_row1_col2\" class=\"data row1 col2\" >54,000</td>\n",
       "      <td id=\"T_c71b6_row1_col3\" class=\"data row1 col3\" >72,000</td>\n",
       "      <td id=\"T_c71b6_row1_col4\" class=\"data row1 col4\" >105,400</td>\n",
       "      <td id=\"T_c71b6_row1_col5\" class=\"data row1 col5\" >300,500</td>\n",
       "      <td id=\"T_c71b6_row1_col6\" class=\"data row1 col6\" >84,890</td>\n",
       "      <td id=\"T_c71b6_row1_col7\" class=\"data row1 col7\" >[60000.0]</td>\n",
       "    </tr>\n",
       "    <tr>\n",
       "      <th id=\"T_c71b6_level0_row2\" class=\"row_heading level0 row2\" >0</th>\n",
       "      <td id=\"T_c71b6_row2_col0\" class=\"data row2 col0\" >min_salary</td>\n",
       "      <td id=\"T_c71b6_row2_col1\" class=\"data row2 col1\" >10,000</td>\n",
       "      <td id=\"T_c71b6_row2_col2\" class=\"data row2 col2\" >65,000</td>\n",
       "      <td id=\"T_c71b6_row2_col3\" class=\"data row2 col3\" >89,250</td>\n",
       "      <td id=\"T_c71b6_row2_col4\" class=\"data row2 col4\" >120,000</td>\n",
       "      <td id=\"T_c71b6_row2_col5\" class=\"data row2 col5\" >750,000</td>\n",
       "      <td id=\"T_c71b6_row2_col6\" class=\"data row2 col6\" >98,622</td>\n",
       "      <td id=\"T_c71b6_row2_col7\" class=\"data row2 col7\" >[100000.0]</td>\n",
       "    </tr>\n",
       "  </tbody>\n",
       "</table>\n"
      ],
      "text/plain": [
       "<IPython.core.display.HTML object>"
      ]
     },
     "metadata": {},
     "output_type": "display_data"
    },
    {
     "name": "stdout",
     "output_type": "stream",
     "text": [
      "MONTHLY\n"
     ]
    },
    {
     "data": {
      "text/html": [
       "<style type=\"text/css\">\n",
       "</style>\n",
       "<table id=\"T_d490f\">\n",
       "  <thead>\n",
       "    <tr>\n",
       "      <th class=\"blank level0\" >&nbsp;</th>\n",
       "      <th id=\"T_d490f_level0_col0\" class=\"col_heading level0 col0\" >pay_col</th>\n",
       "      <th id=\"T_d490f_level0_col1\" class=\"col_heading level0 col1\" >min</th>\n",
       "      <th id=\"T_d490f_level0_col2\" class=\"col_heading level0 col2\" >Q1</th>\n",
       "      <th id=\"T_d490f_level0_col3\" class=\"col_heading level0 col3\" >median</th>\n",
       "      <th id=\"T_d490f_level0_col4\" class=\"col_heading level0 col4\" >Q3</th>\n",
       "      <th id=\"T_d490f_level0_col5\" class=\"col_heading level0 col5\" >max</th>\n",
       "      <th id=\"T_d490f_level0_col6\" class=\"col_heading level0 col6\" >mean</th>\n",
       "      <th id=\"T_d490f_level0_col7\" class=\"col_heading level0 col7\" >mode</th>\n",
       "    </tr>\n",
       "  </thead>\n",
       "  <tbody>\n",
       "    <tr>\n",
       "      <th id=\"T_d490f_level0_row0\" class=\"row_heading level0 row0\" >2</th>\n",
       "      <td id=\"T_d490f_row0_col0\" class=\"data row0 col0\" >max_salary</td>\n",
       "      <td id=\"T_d490f_row0_col1\" class=\"data row0 col1\" >12,000</td>\n",
       "      <td id=\"T_d490f_row0_col2\" class=\"data row0 col2\" >66,996</td>\n",
       "      <td id=\"T_d490f_row0_col3\" class=\"data row0 col3\" >89,364</td>\n",
       "      <td id=\"T_d490f_row0_col4\" class=\"data row0 col4\" >119,184</td>\n",
       "      <td id=\"T_d490f_row0_col5\" class=\"data row0 col5\" >1,320,000</td>\n",
       "      <td id=\"T_d490f_row0_col6\" class=\"data row0 col6\" >103,996</td>\n",
       "      <td id=\"T_d490f_row0_col7\" class=\"data row0 col7\" >[85368.0]</td>\n",
       "    </tr>\n",
       "    <tr>\n",
       "      <th id=\"T_d490f_level0_row1\" class=\"row_heading level0 row1\" >1</th>\n",
       "      <td id=\"T_d490f_row1_col0\" class=\"data row1 col0\" >med_salary</td>\n",
       "      <td id=\"T_d490f_row1_col1\" class=\"data row1 col1\" >12,000</td>\n",
       "      <td id=\"T_d490f_row1_col2\" class=\"data row1 col2\" >25,398</td>\n",
       "      <td id=\"T_d490f_row1_col3\" class=\"data row1 col3\" >28,716</td>\n",
       "      <td id=\"T_d490f_row1_col4\" class=\"data row1 col4\" >36,000</td>\n",
       "      <td id=\"T_d490f_row1_col5\" class=\"data row1 col5\" >300,000</td>\n",
       "      <td id=\"T_d490f_row1_col6\" class=\"data row1 col6\" >36,286</td>\n",
       "      <td id=\"T_d490f_row1_col7\" class=\"data row1 col7\" >[30000.0]</td>\n",
       "    </tr>\n",
       "    <tr>\n",
       "      <th id=\"T_d490f_level0_row2\" class=\"row_heading level0 row2\" >0</th>\n",
       "      <td id=\"T_d490f_row2_col0\" class=\"data row2 col0\" >min_salary</td>\n",
       "      <td id=\"T_d490f_row2_col1\" class=\"data row2 col1\" >12,000</td>\n",
       "      <td id=\"T_d490f_row2_col2\" class=\"data row2 col2\" >45,864</td>\n",
       "      <td id=\"T_d490f_row2_col3\" class=\"data row2 col3\" >68,208</td>\n",
       "      <td id=\"T_d490f_row2_col4\" class=\"data row2 col4\" >81,120</td>\n",
       "      <td id=\"T_d490f_row2_col5\" class=\"data row2 col5\" >1,080,000</td>\n",
       "      <td id=\"T_d490f_row2_col6\" class=\"data row2 col6\" >73,636</td>\n",
       "      <td id=\"T_d490f_row2_col7\" class=\"data row2 col7\" >[68208.0]</td>\n",
       "    </tr>\n",
       "  </tbody>\n",
       "</table>\n"
      ],
      "text/plain": [
       "<IPython.core.display.HTML object>"
      ]
     },
     "metadata": {},
     "output_type": "display_data"
    },
    {
     "name": "stdout",
     "output_type": "stream",
     "text": [
      "BIWEEKLY\n"
     ]
    },
    {
     "data": {
      "text/html": [
       "<style type=\"text/css\">\n",
       "</style>\n",
       "<table id=\"T_d104d\">\n",
       "  <thead>\n",
       "    <tr>\n",
       "      <th class=\"blank level0\" >&nbsp;</th>\n",
       "      <th id=\"T_d104d_level0_col0\" class=\"col_heading level0 col0\" >pay_col</th>\n",
       "      <th id=\"T_d104d_level0_col1\" class=\"col_heading level0 col1\" >min</th>\n",
       "      <th id=\"T_d104d_level0_col2\" class=\"col_heading level0 col2\" >Q1</th>\n",
       "      <th id=\"T_d104d_level0_col3\" class=\"col_heading level0 col3\" >median</th>\n",
       "      <th id=\"T_d104d_level0_col4\" class=\"col_heading level0 col4\" >Q3</th>\n",
       "      <th id=\"T_d104d_level0_col5\" class=\"col_heading level0 col5\" >max</th>\n",
       "      <th id=\"T_d104d_level0_col6\" class=\"col_heading level0 col6\" >mean</th>\n",
       "      <th id=\"T_d104d_level0_col7\" class=\"col_heading level0 col7\" >mode</th>\n",
       "    </tr>\n",
       "  </thead>\n",
       "  <tbody>\n",
       "    <tr>\n",
       "      <th id=\"T_d104d_level0_row0\" class=\"row_heading level0 row0\" >2</th>\n",
       "      <td id=\"T_d104d_row0_col0\" class=\"data row0 col0\" >max_salary</td>\n",
       "      <td id=\"T_d104d_row0_col1\" class=\"data row0 col1\" >53,482</td>\n",
       "      <td id=\"T_d104d_row0_col2\" class=\"data row0 col2\" >66,976</td>\n",
       "      <td id=\"T_d104d_row0_col3\" class=\"data row0 col3\" >81,434</td>\n",
       "      <td id=\"T_d104d_row0_col4\" class=\"data row0 col4\" >87,516</td>\n",
       "      <td id=\"T_d104d_row0_col5\" class=\"data row0 col5\" >89,965</td>\n",
       "      <td id=\"T_d104d_row0_col6\" class=\"data row0 col6\" >74,550</td>\n",
       "      <td id=\"T_d104d_row0_col7\" class=\"data row0 col7\" >[66976.0]</td>\n",
       "    </tr>\n",
       "    <tr>\n",
       "      <th id=\"T_d104d_level0_row1\" class=\"row_heading level0 row1\" >1</th>\n",
       "      <td id=\"T_d104d_row1_col0\" class=\"data row1 col0\" >med_salary</td>\n",
       "      <td id=\"T_d104d_row1_col1\" class=\"data row1 col1\" >nan</td>\n",
       "      <td id=\"T_d104d_row1_col2\" class=\"data row1 col2\" >nan</td>\n",
       "      <td id=\"T_d104d_row1_col3\" class=\"data row1 col3\" >nan</td>\n",
       "      <td id=\"T_d104d_row1_col4\" class=\"data row1 col4\" >nan</td>\n",
       "      <td id=\"T_d104d_row1_col5\" class=\"data row1 col5\" >nan</td>\n",
       "      <td id=\"T_d104d_row1_col6\" class=\"data row1 col6\" >nan</td>\n",
       "      <td id=\"T_d104d_row1_col7\" class=\"data row1 col7\" >[]</td>\n",
       "    </tr>\n",
       "    <tr>\n",
       "      <th id=\"T_d104d_level0_row2\" class=\"row_heading level0 row2\" >0</th>\n",
       "      <td id=\"T_d104d_row2_col0\" class=\"data row2 col0\" >min_salary</td>\n",
       "      <td id=\"T_d104d_row2_col1\" class=\"data row2 col1\" >53,482</td>\n",
       "      <td id=\"T_d104d_row2_col2\" class=\"data row2 col2\" >54,009</td>\n",
       "      <td id=\"T_d104d_row2_col3\" class=\"data row2 col3\" >58,370</td>\n",
       "      <td id=\"T_d104d_row2_col4\" class=\"data row2 col4\" >64,519</td>\n",
       "      <td id=\"T_d104d_row2_col5\" class=\"data row2 col5\" >71,323</td>\n",
       "      <td id=\"T_d104d_row2_col6\" class=\"data row2 col6\" >60,370</td>\n",
       "      <td id=\"T_d104d_row2_col7\" class=\"data row2 col7\" >[54009.0]</td>\n",
       "    </tr>\n",
       "  </tbody>\n",
       "</table>\n"
      ],
      "text/plain": [
       "<IPython.core.display.HTML object>"
      ]
     },
     "metadata": {},
     "output_type": "display_data"
    },
    {
     "name": "stdout",
     "output_type": "stream",
     "text": [
      "WEEKLY\n"
     ]
    },
    {
     "data": {
      "text/html": [
       "<style type=\"text/css\">\n",
       "</style>\n",
       "<table id=\"T_665cb\">\n",
       "  <thead>\n",
       "    <tr>\n",
       "      <th class=\"blank level0\" >&nbsp;</th>\n",
       "      <th id=\"T_665cb_level0_col0\" class=\"col_heading level0 col0\" >pay_col</th>\n",
       "      <th id=\"T_665cb_level0_col1\" class=\"col_heading level0 col1\" >min</th>\n",
       "      <th id=\"T_665cb_level0_col2\" class=\"col_heading level0 col2\" >Q1</th>\n",
       "      <th id=\"T_665cb_level0_col3\" class=\"col_heading level0 col3\" >median</th>\n",
       "      <th id=\"T_665cb_level0_col4\" class=\"col_heading level0 col4\" >Q3</th>\n",
       "      <th id=\"T_665cb_level0_col5\" class=\"col_heading level0 col5\" >max</th>\n",
       "      <th id=\"T_665cb_level0_col6\" class=\"col_heading level0 col6\" >mean</th>\n",
       "      <th id=\"T_665cb_level0_col7\" class=\"col_heading level0 col7\" >mode</th>\n",
       "    </tr>\n",
       "  </thead>\n",
       "  <tbody>\n",
       "    <tr>\n",
       "      <th id=\"T_665cb_level0_row0\" class=\"row_heading level0 row0\" >2</th>\n",
       "      <td id=\"T_665cb_row0_col0\" class=\"data row0 col0\" >max_salary</td>\n",
       "      <td id=\"T_665cb_row0_col1\" class=\"data row0 col1\" >50,804</td>\n",
       "      <td id=\"T_665cb_row0_col2\" class=\"data row0 col2\" >100,360</td>\n",
       "      <td id=\"T_665cb_row0_col3\" class=\"data row0 col3\" >109,148</td>\n",
       "      <td id=\"T_665cb_row0_col4\" class=\"data row0 col4\" >119,658</td>\n",
       "      <td id=\"T_665cb_row0_col5\" class=\"data row0 col5\" >210,548</td>\n",
       "      <td id=\"T_665cb_row0_col6\" class=\"data row0 col6\" >111,668</td>\n",
       "      <td id=\"T_665cb_row0_col7\" class=\"data row0 col7\" >[95726.8, 114884.64000000001, 117303.16, 120931.2]</td>\n",
       "    </tr>\n",
       "    <tr>\n",
       "      <th id=\"T_665cb_level0_row1\" class=\"row_heading level0 row1\" >1</th>\n",
       "      <td id=\"T_665cb_row1_col0\" class=\"data row1 col0\" >med_salary</td>\n",
       "      <td id=\"T_665cb_row1_col1\" class=\"data row1 col1\" >nan</td>\n",
       "      <td id=\"T_665cb_row1_col2\" class=\"data row1 col2\" >nan</td>\n",
       "      <td id=\"T_665cb_row1_col3\" class=\"data row1 col3\" >nan</td>\n",
       "      <td id=\"T_665cb_row1_col4\" class=\"data row1 col4\" >nan</td>\n",
       "      <td id=\"T_665cb_row1_col5\" class=\"data row1 col5\" >nan</td>\n",
       "      <td id=\"T_665cb_row1_col6\" class=\"data row1 col6\" >nan</td>\n",
       "      <td id=\"T_665cb_row1_col7\" class=\"data row1 col7\" >[]</td>\n",
       "    </tr>\n",
       "    <tr>\n",
       "      <th id=\"T_665cb_level0_row2\" class=\"row_heading level0 row2\" >0</th>\n",
       "      <td id=\"T_665cb_row2_col0\" class=\"data row2 col0\" >min_salary</td>\n",
       "      <td id=\"T_665cb_row2_col1\" class=\"data row2 col1\" >50,804</td>\n",
       "      <td id=\"T_665cb_row2_col2\" class=\"data row2 col2\" >99,684</td>\n",
       "      <td id=\"T_665cb_row2_col3\" class=\"data row2 col3\" >109,148</td>\n",
       "      <td id=\"T_665cb_row2_col4\" class=\"data row2 col4\" >119,658</td>\n",
       "      <td id=\"T_665cb_row2_col5\" class=\"data row2 col5\" >210,548</td>\n",
       "      <td id=\"T_665cb_row2_col6\" class=\"data row2 col6\" >111,452</td>\n",
       "      <td id=\"T_665cb_row2_col7\" class=\"data row2 col7\" >[95726.8, 114884.64000000001, 117303.16, 120931.2]</td>\n",
       "    </tr>\n",
       "  </tbody>\n",
       "</table>\n"
      ],
      "text/plain": [
       "<IPython.core.display.HTML object>"
      ]
     },
     "metadata": {},
     "output_type": "display_data"
    },
    {
     "name": "stdout",
     "output_type": "stream",
     "text": [
      "HOURLY\n"
     ]
    },
    {
     "data": {
      "text/html": [
       "<style type=\"text/css\">\n",
       "</style>\n",
       "<table id=\"T_9e545\">\n",
       "  <thead>\n",
       "    <tr>\n",
       "      <th class=\"blank level0\" >&nbsp;</th>\n",
       "      <th id=\"T_9e545_level0_col0\" class=\"col_heading level0 col0\" >pay_col</th>\n",
       "      <th id=\"T_9e545_level0_col1\" class=\"col_heading level0 col1\" >min</th>\n",
       "      <th id=\"T_9e545_level0_col2\" class=\"col_heading level0 col2\" >Q1</th>\n",
       "      <th id=\"T_9e545_level0_col3\" class=\"col_heading level0 col3\" >median</th>\n",
       "      <th id=\"T_9e545_level0_col4\" class=\"col_heading level0 col4\" >Q3</th>\n",
       "      <th id=\"T_9e545_level0_col5\" class=\"col_heading level0 col5\" >max</th>\n",
       "      <th id=\"T_9e545_level0_col6\" class=\"col_heading level0 col6\" >mean</th>\n",
       "      <th id=\"T_9e545_level0_col7\" class=\"col_heading level0 col7\" >mode</th>\n",
       "    </tr>\n",
       "  </thead>\n",
       "  <tbody>\n",
       "    <tr>\n",
       "      <th id=\"T_9e545_level0_row0\" class=\"row_heading level0 row0\" >2</th>\n",
       "      <td id=\"T_9e545_row0_col0\" class=\"data row0 col0\" >max_salary</td>\n",
       "      <td id=\"T_9e545_row0_col1\" class=\"data row0 col1\" >10,335</td>\n",
       "      <td id=\"T_9e545_row0_col2\" class=\"data row0 col2\" >42,679</td>\n",
       "      <td id=\"T_9e545_row0_col3\" class=\"data row0 col3\" >58,354</td>\n",
       "      <td id=\"T_9e545_row0_col4\" class=\"data row0 col4\" >96,997</td>\n",
       "      <td id=\"T_9e545_row0_col5\" class=\"data row0 col5\" >581,985</td>\n",
       "      <td id=\"T_9e545_row0_col6\" class=\"data row0 col6\" >74,286</td>\n",
       "      <td id=\"T_9e545_row0_col7\" class=\"data row0 col7\" >[48498.73990982143]</td>\n",
       "    </tr>\n",
       "    <tr>\n",
       "      <th id=\"T_9e545_level0_row1\" class=\"row_heading level0 row1\" >1</th>\n",
       "      <td id=\"T_9e545_row1_col0\" class=\"data row1 col0\" >med_salary</td>\n",
       "      <td id=\"T_9e545_row1_col1\" class=\"data row1 col1\" >10,335</td>\n",
       "      <td id=\"T_9e545_row1_col2\" class=\"data row1 col2\" >31,621</td>\n",
       "      <td id=\"T_9e545_row1_col3\" class=\"data row1 col3\" >38,838</td>\n",
       "      <td id=\"T_9e545_row1_col4\" class=\"data row1 col4\" >54,319</td>\n",
       "      <td id=\"T_9e545_row1_col5\" class=\"data row1 col5\" >288,994</td>\n",
       "      <td id=\"T_9e545_row1_col6\" class=\"data row1 col6\" >49,051</td>\n",
       "      <td id=\"T_9e545_row1_col7\" class=\"data row1 col7\" >[38798.99192785715]</td>\n",
       "    </tr>\n",
       "    <tr>\n",
       "      <th id=\"T_9e545_level0_row2\" class=\"row_heading level0 row2\" >0</th>\n",
       "      <td id=\"T_9e545_row2_col0\" class=\"data row2 col0\" >min_salary</td>\n",
       "      <td id=\"T_9e545_row2_col1\" class=\"data row2 col1\" >10,100</td>\n",
       "      <td id=\"T_9e545_row2_col2\" class=\"data row2 col2\" >34,919</td>\n",
       "      <td id=\"T_9e545_row2_col3\" class=\"data row2 col3\" >46,559</td>\n",
       "      <td id=\"T_9e545_row2_col4\" class=\"data row2 col4\" >77,598</td>\n",
       "      <td id=\"T_9e545_row2_col5\" class=\"data row2 col5\" >484,987</td>\n",
       "      <td id=\"T_9e545_row2_col6\" class=\"data row2 col6\" >59,137</td>\n",
       "      <td id=\"T_9e545_row2_col7\" class=\"data row2 col7\" >[38798.99192785715]</td>\n",
       "    </tr>\n",
       "  </tbody>\n",
       "</table>\n"
      ],
      "text/plain": [
       "<IPython.core.display.HTML object>"
      ]
     },
     "metadata": {},
     "output_type": "display_data"
    }
   ],
   "source": [
    "\n",
    "from IPython.display import HTML, display\n",
    "def print_pay_summary(x: pd.DataFrame):\n",
    "    pay_df = x[pay_cols]\n",
    "    summary_df = pd.DataFrame([], columns=['pay_col','min','Q1','median','Q3','max','mean','mode'])\n",
    "    for c in pay_cols:\n",
    "        qs = [c]+pay_df[c].dropna().quantile([0,.25, .5, .75, 1]).tolist()+[pay_df[c].mean(), pay_df[c].mode().tolist()]\n",
    "        summary_df.loc[-1] = qs\n",
    "        summary_df.index+=1\n",
    "    return summary_df\n",
    "\n",
    "pay_period_types = ['YEARLY','MONTHLY', 'BIWEEKLY', 'WEEKLY', 'HOURLY']\n",
    "    \n",
    "pay_cols = ['max_salary','med_salary','min_salary']\n",
    "for pay_period in pay_period_types:\n",
    "    pay_period_df = df.loc[df['pay_period']==pay_period, pay_cols]\n",
    "    print(pay_period)\n",
    "    summary = print_pay_summary(pay_period_df)\n",
    "    \n",
    "    display(HTML(summary.style.format(precision=0,thousands=\",\").to_html()))    \n"
   ]
  },
  {
   "cell_type": "code",
   "execution_count": 5,
   "id": "f392e00c",
   "metadata": {},
   "outputs": [
    {
     "name": "stdout",
     "output_type": "stream",
     "text": [
      "Dropping rows where every pay column is empty.\n"
     ]
    },
    {
     "data": {
      "application/vnd.plotly.v1+json": {
       "config": {
        "plotlyServerURL": "https://plot.ly"
       },
       "data": [
        {
         "name": "Average Salary",
         "type": "bar",
         "x": [
          "MT",
          "KY",
          "KS",
          "MS",
          "ME",
          "OK",
          "HI",
          "VT",
          "SD",
          "NE",
          "AR",
          "ND",
          "NH",
          "IA",
          "ID",
          "UT",
          "SC",
          "MO",
          "MI",
          "IN",
          "TN",
          "WY",
          "AL",
          "NM",
          "WI",
          "NV",
          "OH",
          "MN",
          "LA",
          "RI",
          "AZ",
          "FL",
          "CO",
          "WV",
          "PA",
          "OR",
          "NC",
          "TX",
          "MD",
          "DE",
          "GA",
          "CT",
          "IL",
          "NJ",
          "VA",
          "MA",
          "AK",
          "WA",
          "CA",
          "NY",
          "DC"
         ],
         "xaxis": "x",
         "y": [
          63413.280990208565,
          64835.21500536886,
          64858.385318038905,
          64934.014857270464,
          65758.32421231385,
          66316.17964972906,
          66675.66581185712,
          67111.35838391111,
          67130.41888925454,
          67432.56278752822,
          67932.81411373446,
          68061.38598756133,
          68111.48266412843,
          68513.87290590882,
          68584.06625415605,
          69408.0710783261,
          69706.48435701549,
          71089.42066407007,
          71394.0140401065,
          71965.67529726827,
          73177.60295666663,
          73561.48281215489,
          74139.4875884158,
          74752.62355435082,
          75569.71426468312,
          77293.77411627935,
          77422.2324686089,
          77492.79069700814,
          78210.41645977524,
          78775.95310064632,
          79088.24977148153,
          80113.6814679153,
          80966.86620208218,
          81370.44302521061,
          81680.81472107256,
          83364.43814745698,
          87068.69052657622,
          88920.0405946683,
          89982.18449653324,
          90001.59667941964,
          90370.18587389759,
          92399.71331215015,
          94681.72010889987,
          95234.20854448092,
          95960.02356815831,
          99777.29632967805,
          100065.21500902936,
          100325.71940221124,
          102839.83972326865,
          106787.0757470461,
          107875.96734405767
         ],
         "yaxis": "y"
        },
        {
         "name": "Sample Size",
         "type": "scatter",
         "x": [
          "MT",
          "KY",
          "KS",
          "MS",
          "ME",
          "OK",
          "HI",
          "VT",
          "SD",
          "NE",
          "AR",
          "ND",
          "NH",
          "IA",
          "ID",
          "UT",
          "SC",
          "MO",
          "MI",
          "IN",
          "TN",
          "WY",
          "AL",
          "NM",
          "WI",
          "NV",
          "OH",
          "MN",
          "LA",
          "RI",
          "AZ",
          "FL",
          "CO",
          "WV",
          "PA",
          "OR",
          "NC",
          "TX",
          "MD",
          "DE",
          "GA",
          "CT",
          "IL",
          "NJ",
          "VA",
          "MA",
          "AK",
          "WA",
          "CA",
          "NY",
          "DC"
         ],
         "xaxis": "x",
         "y": [
          68,
          296,
          240,
          64,
          101,
          193,
          173,
          43,
          50,
          153,
          138,
          63,
          135,
          202,
          91,
          284,
          289,
          481,
          555,
          453,
          388,
          26,
          220,
          94,
          470,
          215,
          793,
          473,
          104,
          69,
          679,
          1465,
          1176,
          40,
          896,
          419,
          865,
          2138,
          546,
          62,
          791,
          369,
          1144,
          924,
          830,
          908,
          54,
          1473,
          6032,
          3765,
          319
         ],
         "yaxis": "y2"
        }
       ],
       "layout": {
        "template": {
         "data": {
          "bar": [
           {
            "error_x": {
             "color": "#2a3f5f"
            },
            "error_y": {
             "color": "#2a3f5f"
            },
            "marker": {
             "line": {
              "color": "#E5ECF6",
              "width": 0.5
             },
             "pattern": {
              "fillmode": "overlay",
              "size": 10,
              "solidity": 0.2
             }
            },
            "type": "bar"
           }
          ],
          "barpolar": [
           {
            "marker": {
             "line": {
              "color": "#E5ECF6",
              "width": 0.5
             },
             "pattern": {
              "fillmode": "overlay",
              "size": 10,
              "solidity": 0.2
             }
            },
            "type": "barpolar"
           }
          ],
          "carpet": [
           {
            "aaxis": {
             "endlinecolor": "#2a3f5f",
             "gridcolor": "white",
             "linecolor": "white",
             "minorgridcolor": "white",
             "startlinecolor": "#2a3f5f"
            },
            "baxis": {
             "endlinecolor": "#2a3f5f",
             "gridcolor": "white",
             "linecolor": "white",
             "minorgridcolor": "white",
             "startlinecolor": "#2a3f5f"
            },
            "type": "carpet"
           }
          ],
          "choropleth": [
           {
            "colorbar": {
             "outlinewidth": 0,
             "ticks": ""
            },
            "type": "choropleth"
           }
          ],
          "contour": [
           {
            "colorbar": {
             "outlinewidth": 0,
             "ticks": ""
            },
            "colorscale": [
             [
              0,
              "#0d0887"
             ],
             [
              0.1111111111111111,
              "#46039f"
             ],
             [
              0.2222222222222222,
              "#7201a8"
             ],
             [
              0.3333333333333333,
              "#9c179e"
             ],
             [
              0.4444444444444444,
              "#bd3786"
             ],
             [
              0.5555555555555556,
              "#d8576b"
             ],
             [
              0.6666666666666666,
              "#ed7953"
             ],
             [
              0.7777777777777778,
              "#fb9f3a"
             ],
             [
              0.8888888888888888,
              "#fdca26"
             ],
             [
              1,
              "#f0f921"
             ]
            ],
            "type": "contour"
           }
          ],
          "contourcarpet": [
           {
            "colorbar": {
             "outlinewidth": 0,
             "ticks": ""
            },
            "type": "contourcarpet"
           }
          ],
          "heatmap": [
           {
            "colorbar": {
             "outlinewidth": 0,
             "ticks": ""
            },
            "colorscale": [
             [
              0,
              "#0d0887"
             ],
             [
              0.1111111111111111,
              "#46039f"
             ],
             [
              0.2222222222222222,
              "#7201a8"
             ],
             [
              0.3333333333333333,
              "#9c179e"
             ],
             [
              0.4444444444444444,
              "#bd3786"
             ],
             [
              0.5555555555555556,
              "#d8576b"
             ],
             [
              0.6666666666666666,
              "#ed7953"
             ],
             [
              0.7777777777777778,
              "#fb9f3a"
             ],
             [
              0.8888888888888888,
              "#fdca26"
             ],
             [
              1,
              "#f0f921"
             ]
            ],
            "type": "heatmap"
           }
          ],
          "heatmapgl": [
           {
            "colorbar": {
             "outlinewidth": 0,
             "ticks": ""
            },
            "colorscale": [
             [
              0,
              "#0d0887"
             ],
             [
              0.1111111111111111,
              "#46039f"
             ],
             [
              0.2222222222222222,
              "#7201a8"
             ],
             [
              0.3333333333333333,
              "#9c179e"
             ],
             [
              0.4444444444444444,
              "#bd3786"
             ],
             [
              0.5555555555555556,
              "#d8576b"
             ],
             [
              0.6666666666666666,
              "#ed7953"
             ],
             [
              0.7777777777777778,
              "#fb9f3a"
             ],
             [
              0.8888888888888888,
              "#fdca26"
             ],
             [
              1,
              "#f0f921"
             ]
            ],
            "type": "heatmapgl"
           }
          ],
          "histogram": [
           {
            "marker": {
             "pattern": {
              "fillmode": "overlay",
              "size": 10,
              "solidity": 0.2
             }
            },
            "type": "histogram"
           }
          ],
          "histogram2d": [
           {
            "colorbar": {
             "outlinewidth": 0,
             "ticks": ""
            },
            "colorscale": [
             [
              0,
              "#0d0887"
             ],
             [
              0.1111111111111111,
              "#46039f"
             ],
             [
              0.2222222222222222,
              "#7201a8"
             ],
             [
              0.3333333333333333,
              "#9c179e"
             ],
             [
              0.4444444444444444,
              "#bd3786"
             ],
             [
              0.5555555555555556,
              "#d8576b"
             ],
             [
              0.6666666666666666,
              "#ed7953"
             ],
             [
              0.7777777777777778,
              "#fb9f3a"
             ],
             [
              0.8888888888888888,
              "#fdca26"
             ],
             [
              1,
              "#f0f921"
             ]
            ],
            "type": "histogram2d"
           }
          ],
          "histogram2dcontour": [
           {
            "colorbar": {
             "outlinewidth": 0,
             "ticks": ""
            },
            "colorscale": [
             [
              0,
              "#0d0887"
             ],
             [
              0.1111111111111111,
              "#46039f"
             ],
             [
              0.2222222222222222,
              "#7201a8"
             ],
             [
              0.3333333333333333,
              "#9c179e"
             ],
             [
              0.4444444444444444,
              "#bd3786"
             ],
             [
              0.5555555555555556,
              "#d8576b"
             ],
             [
              0.6666666666666666,
              "#ed7953"
             ],
             [
              0.7777777777777778,
              "#fb9f3a"
             ],
             [
              0.8888888888888888,
              "#fdca26"
             ],
             [
              1,
              "#f0f921"
             ]
            ],
            "type": "histogram2dcontour"
           }
          ],
          "mesh3d": [
           {
            "colorbar": {
             "outlinewidth": 0,
             "ticks": ""
            },
            "type": "mesh3d"
           }
          ],
          "parcoords": [
           {
            "line": {
             "colorbar": {
              "outlinewidth": 0,
              "ticks": ""
             }
            },
            "type": "parcoords"
           }
          ],
          "pie": [
           {
            "automargin": true,
            "type": "pie"
           }
          ],
          "scatter": [
           {
            "fillpattern": {
             "fillmode": "overlay",
             "size": 10,
             "solidity": 0.2
            },
            "type": "scatter"
           }
          ],
          "scatter3d": [
           {
            "line": {
             "colorbar": {
              "outlinewidth": 0,
              "ticks": ""
             }
            },
            "marker": {
             "colorbar": {
              "outlinewidth": 0,
              "ticks": ""
             }
            },
            "type": "scatter3d"
           }
          ],
          "scattercarpet": [
           {
            "marker": {
             "colorbar": {
              "outlinewidth": 0,
              "ticks": ""
             }
            },
            "type": "scattercarpet"
           }
          ],
          "scattergeo": [
           {
            "marker": {
             "colorbar": {
              "outlinewidth": 0,
              "ticks": ""
             }
            },
            "type": "scattergeo"
           }
          ],
          "scattergl": [
           {
            "marker": {
             "colorbar": {
              "outlinewidth": 0,
              "ticks": ""
             }
            },
            "type": "scattergl"
           }
          ],
          "scattermapbox": [
           {
            "marker": {
             "colorbar": {
              "outlinewidth": 0,
              "ticks": ""
             }
            },
            "type": "scattermapbox"
           }
          ],
          "scatterpolar": [
           {
            "marker": {
             "colorbar": {
              "outlinewidth": 0,
              "ticks": ""
             }
            },
            "type": "scatterpolar"
           }
          ],
          "scatterpolargl": [
           {
            "marker": {
             "colorbar": {
              "outlinewidth": 0,
              "ticks": ""
             }
            },
            "type": "scatterpolargl"
           }
          ],
          "scatterternary": [
           {
            "marker": {
             "colorbar": {
              "outlinewidth": 0,
              "ticks": ""
             }
            },
            "type": "scatterternary"
           }
          ],
          "surface": [
           {
            "colorbar": {
             "outlinewidth": 0,
             "ticks": ""
            },
            "colorscale": [
             [
              0,
              "#0d0887"
             ],
             [
              0.1111111111111111,
              "#46039f"
             ],
             [
              0.2222222222222222,
              "#7201a8"
             ],
             [
              0.3333333333333333,
              "#9c179e"
             ],
             [
              0.4444444444444444,
              "#bd3786"
             ],
             [
              0.5555555555555556,
              "#d8576b"
             ],
             [
              0.6666666666666666,
              "#ed7953"
             ],
             [
              0.7777777777777778,
              "#fb9f3a"
             ],
             [
              0.8888888888888888,
              "#fdca26"
             ],
             [
              1,
              "#f0f921"
             ]
            ],
            "type": "surface"
           }
          ],
          "table": [
           {
            "cells": {
             "fill": {
              "color": "#EBF0F8"
             },
             "line": {
              "color": "white"
             }
            },
            "header": {
             "fill": {
              "color": "#C8D4E3"
             },
             "line": {
              "color": "white"
             }
            },
            "type": "table"
           }
          ]
         },
         "layout": {
          "annotationdefaults": {
           "arrowcolor": "#2a3f5f",
           "arrowhead": 0,
           "arrowwidth": 1
          },
          "autotypenumbers": "strict",
          "coloraxis": {
           "colorbar": {
            "outlinewidth": 0,
            "ticks": ""
           }
          },
          "colorscale": {
           "diverging": [
            [
             0,
             "#8e0152"
            ],
            [
             0.1,
             "#c51b7d"
            ],
            [
             0.2,
             "#de77ae"
            ],
            [
             0.3,
             "#f1b6da"
            ],
            [
             0.4,
             "#fde0ef"
            ],
            [
             0.5,
             "#f7f7f7"
            ],
            [
             0.6,
             "#e6f5d0"
            ],
            [
             0.7,
             "#b8e186"
            ],
            [
             0.8,
             "#7fbc41"
            ],
            [
             0.9,
             "#4d9221"
            ],
            [
             1,
             "#276419"
            ]
           ],
           "sequential": [
            [
             0,
             "#0d0887"
            ],
            [
             0.1111111111111111,
             "#46039f"
            ],
            [
             0.2222222222222222,
             "#7201a8"
            ],
            [
             0.3333333333333333,
             "#9c179e"
            ],
            [
             0.4444444444444444,
             "#bd3786"
            ],
            [
             0.5555555555555556,
             "#d8576b"
            ],
            [
             0.6666666666666666,
             "#ed7953"
            ],
            [
             0.7777777777777778,
             "#fb9f3a"
            ],
            [
             0.8888888888888888,
             "#fdca26"
            ],
            [
             1,
             "#f0f921"
            ]
           ],
           "sequentialminus": [
            [
             0,
             "#0d0887"
            ],
            [
             0.1111111111111111,
             "#46039f"
            ],
            [
             0.2222222222222222,
             "#7201a8"
            ],
            [
             0.3333333333333333,
             "#9c179e"
            ],
            [
             0.4444444444444444,
             "#bd3786"
            ],
            [
             0.5555555555555556,
             "#d8576b"
            ],
            [
             0.6666666666666666,
             "#ed7953"
            ],
            [
             0.7777777777777778,
             "#fb9f3a"
            ],
            [
             0.8888888888888888,
             "#fdca26"
            ],
            [
             1,
             "#f0f921"
            ]
           ]
          },
          "colorway": [
           "#636efa",
           "#EF553B",
           "#00cc96",
           "#ab63fa",
           "#FFA15A",
           "#19d3f3",
           "#FF6692",
           "#B6E880",
           "#FF97FF",
           "#FECB52"
          ],
          "font": {
           "color": "#2a3f5f"
          },
          "geo": {
           "bgcolor": "white",
           "lakecolor": "white",
           "landcolor": "#E5ECF6",
           "showlakes": true,
           "showland": true,
           "subunitcolor": "white"
          },
          "hoverlabel": {
           "align": "left"
          },
          "hovermode": "closest",
          "mapbox": {
           "style": "light"
          },
          "paper_bgcolor": "white",
          "plot_bgcolor": "#E5ECF6",
          "polar": {
           "angularaxis": {
            "gridcolor": "white",
            "linecolor": "white",
            "ticks": ""
           },
           "bgcolor": "#E5ECF6",
           "radialaxis": {
            "gridcolor": "white",
            "linecolor": "white",
            "ticks": ""
           }
          },
          "scene": {
           "xaxis": {
            "backgroundcolor": "#E5ECF6",
            "gridcolor": "white",
            "gridwidth": 2,
            "linecolor": "white",
            "showbackground": true,
            "ticks": "",
            "zerolinecolor": "white"
           },
           "yaxis": {
            "backgroundcolor": "#E5ECF6",
            "gridcolor": "white",
            "gridwidth": 2,
            "linecolor": "white",
            "showbackground": true,
            "ticks": "",
            "zerolinecolor": "white"
           },
           "zaxis": {
            "backgroundcolor": "#E5ECF6",
            "gridcolor": "white",
            "gridwidth": 2,
            "linecolor": "white",
            "showbackground": true,
            "ticks": "",
            "zerolinecolor": "white"
           }
          },
          "shapedefaults": {
           "line": {
            "color": "#2a3f5f"
           }
          },
          "ternary": {
           "aaxis": {
            "gridcolor": "white",
            "linecolor": "white",
            "ticks": ""
           },
           "baxis": {
            "gridcolor": "white",
            "linecolor": "white",
            "ticks": ""
           },
           "bgcolor": "#E5ECF6",
           "caxis": {
            "gridcolor": "white",
            "linecolor": "white",
            "ticks": ""
           }
          },
          "title": {
           "x": 0.05
          },
          "xaxis": {
           "automargin": true,
           "gridcolor": "white",
           "linecolor": "white",
           "ticks": "",
           "title": {
            "standoff": 15
           },
           "zerolinecolor": "white",
           "zerolinewidth": 2
          },
          "yaxis": {
           "automargin": true,
           "gridcolor": "white",
           "linecolor": "white",
           "ticks": "",
           "title": {
            "standoff": 15
           },
           "zerolinecolor": "white",
           "zerolinewidth": 2
          }
         }
        },
        "xaxis": {
         "anchor": "y",
         "domain": [
          0,
          0.94
         ],
         "tickangle": 90,
         "title": {
          "text": "State"
         }
        },
        "yaxis": {
         "anchor": "x",
         "domain": [
          0,
          1
         ],
         "title": {
          "text": "Dollars per year"
         }
        },
        "yaxis2": {
         "anchor": "x",
         "overlaying": "y",
         "side": "right",
         "title": {
          "text": "Job Listings (log)"
         },
         "type": "log"
        }
       }
      }
     },
     "metadata": {},
     "output_type": "display_data"
    }
   ],
   "source": [
    "df = jpm.postings_with_pay[['state','avg_salary']].copy()\n",
    "\n",
    "groups = df.groupby('state')\n",
    "group_count = groups.count()\n",
    "df = groups.mean()\n",
    "df['count'] = group_count\n",
    "df = df.dropna(axis=1).sort_values(by='avg_salary')\n",
    "\n",
    "fig = make_subplots(specs=[[{\"secondary_y\": True}]])\n",
    "\n",
    "fig.add_trace(\n",
    "    go.Bar(\n",
    "        x = df.index.values, \n",
    "        y=df['avg_salary'],\n",
    "        name=\"Average Salary\",\n",
    "    ), \n",
    "    secondary_y=False)\n",
    "\n",
    "fig.add_trace(\n",
    "    go.Scatter(\n",
    "        x = df.index.values,\n",
    "        y = df['count'],\n",
    "        name=\"Sample Size\"\n",
    "    ),\n",
    "    secondary_y=True\n",
    ")\n",
    "\n",
    "fig.update_xaxes(title_text=\"State\",tickangle=90)\n",
    "\n",
    "# Set y-axes titles\n",
    "fig.update_yaxes(title_text=\"Dollars per year\", secondary_y=False)\n",
    "fig.update_yaxes(title_text=\"Job Listings (log)\", secondary_y=True, type=\"log\")\n",
    "\n",
    "fig.show()"
   ]
  },
  {
   "cell_type": "code",
   "execution_count": 6,
   "id": "0bb0ee27",
   "metadata": {},
   "outputs": [],
   "source": [
    "\n",
    "\n",
    "#tokenized_df = job2vec.dataset\n",
    "#print(tokenized_df.head())\n"
   ]
  },
  {
   "cell_type": "markdown",
   "id": "6e01cc89",
   "metadata": {},
   "source": [
    "Create a dataset"
   ]
  },
  {
   "cell_type": "code",
   "execution_count": 7,
   "id": "7f9a9965",
   "metadata": {},
   "outputs": [
    {
     "ename": "SyntaxError",
     "evalue": "invalid syntax (2756065597.py, line 2)",
     "output_type": "error",
     "traceback": [
      "\u001b[1;36m  Cell \u001b[1;32mIn[7], line 2\u001b[1;36m\u001b[0m\n\u001b[1;33m    from datasets import\u001b[0m\n\u001b[1;37m                        ^\u001b[0m\n\u001b[1;31mSyntaxError\u001b[0m\u001b[1;31m:\u001b[0m invalid syntax\n"
     ]
    }
   ],
   "source": [
    "import json, pickle\n",
    "from datasets import\n",
    "\n",
    "bls_jobs = json.load(open(settings.REPO_PATH +'/assets/bls_gov_jobs.json'))\n",
    "for i,x in enumerate(bls_jobs):\n",
    "    joined = ' '.join(x)\n",
    "    bls_jobs[i] = pd.NA if len(joined) < 4 else joined\n",
    "bls_jobs = pd.Series(bls_jobs).dropna()\n",
    "\n",
    "\n",
    "jpm = JPM()\n",
    "df = jpm.postings.copy() \n",
    " \n",
    "print(\"Combining the the bls.gov job list, LinkedIn job title, description and skills, columns to create a single array. The model does not need them separated.\")\n",
    "ser = pd.concat([bls_jobs, df['title'], df['description'], df['skills_desc']], ignore_index=True)\n"
   ]
  },
  {
   "cell_type": "code",
   "execution_count": null,
   "id": "19aa4cf0",
   "metadata": {},
   "outputs": [
    {
     "name": "stdout",
     "output_type": "stream",
     "text": [
      "The autoreload extension is already loaded. To reload it, use:\n",
      "  %reload_ext autoreload\n",
      "Average vacation days: 13.445833333333333\n",
      "Retrieving an existing dataset at c:\\dev\\job-estimator/archive/clean_postings.bin\n",
      "Combining the the bls.gov job list, LinkedIn job title, description and skills, columns to create a single array. The model does not need them separated.\n",
      "Cleaning and tokenizing each row with a helper method from Gensim. This usually takes less than 2 minutes.\n"
     ]
    },
    {
     "ename": "KeyboardInterrupt",
     "evalue": "",
     "output_type": "error",
     "traceback": [
      "\u001b[1;31m---------------------------------------------------------------------------\u001b[0m",
      "\u001b[1;31mKeyboardInterrupt\u001b[0m                         Traceback (most recent call last)",
      "Cell \u001b[1;32mIn[11], line 36\u001b[0m\n\u001b[0;32m     32\u001b[0m     \u001b[38;5;28;01mreturn\u001b[39;00m x\n\u001b[0;32m     35\u001b[0m \u001b[38;5;28mprint\u001b[39m(\u001b[38;5;124m\"\u001b[39m\u001b[38;5;124mCleaning and tokenizing each row with a helper method from Gensim. This usually takes less than 2 minutes.\u001b[39m\u001b[38;5;124m\"\u001b[39m)\n\u001b[1;32m---> 36\u001b[0m ser \u001b[38;5;241m=\u001b[39m \u001b[43mser\u001b[49m\u001b[38;5;241;43m.\u001b[39;49m\u001b[43mapply\u001b[49m\u001b[43m(\u001b[49m\u001b[43mtokenize\u001b[49m\u001b[43m)\u001b[49m\n\u001b[0;32m     38\u001b[0m \u001b[38;5;28mprint\u001b[39m(\u001b[38;5;124m\"\u001b[39m\u001b[38;5;124mDropping empty rows.\u001b[39m\u001b[38;5;124m\"\u001b[39m)\n\u001b[0;32m     39\u001b[0m ser\u001b[38;5;241m.\u001b[39mdropna(inplace\u001b[38;5;241m=\u001b[39m\u001b[38;5;28;01mTrue\u001b[39;00m)\n",
      "File \u001b[1;32mc:\\dev\\python\\Lib\\site-packages\\pandas\\core\\series.py:4924\u001b[0m, in \u001b[0;36mSeries.apply\u001b[1;34m(self, func, convert_dtype, args, by_row, **kwargs)\u001b[0m\n\u001b[0;32m   4789\u001b[0m \u001b[38;5;28;01mdef\u001b[39;00m \u001b[38;5;21mapply\u001b[39m(\n\u001b[0;32m   4790\u001b[0m     \u001b[38;5;28mself\u001b[39m,\n\u001b[0;32m   4791\u001b[0m     func: AggFuncType,\n\u001b[1;32m   (...)\u001b[0m\n\u001b[0;32m   4796\u001b[0m     \u001b[38;5;241m*\u001b[39m\u001b[38;5;241m*\u001b[39mkwargs,\n\u001b[0;32m   4797\u001b[0m ) \u001b[38;5;241m-\u001b[39m\u001b[38;5;241m>\u001b[39m DataFrame \u001b[38;5;241m|\u001b[39m Series:\n\u001b[0;32m   4798\u001b[0m \u001b[38;5;250m    \u001b[39m\u001b[38;5;124;03m\"\"\"\u001b[39;00m\n\u001b[0;32m   4799\u001b[0m \u001b[38;5;124;03m    Invoke function on values of Series.\u001b[39;00m\n\u001b[0;32m   4800\u001b[0m \n\u001b[1;32m   (...)\u001b[0m\n\u001b[0;32m   4915\u001b[0m \u001b[38;5;124;03m    dtype: float64\u001b[39;00m\n\u001b[0;32m   4916\u001b[0m \u001b[38;5;124;03m    \"\"\"\u001b[39;00m\n\u001b[0;32m   4917\u001b[0m     \u001b[38;5;28;01mreturn\u001b[39;00m \u001b[43mSeriesApply\u001b[49m\u001b[43m(\u001b[49m\n\u001b[0;32m   4918\u001b[0m \u001b[43m        \u001b[49m\u001b[38;5;28;43mself\u001b[39;49m\u001b[43m,\u001b[49m\n\u001b[0;32m   4919\u001b[0m \u001b[43m        \u001b[49m\u001b[43mfunc\u001b[49m\u001b[43m,\u001b[49m\n\u001b[0;32m   4920\u001b[0m \u001b[43m        \u001b[49m\u001b[43mconvert_dtype\u001b[49m\u001b[38;5;241;43m=\u001b[39;49m\u001b[43mconvert_dtype\u001b[49m\u001b[43m,\u001b[49m\n\u001b[0;32m   4921\u001b[0m \u001b[43m        \u001b[49m\u001b[43mby_row\u001b[49m\u001b[38;5;241;43m=\u001b[39;49m\u001b[43mby_row\u001b[49m\u001b[43m,\u001b[49m\n\u001b[0;32m   4922\u001b[0m \u001b[43m        \u001b[49m\u001b[43margs\u001b[49m\u001b[38;5;241;43m=\u001b[39;49m\u001b[43margs\u001b[49m\u001b[43m,\u001b[49m\n\u001b[0;32m   4923\u001b[0m \u001b[43m        \u001b[49m\u001b[43mkwargs\u001b[49m\u001b[38;5;241;43m=\u001b[39;49m\u001b[43mkwargs\u001b[49m\u001b[43m,\u001b[49m\n\u001b[1;32m-> 4924\u001b[0m \u001b[43m    \u001b[49m\u001b[43m)\u001b[49m\u001b[38;5;241;43m.\u001b[39;49m\u001b[43mapply\u001b[49m\u001b[43m(\u001b[49m\u001b[43m)\u001b[49m\n",
      "File \u001b[1;32mc:\\dev\\python\\Lib\\site-packages\\pandas\\core\\apply.py:1427\u001b[0m, in \u001b[0;36mSeriesApply.apply\u001b[1;34m(self)\u001b[0m\n\u001b[0;32m   1424\u001b[0m     \u001b[38;5;28;01mreturn\u001b[39;00m \u001b[38;5;28mself\u001b[39m\u001b[38;5;241m.\u001b[39mapply_compat()\n\u001b[0;32m   1426\u001b[0m \u001b[38;5;66;03m# self.func is Callable\u001b[39;00m\n\u001b[1;32m-> 1427\u001b[0m \u001b[38;5;28;01mreturn\u001b[39;00m \u001b[38;5;28;43mself\u001b[39;49m\u001b[38;5;241;43m.\u001b[39;49m\u001b[43mapply_standard\u001b[49m\u001b[43m(\u001b[49m\u001b[43m)\u001b[49m\n",
      "File \u001b[1;32mc:\\dev\\python\\Lib\\site-packages\\pandas\\core\\apply.py:1507\u001b[0m, in \u001b[0;36mSeriesApply.apply_standard\u001b[1;34m(self)\u001b[0m\n\u001b[0;32m   1501\u001b[0m \u001b[38;5;66;03m# row-wise access\u001b[39;00m\n\u001b[0;32m   1502\u001b[0m \u001b[38;5;66;03m# apply doesn't have a `na_action` keyword and for backward compat reasons\u001b[39;00m\n\u001b[0;32m   1503\u001b[0m \u001b[38;5;66;03m# we need to give `na_action=\"ignore\"` for categorical data.\u001b[39;00m\n\u001b[0;32m   1504\u001b[0m \u001b[38;5;66;03m# TODO: remove the `na_action=\"ignore\"` when that default has been changed in\u001b[39;00m\n\u001b[0;32m   1505\u001b[0m \u001b[38;5;66;03m#  Categorical (GH51645).\u001b[39;00m\n\u001b[0;32m   1506\u001b[0m action \u001b[38;5;241m=\u001b[39m \u001b[38;5;124m\"\u001b[39m\u001b[38;5;124mignore\u001b[39m\u001b[38;5;124m\"\u001b[39m \u001b[38;5;28;01mif\u001b[39;00m \u001b[38;5;28misinstance\u001b[39m(obj\u001b[38;5;241m.\u001b[39mdtype, CategoricalDtype) \u001b[38;5;28;01melse\u001b[39;00m \u001b[38;5;28;01mNone\u001b[39;00m\n\u001b[1;32m-> 1507\u001b[0m mapped \u001b[38;5;241m=\u001b[39m \u001b[43mobj\u001b[49m\u001b[38;5;241;43m.\u001b[39;49m\u001b[43m_map_values\u001b[49m\u001b[43m(\u001b[49m\n\u001b[0;32m   1508\u001b[0m \u001b[43m    \u001b[49m\u001b[43mmapper\u001b[49m\u001b[38;5;241;43m=\u001b[39;49m\u001b[43mcurried\u001b[49m\u001b[43m,\u001b[49m\u001b[43m \u001b[49m\u001b[43mna_action\u001b[49m\u001b[38;5;241;43m=\u001b[39;49m\u001b[43maction\u001b[49m\u001b[43m,\u001b[49m\u001b[43m \u001b[49m\u001b[43mconvert\u001b[49m\u001b[38;5;241;43m=\u001b[39;49m\u001b[38;5;28;43mself\u001b[39;49m\u001b[38;5;241;43m.\u001b[39;49m\u001b[43mconvert_dtype\u001b[49m\n\u001b[0;32m   1509\u001b[0m \u001b[43m\u001b[49m\u001b[43m)\u001b[49m\n\u001b[0;32m   1511\u001b[0m \u001b[38;5;28;01mif\u001b[39;00m \u001b[38;5;28mlen\u001b[39m(mapped) \u001b[38;5;129;01mand\u001b[39;00m \u001b[38;5;28misinstance\u001b[39m(mapped[\u001b[38;5;241m0\u001b[39m], ABCSeries):\n\u001b[0;32m   1512\u001b[0m     \u001b[38;5;66;03m# GH#43986 Need to do list(mapped) in order to get treated as nested\u001b[39;00m\n\u001b[0;32m   1513\u001b[0m     \u001b[38;5;66;03m#  See also GH#25959 regarding EA support\u001b[39;00m\n\u001b[0;32m   1514\u001b[0m     \u001b[38;5;28;01mreturn\u001b[39;00m obj\u001b[38;5;241m.\u001b[39m_constructor_expanddim(\u001b[38;5;28mlist\u001b[39m(mapped), index\u001b[38;5;241m=\u001b[39mobj\u001b[38;5;241m.\u001b[39mindex)\n",
      "File \u001b[1;32mc:\\dev\\python\\Lib\\site-packages\\pandas\\core\\base.py:921\u001b[0m, in \u001b[0;36mIndexOpsMixin._map_values\u001b[1;34m(self, mapper, na_action, convert)\u001b[0m\n\u001b[0;32m    918\u001b[0m \u001b[38;5;28;01mif\u001b[39;00m \u001b[38;5;28misinstance\u001b[39m(arr, ExtensionArray):\n\u001b[0;32m    919\u001b[0m     \u001b[38;5;28;01mreturn\u001b[39;00m arr\u001b[38;5;241m.\u001b[39mmap(mapper, na_action\u001b[38;5;241m=\u001b[39mna_action)\n\u001b[1;32m--> 921\u001b[0m \u001b[38;5;28;01mreturn\u001b[39;00m \u001b[43malgorithms\u001b[49m\u001b[38;5;241;43m.\u001b[39;49m\u001b[43mmap_array\u001b[49m\u001b[43m(\u001b[49m\u001b[43marr\u001b[49m\u001b[43m,\u001b[49m\u001b[43m \u001b[49m\u001b[43mmapper\u001b[49m\u001b[43m,\u001b[49m\u001b[43m \u001b[49m\u001b[43mna_action\u001b[49m\u001b[38;5;241;43m=\u001b[39;49m\u001b[43mna_action\u001b[49m\u001b[43m,\u001b[49m\u001b[43m \u001b[49m\u001b[43mconvert\u001b[49m\u001b[38;5;241;43m=\u001b[39;49m\u001b[43mconvert\u001b[49m\u001b[43m)\u001b[49m\n",
      "File \u001b[1;32mc:\\dev\\python\\Lib\\site-packages\\pandas\\core\\algorithms.py:1743\u001b[0m, in \u001b[0;36mmap_array\u001b[1;34m(arr, mapper, na_action, convert)\u001b[0m\n\u001b[0;32m   1741\u001b[0m values \u001b[38;5;241m=\u001b[39m arr\u001b[38;5;241m.\u001b[39mastype(\u001b[38;5;28mobject\u001b[39m, copy\u001b[38;5;241m=\u001b[39m\u001b[38;5;28;01mFalse\u001b[39;00m)\n\u001b[0;32m   1742\u001b[0m \u001b[38;5;28;01mif\u001b[39;00m na_action \u001b[38;5;129;01mis\u001b[39;00m \u001b[38;5;28;01mNone\u001b[39;00m:\n\u001b[1;32m-> 1743\u001b[0m     \u001b[38;5;28;01mreturn\u001b[39;00m \u001b[43mlib\u001b[49m\u001b[38;5;241;43m.\u001b[39;49m\u001b[43mmap_infer\u001b[49m\u001b[43m(\u001b[49m\u001b[43mvalues\u001b[49m\u001b[43m,\u001b[49m\u001b[43m \u001b[49m\u001b[43mmapper\u001b[49m\u001b[43m,\u001b[49m\u001b[43m \u001b[49m\u001b[43mconvert\u001b[49m\u001b[38;5;241;43m=\u001b[39;49m\u001b[43mconvert\u001b[49m\u001b[43m)\u001b[49m\n\u001b[0;32m   1744\u001b[0m \u001b[38;5;28;01melse\u001b[39;00m:\n\u001b[0;32m   1745\u001b[0m     \u001b[38;5;28;01mreturn\u001b[39;00m lib\u001b[38;5;241m.\u001b[39mmap_infer_mask(\n\u001b[0;32m   1746\u001b[0m         values, mapper, mask\u001b[38;5;241m=\u001b[39misna(values)\u001b[38;5;241m.\u001b[39mview(np\u001b[38;5;241m.\u001b[39muint8), convert\u001b[38;5;241m=\u001b[39mconvert\n\u001b[0;32m   1747\u001b[0m     )\n",
      "File \u001b[1;32mlib.pyx:2972\u001b[0m, in \u001b[0;36mpandas._libs.lib.map_infer\u001b[1;34m()\u001b[0m\n",
      "Cell \u001b[1;32mIn[11], line 29\u001b[0m, in \u001b[0;36mtokenize\u001b[1;34m(sentence)\u001b[0m\n\u001b[0;32m     27\u001b[0m x \u001b[38;5;241m=\u001b[39m sentence\n\u001b[0;32m     28\u001b[0m \u001b[38;5;28;01mif\u001b[39;00m(\u001b[38;5;28misinstance\u001b[39m(x, \u001b[38;5;28mstr\u001b[39m)):\n\u001b[1;32m---> 29\u001b[0m     x \u001b[38;5;241m=\u001b[39m \u001b[43mtokenizer\u001b[49m\u001b[43m(\u001b[49m\u001b[43mx\u001b[49m\u001b[43m,\u001b[49m\u001b[43mpadding\u001b[49m\u001b[38;5;241;43m=\u001b[39;49m\u001b[38;5;124;43m\"\u001b[39;49m\u001b[38;5;124;43mmax_length\u001b[39;49m\u001b[38;5;124;43m\"\u001b[39;49m\u001b[43m,\u001b[49m\u001b[43m \u001b[49m\u001b[43mtruncation\u001b[49m\u001b[38;5;241;43m=\u001b[39;49m\u001b[38;5;28;43;01mTrue\u001b[39;49;00m\u001b[43m,\u001b[49m\u001b[43m \u001b[49m\u001b[43mreturn_tensors\u001b[49m\u001b[38;5;241;43m=\u001b[39;49m\u001b[38;5;124;43m\"\u001b[39;49m\u001b[38;5;124;43mpt\u001b[39;49m\u001b[38;5;124;43m\"\u001b[39;49m\u001b[43m)\u001b[49m\u001b[38;5;241m.\u001b[39mto(device)\n\u001b[0;32m     30\u001b[0m \u001b[38;5;28;01melse\u001b[39;00m:\n\u001b[0;32m     31\u001b[0m     x \u001b[38;5;241m=\u001b[39m []\n",
      "File \u001b[1;32mc:\\dev\\python\\Lib\\site-packages\\transformers\\tokenization_utils_base.py:2883\u001b[0m, in \u001b[0;36mPreTrainedTokenizerBase.__call__\u001b[1;34m(self, text, text_pair, text_target, text_pair_target, add_special_tokens, padding, truncation, max_length, stride, is_split_into_words, pad_to_multiple_of, return_tensors, return_token_type_ids, return_attention_mask, return_overflowing_tokens, return_special_tokens_mask, return_offsets_mapping, return_length, verbose, **kwargs)\u001b[0m\n\u001b[0;32m   2881\u001b[0m     \u001b[38;5;28;01mif\u001b[39;00m \u001b[38;5;129;01mnot\u001b[39;00m \u001b[38;5;28mself\u001b[39m\u001b[38;5;241m.\u001b[39m_in_target_context_manager:\n\u001b[0;32m   2882\u001b[0m         \u001b[38;5;28mself\u001b[39m\u001b[38;5;241m.\u001b[39m_switch_to_input_mode()\n\u001b[1;32m-> 2883\u001b[0m     encodings \u001b[38;5;241m=\u001b[39m \u001b[38;5;28;43mself\u001b[39;49m\u001b[38;5;241;43m.\u001b[39;49m\u001b[43m_call_one\u001b[49m\u001b[43m(\u001b[49m\u001b[43mtext\u001b[49m\u001b[38;5;241;43m=\u001b[39;49m\u001b[43mtext\u001b[49m\u001b[43m,\u001b[49m\u001b[43m \u001b[49m\u001b[43mtext_pair\u001b[49m\u001b[38;5;241;43m=\u001b[39;49m\u001b[43mtext_pair\u001b[49m\u001b[43m,\u001b[49m\u001b[43m \u001b[49m\u001b[38;5;241;43m*\u001b[39;49m\u001b[38;5;241;43m*\u001b[39;49m\u001b[43mall_kwargs\u001b[49m\u001b[43m)\u001b[49m\n\u001b[0;32m   2884\u001b[0m \u001b[38;5;28;01mif\u001b[39;00m text_target \u001b[38;5;129;01mis\u001b[39;00m \u001b[38;5;129;01mnot\u001b[39;00m \u001b[38;5;28;01mNone\u001b[39;00m:\n\u001b[0;32m   2885\u001b[0m     \u001b[38;5;28mself\u001b[39m\u001b[38;5;241m.\u001b[39m_switch_to_target_mode()\n",
      "File \u001b[1;32mc:\\dev\\python\\Lib\\site-packages\\transformers\\tokenization_utils_base.py:2989\u001b[0m, in \u001b[0;36mPreTrainedTokenizerBase._call_one\u001b[1;34m(self, text, text_pair, add_special_tokens, padding, truncation, max_length, stride, is_split_into_words, pad_to_multiple_of, return_tensors, return_token_type_ids, return_attention_mask, return_overflowing_tokens, return_special_tokens_mask, return_offsets_mapping, return_length, verbose, **kwargs)\u001b[0m\n\u001b[0;32m   2969\u001b[0m     \u001b[38;5;28;01mreturn\u001b[39;00m \u001b[38;5;28mself\u001b[39m\u001b[38;5;241m.\u001b[39mbatch_encode_plus(\n\u001b[0;32m   2970\u001b[0m         batch_text_or_text_pairs\u001b[38;5;241m=\u001b[39mbatch_text_or_text_pairs,\n\u001b[0;32m   2971\u001b[0m         add_special_tokens\u001b[38;5;241m=\u001b[39madd_special_tokens,\n\u001b[1;32m   (...)\u001b[0m\n\u001b[0;32m   2986\u001b[0m         \u001b[38;5;241m*\u001b[39m\u001b[38;5;241m*\u001b[39mkwargs,\n\u001b[0;32m   2987\u001b[0m     )\n\u001b[0;32m   2988\u001b[0m \u001b[38;5;28;01melse\u001b[39;00m:\n\u001b[1;32m-> 2989\u001b[0m     \u001b[38;5;28;01mreturn\u001b[39;00m \u001b[38;5;28;43mself\u001b[39;49m\u001b[38;5;241;43m.\u001b[39;49m\u001b[43mencode_plus\u001b[49m\u001b[43m(\u001b[49m\n\u001b[0;32m   2990\u001b[0m \u001b[43m        \u001b[49m\u001b[43mtext\u001b[49m\u001b[38;5;241;43m=\u001b[39;49m\u001b[43mtext\u001b[49m\u001b[43m,\u001b[49m\n\u001b[0;32m   2991\u001b[0m \u001b[43m        \u001b[49m\u001b[43mtext_pair\u001b[49m\u001b[38;5;241;43m=\u001b[39;49m\u001b[43mtext_pair\u001b[49m\u001b[43m,\u001b[49m\n\u001b[0;32m   2992\u001b[0m \u001b[43m        \u001b[49m\u001b[43madd_special_tokens\u001b[49m\u001b[38;5;241;43m=\u001b[39;49m\u001b[43madd_special_tokens\u001b[49m\u001b[43m,\u001b[49m\n\u001b[0;32m   2993\u001b[0m \u001b[43m        \u001b[49m\u001b[43mpadding\u001b[49m\u001b[38;5;241;43m=\u001b[39;49m\u001b[43mpadding\u001b[49m\u001b[43m,\u001b[49m\n\u001b[0;32m   2994\u001b[0m \u001b[43m        \u001b[49m\u001b[43mtruncation\u001b[49m\u001b[38;5;241;43m=\u001b[39;49m\u001b[43mtruncation\u001b[49m\u001b[43m,\u001b[49m\n\u001b[0;32m   2995\u001b[0m \u001b[43m        \u001b[49m\u001b[43mmax_length\u001b[49m\u001b[38;5;241;43m=\u001b[39;49m\u001b[43mmax_length\u001b[49m\u001b[43m,\u001b[49m\n\u001b[0;32m   2996\u001b[0m \u001b[43m        \u001b[49m\u001b[43mstride\u001b[49m\u001b[38;5;241;43m=\u001b[39;49m\u001b[43mstride\u001b[49m\u001b[43m,\u001b[49m\n\u001b[0;32m   2997\u001b[0m \u001b[43m        \u001b[49m\u001b[43mis_split_into_words\u001b[49m\u001b[38;5;241;43m=\u001b[39;49m\u001b[43mis_split_into_words\u001b[49m\u001b[43m,\u001b[49m\n\u001b[0;32m   2998\u001b[0m \u001b[43m        \u001b[49m\u001b[43mpad_to_multiple_of\u001b[49m\u001b[38;5;241;43m=\u001b[39;49m\u001b[43mpad_to_multiple_of\u001b[49m\u001b[43m,\u001b[49m\n\u001b[0;32m   2999\u001b[0m \u001b[43m        \u001b[49m\u001b[43mreturn_tensors\u001b[49m\u001b[38;5;241;43m=\u001b[39;49m\u001b[43mreturn_tensors\u001b[49m\u001b[43m,\u001b[49m\n\u001b[0;32m   3000\u001b[0m \u001b[43m        \u001b[49m\u001b[43mreturn_token_type_ids\u001b[49m\u001b[38;5;241;43m=\u001b[39;49m\u001b[43mreturn_token_type_ids\u001b[49m\u001b[43m,\u001b[49m\n\u001b[0;32m   3001\u001b[0m \u001b[43m        \u001b[49m\u001b[43mreturn_attention_mask\u001b[49m\u001b[38;5;241;43m=\u001b[39;49m\u001b[43mreturn_attention_mask\u001b[49m\u001b[43m,\u001b[49m\n\u001b[0;32m   3002\u001b[0m \u001b[43m        \u001b[49m\u001b[43mreturn_overflowing_tokens\u001b[49m\u001b[38;5;241;43m=\u001b[39;49m\u001b[43mreturn_overflowing_tokens\u001b[49m\u001b[43m,\u001b[49m\n\u001b[0;32m   3003\u001b[0m \u001b[43m        \u001b[49m\u001b[43mreturn_special_tokens_mask\u001b[49m\u001b[38;5;241;43m=\u001b[39;49m\u001b[43mreturn_special_tokens_mask\u001b[49m\u001b[43m,\u001b[49m\n\u001b[0;32m   3004\u001b[0m \u001b[43m        \u001b[49m\u001b[43mreturn_offsets_mapping\u001b[49m\u001b[38;5;241;43m=\u001b[39;49m\u001b[43mreturn_offsets_mapping\u001b[49m\u001b[43m,\u001b[49m\n\u001b[0;32m   3005\u001b[0m \u001b[43m        \u001b[49m\u001b[43mreturn_length\u001b[49m\u001b[38;5;241;43m=\u001b[39;49m\u001b[43mreturn_length\u001b[49m\u001b[43m,\u001b[49m\n\u001b[0;32m   3006\u001b[0m \u001b[43m        \u001b[49m\u001b[43mverbose\u001b[49m\u001b[38;5;241;43m=\u001b[39;49m\u001b[43mverbose\u001b[49m\u001b[43m,\u001b[49m\n\u001b[0;32m   3007\u001b[0m \u001b[43m        \u001b[49m\u001b[38;5;241;43m*\u001b[39;49m\u001b[38;5;241;43m*\u001b[39;49m\u001b[43mkwargs\u001b[49m\u001b[43m,\u001b[49m\n\u001b[0;32m   3008\u001b[0m \u001b[43m    \u001b[49m\u001b[43m)\u001b[49m\n",
      "File \u001b[1;32mc:\\dev\\python\\Lib\\site-packages\\transformers\\tokenization_utils_base.py:3062\u001b[0m, in \u001b[0;36mPreTrainedTokenizerBase.encode_plus\u001b[1;34m(self, text, text_pair, add_special_tokens, padding, truncation, max_length, stride, is_split_into_words, pad_to_multiple_of, return_tensors, return_token_type_ids, return_attention_mask, return_overflowing_tokens, return_special_tokens_mask, return_offsets_mapping, return_length, verbose, **kwargs)\u001b[0m\n\u001b[0;32m   3052\u001b[0m \u001b[38;5;66;03m# Backward compatibility for 'truncation_strategy', 'pad_to_max_length'\u001b[39;00m\n\u001b[0;32m   3053\u001b[0m padding_strategy, truncation_strategy, max_length, kwargs \u001b[38;5;241m=\u001b[39m \u001b[38;5;28mself\u001b[39m\u001b[38;5;241m.\u001b[39m_get_padding_truncation_strategies(\n\u001b[0;32m   3054\u001b[0m     padding\u001b[38;5;241m=\u001b[39mpadding,\n\u001b[0;32m   3055\u001b[0m     truncation\u001b[38;5;241m=\u001b[39mtruncation,\n\u001b[1;32m   (...)\u001b[0m\n\u001b[0;32m   3059\u001b[0m     \u001b[38;5;241m*\u001b[39m\u001b[38;5;241m*\u001b[39mkwargs,\n\u001b[0;32m   3060\u001b[0m )\n\u001b[1;32m-> 3062\u001b[0m \u001b[38;5;28;01mreturn\u001b[39;00m \u001b[38;5;28;43mself\u001b[39;49m\u001b[38;5;241;43m.\u001b[39;49m\u001b[43m_encode_plus\u001b[49m\u001b[43m(\u001b[49m\n\u001b[0;32m   3063\u001b[0m \u001b[43m    \u001b[49m\u001b[43mtext\u001b[49m\u001b[38;5;241;43m=\u001b[39;49m\u001b[43mtext\u001b[49m\u001b[43m,\u001b[49m\n\u001b[0;32m   3064\u001b[0m \u001b[43m    \u001b[49m\u001b[43mtext_pair\u001b[49m\u001b[38;5;241;43m=\u001b[39;49m\u001b[43mtext_pair\u001b[49m\u001b[43m,\u001b[49m\n\u001b[0;32m   3065\u001b[0m \u001b[43m    \u001b[49m\u001b[43madd_special_tokens\u001b[49m\u001b[38;5;241;43m=\u001b[39;49m\u001b[43madd_special_tokens\u001b[49m\u001b[43m,\u001b[49m\n\u001b[0;32m   3066\u001b[0m \u001b[43m    \u001b[49m\u001b[43mpadding_strategy\u001b[49m\u001b[38;5;241;43m=\u001b[39;49m\u001b[43mpadding_strategy\u001b[49m\u001b[43m,\u001b[49m\n\u001b[0;32m   3067\u001b[0m \u001b[43m    \u001b[49m\u001b[43mtruncation_strategy\u001b[49m\u001b[38;5;241;43m=\u001b[39;49m\u001b[43mtruncation_strategy\u001b[49m\u001b[43m,\u001b[49m\n\u001b[0;32m   3068\u001b[0m \u001b[43m    \u001b[49m\u001b[43mmax_length\u001b[49m\u001b[38;5;241;43m=\u001b[39;49m\u001b[43mmax_length\u001b[49m\u001b[43m,\u001b[49m\n\u001b[0;32m   3069\u001b[0m \u001b[43m    \u001b[49m\u001b[43mstride\u001b[49m\u001b[38;5;241;43m=\u001b[39;49m\u001b[43mstride\u001b[49m\u001b[43m,\u001b[49m\n\u001b[0;32m   3070\u001b[0m \u001b[43m    \u001b[49m\u001b[43mis_split_into_words\u001b[49m\u001b[38;5;241;43m=\u001b[39;49m\u001b[43mis_split_into_words\u001b[49m\u001b[43m,\u001b[49m\n\u001b[0;32m   3071\u001b[0m \u001b[43m    \u001b[49m\u001b[43mpad_to_multiple_of\u001b[49m\u001b[38;5;241;43m=\u001b[39;49m\u001b[43mpad_to_multiple_of\u001b[49m\u001b[43m,\u001b[49m\n\u001b[0;32m   3072\u001b[0m \u001b[43m    \u001b[49m\u001b[43mreturn_tensors\u001b[49m\u001b[38;5;241;43m=\u001b[39;49m\u001b[43mreturn_tensors\u001b[49m\u001b[43m,\u001b[49m\n\u001b[0;32m   3073\u001b[0m \u001b[43m    \u001b[49m\u001b[43mreturn_token_type_ids\u001b[49m\u001b[38;5;241;43m=\u001b[39;49m\u001b[43mreturn_token_type_ids\u001b[49m\u001b[43m,\u001b[49m\n\u001b[0;32m   3074\u001b[0m \u001b[43m    \u001b[49m\u001b[43mreturn_attention_mask\u001b[49m\u001b[38;5;241;43m=\u001b[39;49m\u001b[43mreturn_attention_mask\u001b[49m\u001b[43m,\u001b[49m\n\u001b[0;32m   3075\u001b[0m \u001b[43m    \u001b[49m\u001b[43mreturn_overflowing_tokens\u001b[49m\u001b[38;5;241;43m=\u001b[39;49m\u001b[43mreturn_overflowing_tokens\u001b[49m\u001b[43m,\u001b[49m\n\u001b[0;32m   3076\u001b[0m \u001b[43m    \u001b[49m\u001b[43mreturn_special_tokens_mask\u001b[49m\u001b[38;5;241;43m=\u001b[39;49m\u001b[43mreturn_special_tokens_mask\u001b[49m\u001b[43m,\u001b[49m\n\u001b[0;32m   3077\u001b[0m \u001b[43m    \u001b[49m\u001b[43mreturn_offsets_mapping\u001b[49m\u001b[38;5;241;43m=\u001b[39;49m\u001b[43mreturn_offsets_mapping\u001b[49m\u001b[43m,\u001b[49m\n\u001b[0;32m   3078\u001b[0m \u001b[43m    \u001b[49m\u001b[43mreturn_length\u001b[49m\u001b[38;5;241;43m=\u001b[39;49m\u001b[43mreturn_length\u001b[49m\u001b[43m,\u001b[49m\n\u001b[0;32m   3079\u001b[0m \u001b[43m    \u001b[49m\u001b[43mverbose\u001b[49m\u001b[38;5;241;43m=\u001b[39;49m\u001b[43mverbose\u001b[49m\u001b[43m,\u001b[49m\n\u001b[0;32m   3080\u001b[0m \u001b[43m    \u001b[49m\u001b[38;5;241;43m*\u001b[39;49m\u001b[38;5;241;43m*\u001b[39;49m\u001b[43mkwargs\u001b[49m\u001b[43m,\u001b[49m\n\u001b[0;32m   3081\u001b[0m \u001b[43m\u001b[49m\u001b[43m)\u001b[49m\n",
      "File \u001b[1;32mc:\\dev\\python\\Lib\\site-packages\\transformers\\tokenization_utils_fast.py:583\u001b[0m, in \u001b[0;36mPreTrainedTokenizerFast._encode_plus\u001b[1;34m(self, text, text_pair, add_special_tokens, padding_strategy, truncation_strategy, max_length, stride, is_split_into_words, pad_to_multiple_of, return_tensors, return_token_type_ids, return_attention_mask, return_overflowing_tokens, return_special_tokens_mask, return_offsets_mapping, return_length, verbose, **kwargs)\u001b[0m\n\u001b[0;32m    561\u001b[0m \u001b[38;5;28;01mdef\u001b[39;00m \u001b[38;5;21m_encode_plus\u001b[39m(\n\u001b[0;32m    562\u001b[0m     \u001b[38;5;28mself\u001b[39m,\n\u001b[0;32m    563\u001b[0m     text: Union[TextInput, PreTokenizedInput],\n\u001b[1;32m   (...)\u001b[0m\n\u001b[0;32m    580\u001b[0m     \u001b[38;5;241m*\u001b[39m\u001b[38;5;241m*\u001b[39mkwargs,\n\u001b[0;32m    581\u001b[0m ) \u001b[38;5;241m-\u001b[39m\u001b[38;5;241m>\u001b[39m BatchEncoding:\n\u001b[0;32m    582\u001b[0m     batched_input \u001b[38;5;241m=\u001b[39m [(text, text_pair)] \u001b[38;5;28;01mif\u001b[39;00m text_pair \u001b[38;5;28;01melse\u001b[39;00m [text]\n\u001b[1;32m--> 583\u001b[0m     batched_output \u001b[38;5;241m=\u001b[39m \u001b[38;5;28;43mself\u001b[39;49m\u001b[38;5;241;43m.\u001b[39;49m\u001b[43m_batch_encode_plus\u001b[49m\u001b[43m(\u001b[49m\n\u001b[0;32m    584\u001b[0m \u001b[43m        \u001b[49m\u001b[43mbatched_input\u001b[49m\u001b[43m,\u001b[49m\n\u001b[0;32m    585\u001b[0m \u001b[43m        \u001b[49m\u001b[43mis_split_into_words\u001b[49m\u001b[38;5;241;43m=\u001b[39;49m\u001b[43mis_split_into_words\u001b[49m\u001b[43m,\u001b[49m\n\u001b[0;32m    586\u001b[0m \u001b[43m        \u001b[49m\u001b[43madd_special_tokens\u001b[49m\u001b[38;5;241;43m=\u001b[39;49m\u001b[43madd_special_tokens\u001b[49m\u001b[43m,\u001b[49m\n\u001b[0;32m    587\u001b[0m \u001b[43m        \u001b[49m\u001b[43mpadding_strategy\u001b[49m\u001b[38;5;241;43m=\u001b[39;49m\u001b[43mpadding_strategy\u001b[49m\u001b[43m,\u001b[49m\n\u001b[0;32m    588\u001b[0m \u001b[43m        \u001b[49m\u001b[43mtruncation_strategy\u001b[49m\u001b[38;5;241;43m=\u001b[39;49m\u001b[43mtruncation_strategy\u001b[49m\u001b[43m,\u001b[49m\n\u001b[0;32m    589\u001b[0m \u001b[43m        \u001b[49m\u001b[43mmax_length\u001b[49m\u001b[38;5;241;43m=\u001b[39;49m\u001b[43mmax_length\u001b[49m\u001b[43m,\u001b[49m\n\u001b[0;32m    590\u001b[0m \u001b[43m        \u001b[49m\u001b[43mstride\u001b[49m\u001b[38;5;241;43m=\u001b[39;49m\u001b[43mstride\u001b[49m\u001b[43m,\u001b[49m\n\u001b[0;32m    591\u001b[0m \u001b[43m        \u001b[49m\u001b[43mpad_to_multiple_of\u001b[49m\u001b[38;5;241;43m=\u001b[39;49m\u001b[43mpad_to_multiple_of\u001b[49m\u001b[43m,\u001b[49m\n\u001b[0;32m    592\u001b[0m \u001b[43m        \u001b[49m\u001b[43mreturn_tensors\u001b[49m\u001b[38;5;241;43m=\u001b[39;49m\u001b[43mreturn_tensors\u001b[49m\u001b[43m,\u001b[49m\n\u001b[0;32m    593\u001b[0m \u001b[43m        \u001b[49m\u001b[43mreturn_token_type_ids\u001b[49m\u001b[38;5;241;43m=\u001b[39;49m\u001b[43mreturn_token_type_ids\u001b[49m\u001b[43m,\u001b[49m\n\u001b[0;32m    594\u001b[0m \u001b[43m        \u001b[49m\u001b[43mreturn_attention_mask\u001b[49m\u001b[38;5;241;43m=\u001b[39;49m\u001b[43mreturn_attention_mask\u001b[49m\u001b[43m,\u001b[49m\n\u001b[0;32m    595\u001b[0m \u001b[43m        \u001b[49m\u001b[43mreturn_overflowing_tokens\u001b[49m\u001b[38;5;241;43m=\u001b[39;49m\u001b[43mreturn_overflowing_tokens\u001b[49m\u001b[43m,\u001b[49m\n\u001b[0;32m    596\u001b[0m \u001b[43m        \u001b[49m\u001b[43mreturn_special_tokens_mask\u001b[49m\u001b[38;5;241;43m=\u001b[39;49m\u001b[43mreturn_special_tokens_mask\u001b[49m\u001b[43m,\u001b[49m\n\u001b[0;32m    597\u001b[0m \u001b[43m        \u001b[49m\u001b[43mreturn_offsets_mapping\u001b[49m\u001b[38;5;241;43m=\u001b[39;49m\u001b[43mreturn_offsets_mapping\u001b[49m\u001b[43m,\u001b[49m\n\u001b[0;32m    598\u001b[0m \u001b[43m        \u001b[49m\u001b[43mreturn_length\u001b[49m\u001b[38;5;241;43m=\u001b[39;49m\u001b[43mreturn_length\u001b[49m\u001b[43m,\u001b[49m\n\u001b[0;32m    599\u001b[0m \u001b[43m        \u001b[49m\u001b[43mverbose\u001b[49m\u001b[38;5;241;43m=\u001b[39;49m\u001b[43mverbose\u001b[49m\u001b[43m,\u001b[49m\n\u001b[0;32m    600\u001b[0m \u001b[43m        \u001b[49m\u001b[38;5;241;43m*\u001b[39;49m\u001b[38;5;241;43m*\u001b[39;49m\u001b[43mkwargs\u001b[49m\u001b[43m,\u001b[49m\n\u001b[0;32m    601\u001b[0m \u001b[43m    \u001b[49m\u001b[43m)\u001b[49m\n\u001b[0;32m    603\u001b[0m     \u001b[38;5;66;03m# Return tensor is None, then we can remove the leading batch axis\u001b[39;00m\n\u001b[0;32m    604\u001b[0m     \u001b[38;5;66;03m# Overflowing tokens are returned as a batch of output so we keep them in this case\u001b[39;00m\n\u001b[0;32m    605\u001b[0m     \u001b[38;5;28;01mif\u001b[39;00m return_tensors \u001b[38;5;129;01mis\u001b[39;00m \u001b[38;5;28;01mNone\u001b[39;00m \u001b[38;5;129;01mand\u001b[39;00m \u001b[38;5;129;01mnot\u001b[39;00m return_overflowing_tokens:\n",
      "File \u001b[1;32mc:\\dev\\python\\Lib\\site-packages\\transformers\\tokenization_utils_fast.py:511\u001b[0m, in \u001b[0;36mPreTrainedTokenizerFast._batch_encode_plus\u001b[1;34m(self, batch_text_or_text_pairs, add_special_tokens, padding_strategy, truncation_strategy, max_length, stride, is_split_into_words, pad_to_multiple_of, return_tensors, return_token_type_ids, return_attention_mask, return_overflowing_tokens, return_special_tokens_mask, return_offsets_mapping, return_length, verbose)\u001b[0m\n\u001b[0;32m    502\u001b[0m \u001b[38;5;66;03m# Set the truncation and padding strategy and restore the initial configuration\u001b[39;00m\n\u001b[0;32m    503\u001b[0m \u001b[38;5;28mself\u001b[39m\u001b[38;5;241m.\u001b[39mset_truncation_and_padding(\n\u001b[0;32m    504\u001b[0m     padding_strategy\u001b[38;5;241m=\u001b[39mpadding_strategy,\n\u001b[0;32m    505\u001b[0m     truncation_strategy\u001b[38;5;241m=\u001b[39mtruncation_strategy,\n\u001b[1;32m   (...)\u001b[0m\n\u001b[0;32m    508\u001b[0m     pad_to_multiple_of\u001b[38;5;241m=\u001b[39mpad_to_multiple_of,\n\u001b[0;32m    509\u001b[0m )\n\u001b[1;32m--> 511\u001b[0m encodings \u001b[38;5;241m=\u001b[39m \u001b[38;5;28;43mself\u001b[39;49m\u001b[38;5;241;43m.\u001b[39;49m\u001b[43m_tokenizer\u001b[49m\u001b[38;5;241;43m.\u001b[39;49m\u001b[43mencode_batch\u001b[49m\u001b[43m(\u001b[49m\n\u001b[0;32m    512\u001b[0m \u001b[43m    \u001b[49m\u001b[43mbatch_text_or_text_pairs\u001b[49m\u001b[43m,\u001b[49m\n\u001b[0;32m    513\u001b[0m \u001b[43m    \u001b[49m\u001b[43madd_special_tokens\u001b[49m\u001b[38;5;241;43m=\u001b[39;49m\u001b[43madd_special_tokens\u001b[49m\u001b[43m,\u001b[49m\n\u001b[0;32m    514\u001b[0m \u001b[43m    \u001b[49m\u001b[43mis_pretokenized\u001b[49m\u001b[38;5;241;43m=\u001b[39;49m\u001b[43mis_split_into_words\u001b[49m\u001b[43m,\u001b[49m\n\u001b[0;32m    515\u001b[0m \u001b[43m\u001b[49m\u001b[43m)\u001b[49m\n\u001b[0;32m    517\u001b[0m \u001b[38;5;66;03m# Convert encoding to dict\u001b[39;00m\n\u001b[0;32m    518\u001b[0m \u001b[38;5;66;03m# `Tokens` has type: Tuple[\u001b[39;00m\n\u001b[0;32m    519\u001b[0m \u001b[38;5;66;03m#                       List[Dict[str, List[List[int]]]] or List[Dict[str, 2D-Tensor]],\u001b[39;00m\n\u001b[0;32m    520\u001b[0m \u001b[38;5;66;03m#                       List[EncodingFast]\u001b[39;00m\n\u001b[0;32m    521\u001b[0m \u001b[38;5;66;03m#                    ]\u001b[39;00m\n\u001b[0;32m    522\u001b[0m \u001b[38;5;66;03m# with nested dimensions corresponding to batch, overflows, sequence length\u001b[39;00m\n\u001b[0;32m    523\u001b[0m tokens_and_encodings \u001b[38;5;241m=\u001b[39m [\n\u001b[0;32m    524\u001b[0m     \u001b[38;5;28mself\u001b[39m\u001b[38;5;241m.\u001b[39m_convert_encoding(\n\u001b[0;32m    525\u001b[0m         encoding\u001b[38;5;241m=\u001b[39mencoding,\n\u001b[1;32m   (...)\u001b[0m\n\u001b[0;32m    534\u001b[0m     \u001b[38;5;28;01mfor\u001b[39;00m encoding \u001b[38;5;129;01min\u001b[39;00m encodings\n\u001b[0;32m    535\u001b[0m ]\n",
      "\u001b[1;31mKeyboardInterrupt\u001b[0m: "
     ]
    }
   ],
   "source": [
    "'''\n",
    "import json, pickle\n",
    "import torch\n",
    "import torch.nn.functional as filter\n",
    "from transformers import AutoTokenizer, AutoModel\n",
    "\n",
    "(JPM, J2V, CTR) = load_scripts()\n",
    "device = torch.device(\"cuda\" if torch.cuda.is_available() else \"cpu\")\n",
    "\n",
    "name_of_bert = \"google-bert/bert-base-cased\"\n",
    "tokenizer = AutoTokenizer.from_pretrained(name_of_bert)\n",
    "\n",
    "def tokenize(sentence: str):\n",
    "    x = sentence\n",
    "    if(isinstance(x, str)):\n",
    "        x = tokenizer(x,padding=\"max_length\", truncation=True, return_tensors=\"pt\").to(device)\n",
    "    else:\n",
    "        x = []\n",
    "    return x\n",
    "\n",
    "print(\"Cleaning and tokenizing each row with a helper method from Gensim. This usually takes less than 2 minutes.\")\n",
    "ser = ser.apply(tokenize)\n",
    "\n",
    "print(\"Dropping empty rows.\")\n",
    "ser.dropna(inplace=True)\n",
    "\n",
    "tokenized_data_path = settings.REPO_PATH +'/archive/bert_tokenized_jobs.bin'\n",
    "    \n",
    "print(\"Saving the cleaned data set.\")\n",
    "ser.to_pickle(tokenized_data_path)\n",
    "\n",
    "model = AutoModel.from_pretrained(name_of_bert)\n",
    "'''"
   ]
  },
  {
   "cell_type": "code",
   "execution_count": 17,
   "id": "f9d3c78d",
   "metadata": {},
   "outputs": [
    {
     "name": "stdout",
     "output_type": "stream",
     "text": [
      "The autoreload extension is already loaded. To reload it, use:\n",
      "  %reload_ext autoreload\n",
      "Average vacation days: 13.445833333333333\n",
      "Loading j2v word vectors.\n",
      "Retrieving an existing model from c:\\dev\\job-estimator/assets/w2v/w2v.model\n",
      "Creating categories.\n",
      "Creating KeyedVectors from the category names.\n",
      "Saving the KeyedVectors.\n",
      "Retrieving an existing dataset at c:\\dev\\job-estimator/archive/clean_postings.bin\n",
      "     job_id            company_name  \\\n",
      "0    921716   Corcoran Sawyer Smith   \n",
      "1   1829192                     NaN   \n",
      "2  10998357  The National Exemplar    \n",
      "3  23221523  Abrams Fensterman, LLP   \n",
      "4  35982263                     NaN   \n",
      "\n",
      "                                               title  \\\n",
      "0                              Marketing Coordinator   \n",
      "1                  Mental Health Therapist/Counselor   \n",
      "2                        Assitant Restaurant Manager   \n",
      "3  Senior Elder Law / Trusts and Estates Associat...   \n",
      "4                                 Service Technician   \n",
      "\n",
      "                                         description     max_salary  \\\n",
      "0  Job descriptionA leading real estate firm in N...   38798.991928   \n",
      "1  At Aspen Therapy and Wellness , we are committ...   96997.479820   \n",
      "2  The National Exemplar is accepting application...   65000.000000   \n",
      "3  Senior Associate Attorney - Elder Law / Trusts...  175000.000000   \n",
      "4  Looking for HVAC service tech with experience ...   80000.000000   \n",
      "\n",
      "  pay_period           location  company_id  med_salary     min_salary  ...  \\\n",
      "0     HOURLY      Princeton, NJ   2774458.0         NaN   32979.143139  ...   \n",
      "1     HOURLY   Fort Collins, CO         NaN         NaN   58198.487892  ...   \n",
      "2     YEARLY     Cincinnati, OH  64896719.0         NaN   45000.000000  ...   \n",
      "3     YEARLY  New Hyde Park, NY    766262.0         NaN  140000.000000  ...   \n",
      "4     YEARLY     Burlington, IA         NaN         NaN   60000.000000  ...   \n",
      "\n",
      "  formatted_experience_level  \\\n",
      "0                        NaN   \n",
      "1                        NaN   \n",
      "2                        NaN   \n",
      "3                        NaN   \n",
      "4                        NaN   \n",
      "\n",
      "                                         skills_desc  work_type currency  \\\n",
      "0  Requirements: \\n\\nWe are seeking a College or ...  FULL_TIME      USD   \n",
      "1                                                NaN  FULL_TIME      USD   \n",
      "2  We are currently accepting resumes for FOH - A...  FULL_TIME      USD   \n",
      "3  This position requires a baseline understandin...  FULL_TIME      USD   \n",
      "4                                                NaN  FULL_TIME      USD   \n",
      "\n",
      "  state     avg_salary                                               cat0  \\\n",
      "0    NJ   35889.067533      advertising promotions and marketing managers   \n",
      "1    CO   77597.983856  substance abuse behavioral disorder and mental...   \n",
      "2    OH   55000.000000                               chefs and head cooks   \n",
      "3    NY  157500.000000                    paralegals and legal assistants   \n",
      "4    IA   70000.000000           diesel service technicians and mechanics   \n",
      "\n",
      "  cat0_score                                          cat1 cat1_score  \n",
      "0   0.608168     public relations and fundraising managers   0.420325  \n",
      "1   0.713328       physical therapist assistants and aides   0.571334  \n",
      "2   0.415666                        waiters and waitresses   0.383717  \n",
      "3   0.494904                                       lawyers   0.482933  \n",
      "4   0.690610  automotive service technicians and mechanics   0.668713  \n",
      "\n",
      "[5 rows x 21 columns]\n"
     ]
    },
    {
     "ename": "RuntimeError",
     "evalue": "No active exception to reraise",
     "output_type": "error",
     "traceback": [
      "\u001b[1;31m---------------------------------------------------------------------------\u001b[0m",
      "\u001b[1;31mRuntimeError\u001b[0m                              Traceback (most recent call last)",
      "Cell \u001b[1;32mIn[17], line 73\u001b[0m\n\u001b[0;32m     69\u001b[0m \u001b[38;5;28mprint\u001b[39m(df\u001b[38;5;241m.\u001b[39mhead())\n\u001b[0;32m     71\u001b[0m df\u001b[38;5;241m.\u001b[39mto_pickle(settings\u001b[38;5;241m.\u001b[39mREPO_PATH \u001b[38;5;241m+\u001b[39m \u001b[38;5;124m'\u001b[39m\u001b[38;5;124m/archive/categorized_job_titles.bin\u001b[39m\u001b[38;5;124m'\u001b[39m)\n\u001b[1;32m---> 73\u001b[0m \u001b[38;5;28;01mraise\u001b[39;00m \n\u001b[0;32m     74\u001b[0m top_postings: pd\u001b[38;5;241m.\u001b[39mDataFrame \u001b[38;5;241m=\u001b[39m jpm\u001b[38;5;241m.\u001b[39mpostings[[\u001b[38;5;124m'\u001b[39m\u001b[38;5;124mtitle\u001b[39m\u001b[38;5;124m'\u001b[39m,\u001b[38;5;124m'\u001b[39m\u001b[38;5;124mdescription\u001b[39m\u001b[38;5;124m'\u001b[39m]]\u001b[38;5;241m.\u001b[39mdropna()\u001b[38;5;241m.\u001b[39mhead(\u001b[38;5;241m100\u001b[39m)\n\u001b[0;32m     75\u001b[0m \u001b[38;5;28mprint\u001b[39m(top_postings\u001b[38;5;241m.\u001b[39mhead())\n",
      "\u001b[1;31mRuntimeError\u001b[0m: No active exception to reraise"
     ]
    }
   ],
   "source": [
    "\n",
    "import json, pickle, os\n",
    "from gensim.models import KeyedVectors\n",
    "from gensim.models import Word2Vec\n",
    "(JPM, J2V, CTR) = load_scripts()\n",
    "\n",
    "jpm = JPM()\n",
    "\n",
    "print('Loading j2v word vectors.')\n",
    "job2vec = J2V()\n",
    "j2v = job2vec.get_model()\n",
    "wv = j2v.wv\n",
    "\n",
    "\n",
    "category_vectors = settings.REPO_PATH + '/assets/w2v/vectorized_categories.bin'\n",
    "categorizer = CTR(wv, job2vec.tokenize)\n",
    "\n",
    "if os.path.isfile(category_vectors):\n",
    "    print(\"Retrieving an category vectors from \"+category_vectors)\n",
    "    categorizer.replace_vectors(KeyedVectors.load(category_vectors))\n",
    "else:\n",
    "    print('Creating categories.')\n",
    "    categories = json.load(open(settings.REPO_PATH + '/assets/bls_gov_jobs.json'))\n",
    "    groups: dict[str, list[str]] = {}\n",
    "    for x in categories:\n",
    "        category = x[0]\n",
    "        title = None\n",
    "        if len(x) > 1:\n",
    "            category = x[1]\n",
    "            title = x[0]\n",
    "        if not category in groups:\n",
    "             groups[category] = []\n",
    "        if title:\n",
    "            groups[category].append(title)\n",
    "\n",
    "    categories = [[k] for k,v in list(groups.items())]\n",
    "\n",
    "    print('Creating KeyedVectors from the category names.')\n",
    "    categorizer = CTR(wv, job2vec.tokenize)\n",
    "    categorizer.add_categories(categories)\n",
    "\n",
    "    print('Saving the KeyedVectors.')\n",
    "    categorizer.kv.save(category_vectors)\n",
    "\n",
    "raise\n",
    "\n",
    "df = jpm.postings.copy()\n",
    "\n",
    "cats_to_save = 2\n",
    "\n",
    "for i in range(cats_to_save):\n",
    "    df[f'cat{i}'] = None\n",
    "    df[f'cat{i}_score'] = 0\n",
    "\n",
    "def apply_categories(row):\n",
    "    try:\n",
    "        categories = categorizer.get_similar_categories(row['title'], cats_to_save)\n",
    "    except:\n",
    "        categories = [('',0),('',0),('',0)]\n",
    "    for i in range(cats_to_save):\n",
    "        category = categories[i]\n",
    "        if isinstance(category, tuple):\n",
    "            row[f'cat{i}'] = str(category)\n",
    "        row[f'cat{i}'] = categories[i][0]\n",
    "        row[f'cat{i}_score'] = categories[i][1]\n",
    "    return row\n",
    "\n",
    "df: pd.DataFrame = df.apply(apply_categories, axis=1)\n",
    "\n",
    "print(df.head())\n",
    "\n",
    "df.to_pickle(settings.REPO_PATH + '/archive/categorized_job_titles.bin')\n",
    "\n",
    "raise \n",
    "top_postings: pd.DataFrame = jpm.postings[['title','description']].dropna().head(100)\n",
    "print(top_postings.head())\n",
    "cleaned = top_postings['title'].str.cat(top_postings['description'], sep=' ')\n",
    "categorized = categorizer.categorize_list_top(top_postings['title'])\n",
    "categorized = pd.DataFrame(categorized, columns=['title', 'cat0','cat1','cat2'])\n",
    "\n",
    "categorized.to_csv(settings.REPO_PATH + '/assets/categorized_titles.csv')"
   ]
  },
  {
   "cell_type": "code",
   "execution_count": null,
   "id": "eb866aff",
   "metadata": {},
   "outputs": [
    {
     "ename": "NameError",
     "evalue": "name 'j2v' is not defined",
     "output_type": "error",
     "traceback": [
      "\u001b[1;31m---------------------------------------------------------------------------\u001b[0m",
      "\u001b[1;31mNameError\u001b[0m                                 Traceback (most recent call last)",
      "Cell \u001b[1;32mIn[10], line 1\u001b[0m\n\u001b[1;32m----> 1\u001b[0m \u001b[38;5;28mprint\u001b[39m(\u001b[43mj2v\u001b[49m)\n",
      "\u001b[1;31mNameError\u001b[0m: name 'j2v' is not defined"
     ]
    }
   ],
   "source": [
    "print(j2v)"
   ]
  },
  {
   "cell_type": "code",
   "execution_count": null,
   "id": "51e0ce4f",
   "metadata": {},
   "outputs": [
    {
     "name": "stdout",
     "output_type": "stream",
     "text": [
      "Training....\n",
      "Dumping the model...\n"
     ]
    }
   ],
   "source": [
    "#import os\n",
    "#import pickle\n",
    "#from sklearn.cluster import MiniBatchKMeans\n",
    "\n",
    "#kmeans_path = settings.REPO_PATH +'/assets/kmeans/model.bin'   \n",
    "#print('Training....')\n",
    "#model = MiniBatchKMeans(n_clusters=200, max_iter=1000, random_state=1, batch_size=(257 * os.cpu_count()), max_no_improvement=100, verbose=1).fit(X=j2v.wv.vectors)\n",
    "\n",
    "#print('Dumping the model...')\n",
    "#pickle.dump(model, open(kmeans_path,'wb'))\n",
    "\n",
    "#categories = model.cluster_centers_\n",
    "#for i in range(10):\n",
    "#    vectors = j2v.wv.similar_by_vector(model.cluster_centers_[i], topn=10, restrict_vocab=None)\n",
    "#    print(vectors)"
   ]
  },
  {
   "cell_type": "code",
   "execution_count": null,
   "id": "2c1f0b7d",
   "metadata": {},
   "outputs": [
    {
     "ename": "AttributeError",
     "evalue": "'JobPostingManager' object has no attribute 'clean'",
     "output_type": "error",
     "traceback": [
      "\u001b[1;31m---------------------------------------------------------------------------\u001b[0m",
      "\u001b[1;31mAttributeError\u001b[0m                            Traceback (most recent call last)",
      "Cell \u001b[1;32mIn[13], line 1\u001b[0m\n\u001b[1;32m----> 1\u001b[0m df \u001b[38;5;241m=\u001b[39m \u001b[43mjpm\u001b[49m\u001b[38;5;241;43m.\u001b[39;49m\u001b[43mclean\u001b[49m[[\u001b[38;5;124m'\u001b[39m\u001b[38;5;124mstate\u001b[39m\u001b[38;5;124m'\u001b[39m,\u001b[38;5;124m'\u001b[39m\u001b[38;5;124mtitle\u001b[39m\u001b[38;5;124m'\u001b[39m,\u001b[38;5;124m'\u001b[39m\u001b[38;5;124mjob_id\u001b[39m\u001b[38;5;124m'\u001b[39m]]\u001b[38;5;241m.\u001b[39mcopy()\n\u001b[0;32m      3\u001b[0m df \u001b[38;5;241m=\u001b[39m df\u001b[38;5;241m.\u001b[39mgroupby([\u001b[38;5;124m'\u001b[39m\u001b[38;5;124mstate\u001b[39m\u001b[38;5;124m'\u001b[39m,\u001b[38;5;124m'\u001b[39m\u001b[38;5;124mtitle\u001b[39m\u001b[38;5;124m'\u001b[39m])\u001b[38;5;241m.\u001b[39msize()\u001b[38;5;241m.\u001b[39mto_frame(name \u001b[38;5;241m=\u001b[39m \u001b[38;5;124m'\u001b[39m\u001b[38;5;124mcount\u001b[39m\u001b[38;5;124m'\u001b[39m)\u001b[38;5;241m.\u001b[39mreset_index()\u001b[38;5;241m.\u001b[39mdropna(axis\u001b[38;5;241m=\u001b[39m\u001b[38;5;241m1\u001b[39m)\n\u001b[0;32m      5\u001b[0m fig \u001b[38;5;241m=\u001b[39m go\u001b[38;5;241m.\u001b[39mFigure(data\u001b[38;5;241m=\u001b[39m[go\u001b[38;5;241m.\u001b[39mScatter3d(x\u001b[38;5;241m=\u001b[39mdf[\u001b[38;5;124m'\u001b[39m\u001b[38;5;124mstate\u001b[39m\u001b[38;5;124m'\u001b[39m], y\u001b[38;5;241m=\u001b[39mdf[\u001b[38;5;124m'\u001b[39m\u001b[38;5;124mtitle\u001b[39m\u001b[38;5;124m'\u001b[39m], z\u001b[38;5;241m=\u001b[39mdf[\u001b[38;5;124m'\u001b[39m\u001b[38;5;124mcount\u001b[39m\u001b[38;5;124m'\u001b[39m], mode\u001b[38;5;241m=\u001b[39m\u001b[38;5;124m'\u001b[39m\u001b[38;5;124mmarkers\u001b[39m\u001b[38;5;124m'\u001b[39m)])\n",
      "\u001b[1;31mAttributeError\u001b[0m: 'JobPostingManager' object has no attribute 'clean'"
     ]
    }
   ],
   "source": [
    "df = jpm.clean[['state','title','job_id']].copy()\n",
    "\n",
    "df = df.groupby(['state','title']).size().to_frame(name = 'count').reset_index().dropna(axis=1)\n",
    "\n",
    "fig = go.Figure(data=[go.Scatter3d(x=df['state'], y=df['title'], z=df['count'], mode='markers')])\n",
    "\n",
    "fig.update_xaxes(title_text=\"State\")\n",
    "fig.update_yaxes(title_text=\"Position\")\n",
    "\n",
    "fig.show()"
   ]
  }
 ],
 "metadata": {
  "kernelspec": {
   "display_name": "Python 3 (ipykernel)",
   "language": "python",
   "name": "python3"
  },
  "language_info": {
   "codemirror_mode": {
    "name": "ipython",
    "version": 3
   },
   "file_extension": ".py",
   "mimetype": "text/x-python",
   "name": "python",
   "nbconvert_exporter": "python",
   "pygments_lexer": "ipython3",
   "version": "3.12.4"
  }
 },
 "nbformat": 4,
 "nbformat_minor": 5
}
