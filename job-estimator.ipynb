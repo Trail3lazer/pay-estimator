{
 "cells": [
  {
   "cell_type": "markdown",
   "id": "727b38e3-4bf1-469b-bbdf-1c3b01079f22",
   "metadata": {},
   "source": [
    "# Salary estimator from listings"
   ]
  },
  {
   "cell_type": "markdown",
   "id": "c608e48e",
   "metadata": {},
   "source": [
    "The city_state.json file was modified from this github repo [agalea91 - city_to_state_dictionary](https://github.com/agalea91/city_to_state_dictionary/blob/master/city_to_state.py).\n",
    "\n",
    "The state_abbr.json file was modified from this github repo [JeffPaine - us_state_abbreviations.py](https://gist.github.com/JeffPaine/3083347).\n",
    "\n",
    "The job posting dataset can be found on Kaggle [LinkedIn Job Postings (2023 - 2024)](https://www.kaggle.com/datasets/arshkon/linkedin-job-postings)"
   ]
  },
  {
   "cell_type": "markdown",
   "id": "ddaaa672-a66a-449e-acaa-c9f995ec1ef6",
   "metadata": {},
   "source": [
    "## Setup"
   ]
  },
  {
   "cell_type": "code",
   "execution_count": 1,
   "id": "a3e0ae1b",
   "metadata": {},
   "outputs": [],
   "source": [
    "%%capture\n",
    "%pip install pandas xgboost scikit-learn plotly gensim #swifter\n",
    "print('')"
   ]
  },
  {
   "cell_type": "markdown",
   "id": "9a5ffcbf-6ac8-46c6-92b2-446fc546a08d",
   "metadata": {},
   "source": [
    "First we must import our packages to manage the dataset. Then we can import the data."
   ]
  },
  {
   "cell_type": "markdown",
   "id": "1e044b65-ce26-48fa-a2fa-e8e0f7ff831c",
   "metadata": {},
   "source": [
    "## Setup\n",
    "Import the many packages"
   ]
  },
  {
   "cell_type": "code",
   "execution_count": 2,
   "id": "335c66c8-11a7-422b-a512-baa3ff106c6b",
   "metadata": {},
   "outputs": [],
   "source": [
    "import pandas as pd\n",
    "import numpy as np\n",
    "import plotly.graph_objects as go\n",
    "from plotly.subplots import make_subplots\n",
    "from importlib import reload\n",
    "from IPython.display import HTML, display\n",
    "from data import DataManager\n",
    "from wordmod import Job2Vec\n",
    "from catword import Categorizer\n",
    "\n",
    "def load_scripts():\n",
    "    reload(DataManager)\n",
    "    reload(Job2Vec)\n",
    "    reload(Categorizer)\n",
    "    return (DataManager, Job2Vec, Categorizer)\n",
    "\n",
    "# (DataManager, Job2Vec, Categorizer) = load_scripts()"
   ]
  },
  {
   "cell_type": "markdown",
   "id": "5d8261e7",
   "metadata": {},
   "source": [
    "Extract the job posting data from the CSV and clean it."
   ]
  },
  {
   "cell_type": "code",
   "execution_count": 3,
   "id": "d8fd8abb",
   "metadata": {},
   "outputs": [
    {
     "name": "stdout",
     "output_type": "stream",
     "text": [
      "Retrieving an existing dataset at c:\\dev\\job-estimator/archive/clean_postings.bin\n"
     ]
    },
    {
     "data": {
      "text/html": [
       "<table border=\"1\" class=\"dataframe\">\n",
       "  <thead>\n",
       "    <tr style=\"text-align: right;\">\n",
       "      <th></th>\n",
       "      <th>job_id</th>\n",
       "      <th>company_name</th>\n",
       "      <th>title</th>\n",
       "      <th>description</th>\n",
       "      <th>max_salary</th>\n",
       "      <th>pay_period</th>\n",
       "      <th>location</th>\n",
       "      <th>company_id</th>\n",
       "      <th>med_salary</th>\n",
       "      <th>min_salary</th>\n",
       "      <th>formatted_work_type</th>\n",
       "      <th>formatted_experience_level</th>\n",
       "      <th>skills_desc</th>\n",
       "      <th>work_type</th>\n",
       "      <th>currency</th>\n",
       "      <th>state</th>\n",
       "      <th>avg_salary</th>\n",
       "    </tr>\n",
       "  </thead>\n",
       "  <tbody>\n",
       "    <tr>\n",
       "      <th>0</th>\n",
       "      <td>921716</td>\n",
       "      <td>Corcoran Sawyer Smith</td>\n",
       "      <td>Marketing Coordinator</td>\n",
       "      <td>Job descriptionA leading real estate firm in New Jersey is seeking an administrative Marketing Coordinator with some experience in graphic design. You...</td>\n",
       "      <td>38798.991928</td>\n",
       "      <td>HOURLY</td>\n",
       "      <td>Princeton, NJ</td>\n",
       "      <td>2774458.0</td>\n",
       "      <td>NaN</td>\n",
       "      <td>32979.143139</td>\n",
       "      <td>Full-time</td>\n",
       "      <td>NaN</td>\n",
       "      <td>Requirements: \\n\\nWe are seeking a College or Graduate Student (can also be completed with school) with a focus in Planning, Architecture, Real Estate D...</td>\n",
       "      <td>FULL_TIME</td>\n",
       "      <td>USD</td>\n",
       "      <td>NJ</td>\n",
       "      <td>35889.067533</td>\n",
       "    </tr>\n",
       "    <tr>\n",
       "      <th>1</th>\n",
       "      <td>1829192</td>\n",
       "      <td>NaN</td>\n",
       "      <td>Mental Health Therapist/Counselor</td>\n",
       "      <td>At Aspen Therapy and Wellness , we are committed to serving clients with best practices to help them with change, improvements and better quality of l...</td>\n",
       "      <td>96997.479820</td>\n",
       "      <td>HOURLY</td>\n",
       "      <td>Fort Collins, CO</td>\n",
       "      <td>NaN</td>\n",
       "      <td>NaN</td>\n",
       "      <td>58198.487892</td>\n",
       "      <td>Full-time</td>\n",
       "      <td>NaN</td>\n",
       "      <td>NaN</td>\n",
       "      <td>FULL_TIME</td>\n",
       "      <td>USD</td>\n",
       "      <td>CO</td>\n",
       "      <td>77597.983856</td>\n",
       "    </tr>\n",
       "    <tr>\n",
       "      <th>2</th>\n",
       "      <td>10998357</td>\n",
       "      <td>The National Exemplar</td>\n",
       "      <td>Assitant Restaurant Manager</td>\n",
       "      <td>The National Exemplar is accepting applications for an Assistant Restaurant Manager.\\nWe offer highly competitive wages, healthcare, paid time off, com...</td>\n",
       "      <td>65000.000000</td>\n",
       "      <td>YEARLY</td>\n",
       "      <td>Cincinnati, OH</td>\n",
       "      <td>64896719.0</td>\n",
       "      <td>NaN</td>\n",
       "      <td>45000.000000</td>\n",
       "      <td>Full-time</td>\n",
       "      <td>NaN</td>\n",
       "      <td>We are currently accepting resumes for FOH - Asisstant Restaurant Management with a strong focus on delivering high quality customer service. Prefer 1...</td>\n",
       "      <td>FULL_TIME</td>\n",
       "      <td>USD</td>\n",
       "      <td>OH</td>\n",
       "      <td>55000.000000</td>\n",
       "    </tr>\n",
       "    <tr>\n",
       "      <th>3</th>\n",
       "      <td>23221523</td>\n",
       "      <td>Abrams Fensterman, LLP</td>\n",
       "      <td>Senior Elder Law / Trusts and Estates Associate Attorney</td>\n",
       "      <td>Senior Associate Attorney - Elder Law / Trusts and Estates  Our legal team is committed to providing each client with quality counsel, innovative solu...</td>\n",
       "      <td>175000.000000</td>\n",
       "      <td>YEARLY</td>\n",
       "      <td>New Hyde Park, NY</td>\n",
       "      <td>766262.0</td>\n",
       "      <td>NaN</td>\n",
       "      <td>140000.000000</td>\n",
       "      <td>Full-time</td>\n",
       "      <td>NaN</td>\n",
       "      <td>This position requires a baseline understanding of online marketing including Search Engine Marketing, Search Engine Optimization, and campaign analyt...</td>\n",
       "      <td>FULL_TIME</td>\n",
       "      <td>USD</td>\n",
       "      <td>NY</td>\n",
       "      <td>157500.000000</td>\n",
       "    </tr>\n",
       "    <tr>\n",
       "      <th>4</th>\n",
       "      <td>35982263</td>\n",
       "      <td>NaN</td>\n",
       "      <td>Service Technician</td>\n",
       "      <td>Looking for HVAC service tech with experience in commerical and industrial equipment. Minimum 5 yrs. on the job with mechanical license. Winger is a f...</td>\n",
       "      <td>80000.000000</td>\n",
       "      <td>YEARLY</td>\n",
       "      <td>Burlington, IA</td>\n",
       "      <td>NaN</td>\n",
       "      <td>NaN</td>\n",
       "      <td>60000.000000</td>\n",
       "      <td>Full-time</td>\n",
       "      <td>NaN</td>\n",
       "      <td>NaN</td>\n",
       "      <td>FULL_TIME</td>\n",
       "      <td>USD</td>\n",
       "      <td>IA</td>\n",
       "      <td>70000.000000</td>\n",
       "    </tr>\n",
       "  </tbody>\n",
       "</table>"
      ],
      "text/plain": [
       "<IPython.core.display.HTML object>"
      ]
     },
     "metadata": {},
     "output_type": "display_data"
    }
   ],
   "source": [
    "dm = DataManager()\n",
    "df = dm.get_postings().copy()\n",
    "\n",
    "def shorten_long_cols(row):\n",
    "    for name in ['description','skills_desc']:\n",
    "        if isinstance(row[name], str):\n",
    "            row[name] = row[name][:150] + '...' \n",
    "    return row\n",
    "\n",
    "display(HTML(df.head(5).apply(shorten_long_cols, axis=1).to_html()))"
   ]
  },
  {
   "cell_type": "code",
   "execution_count": 4,
   "id": "7ac20404",
   "metadata": {},
   "outputs": [
    {
     "name": "stdout",
     "output_type": "stream",
     "text": [
      "<class 'pandas.core.frame.DataFrame'>\n",
      "RangeIndex: 123849 entries, 0 to 123848\n",
      "Data columns (total 17 columns):\n",
      " #   Column                      Non-Null Count   Dtype  \n",
      "---  ------                      --------------   -----  \n",
      " 0   job_id                      123849 non-null  int64  \n",
      " 1   company_name                122130 non-null  object \n",
      " 2   title                       123849 non-null  object \n",
      " 3   description                 123842 non-null  object \n",
      " 4   max_salary                  29417 non-null   float64\n",
      " 5   pay_period                  36073 non-null   object \n",
      " 6   location                    123849 non-null  object \n",
      " 7   company_id                  122132 non-null  float64\n",
      " 8   med_salary                  6199 non-null    float64\n",
      " 9   min_salary                  29369 non-null   float64\n",
      " 10  formatted_work_type         123849 non-null  object \n",
      " 11  formatted_experience_level  94440 non-null   object \n",
      " 12  skills_desc                 2439 non-null    object \n",
      " 13  work_type                   123849 non-null  object \n",
      " 14  currency                    36073 non-null   object \n",
      " 15  state                       111739 non-null  object \n",
      " 16  avg_salary                  35618 non-null   float64\n",
      "dtypes: float64(5), int64(1), object(11)\n",
      "memory usage: 16.1+ MB\n"
     ]
    }
   ],
   "source": [
    "df.info()"
   ]
  },
  {
   "cell_type": "markdown",
   "id": "a1278f83",
   "metadata": {},
   "source": [
    "### Create a statistical summary of the data."
   ]
  },
  {
   "cell_type": "code",
   "execution_count": 5,
   "id": "4078bb05",
   "metadata": {},
   "outputs": [
    {
     "name": "stdout",
     "output_type": "stream",
     "text": [
      "YEARLY\n"
     ]
    },
    {
     "data": {
      "text/html": [
       "<style type=\"text/css\">\n",
       "</style>\n",
       "<table id=\"T_1e9b8\">\n",
       "  <thead>\n",
       "    <tr>\n",
       "      <th class=\"blank level0\" >&nbsp;</th>\n",
       "      <th id=\"T_1e9b8_level0_col0\" class=\"col_heading level0 col0\" >pay_col</th>\n",
       "      <th id=\"T_1e9b8_level0_col1\" class=\"col_heading level0 col1\" >min</th>\n",
       "      <th id=\"T_1e9b8_level0_col2\" class=\"col_heading level0 col2\" >Q1</th>\n",
       "      <th id=\"T_1e9b8_level0_col3\" class=\"col_heading level0 col3\" >median</th>\n",
       "      <th id=\"T_1e9b8_level0_col4\" class=\"col_heading level0 col4\" >Q3</th>\n",
       "      <th id=\"T_1e9b8_level0_col5\" class=\"col_heading level0 col5\" >max</th>\n",
       "      <th id=\"T_1e9b8_level0_col6\" class=\"col_heading level0 col6\" >mean</th>\n",
       "      <th id=\"T_1e9b8_level0_col7\" class=\"col_heading level0 col7\" >mode</th>\n",
       "    </tr>\n",
       "  </thead>\n",
       "  <tbody>\n",
       "    <tr>\n",
       "      <th id=\"T_1e9b8_level0_row0\" class=\"row_heading level0 row0\" >2</th>\n",
       "      <td id=\"T_1e9b8_row0_col0\" class=\"data row0 col0\" >max_salary</td>\n",
       "      <td id=\"T_1e9b8_row0_col1\" class=\"data row0 col1\" >12,000</td>\n",
       "      <td id=\"T_1e9b8_row0_col2\" class=\"data row0 col2\" >85,000</td>\n",
       "      <td id=\"T_1e9b8_row0_col3\" class=\"data row0 col3\" >120,000</td>\n",
       "      <td id=\"T_1e9b8_row0_col4\" class=\"data row0 col4\" >170,000</td>\n",
       "      <td id=\"T_1e9b8_row0_col5\" class=\"data row0 col5\" >1,500,000</td>\n",
       "      <td id=\"T_1e9b8_row0_col6\" class=\"data row0 col6\" >139,481</td>\n",
       "      <td id=\"T_1e9b8_row0_col7\" class=\"data row0 col7\" >[150000.0]</td>\n",
       "    </tr>\n",
       "    <tr>\n",
       "      <th id=\"T_1e9b8_level0_row1\" class=\"row_heading level0 row1\" >1</th>\n",
       "      <td id=\"T_1e9b8_row1_col0\" class=\"data row1 col0\" >med_salary</td>\n",
       "      <td id=\"T_1e9b8_row1_col1\" class=\"data row1 col1\" >10,000</td>\n",
       "      <td id=\"T_1e9b8_row1_col2\" class=\"data row1 col2\" >54,000</td>\n",
       "      <td id=\"T_1e9b8_row1_col3\" class=\"data row1 col3\" >72,000</td>\n",
       "      <td id=\"T_1e9b8_row1_col4\" class=\"data row1 col4\" >105,400</td>\n",
       "      <td id=\"T_1e9b8_row1_col5\" class=\"data row1 col5\" >300,500</td>\n",
       "      <td id=\"T_1e9b8_row1_col6\" class=\"data row1 col6\" >84,890</td>\n",
       "      <td id=\"T_1e9b8_row1_col7\" class=\"data row1 col7\" >[60000.0]</td>\n",
       "    </tr>\n",
       "    <tr>\n",
       "      <th id=\"T_1e9b8_level0_row2\" class=\"row_heading level0 row2\" >0</th>\n",
       "      <td id=\"T_1e9b8_row2_col0\" class=\"data row2 col0\" >min_salary</td>\n",
       "      <td id=\"T_1e9b8_row2_col1\" class=\"data row2 col1\" >10,000</td>\n",
       "      <td id=\"T_1e9b8_row2_col2\" class=\"data row2 col2\" >65,000</td>\n",
       "      <td id=\"T_1e9b8_row2_col3\" class=\"data row2 col3\" >89,250</td>\n",
       "      <td id=\"T_1e9b8_row2_col4\" class=\"data row2 col4\" >120,000</td>\n",
       "      <td id=\"T_1e9b8_row2_col5\" class=\"data row2 col5\" >750,000</td>\n",
       "      <td id=\"T_1e9b8_row2_col6\" class=\"data row2 col6\" >98,622</td>\n",
       "      <td id=\"T_1e9b8_row2_col7\" class=\"data row2 col7\" >[100000.0]</td>\n",
       "    </tr>\n",
       "  </tbody>\n",
       "</table>\n"
      ],
      "text/plain": [
       "<IPython.core.display.HTML object>"
      ]
     },
     "metadata": {},
     "output_type": "display_data"
    },
    {
     "name": "stdout",
     "output_type": "stream",
     "text": [
      "MONTHLY\n"
     ]
    },
    {
     "data": {
      "text/html": [
       "<style type=\"text/css\">\n",
       "</style>\n",
       "<table id=\"T_0796f\">\n",
       "  <thead>\n",
       "    <tr>\n",
       "      <th class=\"blank level0\" >&nbsp;</th>\n",
       "      <th id=\"T_0796f_level0_col0\" class=\"col_heading level0 col0\" >pay_col</th>\n",
       "      <th id=\"T_0796f_level0_col1\" class=\"col_heading level0 col1\" >min</th>\n",
       "      <th id=\"T_0796f_level0_col2\" class=\"col_heading level0 col2\" >Q1</th>\n",
       "      <th id=\"T_0796f_level0_col3\" class=\"col_heading level0 col3\" >median</th>\n",
       "      <th id=\"T_0796f_level0_col4\" class=\"col_heading level0 col4\" >Q3</th>\n",
       "      <th id=\"T_0796f_level0_col5\" class=\"col_heading level0 col5\" >max</th>\n",
       "      <th id=\"T_0796f_level0_col6\" class=\"col_heading level0 col6\" >mean</th>\n",
       "      <th id=\"T_0796f_level0_col7\" class=\"col_heading level0 col7\" >mode</th>\n",
       "    </tr>\n",
       "  </thead>\n",
       "  <tbody>\n",
       "    <tr>\n",
       "      <th id=\"T_0796f_level0_row0\" class=\"row_heading level0 row0\" >2</th>\n",
       "      <td id=\"T_0796f_row0_col0\" class=\"data row0 col0\" >max_salary</td>\n",
       "      <td id=\"T_0796f_row0_col1\" class=\"data row0 col1\" >12,000</td>\n",
       "      <td id=\"T_0796f_row0_col2\" class=\"data row0 col2\" >66,996</td>\n",
       "      <td id=\"T_0796f_row0_col3\" class=\"data row0 col3\" >89,364</td>\n",
       "      <td id=\"T_0796f_row0_col4\" class=\"data row0 col4\" >119,184</td>\n",
       "      <td id=\"T_0796f_row0_col5\" class=\"data row0 col5\" >1,320,000</td>\n",
       "      <td id=\"T_0796f_row0_col6\" class=\"data row0 col6\" >103,996</td>\n",
       "      <td id=\"T_0796f_row0_col7\" class=\"data row0 col7\" >[85368.0]</td>\n",
       "    </tr>\n",
       "    <tr>\n",
       "      <th id=\"T_0796f_level0_row1\" class=\"row_heading level0 row1\" >1</th>\n",
       "      <td id=\"T_0796f_row1_col0\" class=\"data row1 col0\" >med_salary</td>\n",
       "      <td id=\"T_0796f_row1_col1\" class=\"data row1 col1\" >12,000</td>\n",
       "      <td id=\"T_0796f_row1_col2\" class=\"data row1 col2\" >25,398</td>\n",
       "      <td id=\"T_0796f_row1_col3\" class=\"data row1 col3\" >28,716</td>\n",
       "      <td id=\"T_0796f_row1_col4\" class=\"data row1 col4\" >36,000</td>\n",
       "      <td id=\"T_0796f_row1_col5\" class=\"data row1 col5\" >300,000</td>\n",
       "      <td id=\"T_0796f_row1_col6\" class=\"data row1 col6\" >36,286</td>\n",
       "      <td id=\"T_0796f_row1_col7\" class=\"data row1 col7\" >[30000.0]</td>\n",
       "    </tr>\n",
       "    <tr>\n",
       "      <th id=\"T_0796f_level0_row2\" class=\"row_heading level0 row2\" >0</th>\n",
       "      <td id=\"T_0796f_row2_col0\" class=\"data row2 col0\" >min_salary</td>\n",
       "      <td id=\"T_0796f_row2_col1\" class=\"data row2 col1\" >12,000</td>\n",
       "      <td id=\"T_0796f_row2_col2\" class=\"data row2 col2\" >45,864</td>\n",
       "      <td id=\"T_0796f_row2_col3\" class=\"data row2 col3\" >68,208</td>\n",
       "      <td id=\"T_0796f_row2_col4\" class=\"data row2 col4\" >81,120</td>\n",
       "      <td id=\"T_0796f_row2_col5\" class=\"data row2 col5\" >1,080,000</td>\n",
       "      <td id=\"T_0796f_row2_col6\" class=\"data row2 col6\" >73,636</td>\n",
       "      <td id=\"T_0796f_row2_col7\" class=\"data row2 col7\" >[68208.0]</td>\n",
       "    </tr>\n",
       "  </tbody>\n",
       "</table>\n"
      ],
      "text/plain": [
       "<IPython.core.display.HTML object>"
      ]
     },
     "metadata": {},
     "output_type": "display_data"
    },
    {
     "name": "stdout",
     "output_type": "stream",
     "text": [
      "BIWEEKLY\n"
     ]
    },
    {
     "data": {
      "text/html": [
       "<style type=\"text/css\">\n",
       "</style>\n",
       "<table id=\"T_0a3b6\">\n",
       "  <thead>\n",
       "    <tr>\n",
       "      <th class=\"blank level0\" >&nbsp;</th>\n",
       "      <th id=\"T_0a3b6_level0_col0\" class=\"col_heading level0 col0\" >pay_col</th>\n",
       "      <th id=\"T_0a3b6_level0_col1\" class=\"col_heading level0 col1\" >min</th>\n",
       "      <th id=\"T_0a3b6_level0_col2\" class=\"col_heading level0 col2\" >Q1</th>\n",
       "      <th id=\"T_0a3b6_level0_col3\" class=\"col_heading level0 col3\" >median</th>\n",
       "      <th id=\"T_0a3b6_level0_col4\" class=\"col_heading level0 col4\" >Q3</th>\n",
       "      <th id=\"T_0a3b6_level0_col5\" class=\"col_heading level0 col5\" >max</th>\n",
       "      <th id=\"T_0a3b6_level0_col6\" class=\"col_heading level0 col6\" >mean</th>\n",
       "      <th id=\"T_0a3b6_level0_col7\" class=\"col_heading level0 col7\" >mode</th>\n",
       "    </tr>\n",
       "  </thead>\n",
       "  <tbody>\n",
       "    <tr>\n",
       "      <th id=\"T_0a3b6_level0_row0\" class=\"row_heading level0 row0\" >2</th>\n",
       "      <td id=\"T_0a3b6_row0_col0\" class=\"data row0 col0\" >max_salary</td>\n",
       "      <td id=\"T_0a3b6_row0_col1\" class=\"data row0 col1\" >53,482</td>\n",
       "      <td id=\"T_0a3b6_row0_col2\" class=\"data row0 col2\" >66,976</td>\n",
       "      <td id=\"T_0a3b6_row0_col3\" class=\"data row0 col3\" >81,434</td>\n",
       "      <td id=\"T_0a3b6_row0_col4\" class=\"data row0 col4\" >87,516</td>\n",
       "      <td id=\"T_0a3b6_row0_col5\" class=\"data row0 col5\" >89,965</td>\n",
       "      <td id=\"T_0a3b6_row0_col6\" class=\"data row0 col6\" >74,550</td>\n",
       "      <td id=\"T_0a3b6_row0_col7\" class=\"data row0 col7\" >[66976.0]</td>\n",
       "    </tr>\n",
       "    <tr>\n",
       "      <th id=\"T_0a3b6_level0_row1\" class=\"row_heading level0 row1\" >1</th>\n",
       "      <td id=\"T_0a3b6_row1_col0\" class=\"data row1 col0\" >med_salary</td>\n",
       "      <td id=\"T_0a3b6_row1_col1\" class=\"data row1 col1\" >nan</td>\n",
       "      <td id=\"T_0a3b6_row1_col2\" class=\"data row1 col2\" >nan</td>\n",
       "      <td id=\"T_0a3b6_row1_col3\" class=\"data row1 col3\" >nan</td>\n",
       "      <td id=\"T_0a3b6_row1_col4\" class=\"data row1 col4\" >nan</td>\n",
       "      <td id=\"T_0a3b6_row1_col5\" class=\"data row1 col5\" >nan</td>\n",
       "      <td id=\"T_0a3b6_row1_col6\" class=\"data row1 col6\" >nan</td>\n",
       "      <td id=\"T_0a3b6_row1_col7\" class=\"data row1 col7\" >[]</td>\n",
       "    </tr>\n",
       "    <tr>\n",
       "      <th id=\"T_0a3b6_level0_row2\" class=\"row_heading level0 row2\" >0</th>\n",
       "      <td id=\"T_0a3b6_row2_col0\" class=\"data row2 col0\" >min_salary</td>\n",
       "      <td id=\"T_0a3b6_row2_col1\" class=\"data row2 col1\" >53,482</td>\n",
       "      <td id=\"T_0a3b6_row2_col2\" class=\"data row2 col2\" >54,009</td>\n",
       "      <td id=\"T_0a3b6_row2_col3\" class=\"data row2 col3\" >58,370</td>\n",
       "      <td id=\"T_0a3b6_row2_col4\" class=\"data row2 col4\" >64,519</td>\n",
       "      <td id=\"T_0a3b6_row2_col5\" class=\"data row2 col5\" >71,323</td>\n",
       "      <td id=\"T_0a3b6_row2_col6\" class=\"data row2 col6\" >60,370</td>\n",
       "      <td id=\"T_0a3b6_row2_col7\" class=\"data row2 col7\" >[54009.0]</td>\n",
       "    </tr>\n",
       "  </tbody>\n",
       "</table>\n"
      ],
      "text/plain": [
       "<IPython.core.display.HTML object>"
      ]
     },
     "metadata": {},
     "output_type": "display_data"
    },
    {
     "name": "stdout",
     "output_type": "stream",
     "text": [
      "WEEKLY\n"
     ]
    },
    {
     "data": {
      "text/html": [
       "<style type=\"text/css\">\n",
       "</style>\n",
       "<table id=\"T_4d2bc\">\n",
       "  <thead>\n",
       "    <tr>\n",
       "      <th class=\"blank level0\" >&nbsp;</th>\n",
       "      <th id=\"T_4d2bc_level0_col0\" class=\"col_heading level0 col0\" >pay_col</th>\n",
       "      <th id=\"T_4d2bc_level0_col1\" class=\"col_heading level0 col1\" >min</th>\n",
       "      <th id=\"T_4d2bc_level0_col2\" class=\"col_heading level0 col2\" >Q1</th>\n",
       "      <th id=\"T_4d2bc_level0_col3\" class=\"col_heading level0 col3\" >median</th>\n",
       "      <th id=\"T_4d2bc_level0_col4\" class=\"col_heading level0 col4\" >Q3</th>\n",
       "      <th id=\"T_4d2bc_level0_col5\" class=\"col_heading level0 col5\" >max</th>\n",
       "      <th id=\"T_4d2bc_level0_col6\" class=\"col_heading level0 col6\" >mean</th>\n",
       "      <th id=\"T_4d2bc_level0_col7\" class=\"col_heading level0 col7\" >mode</th>\n",
       "    </tr>\n",
       "  </thead>\n",
       "  <tbody>\n",
       "    <tr>\n",
       "      <th id=\"T_4d2bc_level0_row0\" class=\"row_heading level0 row0\" >2</th>\n",
       "      <td id=\"T_4d2bc_row0_col0\" class=\"data row0 col0\" >max_salary</td>\n",
       "      <td id=\"T_4d2bc_row0_col1\" class=\"data row0 col1\" >50,804</td>\n",
       "      <td id=\"T_4d2bc_row0_col2\" class=\"data row0 col2\" >100,360</td>\n",
       "      <td id=\"T_4d2bc_row0_col3\" class=\"data row0 col3\" >109,148</td>\n",
       "      <td id=\"T_4d2bc_row0_col4\" class=\"data row0 col4\" >119,658</td>\n",
       "      <td id=\"T_4d2bc_row0_col5\" class=\"data row0 col5\" >210,548</td>\n",
       "      <td id=\"T_4d2bc_row0_col6\" class=\"data row0 col6\" >111,668</td>\n",
       "      <td id=\"T_4d2bc_row0_col7\" class=\"data row0 col7\" >[95726.8, 114884.64000000001, 117303.16, 120931.2]</td>\n",
       "    </tr>\n",
       "    <tr>\n",
       "      <th id=\"T_4d2bc_level0_row1\" class=\"row_heading level0 row1\" >1</th>\n",
       "      <td id=\"T_4d2bc_row1_col0\" class=\"data row1 col0\" >med_salary</td>\n",
       "      <td id=\"T_4d2bc_row1_col1\" class=\"data row1 col1\" >nan</td>\n",
       "      <td id=\"T_4d2bc_row1_col2\" class=\"data row1 col2\" >nan</td>\n",
       "      <td id=\"T_4d2bc_row1_col3\" class=\"data row1 col3\" >nan</td>\n",
       "      <td id=\"T_4d2bc_row1_col4\" class=\"data row1 col4\" >nan</td>\n",
       "      <td id=\"T_4d2bc_row1_col5\" class=\"data row1 col5\" >nan</td>\n",
       "      <td id=\"T_4d2bc_row1_col6\" class=\"data row1 col6\" >nan</td>\n",
       "      <td id=\"T_4d2bc_row1_col7\" class=\"data row1 col7\" >[]</td>\n",
       "    </tr>\n",
       "    <tr>\n",
       "      <th id=\"T_4d2bc_level0_row2\" class=\"row_heading level0 row2\" >0</th>\n",
       "      <td id=\"T_4d2bc_row2_col0\" class=\"data row2 col0\" >min_salary</td>\n",
       "      <td id=\"T_4d2bc_row2_col1\" class=\"data row2 col1\" >50,804</td>\n",
       "      <td id=\"T_4d2bc_row2_col2\" class=\"data row2 col2\" >99,684</td>\n",
       "      <td id=\"T_4d2bc_row2_col3\" class=\"data row2 col3\" >109,148</td>\n",
       "      <td id=\"T_4d2bc_row2_col4\" class=\"data row2 col4\" >119,658</td>\n",
       "      <td id=\"T_4d2bc_row2_col5\" class=\"data row2 col5\" >210,548</td>\n",
       "      <td id=\"T_4d2bc_row2_col6\" class=\"data row2 col6\" >111,452</td>\n",
       "      <td id=\"T_4d2bc_row2_col7\" class=\"data row2 col7\" >[95726.8, 114884.64000000001, 117303.16, 120931.2]</td>\n",
       "    </tr>\n",
       "  </tbody>\n",
       "</table>\n"
      ],
      "text/plain": [
       "<IPython.core.display.HTML object>"
      ]
     },
     "metadata": {},
     "output_type": "display_data"
    },
    {
     "name": "stdout",
     "output_type": "stream",
     "text": [
      "HOURLY\n"
     ]
    },
    {
     "data": {
      "text/html": [
       "<style type=\"text/css\">\n",
       "</style>\n",
       "<table id=\"T_ab7f6\">\n",
       "  <thead>\n",
       "    <tr>\n",
       "      <th class=\"blank level0\" >&nbsp;</th>\n",
       "      <th id=\"T_ab7f6_level0_col0\" class=\"col_heading level0 col0\" >pay_col</th>\n",
       "      <th id=\"T_ab7f6_level0_col1\" class=\"col_heading level0 col1\" >min</th>\n",
       "      <th id=\"T_ab7f6_level0_col2\" class=\"col_heading level0 col2\" >Q1</th>\n",
       "      <th id=\"T_ab7f6_level0_col3\" class=\"col_heading level0 col3\" >median</th>\n",
       "      <th id=\"T_ab7f6_level0_col4\" class=\"col_heading level0 col4\" >Q3</th>\n",
       "      <th id=\"T_ab7f6_level0_col5\" class=\"col_heading level0 col5\" >max</th>\n",
       "      <th id=\"T_ab7f6_level0_col6\" class=\"col_heading level0 col6\" >mean</th>\n",
       "      <th id=\"T_ab7f6_level0_col7\" class=\"col_heading level0 col7\" >mode</th>\n",
       "    </tr>\n",
       "  </thead>\n",
       "  <tbody>\n",
       "    <tr>\n",
       "      <th id=\"T_ab7f6_level0_row0\" class=\"row_heading level0 row0\" >2</th>\n",
       "      <td id=\"T_ab7f6_row0_col0\" class=\"data row0 col0\" >max_salary</td>\n",
       "      <td id=\"T_ab7f6_row0_col1\" class=\"data row0 col1\" >10,335</td>\n",
       "      <td id=\"T_ab7f6_row0_col2\" class=\"data row0 col2\" >42,679</td>\n",
       "      <td id=\"T_ab7f6_row0_col3\" class=\"data row0 col3\" >58,354</td>\n",
       "      <td id=\"T_ab7f6_row0_col4\" class=\"data row0 col4\" >96,997</td>\n",
       "      <td id=\"T_ab7f6_row0_col5\" class=\"data row0 col5\" >581,985</td>\n",
       "      <td id=\"T_ab7f6_row0_col6\" class=\"data row0 col6\" >74,286</td>\n",
       "      <td id=\"T_ab7f6_row0_col7\" class=\"data row0 col7\" >[48498.73990982143]</td>\n",
       "    </tr>\n",
       "    <tr>\n",
       "      <th id=\"T_ab7f6_level0_row1\" class=\"row_heading level0 row1\" >1</th>\n",
       "      <td id=\"T_ab7f6_row1_col0\" class=\"data row1 col0\" >med_salary</td>\n",
       "      <td id=\"T_ab7f6_row1_col1\" class=\"data row1 col1\" >10,335</td>\n",
       "      <td id=\"T_ab7f6_row1_col2\" class=\"data row1 col2\" >31,621</td>\n",
       "      <td id=\"T_ab7f6_row1_col3\" class=\"data row1 col3\" >38,838</td>\n",
       "      <td id=\"T_ab7f6_row1_col4\" class=\"data row1 col4\" >54,319</td>\n",
       "      <td id=\"T_ab7f6_row1_col5\" class=\"data row1 col5\" >288,994</td>\n",
       "      <td id=\"T_ab7f6_row1_col6\" class=\"data row1 col6\" >49,051</td>\n",
       "      <td id=\"T_ab7f6_row1_col7\" class=\"data row1 col7\" >[38798.99192785715]</td>\n",
       "    </tr>\n",
       "    <tr>\n",
       "      <th id=\"T_ab7f6_level0_row2\" class=\"row_heading level0 row2\" >0</th>\n",
       "      <td id=\"T_ab7f6_row2_col0\" class=\"data row2 col0\" >min_salary</td>\n",
       "      <td id=\"T_ab7f6_row2_col1\" class=\"data row2 col1\" >10,100</td>\n",
       "      <td id=\"T_ab7f6_row2_col2\" class=\"data row2 col2\" >34,919</td>\n",
       "      <td id=\"T_ab7f6_row2_col3\" class=\"data row2 col3\" >46,559</td>\n",
       "      <td id=\"T_ab7f6_row2_col4\" class=\"data row2 col4\" >77,598</td>\n",
       "      <td id=\"T_ab7f6_row2_col5\" class=\"data row2 col5\" >484,987</td>\n",
       "      <td id=\"T_ab7f6_row2_col6\" class=\"data row2 col6\" >59,137</td>\n",
       "      <td id=\"T_ab7f6_row2_col7\" class=\"data row2 col7\" >[38798.99192785715]</td>\n",
       "    </tr>\n",
       "  </tbody>\n",
       "</table>\n"
      ],
      "text/plain": [
       "<IPython.core.display.HTML object>"
      ]
     },
     "metadata": {},
     "output_type": "display_data"
    }
   ],
   "source": [
    "def print_pay_summary(x: pd.DataFrame):\n",
    "    pay_df = x[pay_cols]\n",
    "    summary_df = pd.DataFrame([], columns=['pay_col','min','Q1','median','Q3','max','mean','mode'])\n",
    "    for c in pay_cols:\n",
    "        qs = [c]+pay_df[c].dropna().quantile([0,.25, .5, .75, 1]).tolist()+[pay_df[c].mean(), pay_df[c].mode().tolist()]\n",
    "        summary_df.loc[-1] = qs\n",
    "        summary_df.index+=1\n",
    "    return summary_df\n",
    "\n",
    "pay_period_types = ['YEARLY','MONTHLY', 'BIWEEKLY', 'WEEKLY', 'HOURLY']\n",
    "    \n",
    "pay_cols = ['max_salary','med_salary','min_salary']\n",
    "for pay_period in pay_period_types:\n",
    "    pay_period_df = df.loc[df['pay_period']==pay_period, pay_cols]\n",
    "    print(pay_period)\n",
    "    summary = print_pay_summary(pay_period_df)\n",
    "    \n",
    "    display(HTML(summary.style.format(precision=0,thousands=\",\").to_html()))    \n"
   ]
  },
  {
   "cell_type": "markdown",
   "id": "b5b9eeb0",
   "metadata": {},
   "source": [
    "### Display a bar graph of average salaries by state."
   ]
  },
  {
   "cell_type": "code",
   "execution_count": 6,
   "id": "f392e00c",
   "metadata": {},
   "outputs": [
    {
     "name": "stdout",
     "output_type": "stream",
     "text": [
      "Dropping rows where every pay column is empty.\n"
     ]
    },
    {
     "data": {
      "application/vnd.plotly.v1+json": {
       "config": {
        "plotlyServerURL": "https://plot.ly"
       },
       "data": [
        {
         "name": "Average Salary",
         "type": "bar",
         "x": [
          "MT",
          "KY",
          "KS",
          "MS",
          "ME",
          "OK",
          "HI",
          "VT",
          "SD",
          "NE",
          "AR",
          "ND",
          "NH",
          "IA",
          "ID",
          "UT",
          "SC",
          "MO",
          "MI",
          "IN",
          "TN",
          "WY",
          "AL",
          "NM",
          "WI",
          "NV",
          "OH",
          "MN",
          "LA",
          "RI",
          "AZ",
          "FL",
          "CO",
          "WV",
          "PA",
          "OR",
          "NC",
          "TX",
          "MD",
          "DE",
          "GA",
          "CT",
          "IL",
          "NJ",
          "VA",
          "MA",
          "AK",
          "WA",
          "CA",
          "NY",
          "DC"
         ],
         "xaxis": "x",
         "y": [
          63413.280990208565,
          64835.21500536886,
          64858.385318038905,
          64934.014857270464,
          65758.32421231385,
          66316.17964972906,
          66675.66581185712,
          67111.35838391111,
          67130.41888925454,
          67432.56278752822,
          67932.81411373446,
          68061.38598756133,
          68111.48266412843,
          68513.87290590882,
          68584.06625415605,
          69408.0710783261,
          69706.48435701549,
          71089.42066407007,
          71394.0140401065,
          71965.67529726827,
          73177.60295666663,
          73561.48281215489,
          74139.4875884158,
          74752.62355435082,
          75569.71426468312,
          77293.77411627935,
          77422.2324686089,
          77492.79069700814,
          78210.41645977524,
          78775.95310064632,
          79088.24977148153,
          80113.6814679153,
          80966.86620208218,
          81370.44302521061,
          81680.81472107256,
          83364.43814745698,
          87068.69052657622,
          88920.0405946683,
          89982.18449653324,
          90001.59667941964,
          90370.18587389759,
          92399.71331215015,
          94681.72010889987,
          95234.20854448092,
          95960.02356815831,
          99777.29632967805,
          100065.21500902936,
          100325.71940221124,
          102839.83972326865,
          106787.0757470461,
          107875.96734405767
         ],
         "yaxis": "y"
        },
        {
         "name": "Sample Size",
         "type": "scatter",
         "x": [
          "MT",
          "KY",
          "KS",
          "MS",
          "ME",
          "OK",
          "HI",
          "VT",
          "SD",
          "NE",
          "AR",
          "ND",
          "NH",
          "IA",
          "ID",
          "UT",
          "SC",
          "MO",
          "MI",
          "IN",
          "TN",
          "WY",
          "AL",
          "NM",
          "WI",
          "NV",
          "OH",
          "MN",
          "LA",
          "RI",
          "AZ",
          "FL",
          "CO",
          "WV",
          "PA",
          "OR",
          "NC",
          "TX",
          "MD",
          "DE",
          "GA",
          "CT",
          "IL",
          "NJ",
          "VA",
          "MA",
          "AK",
          "WA",
          "CA",
          "NY",
          "DC"
         ],
         "xaxis": "x",
         "y": [
          68,
          296,
          240,
          64,
          101,
          193,
          173,
          43,
          50,
          153,
          138,
          63,
          135,
          202,
          91,
          284,
          289,
          481,
          555,
          453,
          388,
          26,
          220,
          94,
          470,
          215,
          793,
          473,
          104,
          69,
          679,
          1465,
          1176,
          40,
          896,
          419,
          865,
          2138,
          546,
          62,
          791,
          369,
          1144,
          924,
          830,
          908,
          54,
          1473,
          6032,
          3765,
          319
         ],
         "yaxis": "y2"
        }
       ],
       "layout": {
        "template": {
         "data": {
          "bar": [
           {
            "error_x": {
             "color": "#2a3f5f"
            },
            "error_y": {
             "color": "#2a3f5f"
            },
            "marker": {
             "line": {
              "color": "#E5ECF6",
              "width": 0.5
             },
             "pattern": {
              "fillmode": "overlay",
              "size": 10,
              "solidity": 0.2
             }
            },
            "type": "bar"
           }
          ],
          "barpolar": [
           {
            "marker": {
             "line": {
              "color": "#E5ECF6",
              "width": 0.5
             },
             "pattern": {
              "fillmode": "overlay",
              "size": 10,
              "solidity": 0.2
             }
            },
            "type": "barpolar"
           }
          ],
          "carpet": [
           {
            "aaxis": {
             "endlinecolor": "#2a3f5f",
             "gridcolor": "white",
             "linecolor": "white",
             "minorgridcolor": "white",
             "startlinecolor": "#2a3f5f"
            },
            "baxis": {
             "endlinecolor": "#2a3f5f",
             "gridcolor": "white",
             "linecolor": "white",
             "minorgridcolor": "white",
             "startlinecolor": "#2a3f5f"
            },
            "type": "carpet"
           }
          ],
          "choropleth": [
           {
            "colorbar": {
             "outlinewidth": 0,
             "ticks": ""
            },
            "type": "choropleth"
           }
          ],
          "contour": [
           {
            "colorbar": {
             "outlinewidth": 0,
             "ticks": ""
            },
            "colorscale": [
             [
              0,
              "#0d0887"
             ],
             [
              0.1111111111111111,
              "#46039f"
             ],
             [
              0.2222222222222222,
              "#7201a8"
             ],
             [
              0.3333333333333333,
              "#9c179e"
             ],
             [
              0.4444444444444444,
              "#bd3786"
             ],
             [
              0.5555555555555556,
              "#d8576b"
             ],
             [
              0.6666666666666666,
              "#ed7953"
             ],
             [
              0.7777777777777778,
              "#fb9f3a"
             ],
             [
              0.8888888888888888,
              "#fdca26"
             ],
             [
              1,
              "#f0f921"
             ]
            ],
            "type": "contour"
           }
          ],
          "contourcarpet": [
           {
            "colorbar": {
             "outlinewidth": 0,
             "ticks": ""
            },
            "type": "contourcarpet"
           }
          ],
          "heatmap": [
           {
            "colorbar": {
             "outlinewidth": 0,
             "ticks": ""
            },
            "colorscale": [
             [
              0,
              "#0d0887"
             ],
             [
              0.1111111111111111,
              "#46039f"
             ],
             [
              0.2222222222222222,
              "#7201a8"
             ],
             [
              0.3333333333333333,
              "#9c179e"
             ],
             [
              0.4444444444444444,
              "#bd3786"
             ],
             [
              0.5555555555555556,
              "#d8576b"
             ],
             [
              0.6666666666666666,
              "#ed7953"
             ],
             [
              0.7777777777777778,
              "#fb9f3a"
             ],
             [
              0.8888888888888888,
              "#fdca26"
             ],
             [
              1,
              "#f0f921"
             ]
            ],
            "type": "heatmap"
           }
          ],
          "heatmapgl": [
           {
            "colorbar": {
             "outlinewidth": 0,
             "ticks": ""
            },
            "colorscale": [
             [
              0,
              "#0d0887"
             ],
             [
              0.1111111111111111,
              "#46039f"
             ],
             [
              0.2222222222222222,
              "#7201a8"
             ],
             [
              0.3333333333333333,
              "#9c179e"
             ],
             [
              0.4444444444444444,
              "#bd3786"
             ],
             [
              0.5555555555555556,
              "#d8576b"
             ],
             [
              0.6666666666666666,
              "#ed7953"
             ],
             [
              0.7777777777777778,
              "#fb9f3a"
             ],
             [
              0.8888888888888888,
              "#fdca26"
             ],
             [
              1,
              "#f0f921"
             ]
            ],
            "type": "heatmapgl"
           }
          ],
          "histogram": [
           {
            "marker": {
             "pattern": {
              "fillmode": "overlay",
              "size": 10,
              "solidity": 0.2
             }
            },
            "type": "histogram"
           }
          ],
          "histogram2d": [
           {
            "colorbar": {
             "outlinewidth": 0,
             "ticks": ""
            },
            "colorscale": [
             [
              0,
              "#0d0887"
             ],
             [
              0.1111111111111111,
              "#46039f"
             ],
             [
              0.2222222222222222,
              "#7201a8"
             ],
             [
              0.3333333333333333,
              "#9c179e"
             ],
             [
              0.4444444444444444,
              "#bd3786"
             ],
             [
              0.5555555555555556,
              "#d8576b"
             ],
             [
              0.6666666666666666,
              "#ed7953"
             ],
             [
              0.7777777777777778,
              "#fb9f3a"
             ],
             [
              0.8888888888888888,
              "#fdca26"
             ],
             [
              1,
              "#f0f921"
             ]
            ],
            "type": "histogram2d"
           }
          ],
          "histogram2dcontour": [
           {
            "colorbar": {
             "outlinewidth": 0,
             "ticks": ""
            },
            "colorscale": [
             [
              0,
              "#0d0887"
             ],
             [
              0.1111111111111111,
              "#46039f"
             ],
             [
              0.2222222222222222,
              "#7201a8"
             ],
             [
              0.3333333333333333,
              "#9c179e"
             ],
             [
              0.4444444444444444,
              "#bd3786"
             ],
             [
              0.5555555555555556,
              "#d8576b"
             ],
             [
              0.6666666666666666,
              "#ed7953"
             ],
             [
              0.7777777777777778,
              "#fb9f3a"
             ],
             [
              0.8888888888888888,
              "#fdca26"
             ],
             [
              1,
              "#f0f921"
             ]
            ],
            "type": "histogram2dcontour"
           }
          ],
          "mesh3d": [
           {
            "colorbar": {
             "outlinewidth": 0,
             "ticks": ""
            },
            "type": "mesh3d"
           }
          ],
          "parcoords": [
           {
            "line": {
             "colorbar": {
              "outlinewidth": 0,
              "ticks": ""
             }
            },
            "type": "parcoords"
           }
          ],
          "pie": [
           {
            "automargin": true,
            "type": "pie"
           }
          ],
          "scatter": [
           {
            "fillpattern": {
             "fillmode": "overlay",
             "size": 10,
             "solidity": 0.2
            },
            "type": "scatter"
           }
          ],
          "scatter3d": [
           {
            "line": {
             "colorbar": {
              "outlinewidth": 0,
              "ticks": ""
             }
            },
            "marker": {
             "colorbar": {
              "outlinewidth": 0,
              "ticks": ""
             }
            },
            "type": "scatter3d"
           }
          ],
          "scattercarpet": [
           {
            "marker": {
             "colorbar": {
              "outlinewidth": 0,
              "ticks": ""
             }
            },
            "type": "scattercarpet"
           }
          ],
          "scattergeo": [
           {
            "marker": {
             "colorbar": {
              "outlinewidth": 0,
              "ticks": ""
             }
            },
            "type": "scattergeo"
           }
          ],
          "scattergl": [
           {
            "marker": {
             "colorbar": {
              "outlinewidth": 0,
              "ticks": ""
             }
            },
            "type": "scattergl"
           }
          ],
          "scattermapbox": [
           {
            "marker": {
             "colorbar": {
              "outlinewidth": 0,
              "ticks": ""
             }
            },
            "type": "scattermapbox"
           }
          ],
          "scatterpolar": [
           {
            "marker": {
             "colorbar": {
              "outlinewidth": 0,
              "ticks": ""
             }
            },
            "type": "scatterpolar"
           }
          ],
          "scatterpolargl": [
           {
            "marker": {
             "colorbar": {
              "outlinewidth": 0,
              "ticks": ""
             }
            },
            "type": "scatterpolargl"
           }
          ],
          "scatterternary": [
           {
            "marker": {
             "colorbar": {
              "outlinewidth": 0,
              "ticks": ""
             }
            },
            "type": "scatterternary"
           }
          ],
          "surface": [
           {
            "colorbar": {
             "outlinewidth": 0,
             "ticks": ""
            },
            "colorscale": [
             [
              0,
              "#0d0887"
             ],
             [
              0.1111111111111111,
              "#46039f"
             ],
             [
              0.2222222222222222,
              "#7201a8"
             ],
             [
              0.3333333333333333,
              "#9c179e"
             ],
             [
              0.4444444444444444,
              "#bd3786"
             ],
             [
              0.5555555555555556,
              "#d8576b"
             ],
             [
              0.6666666666666666,
              "#ed7953"
             ],
             [
              0.7777777777777778,
              "#fb9f3a"
             ],
             [
              0.8888888888888888,
              "#fdca26"
             ],
             [
              1,
              "#f0f921"
             ]
            ],
            "type": "surface"
           }
          ],
          "table": [
           {
            "cells": {
             "fill": {
              "color": "#EBF0F8"
             },
             "line": {
              "color": "white"
             }
            },
            "header": {
             "fill": {
              "color": "#C8D4E3"
             },
             "line": {
              "color": "white"
             }
            },
            "type": "table"
           }
          ]
         },
         "layout": {
          "annotationdefaults": {
           "arrowcolor": "#2a3f5f",
           "arrowhead": 0,
           "arrowwidth": 1
          },
          "autotypenumbers": "strict",
          "coloraxis": {
           "colorbar": {
            "outlinewidth": 0,
            "ticks": ""
           }
          },
          "colorscale": {
           "diverging": [
            [
             0,
             "#8e0152"
            ],
            [
             0.1,
             "#c51b7d"
            ],
            [
             0.2,
             "#de77ae"
            ],
            [
             0.3,
             "#f1b6da"
            ],
            [
             0.4,
             "#fde0ef"
            ],
            [
             0.5,
             "#f7f7f7"
            ],
            [
             0.6,
             "#e6f5d0"
            ],
            [
             0.7,
             "#b8e186"
            ],
            [
             0.8,
             "#7fbc41"
            ],
            [
             0.9,
             "#4d9221"
            ],
            [
             1,
             "#276419"
            ]
           ],
           "sequential": [
            [
             0,
             "#0d0887"
            ],
            [
             0.1111111111111111,
             "#46039f"
            ],
            [
             0.2222222222222222,
             "#7201a8"
            ],
            [
             0.3333333333333333,
             "#9c179e"
            ],
            [
             0.4444444444444444,
             "#bd3786"
            ],
            [
             0.5555555555555556,
             "#d8576b"
            ],
            [
             0.6666666666666666,
             "#ed7953"
            ],
            [
             0.7777777777777778,
             "#fb9f3a"
            ],
            [
             0.8888888888888888,
             "#fdca26"
            ],
            [
             1,
             "#f0f921"
            ]
           ],
           "sequentialminus": [
            [
             0,
             "#0d0887"
            ],
            [
             0.1111111111111111,
             "#46039f"
            ],
            [
             0.2222222222222222,
             "#7201a8"
            ],
            [
             0.3333333333333333,
             "#9c179e"
            ],
            [
             0.4444444444444444,
             "#bd3786"
            ],
            [
             0.5555555555555556,
             "#d8576b"
            ],
            [
             0.6666666666666666,
             "#ed7953"
            ],
            [
             0.7777777777777778,
             "#fb9f3a"
            ],
            [
             0.8888888888888888,
             "#fdca26"
            ],
            [
             1,
             "#f0f921"
            ]
           ]
          },
          "colorway": [
           "#636efa",
           "#EF553B",
           "#00cc96",
           "#ab63fa",
           "#FFA15A",
           "#19d3f3",
           "#FF6692",
           "#B6E880",
           "#FF97FF",
           "#FECB52"
          ],
          "font": {
           "color": "#2a3f5f"
          },
          "geo": {
           "bgcolor": "white",
           "lakecolor": "white",
           "landcolor": "#E5ECF6",
           "showlakes": true,
           "showland": true,
           "subunitcolor": "white"
          },
          "hoverlabel": {
           "align": "left"
          },
          "hovermode": "closest",
          "mapbox": {
           "style": "light"
          },
          "paper_bgcolor": "white",
          "plot_bgcolor": "#E5ECF6",
          "polar": {
           "angularaxis": {
            "gridcolor": "white",
            "linecolor": "white",
            "ticks": ""
           },
           "bgcolor": "#E5ECF6",
           "radialaxis": {
            "gridcolor": "white",
            "linecolor": "white",
            "ticks": ""
           }
          },
          "scene": {
           "xaxis": {
            "backgroundcolor": "#E5ECF6",
            "gridcolor": "white",
            "gridwidth": 2,
            "linecolor": "white",
            "showbackground": true,
            "ticks": "",
            "zerolinecolor": "white"
           },
           "yaxis": {
            "backgroundcolor": "#E5ECF6",
            "gridcolor": "white",
            "gridwidth": 2,
            "linecolor": "white",
            "showbackground": true,
            "ticks": "",
            "zerolinecolor": "white"
           },
           "zaxis": {
            "backgroundcolor": "#E5ECF6",
            "gridcolor": "white",
            "gridwidth": 2,
            "linecolor": "white",
            "showbackground": true,
            "ticks": "",
            "zerolinecolor": "white"
           }
          },
          "shapedefaults": {
           "line": {
            "color": "#2a3f5f"
           }
          },
          "ternary": {
           "aaxis": {
            "gridcolor": "white",
            "linecolor": "white",
            "ticks": ""
           },
           "baxis": {
            "gridcolor": "white",
            "linecolor": "white",
            "ticks": ""
           },
           "bgcolor": "#E5ECF6",
           "caxis": {
            "gridcolor": "white",
            "linecolor": "white",
            "ticks": ""
           }
          },
          "title": {
           "x": 0.05
          },
          "xaxis": {
           "automargin": true,
           "gridcolor": "white",
           "linecolor": "white",
           "ticks": "",
           "title": {
            "standoff": 15
           },
           "zerolinecolor": "white",
           "zerolinewidth": 2
          },
          "yaxis": {
           "automargin": true,
           "gridcolor": "white",
           "linecolor": "white",
           "ticks": "",
           "title": {
            "standoff": 15
           },
           "zerolinecolor": "white",
           "zerolinewidth": 2
          }
         }
        },
        "xaxis": {
         "anchor": "y",
         "domain": [
          0,
          0.94
         ],
         "tickangle": 90,
         "title": {
          "text": "State"
         }
        },
        "yaxis": {
         "anchor": "x",
         "domain": [
          0,
          1
         ],
         "title": {
          "text": "Dollars per year"
         }
        },
        "yaxis2": {
         "anchor": "x",
         "overlaying": "y",
         "side": "right",
         "title": {
          "text": "Job Listings (log)"
         },
         "type": "log"
        }
       }
      }
     },
     "metadata": {},
     "output_type": "display_data"
    }
   ],
   "source": [
    "df = dm.get_postings_with_pay()[['state','avg_salary']].copy()\n",
    "\n",
    "groups = df.groupby('state')\n",
    "group_count = groups.count()\n",
    "df = groups.mean()\n",
    "df['count'] = group_count\n",
    "df = df.dropna(axis=1).sort_values(by='avg_salary')\n",
    "\n",
    "fig = make_subplots(specs=[[{\"secondary_y\": True}]])\n",
    "\n",
    "fig.add_trace(\n",
    "    go.Bar(\n",
    "        x = df.index.values, \n",
    "        y=df['avg_salary'],\n",
    "        name=\"Average Salary\",\n",
    "    ), \n",
    "    secondary_y=False)\n",
    "\n",
    "fig.add_trace(\n",
    "    go.Scatter(\n",
    "        x = df.index.values,\n",
    "        y = df['count'],\n",
    "        name=\"Sample Size\"\n",
    "    ),\n",
    "    secondary_y=True\n",
    ")\n",
    "\n",
    "fig.update_xaxes(title_text=\"State\",tickangle=90)\n",
    "\n",
    "# Set y-axes titles\n",
    "fig.update_yaxes(title_text=\"Dollars per year\", secondary_y=False)\n",
    "fig.update_yaxes(title_text=\"Job Listings (log)\", secondary_y=True, type=\"log\")\n",
    "\n",
    "fig.show()"
   ]
  },
  {
   "cell_type": "markdown",
   "id": "6e01cc89",
   "metadata": {},
   "source": [
    "Create a dataset"
   ]
  },
  {
   "cell_type": "code",
   "execution_count": 7,
   "id": "f9d3c78d",
   "metadata": {},
   "outputs": [
    {
     "name": "stdout",
     "output_type": "stream",
     "text": [
      "Loading j2v word vectors.\n",
      "Retrieving an existing model from c:\\dev\\job-estimator/assets/w2v/w2v.model\n",
      "Retrieving category vectors from c:\\dev\\job-estimator/assets/w2v/vectorized_categories.bin\n",
      "Retrieving an existing data at c:\\dev\\job-estimator/archive/categorized_job_titles.bin\n",
      "<class 'pandas.core.frame.DataFrame'>\n",
      "RangeIndex: 123849 entries, 0 to 123848\n",
      "Data columns (total 23 columns):\n",
      " #   Column                      Non-Null Count   Dtype  \n",
      "---  ------                      --------------   -----  \n",
      " 0   job_id                      123849 non-null  int64  \n",
      " 1   company_name                122130 non-null  object \n",
      " 2   title                       123849 non-null  object \n",
      " 3   description                 123842 non-null  object \n",
      " 4   max_salary                  29417 non-null   float64\n",
      " 5   pay_period                  36073 non-null   object \n",
      " 6   location                    123849 non-null  object \n",
      " 7   company_id                  122132 non-null  float64\n",
      " 8   med_salary                  6199 non-null    float64\n",
      " 9   min_salary                  29369 non-null   float64\n",
      " 10  formatted_work_type         123849 non-null  object \n",
      " 11  formatted_experience_level  94440 non-null   object \n",
      " 12  skills_desc                 2439 non-null    object \n",
      " 13  work_type                   123849 non-null  object \n",
      " 14  currency                    36073 non-null   object \n",
      " 15  state                       111739 non-null  object \n",
      " 16  avg_salary                  35618 non-null   float64\n",
      " 17  cat0                        123849 non-null  object \n",
      " 18  cat0_score                  123849 non-null  float64\n",
      " 19  cat1                        123849 non-null  object \n",
      " 20  cat1_score                  123849 non-null  float64\n",
      " 21  cat2                        123849 non-null  object \n",
      " 22  cat2_score                  123849 non-null  float64\n",
      "dtypes: float64(8), int64(1), object(14)\n",
      "memory usage: 21.7+ MB\n"
     ]
    }
   ],
   "source": [
    "print('Loading j2v word vectors.')\n",
    "job2vec = Job2Vec()\n",
    "j2v = job2vec.get_model()\n",
    "word_vectors = j2v.wv\n",
    "\n",
    "categorizer = Categorizer(word_vectors, job2vec.tokenize)\n",
    "categorizer.create_categories()\n",
    "\n",
    "df = dm.categorize_job_titles(categorizer.get_similar_categories)\n",
    "df.info()"
   ]
  },
  {
   "cell_type": "markdown",
   "id": "46e9f687",
   "metadata": {},
   "source": [
    "### Create a model to genereate entity embeddings for XGBoost"
   ]
  },
  {
   "cell_type": "code",
   "execution_count": 44,
   "id": "ddf950e0",
   "metadata": {},
   "outputs": [
    {
     "name": "stdout",
     "output_type": "stream",
     "text": [
      "     job_id            company_name  \\\n",
      "0    921716   Corcoran Sawyer Smith   \n",
      "1   1829192                     NaN   \n",
      "2  10998357  The National Exemplar    \n",
      "3  23221523  Abrams Fensterman, LLP   \n",
      "4  35982263                     NaN   \n",
      "\n",
      "                                               title  \\\n",
      "0                              Marketing Coordinator   \n",
      "1                  Mental Health Therapist/Counselor   \n",
      "2                        Assitant Restaurant Manager   \n",
      "3  Senior Elder Law / Trusts and Estates Associat...   \n",
      "4                                 Service Technician   \n",
      "\n",
      "                                         description     max_salary  \\\n",
      "0  Job descriptionA leading real estate firm in N...   38798.991928   \n",
      "1  At Aspen Therapy and Wellness , we are committ...   96997.479820   \n",
      "2  The National Exemplar is accepting application...   65000.000000   \n",
      "3  Senior Associate Attorney - Elder Law / Trusts...  175000.000000   \n",
      "4  Looking for HVAC service tech with experience ...   80000.000000   \n",
      "\n",
      "  pay_period           location  company_id  med_salary     min_salary  ...  \\\n",
      "0     HOURLY      Princeton, NJ   2774458.0         NaN   32979.143139  ...   \n",
      "1     HOURLY   Fort Collins, CO         NaN         NaN   58198.487892  ...   \n",
      "2     YEARLY     Cincinnati, OH  64896719.0         NaN   45000.000000  ...   \n",
      "3     YEARLY  New Hyde Park, NY    766262.0         NaN  140000.000000  ...   \n",
      "4     YEARLY     Burlington, IA         NaN         NaN   60000.000000  ...   \n",
      "\n",
      "   work_type currency state     avg_salary  \\\n",
      "0  FULL_TIME      USD    NJ   35889.067533   \n",
      "1  FULL_TIME      USD    CO   77597.983856   \n",
      "2  FULL_TIME      USD    OH   55000.000000   \n",
      "3  FULL_TIME      USD    NY  157500.000000   \n",
      "4  FULL_TIME      USD    IA   70000.000000   \n",
      "\n",
      "                                                cat0 cat0_score  \\\n",
      "0      advertising promotions and marketing managers   0.608168   \n",
      "1  substance abuse behavioral disorder and mental...   0.713328   \n",
      "2                               chefs and head cooks   0.415666   \n",
      "3                    paralegals and legal assistants   0.494904   \n",
      "4           diesel service technicians and mechanics   0.690610   \n",
      "\n",
      "                                           cat1 cat1_score  \\\n",
      "0     public relations and fundraising managers   0.420325   \n",
      "1       physical therapist assistants and aides   0.571334   \n",
      "2                        waiters and waitresses   0.383717   \n",
      "3                                       lawyers   0.482933   \n",
      "4  automotive service technicians and mechanics   0.668713   \n",
      "\n",
      "                                                cat2 cat2_score  \n",
      "0                           advertising sales agents   0.406984  \n",
      "1                     marriage and family therapists   0.561991  \n",
      "2                        manicurists and pedicurists   0.366186  \n",
      "3  property real estate and community association...   0.422791  \n",
      "4  heavy vehicle and mobile equipment service tec...   0.522382  \n",
      "\n",
      "[5 rows x 23 columns]\n"
     ]
    },
    {
     "ename": "RuntimeError",
     "evalue": "No active exception to reraise",
     "output_type": "error",
     "traceback": [
      "\u001b[1;31m---------------------------------------------------------------------------\u001b[0m",
      "\u001b[1;31mRuntimeError\u001b[0m                              Traceback (most recent call last)",
      "Cell \u001b[1;32mIn[44], line 5\u001b[0m\n\u001b[0;32m      3\u001b[0m df \u001b[38;5;241m=\u001b[39m df\u001b[38;5;241m.\u001b[39mloc[df[\u001b[38;5;124m'\u001b[39m\u001b[38;5;124mavg_salary\u001b[39m\u001b[38;5;124m'\u001b[39m] \u001b[38;5;241m>\u001b[39m \u001b[38;5;241m0\u001b[39m]\u001b[38;5;241m.\u001b[39mcopy()\n\u001b[0;32m      4\u001b[0m \u001b[38;5;28mprint\u001b[39m(df\u001b[38;5;241m.\u001b[39mhead())\n\u001b[1;32m----> 5\u001b[0m \u001b[38;5;28;01mraise\u001b[39;00m\n\u001b[0;32m      6\u001b[0m categorical_cols\u001b[38;5;241m=\u001b[39m[\u001b[38;5;124m'\u001b[39m\u001b[38;5;124mstate\u001b[39m\u001b[38;5;124m'\u001b[39m,\u001b[38;5;124m'\u001b[39m\u001b[38;5;124mpay_period\u001b[39m\u001b[38;5;124m'\u001b[39m,\u001b[38;5;124m'\u001b[39m\u001b[38;5;124mformatted_work_type\u001b[39m\u001b[38;5;124m'\u001b[39m,\u001b[38;5;124m'\u001b[39m\u001b[38;5;124mformatted_experience_level\u001b[39m\u001b[38;5;124m'\u001b[39m,\u001b[38;5;124m'\u001b[39m\u001b[38;5;124mcat0\u001b[39m\u001b[38;5;124m'\u001b[39m,\u001b[38;5;124m'\u001b[39m\u001b[38;5;124mcat1\u001b[39m\u001b[38;5;124m'\u001b[39m,\u001b[38;5;124m'\u001b[39m\u001b[38;5;124mcat2\u001b[39m\u001b[38;5;124m'\u001b[39m]\n\u001b[0;32m      7\u001b[0m x \u001b[38;5;241m=\u001b[39m df\u001b[38;5;241m.\u001b[39mcopy()[[\u001b[38;5;124m'\u001b[39m\u001b[38;5;124mstate\u001b[39m\u001b[38;5;124m'\u001b[39m,\u001b[38;5;124m'\u001b[39m\u001b[38;5;124mpay_period\u001b[39m\u001b[38;5;124m'\u001b[39m,\u001b[38;5;124m'\u001b[39m\u001b[38;5;124mformatted_work_type\u001b[39m\u001b[38;5;124m'\u001b[39m,\u001b[38;5;124m'\u001b[39m\u001b[38;5;124mformatted_experience_level\u001b[39m\u001b[38;5;124m'\u001b[39m,\u001b[38;5;124m'\u001b[39m\u001b[38;5;124mcat0\u001b[39m\u001b[38;5;124m'\u001b[39m,\u001b[38;5;124m'\u001b[39m\u001b[38;5;124mcat1\u001b[39m\u001b[38;5;124m'\u001b[39m,\u001b[38;5;124m'\u001b[39m\u001b[38;5;124mcat2\u001b[39m\u001b[38;5;124m'\u001b[39m]]\n",
      "\u001b[1;31mRuntimeError\u001b[0m: No active exception to reraise"
     ]
    }
   ],
   "source": [
    "\n",
    "from sklearn.model_selection import train_test_split\n",
    "\n",
    "df = df.loc[df['avg_salary'] > 0].copy()\n",
    "categorical_cols=['state','pay_period','formatted_work_type','formatted_experience_level','cat0','cat1','cat2']\n",
    "x = df[['state','pay_period','formatted_work_type','formatted_experience_level','cat0','cat1','cat2']]\n",
    "y = df['avg_salary']\n",
    "x_train, x_test, y_train, y_test = train_test_split(x, y, test_size=.2, random_state=1)\n",
    "\n",
    "train = x_train.to_numpy().flatten()\n",
    "test = x_test.to_numpy().flatten()\n",
    "\n",
    "sizes = {col: df[col].nunique() for col in categorical_cols}\n",
    "embedding_sizes = {col: sizes[col]//2+1 for col in categorical_cols}\n",
    "\n",
    "from keras.layers import Dense, Dropout, Embedding, Input, Reshape, Concatenate\n",
    "from keras.models import Model\n"
   ]
  },
  {
   "cell_type": "markdown",
   "id": "5cb16bf3",
   "metadata": {},
   "source": [
    "### Do OneHotEncoding on categorical variables"
   ]
  },
  {
   "cell_type": "code",
   "execution_count": 42,
   "id": "7c98301e",
   "metadata": {},
   "outputs": [
    {
     "name": "stdout",
     "output_type": "stream",
     "text": [
      "MultiIndex([(           76788.0, 0.36521732807159424, ...),\n",
      "            (    40738.94152425,  0.4685388207435608, ...),\n",
      "            (           90000.0, 0.46339064836502075, ...),\n",
      "            ( 17794.40205528738,  0.3309284746646881, ...),\n",
      "            (15295.293846889046,  0.8483765125274658, ...),\n",
      "            (174595.46367535717,  0.6316975951194763, ...),\n",
      "            (103787.30340701787,  0.6392040252685547, ...),\n",
      "            ( 37247.03225074286,    0.37578284740448, ...),\n",
      "            ( 71778.13506653572,  0.8624359965324402, ...),\n",
      "            (116872.26343468769,    0.77132248878479, ...),\n",
      "            ...\n",
      "            (           60420.0, 0.45728716254234314, ...),\n",
      "            ( 60410.03043167358,  0.5415735244750977, ...),\n",
      "            ( 60410.03043167358,  0.4781200587749481, ...),\n",
      "            (60380.931187727685,  0.4882458448410034, ...),\n",
      "            (60380.931187727685, 0.46584776043891907, ...),\n",
      "            (           60320.0,  0.4030599594116211, ...),\n",
      "            (           60300.0,  0.5498433709144592, ...),\n",
      "            (           60300.0, 0.48585736751556396, ...),\n",
      "            (           60300.0,  0.4619390666484833, ...),\n",
      "            (         1200000.0,  0.3162488043308258, ...)],\n",
      "           names=['avg_salary', 'cat0_score', 'cat1_score', 'cat2_score', 'state_AK', 'state_AL', 'state_AR', 'state_AZ', 'state_CA', 'state_CO', 'state_CT', 'state_DC', 'state_DE', 'state_FL', 'state_GA', 'state_HI', 'state_IA', 'state_ID', 'state_IL', 'state_IN', 'state_KS', 'state_KY', 'state_LA', 'state_MA', 'state_MD', 'state_ME', 'state_MI', 'state_MN', 'state_MO', 'state_MS', 'state_MT', 'state_NC', 'state_ND', 'state_NE', 'state_NH', 'state_NJ', 'state_NM', 'state_NV', 'state_NY', 'state_OH', 'state_OK', 'state_ON', 'state_OR', 'state_PA', 'state_QC', 'state_RI', 'state_SC', 'state_SD', 'state_TN', 'state_TX', 'state_UT', 'state_VA', 'state_VT', 'state_WA', 'state_WI', 'state_WV', 'state_WY', 'state_None', 'pay_period_BIWEEKLY', 'pay_period_HOURLY', 'pay_period_MONTHLY', 'pay_period_WEEKLY', 'pay_period_YEARLY', 'pay_period_nan', 'formatted_work_type_Contract', 'formatted_work_type_Full-time', 'formatted_work_type_Internship', 'formatted_work_type_Other', 'formatted_work_type_Part-time', 'formatted_work_type_Temporary', 'formatted_work_type_Volunteer', 'formatted_experience_level_Associate', 'formatted_experience_level_Director', 'formatted_experience_level_Entry level', 'formatted_experience_level_Executive', 'formatted_experience_level_Internship', 'formatted_experience_level_Mid-Senior level', 'formatted_experience_level_nan', 'cat0_', 'cat0_accountants and auditors', 'cat0_actors', 'cat0_actuaries', 'cat0_administrative services and facilities managers', 'cat0_adult basic and secondary education and esl teachers', 'cat0_advertising promotions and marketing managers', 'cat0_advertising sales agents', 'cat0_aerospace engineering and operations technologists and technicians', 'cat0_aerospace engineers', 'cat0_agricultural and food science technicians', 'cat0_agricultural and food scientists', 'cat0_agricultural engineers', 'cat0_agricultural workers', 'cat0_air traffic controllers', 'cat0_aircraft and avionics equipment mechanics and technicians', 'cat0_airline and commercial pilots', 'cat0_animal care and service workers', 'cat0_announcers and djs', 'cat0_anthropologists and archeologists', 'cat0_arbitrators mediators and conciliators', 'cat0_architects', ...], length=33801)\n"
     ]
    }
   ],
   "source": [
    "from sklearn.preprocessing import OneHotEncoder \n",
    "\n",
    "categorical_cols=['state','pay_period','formatted_work_type','formatted_experience_level','cat0']#,'cat1','cat2']\n",
    "encoder = OneHotEncoder(sparse_output=False).set_output(transform='pandas')\n",
    "encoded_df = df[['avg_salary','cat0_score','cat1_score','cat2_score']].copy()\n",
    "for col in categorical_cols:\n",
    "    enc = encoder.fit_transform(df[[col]])\n",
    "    encoded_df = pd.concat([encoded_df, enc], axis=1)\n",
    "print(encoded_df.value_counts().index)"
   ]
  },
  {
   "cell_type": "code",
   "execution_count": null,
   "id": "2c1f0b7d",
   "metadata": {},
   "outputs": [
    {
     "ename": "KeyError",
     "evalue": "'state'",
     "output_type": "error",
     "traceback": [
      "\u001b[1;31m---------------------------------------------------------------------------\u001b[0m",
      "\u001b[1;31mKeyError\u001b[0m                                  Traceback (most recent call last)",
      "File \u001b[1;32mc:\\dev\\python\\Lib\\site-packages\\pandas\\core\\indexes\\base.py:3805\u001b[0m, in \u001b[0;36mIndex.get_loc\u001b[1;34m(self, key)\u001b[0m\n\u001b[0;32m   3804\u001b[0m \u001b[38;5;28;01mtry\u001b[39;00m:\n\u001b[1;32m-> 3805\u001b[0m     \u001b[38;5;28;01mreturn\u001b[39;00m \u001b[38;5;28;43mself\u001b[39;49m\u001b[38;5;241;43m.\u001b[39;49m\u001b[43m_engine\u001b[49m\u001b[38;5;241;43m.\u001b[39;49m\u001b[43mget_loc\u001b[49m\u001b[43m(\u001b[49m\u001b[43mcasted_key\u001b[49m\u001b[43m)\u001b[49m\n\u001b[0;32m   3806\u001b[0m \u001b[38;5;28;01mexcept\u001b[39;00m \u001b[38;5;167;01mKeyError\u001b[39;00m \u001b[38;5;28;01mas\u001b[39;00m err:\n",
      "File \u001b[1;32mindex.pyx:167\u001b[0m, in \u001b[0;36mpandas._libs.index.IndexEngine.get_loc\u001b[1;34m()\u001b[0m\n",
      "File \u001b[1;32mindex.pyx:196\u001b[0m, in \u001b[0;36mpandas._libs.index.IndexEngine.get_loc\u001b[1;34m()\u001b[0m\n",
      "File \u001b[1;32mpandas\\\\_libs\\\\hashtable_class_helper.pxi:7081\u001b[0m, in \u001b[0;36mpandas._libs.hashtable.PyObjectHashTable.get_item\u001b[1;34m()\u001b[0m\n",
      "File \u001b[1;32mpandas\\\\_libs\\\\hashtable_class_helper.pxi:7089\u001b[0m, in \u001b[0;36mpandas._libs.hashtable.PyObjectHashTable.get_item\u001b[1;34m()\u001b[0m\n",
      "\u001b[1;31mKeyError\u001b[0m: 'state'",
      "\nThe above exception was the direct cause of the following exception:\n",
      "\u001b[1;31mKeyError\u001b[0m                                  Traceback (most recent call last)",
      "Cell \u001b[1;32mIn[18], line 3\u001b[0m\n\u001b[0;32m      1\u001b[0m df \u001b[38;5;241m=\u001b[39m df[[\u001b[38;5;124m'\u001b[39m\u001b[38;5;124mtitle\u001b[39m\u001b[38;5;124m'\u001b[39m,\u001b[38;5;124m'\u001b[39m\u001b[38;5;124mstate\u001b[39m\u001b[38;5;124m'\u001b[39m,\u001b[38;5;124m'\u001b[39m\u001b[38;5;124mavg_salary\u001b[39m\u001b[38;5;124m'\u001b[39m]]\u001b[38;5;241m.\u001b[39mcopy()\u001b[38;5;241m.\u001b[39mdropna(axis\u001b[38;5;241m=\u001b[39m\u001b[38;5;241m1\u001b[39m)\n\u001b[1;32m----> 3\u001b[0m fig \u001b[38;5;241m=\u001b[39m go\u001b[38;5;241m.\u001b[39mFigure(data\u001b[38;5;241m=\u001b[39m[go\u001b[38;5;241m.\u001b[39mScatter3d(x\u001b[38;5;241m=\u001b[39m\u001b[43mdf\u001b[49m\u001b[43m[\u001b[49m\u001b[38;5;124;43m'\u001b[39;49m\u001b[38;5;124;43mstate\u001b[39;49m\u001b[38;5;124;43m'\u001b[39;49m\u001b[43m]\u001b[49m, y\u001b[38;5;241m=\u001b[39mdf[\u001b[38;5;124m'\u001b[39m\u001b[38;5;124mtitle\u001b[39m\u001b[38;5;124m'\u001b[39m], z\u001b[38;5;241m=\u001b[39mdf[\u001b[38;5;124m'\u001b[39m\u001b[38;5;124mavg_salary\u001b[39m\u001b[38;5;124m'\u001b[39m], mode\u001b[38;5;241m=\u001b[39m\u001b[38;5;124m'\u001b[39m\u001b[38;5;124mmarkers\u001b[39m\u001b[38;5;124m'\u001b[39m)])\n\u001b[0;32m      5\u001b[0m fig\u001b[38;5;241m.\u001b[39mupdate_xaxes(title_text\u001b[38;5;241m=\u001b[39m\u001b[38;5;124m\"\u001b[39m\u001b[38;5;124mState\u001b[39m\u001b[38;5;124m\"\u001b[39m)\n\u001b[0;32m      6\u001b[0m fig\u001b[38;5;241m.\u001b[39mupdate_yaxes(title_text\u001b[38;5;241m=\u001b[39m\u001b[38;5;124m\"\u001b[39m\u001b[38;5;124mPosition\u001b[39m\u001b[38;5;124m\"\u001b[39m)\n",
      "File \u001b[1;32mc:\\dev\\python\\Lib\\site-packages\\pandas\\core\\frame.py:4102\u001b[0m, in \u001b[0;36mDataFrame.__getitem__\u001b[1;34m(self, key)\u001b[0m\n\u001b[0;32m   4100\u001b[0m \u001b[38;5;28;01mif\u001b[39;00m \u001b[38;5;28mself\u001b[39m\u001b[38;5;241m.\u001b[39mcolumns\u001b[38;5;241m.\u001b[39mnlevels \u001b[38;5;241m>\u001b[39m \u001b[38;5;241m1\u001b[39m:\n\u001b[0;32m   4101\u001b[0m     \u001b[38;5;28;01mreturn\u001b[39;00m \u001b[38;5;28mself\u001b[39m\u001b[38;5;241m.\u001b[39m_getitem_multilevel(key)\n\u001b[1;32m-> 4102\u001b[0m indexer \u001b[38;5;241m=\u001b[39m \u001b[38;5;28;43mself\u001b[39;49m\u001b[38;5;241;43m.\u001b[39;49m\u001b[43mcolumns\u001b[49m\u001b[38;5;241;43m.\u001b[39;49m\u001b[43mget_loc\u001b[49m\u001b[43m(\u001b[49m\u001b[43mkey\u001b[49m\u001b[43m)\u001b[49m\n\u001b[0;32m   4103\u001b[0m \u001b[38;5;28;01mif\u001b[39;00m is_integer(indexer):\n\u001b[0;32m   4104\u001b[0m     indexer \u001b[38;5;241m=\u001b[39m [indexer]\n",
      "File \u001b[1;32mc:\\dev\\python\\Lib\\site-packages\\pandas\\core\\indexes\\base.py:3812\u001b[0m, in \u001b[0;36mIndex.get_loc\u001b[1;34m(self, key)\u001b[0m\n\u001b[0;32m   3807\u001b[0m     \u001b[38;5;28;01mif\u001b[39;00m \u001b[38;5;28misinstance\u001b[39m(casted_key, \u001b[38;5;28mslice\u001b[39m) \u001b[38;5;129;01mor\u001b[39;00m (\n\u001b[0;32m   3808\u001b[0m         \u001b[38;5;28misinstance\u001b[39m(casted_key, abc\u001b[38;5;241m.\u001b[39mIterable)\n\u001b[0;32m   3809\u001b[0m         \u001b[38;5;129;01mand\u001b[39;00m \u001b[38;5;28many\u001b[39m(\u001b[38;5;28misinstance\u001b[39m(x, \u001b[38;5;28mslice\u001b[39m) \u001b[38;5;28;01mfor\u001b[39;00m x \u001b[38;5;129;01min\u001b[39;00m casted_key)\n\u001b[0;32m   3810\u001b[0m     ):\n\u001b[0;32m   3811\u001b[0m         \u001b[38;5;28;01mraise\u001b[39;00m InvalidIndexError(key)\n\u001b[1;32m-> 3812\u001b[0m     \u001b[38;5;28;01mraise\u001b[39;00m \u001b[38;5;167;01mKeyError\u001b[39;00m(key) \u001b[38;5;28;01mfrom\u001b[39;00m \u001b[38;5;21;01merr\u001b[39;00m\n\u001b[0;32m   3813\u001b[0m \u001b[38;5;28;01mexcept\u001b[39;00m \u001b[38;5;167;01mTypeError\u001b[39;00m:\n\u001b[0;32m   3814\u001b[0m     \u001b[38;5;66;03m# If we have a listlike key, _check_indexing_error will raise\u001b[39;00m\n\u001b[0;32m   3815\u001b[0m     \u001b[38;5;66;03m#  InvalidIndexError. Otherwise we fall through and re-raise\u001b[39;00m\n\u001b[0;32m   3816\u001b[0m     \u001b[38;5;66;03m#  the TypeError.\u001b[39;00m\n\u001b[0;32m   3817\u001b[0m     \u001b[38;5;28mself\u001b[39m\u001b[38;5;241m.\u001b[39m_check_indexing_error(key)\n",
      "\u001b[1;31mKeyError\u001b[0m: 'state'"
     ]
    }
   ],
   "source": [
    "df = df[['title','state','avg_salary']].copy().dropna(axis=1)\n",
    "\n",
    "fig = go.Figure(data=[go.Scatter3d(x=df['state'], y=df['title'], z=df['avg_salary'], mode='markers')])\n",
    "\n",
    "fig.update_xaxes(title_text=\"State\")\n",
    "fig.update_yaxes(title_text=\"Position\")\n",
    "\n",
    "fig.show()"
   ]
  }
 ],
 "metadata": {
  "kernelspec": {
   "display_name": "Python 3 (ipykernel)",
   "language": "python",
   "name": "python3"
  },
  "language_info": {
   "codemirror_mode": {
    "name": "ipython",
    "version": 3
   },
   "file_extension": ".py",
   "mimetype": "text/x-python",
   "name": "python",
   "nbconvert_exporter": "python",
   "pygments_lexer": "ipython3",
   "version": "3.12.4"
  }
 },
 "nbformat": 4,
 "nbformat_minor": 5
}
