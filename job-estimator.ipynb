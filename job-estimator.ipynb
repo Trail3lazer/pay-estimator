{
 "cells": [
  {
   "cell_type": "markdown",
   "id": "727b38e3-4bf1-469b-bbdf-1c3b01079f22",
   "metadata": {},
   "source": [
    "# Salary estimator from listings"
   ]
  },
  {
   "cell_type": "markdown",
   "id": "ddaaa672-a66a-449e-acaa-c9f995ec1ef6",
   "metadata": {},
   "source": [
    "## Setup"
   ]
  },
  {
   "cell_type": "code",
   "execution_count": 74,
   "id": "a3e0ae1b",
   "metadata": {},
   "outputs": [
    {
     "name": "stdout",
     "output_type": "stream",
     "text": [
      "Note: you may need to restart the kernel to use updated packages.\n"
     ]
    },
    {
     "name": "stderr",
     "output_type": "stream",
     "text": [
      "ERROR: Invalid requirement: '#'\n"
     ]
    }
   ],
   "source": [
    "%pip install pandas xgboost scikit-learn plotly # gensim"
   ]
  },
  {
   "cell_type": "markdown",
   "id": "9a5ffcbf-6ac8-46c6-92b2-446fc546a08d",
   "metadata": {},
   "source": [
    "First we must import our packages to manage the dataset. Then we can import the data."
   ]
  },
  {
   "cell_type": "markdown",
   "id": "1e044b65-ce26-48fa-a2fa-e8e0f7ff831c",
   "metadata": {},
   "source": [
    "## Get the data"
   ]
  },
  {
   "cell_type": "markdown",
   "id": "8fc8c7bc-f479-4acc-84a6-128d1489bafe",
   "metadata": {},
   "source": [
    "Now we can load the dataset."
   ]
  },
  {
   "cell_type": "code",
   "execution_count": 75,
   "id": "335c66c8-11a7-422b-a512-baa3ff106c6b",
   "metadata": {},
   "outputs": [],
   "source": [
    "import os\n",
    "import pandas as pd\n",
    "import numpy as np\n",
    "import xgboost as xgb\n",
    "import plotly.express as px\n",
    "from sklearn.model_selection import train_test_split, GridSearchCV\n",
    "from sklearn.metrics import balanced_accuracy_score, roc_auc_score, make_scorer\n",
    "from sklearn.metrics import confusion_matrix, ConfusionMatrixDisplay"
   ]
  },
  {
   "cell_type": "code",
   "execution_count": 76,
   "id": "62d0d0cc-7e4f-4c38-933f-7648dfadff21",
   "metadata": {},
   "outputs": [
    {
     "data": {
      "text/html": [
       "<div>\n",
       "<style scoped>\n",
       "    .dataframe tbody tr th:only-of-type {\n",
       "        vertical-align: middle;\n",
       "    }\n",
       "\n",
       "    .dataframe tbody tr th {\n",
       "        vertical-align: top;\n",
       "    }\n",
       "\n",
       "    .dataframe thead th {\n",
       "        text-align: right;\n",
       "    }\n",
       "</style>\n",
       "<table border=\"1\" class=\"dataframe\">\n",
       "  <thead>\n",
       "    <tr style=\"text-align: right;\">\n",
       "      <th></th>\n",
       "      <th>job_id</th>\n",
       "      <th>company_name</th>\n",
       "      <th>title</th>\n",
       "      <th>description</th>\n",
       "      <th>max_salary</th>\n",
       "      <th>pay_period</th>\n",
       "      <th>location</th>\n",
       "      <th>company_id</th>\n",
       "      <th>views</th>\n",
       "      <th>med_salary</th>\n",
       "      <th>...</th>\n",
       "      <th>expiry</th>\n",
       "      <th>closed_time</th>\n",
       "      <th>formatted_experience_level</th>\n",
       "      <th>skills_desc</th>\n",
       "      <th>listed_time</th>\n",
       "      <th>posting_domain</th>\n",
       "      <th>sponsored</th>\n",
       "      <th>work_type</th>\n",
       "      <th>currency</th>\n",
       "      <th>compensation_type</th>\n",
       "    </tr>\n",
       "  </thead>\n",
       "  <tbody>\n",
       "    <tr>\n",
       "      <th>0</th>\n",
       "      <td>921716</td>\n",
       "      <td>Corcoran Sawyer Smith</td>\n",
       "      <td>Marketing Coordinator</td>\n",
       "      <td>Job descriptionA leading real estate firm in N...</td>\n",
       "      <td>20.0</td>\n",
       "      <td>HOURLY</td>\n",
       "      <td>Princeton, NJ</td>\n",
       "      <td>2774458.0</td>\n",
       "      <td>20.0</td>\n",
       "      <td>NaN</td>\n",
       "      <td>...</td>\n",
       "      <td>1.715990e+12</td>\n",
       "      <td>NaN</td>\n",
       "      <td>NaN</td>\n",
       "      <td>Requirements: \\n\\nWe are seeking a College or ...</td>\n",
       "      <td>1.713398e+12</td>\n",
       "      <td>NaN</td>\n",
       "      <td>0</td>\n",
       "      <td>FULL_TIME</td>\n",
       "      <td>USD</td>\n",
       "      <td>BASE_SALARY</td>\n",
       "    </tr>\n",
       "    <tr>\n",
       "      <th>1</th>\n",
       "      <td>1829192</td>\n",
       "      <td>NaN</td>\n",
       "      <td>Mental Health Therapist/Counselor</td>\n",
       "      <td>At Aspen Therapy and Wellness , we are committ...</td>\n",
       "      <td>50.0</td>\n",
       "      <td>HOURLY</td>\n",
       "      <td>Fort Collins, CO</td>\n",
       "      <td>NaN</td>\n",
       "      <td>1.0</td>\n",
       "      <td>NaN</td>\n",
       "      <td>...</td>\n",
       "      <td>1.715450e+12</td>\n",
       "      <td>NaN</td>\n",
       "      <td>NaN</td>\n",
       "      <td>NaN</td>\n",
       "      <td>1.712858e+12</td>\n",
       "      <td>NaN</td>\n",
       "      <td>0</td>\n",
       "      <td>FULL_TIME</td>\n",
       "      <td>USD</td>\n",
       "      <td>BASE_SALARY</td>\n",
       "    </tr>\n",
       "    <tr>\n",
       "      <th>2</th>\n",
       "      <td>10998357</td>\n",
       "      <td>The National Exemplar</td>\n",
       "      <td>Assitant Restaurant Manager</td>\n",
       "      <td>The National Exemplar is accepting application...</td>\n",
       "      <td>65000.0</td>\n",
       "      <td>YEARLY</td>\n",
       "      <td>Cincinnati, OH</td>\n",
       "      <td>64896719.0</td>\n",
       "      <td>8.0</td>\n",
       "      <td>NaN</td>\n",
       "      <td>...</td>\n",
       "      <td>1.715870e+12</td>\n",
       "      <td>NaN</td>\n",
       "      <td>NaN</td>\n",
       "      <td>We are currently accepting resumes for FOH - A...</td>\n",
       "      <td>1.713278e+12</td>\n",
       "      <td>NaN</td>\n",
       "      <td>0</td>\n",
       "      <td>FULL_TIME</td>\n",
       "      <td>USD</td>\n",
       "      <td>BASE_SALARY</td>\n",
       "    </tr>\n",
       "    <tr>\n",
       "      <th>3</th>\n",
       "      <td>23221523</td>\n",
       "      <td>Abrams Fensterman, LLP</td>\n",
       "      <td>Senior Elder Law / Trusts and Estates Associat...</td>\n",
       "      <td>Senior Associate Attorney - Elder Law / Trusts...</td>\n",
       "      <td>175000.0</td>\n",
       "      <td>YEARLY</td>\n",
       "      <td>New Hyde Park, NY</td>\n",
       "      <td>766262.0</td>\n",
       "      <td>16.0</td>\n",
       "      <td>NaN</td>\n",
       "      <td>...</td>\n",
       "      <td>1.715488e+12</td>\n",
       "      <td>NaN</td>\n",
       "      <td>NaN</td>\n",
       "      <td>This position requires a baseline understandin...</td>\n",
       "      <td>1.712896e+12</td>\n",
       "      <td>NaN</td>\n",
       "      <td>0</td>\n",
       "      <td>FULL_TIME</td>\n",
       "      <td>USD</td>\n",
       "      <td>BASE_SALARY</td>\n",
       "    </tr>\n",
       "    <tr>\n",
       "      <th>4</th>\n",
       "      <td>35982263</td>\n",
       "      <td>NaN</td>\n",
       "      <td>Service Technician</td>\n",
       "      <td>Looking for HVAC service tech with experience ...</td>\n",
       "      <td>80000.0</td>\n",
       "      <td>YEARLY</td>\n",
       "      <td>Burlington, IA</td>\n",
       "      <td>NaN</td>\n",
       "      <td>3.0</td>\n",
       "      <td>NaN</td>\n",
       "      <td>...</td>\n",
       "      <td>1.716044e+12</td>\n",
       "      <td>NaN</td>\n",
       "      <td>NaN</td>\n",
       "      <td>NaN</td>\n",
       "      <td>1.713452e+12</td>\n",
       "      <td>NaN</td>\n",
       "      <td>0</td>\n",
       "      <td>FULL_TIME</td>\n",
       "      <td>USD</td>\n",
       "      <td>BASE_SALARY</td>\n",
       "    </tr>\n",
       "  </tbody>\n",
       "</table>\n",
       "<p>5 rows × 28 columns</p>\n",
       "</div>"
      ],
      "text/plain": [
       "     job_id            company_name  \\\n",
       "0    921716   Corcoran Sawyer Smith   \n",
       "1   1829192                     NaN   \n",
       "2  10998357  The National Exemplar    \n",
       "3  23221523  Abrams Fensterman, LLP   \n",
       "4  35982263                     NaN   \n",
       "\n",
       "                                               title  \\\n",
       "0                              Marketing Coordinator   \n",
       "1                  Mental Health Therapist/Counselor   \n",
       "2                        Assitant Restaurant Manager   \n",
       "3  Senior Elder Law / Trusts and Estates Associat...   \n",
       "4                                 Service Technician   \n",
       "\n",
       "                                         description  max_salary pay_period  \\\n",
       "0  Job descriptionA leading real estate firm in N...        20.0     HOURLY   \n",
       "1  At Aspen Therapy and Wellness , we are committ...        50.0     HOURLY   \n",
       "2  The National Exemplar is accepting application...     65000.0     YEARLY   \n",
       "3  Senior Associate Attorney - Elder Law / Trusts...    175000.0     YEARLY   \n",
       "4  Looking for HVAC service tech with experience ...     80000.0     YEARLY   \n",
       "\n",
       "            location  company_id  views  med_salary  ...        expiry  \\\n",
       "0      Princeton, NJ   2774458.0   20.0         NaN  ...  1.715990e+12   \n",
       "1   Fort Collins, CO         NaN    1.0         NaN  ...  1.715450e+12   \n",
       "2     Cincinnati, OH  64896719.0    8.0         NaN  ...  1.715870e+12   \n",
       "3  New Hyde Park, NY    766262.0   16.0         NaN  ...  1.715488e+12   \n",
       "4     Burlington, IA         NaN    3.0         NaN  ...  1.716044e+12   \n",
       "\n",
       "  closed_time  formatted_experience_level  \\\n",
       "0         NaN                         NaN   \n",
       "1         NaN                         NaN   \n",
       "2         NaN                         NaN   \n",
       "3         NaN                         NaN   \n",
       "4         NaN                         NaN   \n",
       "\n",
       "                                         skills_desc   listed_time  \\\n",
       "0  Requirements: \\n\\nWe are seeking a College or ...  1.713398e+12   \n",
       "1                                                NaN  1.712858e+12   \n",
       "2  We are currently accepting resumes for FOH - A...  1.713278e+12   \n",
       "3  This position requires a baseline understandin...  1.712896e+12   \n",
       "4                                                NaN  1.713452e+12   \n",
       "\n",
       "  posting_domain sponsored  work_type  currency  compensation_type  \n",
       "0            NaN         0  FULL_TIME       USD        BASE_SALARY  \n",
       "1            NaN         0  FULL_TIME       USD        BASE_SALARY  \n",
       "2            NaN         0  FULL_TIME       USD        BASE_SALARY  \n",
       "3            NaN         0  FULL_TIME       USD        BASE_SALARY  \n",
       "4            NaN         0  FULL_TIME       USD        BASE_SALARY  \n",
       "\n",
       "[5 rows x 28 columns]"
      ]
     },
     "execution_count": 76,
     "metadata": {},
     "output_type": "execute_result"
    }
   ],
   "source": [
    "repo_path = os.path.abspath('')\n",
    "df = pd.read_csv(repo_path + '/archive/postings.csv')\n",
    "df.head()"
   ]
  },
  {
   "cell_type": "code",
   "execution_count": 77,
   "id": "bc345891",
   "metadata": {},
   "outputs": [
    {
     "name": "stdout",
     "output_type": "stream",
     "text": [
      "['job_id', 'company_name', 'title', 'description', 'max_salary', 'pay_period', 'location', 'company_id', 'med_salary', 'min_salary', 'formatted_work_type', 'formatted_experience_level', 'skills_desc', 'work_type', 'currency']\n"
     ]
    }
   ],
   "source": [
    "columns_to_drop = [\n",
    "    'views','applies','original_listed_time','remote_allowed','job_posting_url','application_url','application_type',\n",
    "    'expiry','closed_time','listed_time','posting_domain','sponsored','compensation_type','sponsored',\n",
    "    ]\n",
    "if 'views' in df.columns:\n",
    "    df.drop(columns_to_drop, axis=1, inplace=True)\n",
    "print(list(df.columns))"
   ]
  },
  {
   "cell_type": "code",
   "execution_count": 78,
   "id": "c48cd649",
   "metadata": {},
   "outputs": [
    {
     "data": {
      "text/plain": [
       "36073"
      ]
     },
     "execution_count": 78,
     "metadata": {},
     "output_type": "execute_result"
    }
   ],
   "source": [
    "pay_cols = ['max_salary','med_salary','min_salary']\n",
    "df.dropna(thresh=1, subset=pay_cols, inplace=True)\n",
    "len(df.index)"
   ]
  },
  {
   "cell_type": "code",
   "execution_count": 79,
   "id": "0141a673",
   "metadata": {},
   "outputs": [
    {
     "name": "stdout",
     "output_type": "stream",
     "text": [
      "3                                  NaN\n",
      "19                       UNITED STATES\n",
      "21              OHIO METROPOLITAN AREA\n",
      "31             TEXAS METROPOLITAN AREA\n",
      "32                          CALIFORNIA\n",
      "35    SOUTH CAROLINA METROPOLITAN AREA\n",
      "38            OREGON METROPOLITAN AREA\n",
      "44                        ALABAMA AREA\n",
      "45            KANSAS METROPOLITAN AREA\n",
      "46     MASSACHUSETTS METROPOLITAN AREA\n",
      "56          NEBRASKA METROPOLITAN AREA\n",
      "57                            NEW YORK\n",
      "59                             MI AREA\n",
      "60                            ILLINOIS\n",
      "61         LOUISIANA METROPOLITAN AREA\n",
      "62          NEW YORK METROPOLITAN AREA\n",
      "66                              HAWAII\n",
      "67                                OHIO\n",
      "68                            DELAWARE\n",
      "70    NORTH CAROLINA METROPOLITAN AREA\n",
      "71                            COLORADO\n",
      "72                            NEBRASKA\n",
      "73                          WASHINGTON\n",
      "74                       MASSACHUSETTS\n",
      "75                               TEXAS\n",
      "76                             AR AREA\n",
      "77         WISCONSIN METROPOLITAN AREA\n",
      "78                              OREGON\n",
      "79           INDIANA METROPOLITAN AREA\n",
      "80                            OKLAHOMA\n",
      "81                      NORTH CAROLINA\n",
      "82                             FLORIDA\n",
      "83                                UTAH\n",
      "84                 SOUTH CAROLINA AREA\n",
      "dtype: object\n"
     ]
    }
   ],
   "source": [
    "graph_cols = pay_cols + ['company_name','title','location','pay_period']\n",
    "pay_df = df[graph_cols].copy()\n",
    "pay_df['state'] = pay_df['location'].str.split(',').str[1].str.strip().str.upper()\n",
    "salary_df = pay_df.loc[pay_df['pay_period'] != 'HOURLY']\n",
    "salary_state_df = salary_df[['state']+pay_cols].copy()\n",
    "\n",
    "excluded = []\n",
    "\n",
    "def normalize(val, med, std):\n",
    "    std2 = std*3\n",
    "    low = med-std2\n",
    "    high = med+std2\n",
    "    if low < val < high:\n",
    "        return val\n",
    "    if val == val: \n",
    "        excluded.append(val)\n",
    "    return None\n",
    "\n",
    "for name in pay_cols:\n",
    "    med = salary_state_df[name].median()\n",
    "    std = salary_state_df[name].std()\n",
    "    salary_state_df[name] = salary_state_df[name].apply(lambda x: normalize(x, med, std))\n",
    "    \n",
    "salary_state_df['avg_salary'] = salary_state_df[pay_cols].mean(axis=1)\n",
    "\n",
    "def get_abnormal(arr: np.array):\n",
    "    ser = pd.Series(arr.unique())\n",
    "    result = ser[ser.str.len() != 2]\n",
    "    return result\n",
    "\n",
    "print(get_abnormal(salary_state_df['state']))"
   ]
  },
  {
   "cell_type": "code",
   "execution_count": 80,
   "id": "b33f18f3",
   "metadata": {},
   "outputs": [
    {
     "name": "stdout",
     "output_type": "stream",
     "text": [
      "3      NaN\n",
      "19    None\n",
      "dtype: object\n"
     ]
    }
   ],
   "source": [
    "state_map = {\n",
    "    'ALASKA':'AK',\n",
    "    'ALABAMA':'AL',\n",
    "    'ARKANSAS':'AR',\n",
    "    'ARIZONA':'AZ',\n",
    "    'CALIFORNIA':'CA',\n",
    "    'COLORADO':'CO',\n",
    "    'CONNECTICUT':'CT',\n",
    "    'DELAWARE':'DE',\n",
    "    'FLORIDA':'FL',\n",
    "    'GEORGIA':'GA',\n",
    "    'HAWAII':'HI',\n",
    "    'IOWA':'IA',\n",
    "    'IDAHO':'ID',\n",
    "    'ILLINOIS':'IL',\n",
    "    'INDIANA':'IN',\n",
    "    'KANSAS':'KS',\n",
    "    'KENTUCKY':'KY',\n",
    "    'LOUISIANA':'LA',\n",
    "    'MASSACHUSETTS':'MA',\n",
    "    'MARYLAND':'MD',\n",
    "    'MAINE':'ME',\n",
    "    'MICHIGAN':'MI',\n",
    "    'MINNESOTA':'MN',\n",
    "    'MISSOURI':'MO',\n",
    "    'MISSISSIPPI':'MS',\n",
    "    'MONTANA':'MT',\n",
    "    'NORTH CAROLINA':'NC',\n",
    "    'NORTH DAKOTA':'ND',\n",
    "    'NEBRASKA':'NE',\n",
    "    'NEW HAMPSHIRE':'NH',\n",
    "    'NEW JERSEY':'NJ',\n",
    "    'NEW MEXICO':'NM',\n",
    "    'NEVADA':'NV',\n",
    "    'NEW YORK':'NY',\n",
    "    'OHIO':'OH',\n",
    "    'OKLAHOMA':'OK',\n",
    "    'OREGON':'OR',\n",
    "    'PENNSYLVANIA':'PA',\n",
    "    'RHODE ISLAND':'RI',\n",
    "    'SOUTH CAROLINA':'SC',\n",
    "    'SOUTH DAKOTA':'SD',\n",
    "    'TENNESSEE':'TN',\n",
    "    'TEXAS':'TX',\n",
    "    'UTAH':'UT',\n",
    "    'VIRGINIA':'VA',\n",
    "    'VERMONT':'VT',\n",
    "    'WASHINGTON':'WA',\n",
    "    'WISCONSIN':'WI',\n",
    "    'WEST VIRGINIA':'WV',\n",
    "    'WYOMING': 'WY'\n",
    "}\n",
    "\n",
    "def clean_state(state: str):\n",
    "    if state != state: \n",
    "        return state\n",
    "    if state == 'UNITED STATES':\n",
    "        return None\n",
    "    clean = state\n",
    "    if len(clean) != 2:\n",
    "        clean = clean.replace(' AREA', '')\n",
    "        clean = clean.replace(' METROPOLITAN', '')\n",
    "        if clean in state_map:\n",
    "            return state_map.get(clean)\n",
    "    return clean\n",
    "\n",
    "cleaned_salary_state_df  = salary_state_df.copy()\n",
    "cleaned_salary_state_df['state'] = cleaned_salary_state_df['state'].apply(clean_state)\n",
    "print(get_abnormal(cleaned_salary_state_df['state']))"
   ]
  },
  {
   "cell_type": "code",
   "execution_count": 81,
   "id": "f392e00c",
   "metadata": {},
   "outputs": [
    {
     "data": {
      "application/vnd.plotly.v1+json": {
       "config": {
        "plotlyServerURL": "https://plot.ly"
       },
       "data": [
        {
         "alignmentgroup": "True",
         "hovertemplate": "variable=avg_salary<br>State=%{x}<br>Average Salary=%{y}<extra></extra>",
         "legendgroup": "avg_salary",
         "marker": {
          "color": "#636efa",
          "pattern": {
           "shape": ""
          }
         },
         "name": "avg_salary",
         "offsetgroup": "avg_salary",
         "orientation": "v",
         "showlegend": true,
         "textposition": "auto",
         "type": "bar",
         "x": [
          "SD",
          "VT",
          "KY",
          "ID",
          "MT",
          "LA",
          "OK",
          "NE",
          "IA",
          "KS",
          "MS",
          "HI",
          "ND",
          "ME",
          "IN",
          "AR",
          "SC",
          "WI",
          "MI",
          "AL",
          "MO",
          "RI",
          "UT",
          "FL",
          "OH",
          "OR",
          "NH",
          "WY",
          "TN",
          "NV",
          "WV",
          "AZ",
          "PA",
          "MN",
          "CO",
          "NM",
          "TX",
          "MD",
          "NC",
          "GA",
          "DE",
          "CT",
          "IL",
          "VA",
          "NJ",
          "MA",
          "AK",
          "NY",
          "DC",
          "CA",
          "WA"
         ],
         "xaxis": "x",
         "y": [
          66828.88095238095,
          66889.89227272727,
          74398.9116015625,
          75813.3353125,
          75981.84999999999,
          76255.2708219178,
          76935.48880208333,
          78797.22093023256,
          79086.75031578948,
          79765.62015151515,
          80027.65416666666,
          80563.05823170733,
          80991.10555555555,
          81528.90787878788,
          82878.93974489796,
          83951.97094594594,
          86022.76898601398,
          86223.08426923076,
          86977.99058052435,
          87087.22457627118,
          87785.98915816327,
          88107.20930232559,
          89889.45954545453,
          94457.78989311164,
          94596.84976519337,
          95000.2991111111,
          95747.07142857143,
          95842.22222222222,
          96293.23265625001,
          97071.54963302752,
          98012.17826086956,
          98084.2785694051,
          98876.50198464912,
          99875.22246341464,
          100179.32827102803,
          100376.30487804877,
          101704.71361464968,
          102642.7618382353,
          103639.30044419135,
          104011.98528513238,
          104279.45666666667,
          106051.50810747663,
          106788.19472992701,
          107249.6088491296,
          109991.81542574258,
          112981.3991620626,
          115115.68049999999,
          118099.36901790033,
          118625.65367713005,
          123723.69491437852,
          130172.98863086232
         ],
         "yaxis": "y"
        }
       ],
       "layout": {
        "barmode": "relative",
        "legend": {
         "title": {
          "text": "variable"
         },
         "tracegroupgap": 0
        },
        "margin": {
         "t": 60
        },
        "template": {
         "data": {
          "bar": [
           {
            "error_x": {
             "color": "#2a3f5f"
            },
            "error_y": {
             "color": "#2a3f5f"
            },
            "marker": {
             "line": {
              "color": "#E5ECF6",
              "width": 0.5
             },
             "pattern": {
              "fillmode": "overlay",
              "size": 10,
              "solidity": 0.2
             }
            },
            "type": "bar"
           }
          ],
          "barpolar": [
           {
            "marker": {
             "line": {
              "color": "#E5ECF6",
              "width": 0.5
             },
             "pattern": {
              "fillmode": "overlay",
              "size": 10,
              "solidity": 0.2
             }
            },
            "type": "barpolar"
           }
          ],
          "carpet": [
           {
            "aaxis": {
             "endlinecolor": "#2a3f5f",
             "gridcolor": "white",
             "linecolor": "white",
             "minorgridcolor": "white",
             "startlinecolor": "#2a3f5f"
            },
            "baxis": {
             "endlinecolor": "#2a3f5f",
             "gridcolor": "white",
             "linecolor": "white",
             "minorgridcolor": "white",
             "startlinecolor": "#2a3f5f"
            },
            "type": "carpet"
           }
          ],
          "choropleth": [
           {
            "colorbar": {
             "outlinewidth": 0,
             "ticks": ""
            },
            "type": "choropleth"
           }
          ],
          "contour": [
           {
            "colorbar": {
             "outlinewidth": 0,
             "ticks": ""
            },
            "colorscale": [
             [
              0,
              "#0d0887"
             ],
             [
              0.1111111111111111,
              "#46039f"
             ],
             [
              0.2222222222222222,
              "#7201a8"
             ],
             [
              0.3333333333333333,
              "#9c179e"
             ],
             [
              0.4444444444444444,
              "#bd3786"
             ],
             [
              0.5555555555555556,
              "#d8576b"
             ],
             [
              0.6666666666666666,
              "#ed7953"
             ],
             [
              0.7777777777777778,
              "#fb9f3a"
             ],
             [
              0.8888888888888888,
              "#fdca26"
             ],
             [
              1,
              "#f0f921"
             ]
            ],
            "type": "contour"
           }
          ],
          "contourcarpet": [
           {
            "colorbar": {
             "outlinewidth": 0,
             "ticks": ""
            },
            "type": "contourcarpet"
           }
          ],
          "heatmap": [
           {
            "colorbar": {
             "outlinewidth": 0,
             "ticks": ""
            },
            "colorscale": [
             [
              0,
              "#0d0887"
             ],
             [
              0.1111111111111111,
              "#46039f"
             ],
             [
              0.2222222222222222,
              "#7201a8"
             ],
             [
              0.3333333333333333,
              "#9c179e"
             ],
             [
              0.4444444444444444,
              "#bd3786"
             ],
             [
              0.5555555555555556,
              "#d8576b"
             ],
             [
              0.6666666666666666,
              "#ed7953"
             ],
             [
              0.7777777777777778,
              "#fb9f3a"
             ],
             [
              0.8888888888888888,
              "#fdca26"
             ],
             [
              1,
              "#f0f921"
             ]
            ],
            "type": "heatmap"
           }
          ],
          "heatmapgl": [
           {
            "colorbar": {
             "outlinewidth": 0,
             "ticks": ""
            },
            "colorscale": [
             [
              0,
              "#0d0887"
             ],
             [
              0.1111111111111111,
              "#46039f"
             ],
             [
              0.2222222222222222,
              "#7201a8"
             ],
             [
              0.3333333333333333,
              "#9c179e"
             ],
             [
              0.4444444444444444,
              "#bd3786"
             ],
             [
              0.5555555555555556,
              "#d8576b"
             ],
             [
              0.6666666666666666,
              "#ed7953"
             ],
             [
              0.7777777777777778,
              "#fb9f3a"
             ],
             [
              0.8888888888888888,
              "#fdca26"
             ],
             [
              1,
              "#f0f921"
             ]
            ],
            "type": "heatmapgl"
           }
          ],
          "histogram": [
           {
            "marker": {
             "pattern": {
              "fillmode": "overlay",
              "size": 10,
              "solidity": 0.2
             }
            },
            "type": "histogram"
           }
          ],
          "histogram2d": [
           {
            "colorbar": {
             "outlinewidth": 0,
             "ticks": ""
            },
            "colorscale": [
             [
              0,
              "#0d0887"
             ],
             [
              0.1111111111111111,
              "#46039f"
             ],
             [
              0.2222222222222222,
              "#7201a8"
             ],
             [
              0.3333333333333333,
              "#9c179e"
             ],
             [
              0.4444444444444444,
              "#bd3786"
             ],
             [
              0.5555555555555556,
              "#d8576b"
             ],
             [
              0.6666666666666666,
              "#ed7953"
             ],
             [
              0.7777777777777778,
              "#fb9f3a"
             ],
             [
              0.8888888888888888,
              "#fdca26"
             ],
             [
              1,
              "#f0f921"
             ]
            ],
            "type": "histogram2d"
           }
          ],
          "histogram2dcontour": [
           {
            "colorbar": {
             "outlinewidth": 0,
             "ticks": ""
            },
            "colorscale": [
             [
              0,
              "#0d0887"
             ],
             [
              0.1111111111111111,
              "#46039f"
             ],
             [
              0.2222222222222222,
              "#7201a8"
             ],
             [
              0.3333333333333333,
              "#9c179e"
             ],
             [
              0.4444444444444444,
              "#bd3786"
             ],
             [
              0.5555555555555556,
              "#d8576b"
             ],
             [
              0.6666666666666666,
              "#ed7953"
             ],
             [
              0.7777777777777778,
              "#fb9f3a"
             ],
             [
              0.8888888888888888,
              "#fdca26"
             ],
             [
              1,
              "#f0f921"
             ]
            ],
            "type": "histogram2dcontour"
           }
          ],
          "mesh3d": [
           {
            "colorbar": {
             "outlinewidth": 0,
             "ticks": ""
            },
            "type": "mesh3d"
           }
          ],
          "parcoords": [
           {
            "line": {
             "colorbar": {
              "outlinewidth": 0,
              "ticks": ""
             }
            },
            "type": "parcoords"
           }
          ],
          "pie": [
           {
            "automargin": true,
            "type": "pie"
           }
          ],
          "scatter": [
           {
            "fillpattern": {
             "fillmode": "overlay",
             "size": 10,
             "solidity": 0.2
            },
            "type": "scatter"
           }
          ],
          "scatter3d": [
           {
            "line": {
             "colorbar": {
              "outlinewidth": 0,
              "ticks": ""
             }
            },
            "marker": {
             "colorbar": {
              "outlinewidth": 0,
              "ticks": ""
             }
            },
            "type": "scatter3d"
           }
          ],
          "scattercarpet": [
           {
            "marker": {
             "colorbar": {
              "outlinewidth": 0,
              "ticks": ""
             }
            },
            "type": "scattercarpet"
           }
          ],
          "scattergeo": [
           {
            "marker": {
             "colorbar": {
              "outlinewidth": 0,
              "ticks": ""
             }
            },
            "type": "scattergeo"
           }
          ],
          "scattergl": [
           {
            "marker": {
             "colorbar": {
              "outlinewidth": 0,
              "ticks": ""
             }
            },
            "type": "scattergl"
           }
          ],
          "scattermapbox": [
           {
            "marker": {
             "colorbar": {
              "outlinewidth": 0,
              "ticks": ""
             }
            },
            "type": "scattermapbox"
           }
          ],
          "scatterpolar": [
           {
            "marker": {
             "colorbar": {
              "outlinewidth": 0,
              "ticks": ""
             }
            },
            "type": "scatterpolar"
           }
          ],
          "scatterpolargl": [
           {
            "marker": {
             "colorbar": {
              "outlinewidth": 0,
              "ticks": ""
             }
            },
            "type": "scatterpolargl"
           }
          ],
          "scatterternary": [
           {
            "marker": {
             "colorbar": {
              "outlinewidth": 0,
              "ticks": ""
             }
            },
            "type": "scatterternary"
           }
          ],
          "surface": [
           {
            "colorbar": {
             "outlinewidth": 0,
             "ticks": ""
            },
            "colorscale": [
             [
              0,
              "#0d0887"
             ],
             [
              0.1111111111111111,
              "#46039f"
             ],
             [
              0.2222222222222222,
              "#7201a8"
             ],
             [
              0.3333333333333333,
              "#9c179e"
             ],
             [
              0.4444444444444444,
              "#bd3786"
             ],
             [
              0.5555555555555556,
              "#d8576b"
             ],
             [
              0.6666666666666666,
              "#ed7953"
             ],
             [
              0.7777777777777778,
              "#fb9f3a"
             ],
             [
              0.8888888888888888,
              "#fdca26"
             ],
             [
              1,
              "#f0f921"
             ]
            ],
            "type": "surface"
           }
          ],
          "table": [
           {
            "cells": {
             "fill": {
              "color": "#EBF0F8"
             },
             "line": {
              "color": "white"
             }
            },
            "header": {
             "fill": {
              "color": "#C8D4E3"
             },
             "line": {
              "color": "white"
             }
            },
            "type": "table"
           }
          ]
         },
         "layout": {
          "annotationdefaults": {
           "arrowcolor": "#2a3f5f",
           "arrowhead": 0,
           "arrowwidth": 1
          },
          "autotypenumbers": "strict",
          "coloraxis": {
           "colorbar": {
            "outlinewidth": 0,
            "ticks": ""
           }
          },
          "colorscale": {
           "diverging": [
            [
             0,
             "#8e0152"
            ],
            [
             0.1,
             "#c51b7d"
            ],
            [
             0.2,
             "#de77ae"
            ],
            [
             0.3,
             "#f1b6da"
            ],
            [
             0.4,
             "#fde0ef"
            ],
            [
             0.5,
             "#f7f7f7"
            ],
            [
             0.6,
             "#e6f5d0"
            ],
            [
             0.7,
             "#b8e186"
            ],
            [
             0.8,
             "#7fbc41"
            ],
            [
             0.9,
             "#4d9221"
            ],
            [
             1,
             "#276419"
            ]
           ],
           "sequential": [
            [
             0,
             "#0d0887"
            ],
            [
             0.1111111111111111,
             "#46039f"
            ],
            [
             0.2222222222222222,
             "#7201a8"
            ],
            [
             0.3333333333333333,
             "#9c179e"
            ],
            [
             0.4444444444444444,
             "#bd3786"
            ],
            [
             0.5555555555555556,
             "#d8576b"
            ],
            [
             0.6666666666666666,
             "#ed7953"
            ],
            [
             0.7777777777777778,
             "#fb9f3a"
            ],
            [
             0.8888888888888888,
             "#fdca26"
            ],
            [
             1,
             "#f0f921"
            ]
           ],
           "sequentialminus": [
            [
             0,
             "#0d0887"
            ],
            [
             0.1111111111111111,
             "#46039f"
            ],
            [
             0.2222222222222222,
             "#7201a8"
            ],
            [
             0.3333333333333333,
             "#9c179e"
            ],
            [
             0.4444444444444444,
             "#bd3786"
            ],
            [
             0.5555555555555556,
             "#d8576b"
            ],
            [
             0.6666666666666666,
             "#ed7953"
            ],
            [
             0.7777777777777778,
             "#fb9f3a"
            ],
            [
             0.8888888888888888,
             "#fdca26"
            ],
            [
             1,
             "#f0f921"
            ]
           ]
          },
          "colorway": [
           "#636efa",
           "#EF553B",
           "#00cc96",
           "#ab63fa",
           "#FFA15A",
           "#19d3f3",
           "#FF6692",
           "#B6E880",
           "#FF97FF",
           "#FECB52"
          ],
          "font": {
           "color": "#2a3f5f"
          },
          "geo": {
           "bgcolor": "white",
           "lakecolor": "white",
           "landcolor": "#E5ECF6",
           "showlakes": true,
           "showland": true,
           "subunitcolor": "white"
          },
          "hoverlabel": {
           "align": "left"
          },
          "hovermode": "closest",
          "mapbox": {
           "style": "light"
          },
          "paper_bgcolor": "white",
          "plot_bgcolor": "#E5ECF6",
          "polar": {
           "angularaxis": {
            "gridcolor": "white",
            "linecolor": "white",
            "ticks": ""
           },
           "bgcolor": "#E5ECF6",
           "radialaxis": {
            "gridcolor": "white",
            "linecolor": "white",
            "ticks": ""
           }
          },
          "scene": {
           "xaxis": {
            "backgroundcolor": "#E5ECF6",
            "gridcolor": "white",
            "gridwidth": 2,
            "linecolor": "white",
            "showbackground": true,
            "ticks": "",
            "zerolinecolor": "white"
           },
           "yaxis": {
            "backgroundcolor": "#E5ECF6",
            "gridcolor": "white",
            "gridwidth": 2,
            "linecolor": "white",
            "showbackground": true,
            "ticks": "",
            "zerolinecolor": "white"
           },
           "zaxis": {
            "backgroundcolor": "#E5ECF6",
            "gridcolor": "white",
            "gridwidth": 2,
            "linecolor": "white",
            "showbackground": true,
            "ticks": "",
            "zerolinecolor": "white"
           }
          },
          "shapedefaults": {
           "line": {
            "color": "#2a3f5f"
           }
          },
          "ternary": {
           "aaxis": {
            "gridcolor": "white",
            "linecolor": "white",
            "ticks": ""
           },
           "baxis": {
            "gridcolor": "white",
            "linecolor": "white",
            "ticks": ""
           },
           "bgcolor": "#E5ECF6",
           "caxis": {
            "gridcolor": "white",
            "linecolor": "white",
            "ticks": ""
           }
          },
          "title": {
           "x": 0.05
          },
          "xaxis": {
           "automargin": true,
           "gridcolor": "white",
           "linecolor": "white",
           "ticks": "",
           "title": {
            "standoff": 15
           },
           "zerolinecolor": "white",
           "zerolinewidth": 2
          },
          "yaxis": {
           "automargin": true,
           "gridcolor": "white",
           "linecolor": "white",
           "ticks": "",
           "title": {
            "standoff": 15
           },
           "zerolinecolor": "white",
           "zerolinewidth": 2
          }
         }
        },
        "xaxis": {
         "anchor": "y",
         "domain": [
          0,
          1
         ],
         "title": {
          "text": "State"
         }
        },
        "yaxis": {
         "anchor": "x",
         "domain": [
          0,
          1
         ],
         "title": {
          "text": "Average Salary"
         }
        }
       }
      }
     },
     "metadata": {},
     "output_type": "display_data"
    }
   ],
   "source": [
    "fig_data = cleaned_salary_state_df[['state','avg_salary']].groupby('state').mean()\n",
    "fig_data = fig_data.dropna(axis=1).sort_values(by='avg_salary')\n",
    "fig = px.bar(fig_data,labels={\n",
    "    \"state\": \"State\", \n",
    "    \"value\":\"Average Salary\"\n",
    "    })\n",
    "fig.show()"
   ]
  }
 ],
 "metadata": {
  "kernelspec": {
   "display_name": "Python 3 (ipykernel)",
   "language": "python",
   "name": "python3"
  },
  "language_info": {
   "codemirror_mode": {
    "name": "ipython",
    "version": 3
   },
   "file_extension": ".py",
   "mimetype": "text/x-python",
   "name": "python",
   "nbconvert_exporter": "python",
   "pygments_lexer": "ipython3",
   "version": "3.12.3"
  }
 },
 "nbformat": 4,
 "nbformat_minor": 5
}
