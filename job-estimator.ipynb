{
 "cells": [
  {
   "cell_type": "markdown",
   "id": "727b38e3-4bf1-469b-bbdf-1c3b01079f22",
   "metadata": {},
   "source": [
    "# Salary estimator from listings"
   ]
  },
  {
   "cell_type": "markdown",
   "id": "c608e48e",
   "metadata": {},
   "source": [
    "The city_state.json file was modified from this github repo [agalea91 - city_to_state_dictionary](https://github.com/agalea91/city_to_state_dictionary/blob/master/city_to_state.py).\n",
    "\n",
    "The state_abbr.json file was modified from this github repo [JeffPaine - us_state_abbreviations.py](https://gist.github.com/JeffPaine/3083347).\n",
    "\n",
    "The job posting dataset can be found on Kaggle [LinkedIn Job Postings (2023 - 2024)](https://www.kaggle.com/datasets/arshkon/linkedin-job-postings)"
   ]
  },
  {
   "cell_type": "markdown",
   "id": "ddaaa672-a66a-449e-acaa-c9f995ec1ef6",
   "metadata": {},
   "source": [
    "## Setup"
   ]
  },
  {
   "cell_type": "code",
   "execution_count": 83,
   "id": "a3e0ae1b",
   "metadata": {},
   "outputs": [],
   "source": [
    "%%capture\n",
    "%pip install pandas xgboost scikit-learn plotly gensim #swifter\n",
    "print('')"
   ]
  },
  {
   "cell_type": "markdown",
   "id": "9a5ffcbf-6ac8-46c6-92b2-446fc546a08d",
   "metadata": {},
   "source": [
    "First we must import our packages to manage the dataset. Then we can import the data."
   ]
  },
  {
   "cell_type": "markdown",
   "id": "1e044b65-ce26-48fa-a2fa-e8e0f7ff831c",
   "metadata": {},
   "source": [
    "## Setup\n",
    "Import the many packages"
   ]
  },
  {
   "cell_type": "code",
   "execution_count": 84,
   "id": "335c66c8-11a7-422b-a512-baa3ff106c6b",
   "metadata": {},
   "outputs": [],
   "source": [
    "import pandas as pd\n",
    "import numpy as np\n",
    "import plotly.graph_objects as go\n",
    "from plotly.subplots import make_subplots\n",
    "from importlib import reload\n",
    "from IPython.display import HTML, display\n",
    "from data import DataManager\n",
    "from wordmod import Job2Vec\n",
    "from catword import Categorizer\n",
    "\n",
    "def load_scripts():\n",
    "    reload(DataManager)\n",
    "    reload(Job2Vec)\n",
    "    reload(Categorizer)\n",
    "    return (DataManager, Job2Vec, Categorizer)\n",
    "\n",
    "# (DataManager, Job2Vec, Categorizer) = load_scripts()"
   ]
  },
  {
   "cell_type": "markdown",
   "id": "5d8261e7",
   "metadata": {},
   "source": [
    "Extract the job posting data from the CSV and clean it."
   ]
  },
  {
   "cell_type": "code",
   "execution_count": 85,
   "id": "d8fd8abb",
   "metadata": {},
   "outputs": [
    {
     "name": "stdout",
     "output_type": "stream",
     "text": [
      "Retrieving an existing dataset at c:\\dev\\job-estimator/archive/clean_postings.bin\n",
      "<class 'pandas.core.frame.DataFrame'>\n",
      "RangeIndex: 123849 entries, 0 to 123848\n",
      "Data columns (total 17 columns):\n",
      " #   Column                      Non-Null Count   Dtype  \n",
      "---  ------                      --------------   -----  \n",
      " 0   job_id                      123849 non-null  int64  \n",
      " 1   company_name                122130 non-null  object \n",
      " 2   title                       123849 non-null  object \n",
      " 3   description                 123842 non-null  object \n",
      " 4   max_salary                  29417 non-null   float64\n",
      " 5   pay_period                  36073 non-null   object \n",
      " 6   location                    123849 non-null  object \n",
      " 7   company_id                  122132 non-null  float64\n",
      " 8   med_salary                  6199 non-null    float64\n",
      " 9   min_salary                  29369 non-null   float64\n",
      " 10  formatted_work_type         123849 non-null  object \n",
      " 11  formatted_experience_level  94440 non-null   object \n",
      " 12  skills_desc                 2439 non-null    object \n",
      " 13  work_type                   123849 non-null  object \n",
      " 14  currency                    36073 non-null   object \n",
      " 15  state                       111739 non-null  object \n",
      " 16  avg_salary                  35618 non-null   float64\n",
      "dtypes: float64(5), int64(1), object(11)\n",
      "memory usage: 16.1+ MB\n",
      "None\n"
     ]
    },
    {
     "data": {
      "text/html": [
       "<table border=\"1\" class=\"dataframe\">\n",
       "  <thead>\n",
       "    <tr style=\"text-align: right;\">\n",
       "      <th></th>\n",
       "      <th>job_id</th>\n",
       "      <th>company_name</th>\n",
       "      <th>title</th>\n",
       "      <th>description</th>\n",
       "      <th>max_salary</th>\n",
       "      <th>pay_period</th>\n",
       "      <th>location</th>\n",
       "      <th>company_id</th>\n",
       "      <th>med_salary</th>\n",
       "      <th>min_salary</th>\n",
       "      <th>formatted_work_type</th>\n",
       "      <th>formatted_experience_level</th>\n",
       "      <th>skills_desc</th>\n",
       "      <th>work_type</th>\n",
       "      <th>currency</th>\n",
       "      <th>state</th>\n",
       "      <th>avg_salary</th>\n",
       "    </tr>\n",
       "  </thead>\n",
       "  <tbody>\n",
       "    <tr>\n",
       "      <th>0</th>\n",
       "      <td>921716</td>\n",
       "      <td>Corcoran Sawyer Smith</td>\n",
       "      <td>Marketing Coordinator</td>\n",
       "      <td>Job descriptionA leading real estate firm in New Jersey is seeking an administrative Marketing Coordinator with some experience in graphic design. You...</td>\n",
       "      <td>38798.991928</td>\n",
       "      <td>HOURLY</td>\n",
       "      <td>Princeton, NJ</td>\n",
       "      <td>2774458.0</td>\n",
       "      <td>NaN</td>\n",
       "      <td>32979.143139</td>\n",
       "      <td>Full-time</td>\n",
       "      <td>NaN</td>\n",
       "      <td>Requirements: \\n\\nWe are seeking a College or Graduate Student (can also be completed with school) with a focus in Planning, Architecture, Real Estate D...</td>\n",
       "      <td>FULL_TIME</td>\n",
       "      <td>USD</td>\n",
       "      <td>NJ</td>\n",
       "      <td>35889.067533</td>\n",
       "    </tr>\n",
       "    <tr>\n",
       "      <th>1</th>\n",
       "      <td>1829192</td>\n",
       "      <td>NaN</td>\n",
       "      <td>Mental Health Therapist/Counselor</td>\n",
       "      <td>At Aspen Therapy and Wellness , we are committed to serving clients with best practices to help them with change, improvements and better quality of l...</td>\n",
       "      <td>96997.479820</td>\n",
       "      <td>HOURLY</td>\n",
       "      <td>Fort Collins, CO</td>\n",
       "      <td>NaN</td>\n",
       "      <td>NaN</td>\n",
       "      <td>58198.487892</td>\n",
       "      <td>Full-time</td>\n",
       "      <td>NaN</td>\n",
       "      <td>NaN</td>\n",
       "      <td>FULL_TIME</td>\n",
       "      <td>USD</td>\n",
       "      <td>CO</td>\n",
       "      <td>77597.983856</td>\n",
       "    </tr>\n",
       "    <tr>\n",
       "      <th>2</th>\n",
       "      <td>10998357</td>\n",
       "      <td>The National Exemplar</td>\n",
       "      <td>Assitant Restaurant Manager</td>\n",
       "      <td>The National Exemplar is accepting applications for an Assistant Restaurant Manager.\\nWe offer highly competitive wages, healthcare, paid time off, com...</td>\n",
       "      <td>65000.000000</td>\n",
       "      <td>YEARLY</td>\n",
       "      <td>Cincinnati, OH</td>\n",
       "      <td>64896719.0</td>\n",
       "      <td>NaN</td>\n",
       "      <td>45000.000000</td>\n",
       "      <td>Full-time</td>\n",
       "      <td>NaN</td>\n",
       "      <td>We are currently accepting resumes for FOH - Asisstant Restaurant Management with a strong focus on delivering high quality customer service. Prefer 1...</td>\n",
       "      <td>FULL_TIME</td>\n",
       "      <td>USD</td>\n",
       "      <td>OH</td>\n",
       "      <td>55000.000000</td>\n",
       "    </tr>\n",
       "  </tbody>\n",
       "</table>"
      ],
      "text/plain": [
       "<IPython.core.display.HTML object>"
      ]
     },
     "metadata": {},
     "output_type": "display_data"
    }
   ],
   "source": [
    "dm = DataManager()\n",
    "df = dm.get_postings().copy()\n",
    "\n",
    "print(df.info())\n",
    "\n",
    "def shorten_long_cols(row):\n",
    "    for name in ['description','skills_desc']:\n",
    "        if isinstance(row[name], str):\n",
    "            row[name] = row[name][:150] + '...' \n",
    "    return row\n",
    "\n",
    "display(HTML(df.head(3).apply(shorten_long_cols, axis=1).to_html()))\n"
   ]
  },
  {
   "cell_type": "markdown",
   "id": "a1278f83",
   "metadata": {},
   "source": [
    "### Create a statistical summary of the data."
   ]
  },
  {
   "cell_type": "code",
   "execution_count": 86,
   "id": "4078bb05",
   "metadata": {},
   "outputs": [
    {
     "name": "stdout",
     "output_type": "stream",
     "text": [
      "YEARLY\n"
     ]
    },
    {
     "data": {
      "text/html": [
       "<style type=\"text/css\">\n",
       "</style>\n",
       "<table id=\"T_ab9d0\">\n",
       "  <thead>\n",
       "    <tr>\n",
       "      <th class=\"blank level0\" >&nbsp;</th>\n",
       "      <th id=\"T_ab9d0_level0_col0\" class=\"col_heading level0 col0\" >max_salary</th>\n",
       "      <th id=\"T_ab9d0_level0_col1\" class=\"col_heading level0 col1\" >med_salary</th>\n",
       "      <th id=\"T_ab9d0_level0_col2\" class=\"col_heading level0 col2\" >min_salary</th>\n",
       "    </tr>\n",
       "  </thead>\n",
       "  <tbody>\n",
       "    <tr>\n",
       "      <th id=\"T_ab9d0_level0_row0\" class=\"row_heading level0 row0\" >count</th>\n",
       "      <td id=\"T_ab9d0_row0_col0\" class=\"data row0 col0\" >18,736</td>\n",
       "      <td id=\"T_ab9d0_row0_col1\" class=\"data row0 col1\" >1,451</td>\n",
       "      <td id=\"T_ab9d0_row0_col2\" class=\"data row0 col2\" >18,701</td>\n",
       "    </tr>\n",
       "    <tr>\n",
       "      <th id=\"T_ab9d0_level0_row1\" class=\"row_heading level0 row1\" >mean</th>\n",
       "      <td id=\"T_ab9d0_row1_col0\" class=\"data row1 col0\" >139,481</td>\n",
       "      <td id=\"T_ab9d0_row1_col1\" class=\"data row1 col1\" >84,890</td>\n",
       "      <td id=\"T_ab9d0_row1_col2\" class=\"data row1 col2\" >98,622</td>\n",
       "    </tr>\n",
       "    <tr>\n",
       "      <th id=\"T_ab9d0_level0_row2\" class=\"row_heading level0 row2\" >std</th>\n",
       "      <td id=\"T_ab9d0_row2_col0\" class=\"data row2 col0\" >83,751</td>\n",
       "      <td id=\"T_ab9d0_row2_col1\" class=\"data row2 col1\" >46,189</td>\n",
       "      <td id=\"T_ab9d0_row2_col2\" class=\"data row2 col2\" >50,106</td>\n",
       "    </tr>\n",
       "    <tr>\n",
       "      <th id=\"T_ab9d0_level0_row3\" class=\"row_heading level0 row3\" >min</th>\n",
       "      <td id=\"T_ab9d0_row3_col0\" class=\"data row3 col0\" >12,000</td>\n",
       "      <td id=\"T_ab9d0_row3_col1\" class=\"data row3 col1\" >10,000</td>\n",
       "      <td id=\"T_ab9d0_row3_col2\" class=\"data row3 col2\" >10,000</td>\n",
       "    </tr>\n",
       "    <tr>\n",
       "      <th id=\"T_ab9d0_level0_row4\" class=\"row_heading level0 row4\" >25%</th>\n",
       "      <td id=\"T_ab9d0_row4_col0\" class=\"data row4 col0\" >85,000</td>\n",
       "      <td id=\"T_ab9d0_row4_col1\" class=\"data row4 col1\" >54,000</td>\n",
       "      <td id=\"T_ab9d0_row4_col2\" class=\"data row4 col2\" >65,000</td>\n",
       "    </tr>\n",
       "    <tr>\n",
       "      <th id=\"T_ab9d0_level0_row5\" class=\"row_heading level0 row5\" >50%</th>\n",
       "      <td id=\"T_ab9d0_row5_col0\" class=\"data row5 col0\" >120,000</td>\n",
       "      <td id=\"T_ab9d0_row5_col1\" class=\"data row5 col1\" >72,000</td>\n",
       "      <td id=\"T_ab9d0_row5_col2\" class=\"data row5 col2\" >89,250</td>\n",
       "    </tr>\n",
       "    <tr>\n",
       "      <th id=\"T_ab9d0_level0_row6\" class=\"row_heading level0 row6\" >75%</th>\n",
       "      <td id=\"T_ab9d0_row6_col0\" class=\"data row6 col0\" >170,000</td>\n",
       "      <td id=\"T_ab9d0_row6_col1\" class=\"data row6 col1\" >105,400</td>\n",
       "      <td id=\"T_ab9d0_row6_col2\" class=\"data row6 col2\" >120,000</td>\n",
       "    </tr>\n",
       "    <tr>\n",
       "      <th id=\"T_ab9d0_level0_row7\" class=\"row_heading level0 row7\" >max</th>\n",
       "      <td id=\"T_ab9d0_row7_col0\" class=\"data row7 col0\" >1,500,000</td>\n",
       "      <td id=\"T_ab9d0_row7_col1\" class=\"data row7 col1\" >300,500</td>\n",
       "      <td id=\"T_ab9d0_row7_col2\" class=\"data row7 col2\" >750,000</td>\n",
       "    </tr>\n",
       "  </tbody>\n",
       "</table>\n"
      ],
      "text/plain": [
       "<IPython.core.display.HTML object>"
      ]
     },
     "metadata": {},
     "output_type": "display_data"
    },
    {
     "name": "stdout",
     "output_type": "stream",
     "text": [
      "MONTHLY\n"
     ]
    },
    {
     "data": {
      "text/html": [
       "<style type=\"text/css\">\n",
       "</style>\n",
       "<table id=\"T_c50ea\">\n",
       "  <thead>\n",
       "    <tr>\n",
       "      <th class=\"blank level0\" >&nbsp;</th>\n",
       "      <th id=\"T_c50ea_level0_col0\" class=\"col_heading level0 col0\" >max_salary</th>\n",
       "      <th id=\"T_c50ea_level0_col1\" class=\"col_heading level0 col1\" >med_salary</th>\n",
       "      <th id=\"T_c50ea_level0_col2\" class=\"col_heading level0 col2\" >min_salary</th>\n",
       "    </tr>\n",
       "  </thead>\n",
       "  <tbody>\n",
       "    <tr>\n",
       "      <th id=\"T_c50ea_level0_row0\" class=\"row_heading level0 row0\" >count</th>\n",
       "      <td id=\"T_c50ea_row0_col0\" class=\"data row0 col0\" >285</td>\n",
       "      <td id=\"T_c50ea_row0_col1\" class=\"data row0 col1\" >224</td>\n",
       "      <td id=\"T_c50ea_row0_col2\" class=\"data row0 col2\" >277</td>\n",
       "    </tr>\n",
       "    <tr>\n",
       "      <th id=\"T_c50ea_level0_row1\" class=\"row_heading level0 row1\" >mean</th>\n",
       "      <td id=\"T_c50ea_row1_col0\" class=\"data row1 col0\" >103,996</td>\n",
       "      <td id=\"T_c50ea_row1_col1\" class=\"data row1 col1\" >36,286</td>\n",
       "      <td id=\"T_c50ea_row1_col2\" class=\"data row1 col2\" >73,636</td>\n",
       "    </tr>\n",
       "    <tr>\n",
       "      <th id=\"T_c50ea_level0_row2\" class=\"row_heading level0 row2\" >std</th>\n",
       "      <td id=\"T_c50ea_row2_col0\" class=\"data row2 col0\" >107,141</td>\n",
       "      <td id=\"T_c50ea_row2_col1\" class=\"data row2 col1\" >26,630</td>\n",
       "      <td id=\"T_c50ea_row2_col2\" class=\"data row2 col2\" >77,116</td>\n",
       "    </tr>\n",
       "    <tr>\n",
       "      <th id=\"T_c50ea_level0_row3\" class=\"row_heading level0 row3\" >min</th>\n",
       "      <td id=\"T_c50ea_row3_col0\" class=\"data row3 col0\" >12,000</td>\n",
       "      <td id=\"T_c50ea_row3_col1\" class=\"data row3 col1\" >12,000</td>\n",
       "      <td id=\"T_c50ea_row3_col2\" class=\"data row3 col2\" >12,000</td>\n",
       "    </tr>\n",
       "    <tr>\n",
       "      <th id=\"T_c50ea_level0_row4\" class=\"row_heading level0 row4\" >25%</th>\n",
       "      <td id=\"T_c50ea_row4_col0\" class=\"data row4 col0\" >66,996</td>\n",
       "      <td id=\"T_c50ea_row4_col1\" class=\"data row4 col1\" >25,398</td>\n",
       "      <td id=\"T_c50ea_row4_col2\" class=\"data row4 col2\" >45,864</td>\n",
       "    </tr>\n",
       "    <tr>\n",
       "      <th id=\"T_c50ea_level0_row5\" class=\"row_heading level0 row5\" >50%</th>\n",
       "      <td id=\"T_c50ea_row5_col0\" class=\"data row5 col0\" >89,364</td>\n",
       "      <td id=\"T_c50ea_row5_col1\" class=\"data row5 col1\" >28,716</td>\n",
       "      <td id=\"T_c50ea_row5_col2\" class=\"data row5 col2\" >68,208</td>\n",
       "    </tr>\n",
       "    <tr>\n",
       "      <th id=\"T_c50ea_level0_row6\" class=\"row_heading level0 row6\" >75%</th>\n",
       "      <td id=\"T_c50ea_row6_col0\" class=\"data row6 col0\" >119,184</td>\n",
       "      <td id=\"T_c50ea_row6_col1\" class=\"data row6 col1\" >36,000</td>\n",
       "      <td id=\"T_c50ea_row6_col2\" class=\"data row6 col2\" >81,120</td>\n",
       "    </tr>\n",
       "    <tr>\n",
       "      <th id=\"T_c50ea_level0_row7\" class=\"row_heading level0 row7\" >max</th>\n",
       "      <td id=\"T_c50ea_row7_col0\" class=\"data row7 col0\" >1,320,000</td>\n",
       "      <td id=\"T_c50ea_row7_col1\" class=\"data row7 col1\" >300,000</td>\n",
       "      <td id=\"T_c50ea_row7_col2\" class=\"data row7 col2\" >1,080,000</td>\n",
       "    </tr>\n",
       "  </tbody>\n",
       "</table>\n"
      ],
      "text/plain": [
       "<IPython.core.display.HTML object>"
      ]
     },
     "metadata": {},
     "output_type": "display_data"
    },
    {
     "name": "stdout",
     "output_type": "stream",
     "text": [
      "BIWEEKLY\n"
     ]
    },
    {
     "data": {
      "text/html": [
       "<style type=\"text/css\">\n",
       "</style>\n",
       "<table id=\"T_8444f\">\n",
       "  <thead>\n",
       "    <tr>\n",
       "      <th class=\"blank level0\" >&nbsp;</th>\n",
       "      <th id=\"T_8444f_level0_col0\" class=\"col_heading level0 col0\" >max_salary</th>\n",
       "      <th id=\"T_8444f_level0_col1\" class=\"col_heading level0 col1\" >med_salary</th>\n",
       "      <th id=\"T_8444f_level0_col2\" class=\"col_heading level0 col2\" >min_salary</th>\n",
       "    </tr>\n",
       "  </thead>\n",
       "  <tbody>\n",
       "    <tr>\n",
       "      <th id=\"T_8444f_level0_row0\" class=\"row_heading level0 row0\" >count</th>\n",
       "      <td id=\"T_8444f_row0_col0\" class=\"data row0 col0\" >9</td>\n",
       "      <td id=\"T_8444f_row0_col1\" class=\"data row0 col1\" >0</td>\n",
       "      <td id=\"T_8444f_row0_col2\" class=\"data row0 col2\" >9</td>\n",
       "    </tr>\n",
       "    <tr>\n",
       "      <th id=\"T_8444f_level0_row1\" class=\"row_heading level0 row1\" >mean</th>\n",
       "      <td id=\"T_8444f_row1_col0\" class=\"data row1 col0\" >74,550</td>\n",
       "      <td id=\"T_8444f_row1_col1\" class=\"data row1 col1\" >nan</td>\n",
       "      <td id=\"T_8444f_row1_col2\" class=\"data row1 col2\" >60,370</td>\n",
       "    </tr>\n",
       "    <tr>\n",
       "      <th id=\"T_8444f_level0_row2\" class=\"row_heading level0 row2\" >std</th>\n",
       "      <td id=\"T_8444f_row2_col0\" class=\"data row2 col0\" >14,119</td>\n",
       "      <td id=\"T_8444f_row2_col1\" class=\"data row2 col1\" >nan</td>\n",
       "      <td id=\"T_8444f_row2_col2\" class=\"data row2 col2\" >6,909</td>\n",
       "    </tr>\n",
       "    <tr>\n",
       "      <th id=\"T_8444f_level0_row3\" class=\"row_heading level0 row3\" >min</th>\n",
       "      <td id=\"T_8444f_row3_col0\" class=\"data row3 col0\" >53,482</td>\n",
       "      <td id=\"T_8444f_row3_col1\" class=\"data row3 col1\" >nan</td>\n",
       "      <td id=\"T_8444f_row3_col2\" class=\"data row3 col2\" >53,482</td>\n",
       "    </tr>\n",
       "    <tr>\n",
       "      <th id=\"T_8444f_level0_row4\" class=\"row_heading level0 row4\" >25%</th>\n",
       "      <td id=\"T_8444f_row4_col0\" class=\"data row4 col0\" >66,976</td>\n",
       "      <td id=\"T_8444f_row4_col1\" class=\"data row4 col1\" >nan</td>\n",
       "      <td id=\"T_8444f_row4_col2\" class=\"data row4 col2\" >54,009</td>\n",
       "    </tr>\n",
       "    <tr>\n",
       "      <th id=\"T_8444f_level0_row5\" class=\"row_heading level0 row5\" >50%</th>\n",
       "      <td id=\"T_8444f_row5_col0\" class=\"data row5 col0\" >81,434</td>\n",
       "      <td id=\"T_8444f_row5_col1\" class=\"data row5 col1\" >nan</td>\n",
       "      <td id=\"T_8444f_row5_col2\" class=\"data row5 col2\" >58,370</td>\n",
       "    </tr>\n",
       "    <tr>\n",
       "      <th id=\"T_8444f_level0_row6\" class=\"row_heading level0 row6\" >75%</th>\n",
       "      <td id=\"T_8444f_row6_col0\" class=\"data row6 col0\" >87,516</td>\n",
       "      <td id=\"T_8444f_row6_col1\" class=\"data row6 col1\" >nan</td>\n",
       "      <td id=\"T_8444f_row6_col2\" class=\"data row6 col2\" >64,519</td>\n",
       "    </tr>\n",
       "    <tr>\n",
       "      <th id=\"T_8444f_level0_row7\" class=\"row_heading level0 row7\" >max</th>\n",
       "      <td id=\"T_8444f_row7_col0\" class=\"data row7 col0\" >89,965</td>\n",
       "      <td id=\"T_8444f_row7_col1\" class=\"data row7 col1\" >nan</td>\n",
       "      <td id=\"T_8444f_row7_col2\" class=\"data row7 col2\" >71,323</td>\n",
       "    </tr>\n",
       "  </tbody>\n",
       "</table>\n"
      ],
      "text/plain": [
       "<IPython.core.display.HTML object>"
      ]
     },
     "metadata": {},
     "output_type": "display_data"
    },
    {
     "name": "stdout",
     "output_type": "stream",
     "text": [
      "WEEKLY\n"
     ]
    },
    {
     "data": {
      "text/html": [
       "<style type=\"text/css\">\n",
       "</style>\n",
       "<table id=\"T_ed267\">\n",
       "  <thead>\n",
       "    <tr>\n",
       "      <th class=\"blank level0\" >&nbsp;</th>\n",
       "      <th id=\"T_ed267_level0_col0\" class=\"col_heading level0 col0\" >max_salary</th>\n",
       "      <th id=\"T_ed267_level0_col1\" class=\"col_heading level0 col1\" >med_salary</th>\n",
       "      <th id=\"T_ed267_level0_col2\" class=\"col_heading level0 col2\" >min_salary</th>\n",
       "    </tr>\n",
       "  </thead>\n",
       "  <tbody>\n",
       "    <tr>\n",
       "      <th id=\"T_ed267_level0_row0\" class=\"row_heading level0 row0\" >count</th>\n",
       "      <td id=\"T_ed267_row0_col0\" class=\"data row0 col0\" >177</td>\n",
       "      <td id=\"T_ed267_row0_col1\" class=\"data row0 col1\" >0</td>\n",
       "      <td id=\"T_ed267_row0_col2\" class=\"data row0 col2\" >177</td>\n",
       "    </tr>\n",
       "    <tr>\n",
       "      <th id=\"T_ed267_level0_row1\" class=\"row_heading level0 row1\" >mean</th>\n",
       "      <td id=\"T_ed267_row1_col0\" class=\"data row1 col0\" >111,668</td>\n",
       "      <td id=\"T_ed267_row1_col1\" class=\"data row1 col1\" >nan</td>\n",
       "      <td id=\"T_ed267_row1_col2\" class=\"data row1 col2\" >111,452</td>\n",
       "    </tr>\n",
       "    <tr>\n",
       "      <th id=\"T_ed267_level0_row2\" class=\"row_heading level0 row2\" >std</th>\n",
       "      <td id=\"T_ed267_row2_col0\" class=\"data row2 col0\" >21,408</td>\n",
       "      <td id=\"T_ed267_row2_col1\" class=\"data row2 col1\" >nan</td>\n",
       "      <td id=\"T_ed267_row2_col2\" class=\"data row2 col2\" >21,370</td>\n",
       "    </tr>\n",
       "    <tr>\n",
       "      <th id=\"T_ed267_level0_row3\" class=\"row_heading level0 row3\" >min</th>\n",
       "      <td id=\"T_ed267_row3_col0\" class=\"data row3 col0\" >50,804</td>\n",
       "      <td id=\"T_ed267_row3_col1\" class=\"data row3 col1\" >nan</td>\n",
       "      <td id=\"T_ed267_row3_col2\" class=\"data row3 col2\" >50,804</td>\n",
       "    </tr>\n",
       "    <tr>\n",
       "      <th id=\"T_ed267_level0_row4\" class=\"row_heading level0 row4\" >25%</th>\n",
       "      <td id=\"T_ed267_row4_col0\" class=\"data row4 col0\" >100,360</td>\n",
       "      <td id=\"T_ed267_row4_col1\" class=\"data row4 col1\" >nan</td>\n",
       "      <td id=\"T_ed267_row4_col2\" class=\"data row4 col2\" >99,684</td>\n",
       "    </tr>\n",
       "    <tr>\n",
       "      <th id=\"T_ed267_level0_row5\" class=\"row_heading level0 row5\" >50%</th>\n",
       "      <td id=\"T_ed267_row5_col0\" class=\"data row5 col0\" >109,148</td>\n",
       "      <td id=\"T_ed267_row5_col1\" class=\"data row5 col1\" >nan</td>\n",
       "      <td id=\"T_ed267_row5_col2\" class=\"data row5 col2\" >109,148</td>\n",
       "    </tr>\n",
       "    <tr>\n",
       "      <th id=\"T_ed267_level0_row6\" class=\"row_heading level0 row6\" >75%</th>\n",
       "      <td id=\"T_ed267_row6_col0\" class=\"data row6 col0\" >119,658</td>\n",
       "      <td id=\"T_ed267_row6_col1\" class=\"data row6 col1\" >nan</td>\n",
       "      <td id=\"T_ed267_row6_col2\" class=\"data row6 col2\" >119,658</td>\n",
       "    </tr>\n",
       "    <tr>\n",
       "      <th id=\"T_ed267_level0_row7\" class=\"row_heading level0 row7\" >max</th>\n",
       "      <td id=\"T_ed267_row7_col0\" class=\"data row7 col0\" >210,548</td>\n",
       "      <td id=\"T_ed267_row7_col1\" class=\"data row7 col1\" >nan</td>\n",
       "      <td id=\"T_ed267_row7_col2\" class=\"data row7 col2\" >210,548</td>\n",
       "    </tr>\n",
       "  </tbody>\n",
       "</table>\n"
      ],
      "text/plain": [
       "<IPython.core.display.HTML object>"
      ]
     },
     "metadata": {},
     "output_type": "display_data"
    },
    {
     "name": "stdout",
     "output_type": "stream",
     "text": [
      "HOURLY\n"
     ]
    },
    {
     "data": {
      "text/html": [
       "<style type=\"text/css\">\n",
       "</style>\n",
       "<table id=\"T_1af79\">\n",
       "  <thead>\n",
       "    <tr>\n",
       "      <th class=\"blank level0\" >&nbsp;</th>\n",
       "      <th id=\"T_1af79_level0_col0\" class=\"col_heading level0 col0\" >max_salary</th>\n",
       "      <th id=\"T_1af79_level0_col1\" class=\"col_heading level0 col1\" >med_salary</th>\n",
       "      <th id=\"T_1af79_level0_col2\" class=\"col_heading level0 col2\" >min_salary</th>\n",
       "    </tr>\n",
       "  </thead>\n",
       "  <tbody>\n",
       "    <tr>\n",
       "      <th id=\"T_1af79_level0_row0\" class=\"row_heading level0 row0\" >count</th>\n",
       "      <td id=\"T_1af79_row0_col0\" class=\"data row0 col0\" >10,210</td>\n",
       "      <td id=\"T_1af79_row0_col1\" class=\"data row0 col1\" >4,524</td>\n",
       "      <td id=\"T_1af79_row0_col2\" class=\"data row0 col2\" >10,205</td>\n",
       "    </tr>\n",
       "    <tr>\n",
       "      <th id=\"T_1af79_level0_row1\" class=\"row_heading level0 row1\" >mean</th>\n",
       "      <td id=\"T_1af79_row1_col0\" class=\"data row1 col0\" >74,286</td>\n",
       "      <td id=\"T_1af79_row1_col1\" class=\"data row1 col1\" >49,051</td>\n",
       "      <td id=\"T_1af79_row1_col2\" class=\"data row1 col2\" >59,137</td>\n",
       "    </tr>\n",
       "    <tr>\n",
       "      <th id=\"T_1af79_level0_row2\" class=\"row_heading level0 row2\" >std</th>\n",
       "      <td id=\"T_1af79_row2_col0\" class=\"data row2 col0\" >47,162</td>\n",
       "      <td id=\"T_1af79_row2_col1\" class=\"data row2 col1\" >32,504</td>\n",
       "      <td id=\"T_1af79_row2_col2\" class=\"data row2 col2\" >38,183</td>\n",
       "    </tr>\n",
       "    <tr>\n",
       "      <th id=\"T_1af79_level0_row3\" class=\"row_heading level0 row3\" >min</th>\n",
       "      <td id=\"T_1af79_row3_col0\" class=\"data row3 col0\" >10,335</td>\n",
       "      <td id=\"T_1af79_row3_col1\" class=\"data row3 col1\" >10,335</td>\n",
       "      <td id=\"T_1af79_row3_col2\" class=\"data row3 col2\" >10,100</td>\n",
       "    </tr>\n",
       "    <tr>\n",
       "      <th id=\"T_1af79_level0_row4\" class=\"row_heading level0 row4\" >25%</th>\n",
       "      <td id=\"T_1af79_row4_col0\" class=\"data row4 col0\" >42,679</td>\n",
       "      <td id=\"T_1af79_row4_col1\" class=\"data row4 col1\" >31,621</td>\n",
       "      <td id=\"T_1af79_row4_col2\" class=\"data row4 col2\" >34,919</td>\n",
       "    </tr>\n",
       "    <tr>\n",
       "      <th id=\"T_1af79_level0_row5\" class=\"row_heading level0 row5\" >50%</th>\n",
       "      <td id=\"T_1af79_row5_col0\" class=\"data row5 col0\" >58,354</td>\n",
       "      <td id=\"T_1af79_row5_col1\" class=\"data row5 col1\" >38,838</td>\n",
       "      <td id=\"T_1af79_row5_col2\" class=\"data row5 col2\" >46,559</td>\n",
       "    </tr>\n",
       "    <tr>\n",
       "      <th id=\"T_1af79_level0_row6\" class=\"row_heading level0 row6\" >75%</th>\n",
       "      <td id=\"T_1af79_row6_col0\" class=\"data row6 col0\" >96,997</td>\n",
       "      <td id=\"T_1af79_row6_col1\" class=\"data row6 col1\" >54,319</td>\n",
       "      <td id=\"T_1af79_row6_col2\" class=\"data row6 col2\" >77,598</td>\n",
       "    </tr>\n",
       "    <tr>\n",
       "      <th id=\"T_1af79_level0_row7\" class=\"row_heading level0 row7\" >max</th>\n",
       "      <td id=\"T_1af79_row7_col0\" class=\"data row7 col0\" >581,985</td>\n",
       "      <td id=\"T_1af79_row7_col1\" class=\"data row7 col1\" >288,994</td>\n",
       "      <td id=\"T_1af79_row7_col2\" class=\"data row7 col2\" >484,987</td>\n",
       "    </tr>\n",
       "  </tbody>\n",
       "</table>\n"
      ],
      "text/plain": [
       "<IPython.core.display.HTML object>"
      ]
     },
     "metadata": {},
     "output_type": "display_data"
    }
   ],
   "source": [
    "pay_period_types = ['YEARLY','MONTHLY', 'BIWEEKLY', 'WEEKLY', 'HOURLY']\n",
    "    \n",
    "pay_cols = ['max_salary','med_salary','min_salary']\n",
    "for pay_period in pay_period_types:\n",
    "    pay_period_df = df.loc[df['pay_period']==pay_period, pay_cols]\n",
    "    print(pay_period)\n",
    "    display(HTML(pay_period_df.describe().style.format(precision=0,thousands=\",\").to_html()))    \n"
   ]
  },
  {
   "cell_type": "markdown",
   "id": "b5b9eeb0",
   "metadata": {},
   "source": [
    "### Display a bar graph of average salaries by state."
   ]
  },
  {
   "cell_type": "code",
   "execution_count": 87,
   "id": "f392e00c",
   "metadata": {},
   "outputs": [
    {
     "name": "stdout",
     "output_type": "stream",
     "text": [
      "Dropping rows where every pay column is empty.\n"
     ]
    },
    {
     "data": {
      "application/vnd.plotly.v1+json": {
       "config": {
        "plotlyServerURL": "https://plot.ly"
       },
       "data": [
        {
         "name": "Average Salary",
         "type": "bar",
         "x": [
          "MT",
          "KY",
          "KS",
          "MS",
          "ME",
          "OK",
          "HI",
          "VT",
          "SD",
          "NE",
          "AR",
          "ND",
          "NH",
          "IA",
          "ID",
          "UT",
          "SC",
          "MO",
          "MI",
          "IN",
          "TN",
          "WY",
          "AL",
          "NM",
          "WI",
          "NV",
          "OH",
          "MN",
          "LA",
          "RI",
          "AZ",
          "FL",
          "CO",
          "WV",
          "PA",
          "OR",
          "NC",
          "TX",
          "MD",
          "DE",
          "GA",
          "CT",
          "IL",
          "NJ",
          "VA",
          "MA",
          "AK",
          "WA",
          "CA",
          "NY",
          "DC"
         ],
         "xaxis": "x",
         "y": [
          63413.280990208565,
          64835.21500536886,
          64858.385318038905,
          64934.014857270464,
          65758.32421231385,
          66316.17964972906,
          66675.66581185712,
          67111.35838391111,
          67130.41888925454,
          67432.56278752822,
          67932.81411373446,
          68061.38598756133,
          68111.48266412843,
          68513.87290590882,
          68584.06625415605,
          69408.0710783261,
          69706.48435701549,
          71089.42066407007,
          71394.0140401065,
          71965.67529726827,
          73177.60295666663,
          73561.48281215489,
          74139.4875884158,
          74752.62355435082,
          75569.71426468312,
          77293.77411627935,
          77422.2324686089,
          77492.79069700814,
          78210.41645977524,
          78775.95310064632,
          79088.24977148153,
          80113.6814679153,
          80966.86620208218,
          81370.44302521061,
          81680.81472107256,
          83364.43814745698,
          87068.69052657622,
          88920.0405946683,
          89982.18449653324,
          90001.59667941964,
          90370.18587389759,
          92399.71331215015,
          94681.72010889987,
          95234.20854448092,
          95960.02356815831,
          99777.29632967805,
          100065.21500902936,
          100325.71940221124,
          102839.83972326865,
          106787.0757470461,
          107875.96734405767
         ],
         "yaxis": "y"
        },
        {
         "name": "Sample Size",
         "type": "scatter",
         "x": [
          "MT",
          "KY",
          "KS",
          "MS",
          "ME",
          "OK",
          "HI",
          "VT",
          "SD",
          "NE",
          "AR",
          "ND",
          "NH",
          "IA",
          "ID",
          "UT",
          "SC",
          "MO",
          "MI",
          "IN",
          "TN",
          "WY",
          "AL",
          "NM",
          "WI",
          "NV",
          "OH",
          "MN",
          "LA",
          "RI",
          "AZ",
          "FL",
          "CO",
          "WV",
          "PA",
          "OR",
          "NC",
          "TX",
          "MD",
          "DE",
          "GA",
          "CT",
          "IL",
          "NJ",
          "VA",
          "MA",
          "AK",
          "WA",
          "CA",
          "NY",
          "DC"
         ],
         "xaxis": "x",
         "y": [
          68,
          296,
          240,
          64,
          101,
          193,
          173,
          43,
          50,
          153,
          138,
          63,
          135,
          202,
          91,
          284,
          289,
          481,
          555,
          453,
          388,
          26,
          220,
          94,
          470,
          215,
          793,
          473,
          104,
          69,
          679,
          1465,
          1176,
          40,
          896,
          419,
          865,
          2138,
          546,
          62,
          791,
          369,
          1144,
          924,
          830,
          908,
          54,
          1473,
          6032,
          3765,
          319
         ],
         "yaxis": "y2"
        }
       ],
       "layout": {
        "template": {
         "data": {
          "bar": [
           {
            "error_x": {
             "color": "#2a3f5f"
            },
            "error_y": {
             "color": "#2a3f5f"
            },
            "marker": {
             "line": {
              "color": "#E5ECF6",
              "width": 0.5
             },
             "pattern": {
              "fillmode": "overlay",
              "size": 10,
              "solidity": 0.2
             }
            },
            "type": "bar"
           }
          ],
          "barpolar": [
           {
            "marker": {
             "line": {
              "color": "#E5ECF6",
              "width": 0.5
             },
             "pattern": {
              "fillmode": "overlay",
              "size": 10,
              "solidity": 0.2
             }
            },
            "type": "barpolar"
           }
          ],
          "carpet": [
           {
            "aaxis": {
             "endlinecolor": "#2a3f5f",
             "gridcolor": "white",
             "linecolor": "white",
             "minorgridcolor": "white",
             "startlinecolor": "#2a3f5f"
            },
            "baxis": {
             "endlinecolor": "#2a3f5f",
             "gridcolor": "white",
             "linecolor": "white",
             "minorgridcolor": "white",
             "startlinecolor": "#2a3f5f"
            },
            "type": "carpet"
           }
          ],
          "choropleth": [
           {
            "colorbar": {
             "outlinewidth": 0,
             "ticks": ""
            },
            "type": "choropleth"
           }
          ],
          "contour": [
           {
            "colorbar": {
             "outlinewidth": 0,
             "ticks": ""
            },
            "colorscale": [
             [
              0,
              "#0d0887"
             ],
             [
              0.1111111111111111,
              "#46039f"
             ],
             [
              0.2222222222222222,
              "#7201a8"
             ],
             [
              0.3333333333333333,
              "#9c179e"
             ],
             [
              0.4444444444444444,
              "#bd3786"
             ],
             [
              0.5555555555555556,
              "#d8576b"
             ],
             [
              0.6666666666666666,
              "#ed7953"
             ],
             [
              0.7777777777777778,
              "#fb9f3a"
             ],
             [
              0.8888888888888888,
              "#fdca26"
             ],
             [
              1,
              "#f0f921"
             ]
            ],
            "type": "contour"
           }
          ],
          "contourcarpet": [
           {
            "colorbar": {
             "outlinewidth": 0,
             "ticks": ""
            },
            "type": "contourcarpet"
           }
          ],
          "heatmap": [
           {
            "colorbar": {
             "outlinewidth": 0,
             "ticks": ""
            },
            "colorscale": [
             [
              0,
              "#0d0887"
             ],
             [
              0.1111111111111111,
              "#46039f"
             ],
             [
              0.2222222222222222,
              "#7201a8"
             ],
             [
              0.3333333333333333,
              "#9c179e"
             ],
             [
              0.4444444444444444,
              "#bd3786"
             ],
             [
              0.5555555555555556,
              "#d8576b"
             ],
             [
              0.6666666666666666,
              "#ed7953"
             ],
             [
              0.7777777777777778,
              "#fb9f3a"
             ],
             [
              0.8888888888888888,
              "#fdca26"
             ],
             [
              1,
              "#f0f921"
             ]
            ],
            "type": "heatmap"
           }
          ],
          "heatmapgl": [
           {
            "colorbar": {
             "outlinewidth": 0,
             "ticks": ""
            },
            "colorscale": [
             [
              0,
              "#0d0887"
             ],
             [
              0.1111111111111111,
              "#46039f"
             ],
             [
              0.2222222222222222,
              "#7201a8"
             ],
             [
              0.3333333333333333,
              "#9c179e"
             ],
             [
              0.4444444444444444,
              "#bd3786"
             ],
             [
              0.5555555555555556,
              "#d8576b"
             ],
             [
              0.6666666666666666,
              "#ed7953"
             ],
             [
              0.7777777777777778,
              "#fb9f3a"
             ],
             [
              0.8888888888888888,
              "#fdca26"
             ],
             [
              1,
              "#f0f921"
             ]
            ],
            "type": "heatmapgl"
           }
          ],
          "histogram": [
           {
            "marker": {
             "pattern": {
              "fillmode": "overlay",
              "size": 10,
              "solidity": 0.2
             }
            },
            "type": "histogram"
           }
          ],
          "histogram2d": [
           {
            "colorbar": {
             "outlinewidth": 0,
             "ticks": ""
            },
            "colorscale": [
             [
              0,
              "#0d0887"
             ],
             [
              0.1111111111111111,
              "#46039f"
             ],
             [
              0.2222222222222222,
              "#7201a8"
             ],
             [
              0.3333333333333333,
              "#9c179e"
             ],
             [
              0.4444444444444444,
              "#bd3786"
             ],
             [
              0.5555555555555556,
              "#d8576b"
             ],
             [
              0.6666666666666666,
              "#ed7953"
             ],
             [
              0.7777777777777778,
              "#fb9f3a"
             ],
             [
              0.8888888888888888,
              "#fdca26"
             ],
             [
              1,
              "#f0f921"
             ]
            ],
            "type": "histogram2d"
           }
          ],
          "histogram2dcontour": [
           {
            "colorbar": {
             "outlinewidth": 0,
             "ticks": ""
            },
            "colorscale": [
             [
              0,
              "#0d0887"
             ],
             [
              0.1111111111111111,
              "#46039f"
             ],
             [
              0.2222222222222222,
              "#7201a8"
             ],
             [
              0.3333333333333333,
              "#9c179e"
             ],
             [
              0.4444444444444444,
              "#bd3786"
             ],
             [
              0.5555555555555556,
              "#d8576b"
             ],
             [
              0.6666666666666666,
              "#ed7953"
             ],
             [
              0.7777777777777778,
              "#fb9f3a"
             ],
             [
              0.8888888888888888,
              "#fdca26"
             ],
             [
              1,
              "#f0f921"
             ]
            ],
            "type": "histogram2dcontour"
           }
          ],
          "mesh3d": [
           {
            "colorbar": {
             "outlinewidth": 0,
             "ticks": ""
            },
            "type": "mesh3d"
           }
          ],
          "parcoords": [
           {
            "line": {
             "colorbar": {
              "outlinewidth": 0,
              "ticks": ""
             }
            },
            "type": "parcoords"
           }
          ],
          "pie": [
           {
            "automargin": true,
            "type": "pie"
           }
          ],
          "scatter": [
           {
            "fillpattern": {
             "fillmode": "overlay",
             "size": 10,
             "solidity": 0.2
            },
            "type": "scatter"
           }
          ],
          "scatter3d": [
           {
            "line": {
             "colorbar": {
              "outlinewidth": 0,
              "ticks": ""
             }
            },
            "marker": {
             "colorbar": {
              "outlinewidth": 0,
              "ticks": ""
             }
            },
            "type": "scatter3d"
           }
          ],
          "scattercarpet": [
           {
            "marker": {
             "colorbar": {
              "outlinewidth": 0,
              "ticks": ""
             }
            },
            "type": "scattercarpet"
           }
          ],
          "scattergeo": [
           {
            "marker": {
             "colorbar": {
              "outlinewidth": 0,
              "ticks": ""
             }
            },
            "type": "scattergeo"
           }
          ],
          "scattergl": [
           {
            "marker": {
             "colorbar": {
              "outlinewidth": 0,
              "ticks": ""
             }
            },
            "type": "scattergl"
           }
          ],
          "scattermapbox": [
           {
            "marker": {
             "colorbar": {
              "outlinewidth": 0,
              "ticks": ""
             }
            },
            "type": "scattermapbox"
           }
          ],
          "scatterpolar": [
           {
            "marker": {
             "colorbar": {
              "outlinewidth": 0,
              "ticks": ""
             }
            },
            "type": "scatterpolar"
           }
          ],
          "scatterpolargl": [
           {
            "marker": {
             "colorbar": {
              "outlinewidth": 0,
              "ticks": ""
             }
            },
            "type": "scatterpolargl"
           }
          ],
          "scatterternary": [
           {
            "marker": {
             "colorbar": {
              "outlinewidth": 0,
              "ticks": ""
             }
            },
            "type": "scatterternary"
           }
          ],
          "surface": [
           {
            "colorbar": {
             "outlinewidth": 0,
             "ticks": ""
            },
            "colorscale": [
             [
              0,
              "#0d0887"
             ],
             [
              0.1111111111111111,
              "#46039f"
             ],
             [
              0.2222222222222222,
              "#7201a8"
             ],
             [
              0.3333333333333333,
              "#9c179e"
             ],
             [
              0.4444444444444444,
              "#bd3786"
             ],
             [
              0.5555555555555556,
              "#d8576b"
             ],
             [
              0.6666666666666666,
              "#ed7953"
             ],
             [
              0.7777777777777778,
              "#fb9f3a"
             ],
             [
              0.8888888888888888,
              "#fdca26"
             ],
             [
              1,
              "#f0f921"
             ]
            ],
            "type": "surface"
           }
          ],
          "table": [
           {
            "cells": {
             "fill": {
              "color": "#EBF0F8"
             },
             "line": {
              "color": "white"
             }
            },
            "header": {
             "fill": {
              "color": "#C8D4E3"
             },
             "line": {
              "color": "white"
             }
            },
            "type": "table"
           }
          ]
         },
         "layout": {
          "annotationdefaults": {
           "arrowcolor": "#2a3f5f",
           "arrowhead": 0,
           "arrowwidth": 1
          },
          "autotypenumbers": "strict",
          "coloraxis": {
           "colorbar": {
            "outlinewidth": 0,
            "ticks": ""
           }
          },
          "colorscale": {
           "diverging": [
            [
             0,
             "#8e0152"
            ],
            [
             0.1,
             "#c51b7d"
            ],
            [
             0.2,
             "#de77ae"
            ],
            [
             0.3,
             "#f1b6da"
            ],
            [
             0.4,
             "#fde0ef"
            ],
            [
             0.5,
             "#f7f7f7"
            ],
            [
             0.6,
             "#e6f5d0"
            ],
            [
             0.7,
             "#b8e186"
            ],
            [
             0.8,
             "#7fbc41"
            ],
            [
             0.9,
             "#4d9221"
            ],
            [
             1,
             "#276419"
            ]
           ],
           "sequential": [
            [
             0,
             "#0d0887"
            ],
            [
             0.1111111111111111,
             "#46039f"
            ],
            [
             0.2222222222222222,
             "#7201a8"
            ],
            [
             0.3333333333333333,
             "#9c179e"
            ],
            [
             0.4444444444444444,
             "#bd3786"
            ],
            [
             0.5555555555555556,
             "#d8576b"
            ],
            [
             0.6666666666666666,
             "#ed7953"
            ],
            [
             0.7777777777777778,
             "#fb9f3a"
            ],
            [
             0.8888888888888888,
             "#fdca26"
            ],
            [
             1,
             "#f0f921"
            ]
           ],
           "sequentialminus": [
            [
             0,
             "#0d0887"
            ],
            [
             0.1111111111111111,
             "#46039f"
            ],
            [
             0.2222222222222222,
             "#7201a8"
            ],
            [
             0.3333333333333333,
             "#9c179e"
            ],
            [
             0.4444444444444444,
             "#bd3786"
            ],
            [
             0.5555555555555556,
             "#d8576b"
            ],
            [
             0.6666666666666666,
             "#ed7953"
            ],
            [
             0.7777777777777778,
             "#fb9f3a"
            ],
            [
             0.8888888888888888,
             "#fdca26"
            ],
            [
             1,
             "#f0f921"
            ]
           ]
          },
          "colorway": [
           "#636efa",
           "#EF553B",
           "#00cc96",
           "#ab63fa",
           "#FFA15A",
           "#19d3f3",
           "#FF6692",
           "#B6E880",
           "#FF97FF",
           "#FECB52"
          ],
          "font": {
           "color": "#2a3f5f"
          },
          "geo": {
           "bgcolor": "white",
           "lakecolor": "white",
           "landcolor": "#E5ECF6",
           "showlakes": true,
           "showland": true,
           "subunitcolor": "white"
          },
          "hoverlabel": {
           "align": "left"
          },
          "hovermode": "closest",
          "mapbox": {
           "style": "light"
          },
          "paper_bgcolor": "white",
          "plot_bgcolor": "#E5ECF6",
          "polar": {
           "angularaxis": {
            "gridcolor": "white",
            "linecolor": "white",
            "ticks": ""
           },
           "bgcolor": "#E5ECF6",
           "radialaxis": {
            "gridcolor": "white",
            "linecolor": "white",
            "ticks": ""
           }
          },
          "scene": {
           "xaxis": {
            "backgroundcolor": "#E5ECF6",
            "gridcolor": "white",
            "gridwidth": 2,
            "linecolor": "white",
            "showbackground": true,
            "ticks": "",
            "zerolinecolor": "white"
           },
           "yaxis": {
            "backgroundcolor": "#E5ECF6",
            "gridcolor": "white",
            "gridwidth": 2,
            "linecolor": "white",
            "showbackground": true,
            "ticks": "",
            "zerolinecolor": "white"
           },
           "zaxis": {
            "backgroundcolor": "#E5ECF6",
            "gridcolor": "white",
            "gridwidth": 2,
            "linecolor": "white",
            "showbackground": true,
            "ticks": "",
            "zerolinecolor": "white"
           }
          },
          "shapedefaults": {
           "line": {
            "color": "#2a3f5f"
           }
          },
          "ternary": {
           "aaxis": {
            "gridcolor": "white",
            "linecolor": "white",
            "ticks": ""
           },
           "baxis": {
            "gridcolor": "white",
            "linecolor": "white",
            "ticks": ""
           },
           "bgcolor": "#E5ECF6",
           "caxis": {
            "gridcolor": "white",
            "linecolor": "white",
            "ticks": ""
           }
          },
          "title": {
           "x": 0.05
          },
          "xaxis": {
           "automargin": true,
           "gridcolor": "white",
           "linecolor": "white",
           "ticks": "",
           "title": {
            "standoff": 15
           },
           "zerolinecolor": "white",
           "zerolinewidth": 2
          },
          "yaxis": {
           "automargin": true,
           "gridcolor": "white",
           "linecolor": "white",
           "ticks": "",
           "title": {
            "standoff": 15
           },
           "zerolinecolor": "white",
           "zerolinewidth": 2
          }
         }
        },
        "xaxis": {
         "anchor": "y",
         "domain": [
          0,
          0.94
         ],
         "tickangle": 90,
         "title": {
          "text": "State"
         }
        },
        "yaxis": {
         "anchor": "x",
         "domain": [
          0,
          1
         ],
         "title": {
          "text": "Dollars per year"
         }
        },
        "yaxis2": {
         "anchor": "x",
         "overlaying": "y",
         "side": "right",
         "title": {
          "text": "Job Listings (log)"
         },
         "type": "log"
        }
       }
      }
     },
     "metadata": {},
     "output_type": "display_data"
    }
   ],
   "source": [
    "df = dm.get_postings_with_pay()[['state','avg_salary']].copy()\n",
    "\n",
    "groups = df.groupby('state')\n",
    "group_count = groups.count()\n",
    "df = groups.mean()\n",
    "df['count'] = group_count\n",
    "df = df.dropna(axis=1).sort_values(by='avg_salary')\n",
    "\n",
    "fig = make_subplots(specs=[[{\"secondary_y\": True}]])\n",
    "\n",
    "fig.add_trace(\n",
    "    go.Bar(\n",
    "        x = df.index.values, \n",
    "        y=df['avg_salary'],\n",
    "        name=\"Average Salary\",\n",
    "    ), \n",
    "    secondary_y=False)\n",
    "\n",
    "fig.add_trace(\n",
    "    go.Scatter(\n",
    "        x = df.index.values,\n",
    "        y = df['count'],\n",
    "        name=\"Sample Size\"\n",
    "    ),\n",
    "    secondary_y=True\n",
    ")\n",
    "\n",
    "fig.update_xaxes(title_text=\"State\",tickangle=90)\n",
    "\n",
    "# Set y-axes titles\n",
    "fig.update_yaxes(title_text=\"Dollars per year\", secondary_y=False)\n",
    "fig.update_yaxes(title_text=\"Job Listings (log)\", secondary_y=True, type=\"log\")\n",
    "\n",
    "fig.show()"
   ]
  },
  {
   "cell_type": "markdown",
   "id": "6e01cc89",
   "metadata": {},
   "source": [
    "Create a dataset"
   ]
  },
  {
   "cell_type": "code",
   "execution_count": 88,
   "id": "f9d3c78d",
   "metadata": {},
   "outputs": [
    {
     "name": "stdout",
     "output_type": "stream",
     "text": [
      "Loading j2v word vectors.\n",
      "Retrieving an existing model from c:\\dev\\job-estimator/assets/w2v/w2v.model\n"
     ]
    }
   ],
   "source": [
    "print('Loading j2v word vectors.')\n",
    "job2vec = Job2Vec()\n",
    "j2v = job2vec.get_model()"
   ]
  },
  {
   "cell_type": "markdown",
   "id": "46e9f687",
   "metadata": {},
   "source": [
    "### Create a model to genereate entity embeddings for XGBoost"
   ]
  },
  {
   "cell_type": "code",
   "execution_count": 104,
   "id": "cb4f220a",
   "metadata": {},
   "outputs": [],
   "source": [
    "df = dm.get_postings().copy()\n",
    "\n",
    "x_cols=['state',\n",
    "        'pay_period',\n",
    "        'formatted_work_type',\n",
    "        'formatted_experience_level',\n",
    "        'title']\n",
    "y_col = 'avg_salary'\n",
    "\n",
    "mask = df[['title', 'state', y_col]].notna().all(axis=1) & df[y_col].gt(0)\n",
    "\n",
    "df = df[x_cols+[y_col]].loc[mask].copy().reset_index()"
   ]
  },
  {
   "cell_type": "code",
   "execution_count": 106,
   "id": "25bb7021",
   "metadata": {},
   "outputs": [],
   "source": [
    "from sklearn.compose import ColumnTransformer\n",
    "from sklearn.pipeline import Pipeline\n",
    "from sklearn.preprocessing import OneHotEncoder, FunctionTransformer\n",
    "from sklearn.model_selection import train_test_split, cross_val_score\n",
    "import xgboost as xgb\n",
    "\n",
    "vector_length = job2vec.get_vector_length()\n",
    "\n",
    "def title_to_vec(titles: pd.DataFrame):\n",
    "    vector_cols = [f'title{n}' for n in range(job2vec.get_vector_length())]\n",
    "    rows = [job2vec.vectorize(x) for x in titles.values]\n",
    "    return pd.DataFrame(rows, columns=vector_cols)\n",
    "\n",
    "title_pipe = Pipeline(steps=[\n",
    "    (\"to_vec\", FunctionTransformer(title_to_vec))\n",
    "])\n",
    "\n",
    "cat_pipe = Pipeline(steps=[\n",
    "    (\"encoder\", OneHotEncoder(handle_unknown=\"ignore\")),\n",
    "])\n",
    "\n",
    "non_title_cols = ['state', 'pay_period', 'formatted_work_type', 'formatted_experience_level']\n",
    "\n",
    "col_transformer = ColumnTransformer(transformers=[\n",
    "    (\"cat\", cat_pipe, non_title_cols),\n",
    "    (\"title\", title_pipe, ['title'])\n",
    "])\n",
    "\n",
    "preprocessor = Pipeline(steps=[\n",
    "    ('col_trfm', col_transformer)\n",
    "    #('to_dmx', FunctionTransformer(xgb.DMatrix))\n",
    "])\n",
    "\n",
    "x, y = df[x_cols], df[y_col]\n",
    "\n",
    "preprocessor = preprocessor.fit(x,y)"
   ]
  },
  {
   "cell_type": "code",
   "execution_count": 135,
   "id": "ce32d8cf",
   "metadata": {},
   "outputs": [
    {
     "name": "stdout",
     "output_type": "stream",
     "text": [
      "[0]\tvalidation_0-mae:42431.55911\n",
      "[1]\tvalidation_0-mae:40882.95235\n",
      "[2]\tvalidation_0-mae:39672.90364\n",
      "[3]\tvalidation_0-mae:38467.20075\n",
      "[4]\tvalidation_0-mae:37379.19312\n",
      "[5]\tvalidation_0-mae:36599.35112\n",
      "[6]\tvalidation_0-mae:35789.77547\n",
      "[7]\tvalidation_0-mae:35138.62161\n",
      "[8]\tvalidation_0-mae:34536.86287\n",
      "[9]\tvalidation_0-mae:34065.23017\n",
      "[10]\tvalidation_0-mae:33682.70845\n",
      "[11]\tvalidation_0-mae:33366.54325\n",
      "[12]\tvalidation_0-mae:33073.70173\n",
      "[13]\tvalidation_0-mae:32789.25170\n",
      "[14]\tvalidation_0-mae:32574.29099\n",
      "[15]\tvalidation_0-mae:32373.91274\n",
      "[16]\tvalidation_0-mae:32203.14828\n",
      "[17]\tvalidation_0-mae:32109.11060\n",
      "[18]\tvalidation_0-mae:31989.28685\n",
      "[19]\tvalidation_0-mae:31859.99447\n",
      "[20]\tvalidation_0-mae:31754.10971\n",
      "[21]\tvalidation_0-mae:31672.50186\n",
      "[22]\tvalidation_0-mae:31578.64976\n",
      "[23]\tvalidation_0-mae:31513.58019\n",
      "[24]\tvalidation_0-mae:31443.76191\n",
      "[25]\tvalidation_0-mae:31399.70420\n",
      "[26]\tvalidation_0-mae:31368.92921\n",
      "[27]\tvalidation_0-mae:31339.52294\n",
      "[28]\tvalidation_0-mae:31310.77158\n",
      "[29]\tvalidation_0-mae:31275.56653\n",
      "[30]\tvalidation_0-mae:31246.79984\n",
      "[31]\tvalidation_0-mae:31229.43323\n",
      "[32]\tvalidation_0-mae:31213.94346\n",
      "[33]\tvalidation_0-mae:31186.90515\n",
      "[34]\tvalidation_0-mae:31166.53776\n",
      "[35]\tvalidation_0-mae:31135.28020\n",
      "[36]\tvalidation_0-mae:31124.66612\n",
      "[37]\tvalidation_0-mae:31111.36319\n",
      "[38]\tvalidation_0-mae:31104.82503\n",
      "[39]\tvalidation_0-mae:31082.81997\n",
      "31082.81996692823\n"
     ]
    }
   ],
   "source": [
    "xgb_reg: xgb.XGBRegressor = xgb.XGBRegressor(\n",
    "    booster='dart',\n",
    "    random_state=1,\n",
    "    n_estimators=40,\n",
    "    max_depth=6,\n",
    "    eta=0.1, \n",
    "    subsample=0.7, \n",
    "    colsample_bytree=0.8, \n",
    "    objective='reg:squarederror',\n",
    "    eval_metric='mae',\n",
    "    early_stopping_rounds=10,\n",
    "    )\n",
    "\n",
    "training_pipe = Pipeline(steps=[\n",
    "    (\"preprocess\", preprocessor),\n",
    "    ('reg', xgb_reg)\n",
    "])\n",
    "\n",
    "x_train, x_test, y_train, y_test = train_test_split(x, y, test_size=.2, random_state=1)\n",
    "x_test = preprocessor.transform(x_test)\n",
    "\n",
    "xgb_pipe = training_pipe.fit(x_train, y_train, \n",
    "                             reg__eval_set=[(x_test, y_test)],\n",
    "                             )\n",
    "\n",
    "print(xgb_reg.best_score)"
   ]
  },
  {
   "cell_type": "code",
   "execution_count": 130,
   "id": "37d3035d",
   "metadata": {},
   "outputs": [
    {
     "data": {
      "text/html": [
       "<style type=\"text/css\">\n",
       "</style>\n",
       "<table id=\"T_58e95\">\n",
       "  <thead>\n",
       "    <tr>\n",
       "      <th class=\"blank level0\" >&nbsp;</th>\n",
       "      <th id=\"T_58e95_level0_col0\" class=\"col_heading level0 col0\" >index</th>\n",
       "      <th id=\"T_58e95_level0_col1\" class=\"col_heading level0 col1\" >state</th>\n",
       "      <th id=\"T_58e95_level0_col2\" class=\"col_heading level0 col2\" >pay_period</th>\n",
       "      <th id=\"T_58e95_level0_col3\" class=\"col_heading level0 col3\" >formatted_work_type</th>\n",
       "      <th id=\"T_58e95_level0_col4\" class=\"col_heading level0 col4\" >formatted_experience_level</th>\n",
       "      <th id=\"T_58e95_level0_col5\" class=\"col_heading level0 col5\" >title</th>\n",
       "      <th id=\"T_58e95_level0_col6\" class=\"col_heading level0 col6\" >avg_salary</th>\n",
       "      <th id=\"T_58e95_level0_col7\" class=\"col_heading level0 col7\" >actual</th>\n",
       "    </tr>\n",
       "  </thead>\n",
       "  <tbody>\n",
       "    <tr>\n",
       "      <th id=\"T_58e95_level0_row0\" class=\"row_heading level0 row0\" >0</th>\n",
       "      <td id=\"T_58e95_row0_col0\" class=\"data row0 col0\" >0</td>\n",
       "      <td id=\"T_58e95_row0_col1\" class=\"data row0 col1\" >NJ</td>\n",
       "      <td id=\"T_58e95_row0_col2\" class=\"data row0 col2\" >HOURLY</td>\n",
       "      <td id=\"T_58e95_row0_col3\" class=\"data row0 col3\" >Full-time</td>\n",
       "      <td id=\"T_58e95_row0_col4\" class=\"data row0 col4\" >nan</td>\n",
       "      <td id=\"T_58e95_row0_col5\" class=\"data row0 col5\" >Marketing Coordinator</td>\n",
       "      <td id=\"T_58e95_row0_col6\" class=\"data row0 col6\" >35,889.07</td>\n",
       "      <td id=\"T_58e95_row0_col7\" class=\"data row0 col7\" >54,070.73</td>\n",
       "    </tr>\n",
       "    <tr>\n",
       "      <th id=\"T_58e95_level0_row1\" class=\"row_heading level0 row1\" >1</th>\n",
       "      <td id=\"T_58e95_row1_col0\" class=\"data row1 col0\" >1</td>\n",
       "      <td id=\"T_58e95_row1_col1\" class=\"data row1 col1\" >CO</td>\n",
       "      <td id=\"T_58e95_row1_col2\" class=\"data row1 col2\" >HOURLY</td>\n",
       "      <td id=\"T_58e95_row1_col3\" class=\"data row1 col3\" >Full-time</td>\n",
       "      <td id=\"T_58e95_row1_col4\" class=\"data row1 col4\" >nan</td>\n",
       "      <td id=\"T_58e95_row1_col5\" class=\"data row1 col5\" >Mental Health Therapist/Counselor</td>\n",
       "      <td id=\"T_58e95_row1_col6\" class=\"data row1 col6\" >77,597.98</td>\n",
       "      <td id=\"T_58e95_row1_col7\" class=\"data row1 col7\" >54,070.73</td>\n",
       "    </tr>\n",
       "    <tr>\n",
       "      <th id=\"T_58e95_level0_row2\" class=\"row_heading level0 row2\" >2</th>\n",
       "      <td id=\"T_58e95_row2_col0\" class=\"data row2 col0\" >2</td>\n",
       "      <td id=\"T_58e95_row2_col1\" class=\"data row2 col1\" >OH</td>\n",
       "      <td id=\"T_58e95_row2_col2\" class=\"data row2 col2\" >YEARLY</td>\n",
       "      <td id=\"T_58e95_row2_col3\" class=\"data row2 col3\" >Full-time</td>\n",
       "      <td id=\"T_58e95_row2_col4\" class=\"data row2 col4\" >nan</td>\n",
       "      <td id=\"T_58e95_row2_col5\" class=\"data row2 col5\" >Assitant Restaurant Manager</td>\n",
       "      <td id=\"T_58e95_row2_col6\" class=\"data row2 col6\" >55,000.00</td>\n",
       "      <td id=\"T_58e95_row2_col7\" class=\"data row2 col7\" >100,457.70</td>\n",
       "    </tr>\n",
       "    <tr>\n",
       "      <th id=\"T_58e95_level0_row3\" class=\"row_heading level0 row3\" >3</th>\n",
       "      <td id=\"T_58e95_row3_col0\" class=\"data row3 col0\" >3</td>\n",
       "      <td id=\"T_58e95_row3_col1\" class=\"data row3 col1\" >NY</td>\n",
       "      <td id=\"T_58e95_row3_col2\" class=\"data row3 col2\" >YEARLY</td>\n",
       "      <td id=\"T_58e95_row3_col3\" class=\"data row3 col3\" >Full-time</td>\n",
       "      <td id=\"T_58e95_row3_col4\" class=\"data row3 col4\" >nan</td>\n",
       "      <td id=\"T_58e95_row3_col5\" class=\"data row3 col5\" >Senior Elder Law / Trusts and Estates Associate Attorney</td>\n",
       "      <td id=\"T_58e95_row3_col6\" class=\"data row3 col6\" >157,500.00</td>\n",
       "      <td id=\"T_58e95_row3_col7\" class=\"data row3 col7\" >118,873.19</td>\n",
       "    </tr>\n",
       "    <tr>\n",
       "      <th id=\"T_58e95_level0_row4\" class=\"row_heading level0 row4\" >4</th>\n",
       "      <td id=\"T_58e95_row4_col0\" class=\"data row4 col0\" >4</td>\n",
       "      <td id=\"T_58e95_row4_col1\" class=\"data row4 col1\" >IA</td>\n",
       "      <td id=\"T_58e95_row4_col2\" class=\"data row4 col2\" >YEARLY</td>\n",
       "      <td id=\"T_58e95_row4_col3\" class=\"data row4 col3\" >Full-time</td>\n",
       "      <td id=\"T_58e95_row4_col4\" class=\"data row4 col4\" >nan</td>\n",
       "      <td id=\"T_58e95_row4_col5\" class=\"data row4 col5\" > Service Technician</td>\n",
       "      <td id=\"T_58e95_row4_col6\" class=\"data row4 col6\" >70,000.00</td>\n",
       "      <td id=\"T_58e95_row4_col7\" class=\"data row4 col7\" >95,204.81</td>\n",
       "    </tr>\n",
       "    <tr>\n",
       "      <th id=\"T_58e95_level0_row5\" class=\"row_heading level0 row5\" >5</th>\n",
       "      <td id=\"T_58e95_row5_col0\" class=\"data row5 col0\" >5</td>\n",
       "      <td id=\"T_58e95_row5_col1\" class=\"data row5 col1\" >NC</td>\n",
       "      <td id=\"T_58e95_row5_col2\" class=\"data row5 col2\" >HOURLY</td>\n",
       "      <td id=\"T_58e95_row5_col3\" class=\"data row5 col3\" >Internship</td>\n",
       "      <td id=\"T_58e95_row5_col4\" class=\"data row5 col4\" >nan</td>\n",
       "      <td id=\"T_58e95_row5_col5\" class=\"data row5 col5\" >Economic Development and Planning Intern</td>\n",
       "      <td id=\"T_58e95_row5_col6\" class=\"data row5 col6\" >32,979.14</td>\n",
       "      <td id=\"T_58e95_row5_col7\" class=\"data row5 col7\" >48,394.88</td>\n",
       "    </tr>\n",
       "    <tr>\n",
       "      <th id=\"T_58e95_level0_row6\" class=\"row_heading level0 row6\" >6</th>\n",
       "      <td id=\"T_58e95_row6_col0\" class=\"data row6 col0\" >7</td>\n",
       "      <td id=\"T_58e95_row6_col1\" class=\"data row6 col1\" >CA</td>\n",
       "      <td id=\"T_58e95_row6_col2\" class=\"data row6 col2\" >YEARLY</td>\n",
       "      <td id=\"T_58e95_row6_col3\" class=\"data row6 col3\" >Full-time</td>\n",
       "      <td id=\"T_58e95_row6_col4\" class=\"data row6 col4\" >nan</td>\n",
       "      <td id=\"T_58e95_row6_col5\" class=\"data row6 col5\" >Building Engineer</td>\n",
       "      <td id=\"T_58e95_row6_col6\" class=\"data row6 col6\" >105,000.00</td>\n",
       "      <td id=\"T_58e95_row6_col7\" class=\"data row6 col7\" >131,343.16</td>\n",
       "    </tr>\n",
       "    <tr>\n",
       "      <th id=\"T_58e95_level0_row7\" class=\"row_heading level0 row7\" >7</th>\n",
       "      <td id=\"T_58e95_row7_col0\" class=\"data row7 col0\" >16</td>\n",
       "      <td id=\"T_58e95_row7_col1\" class=\"data row7 col1\" >OH</td>\n",
       "      <td id=\"T_58e95_row7_col2\" class=\"data row7 col2\" >HOURLY</td>\n",
       "      <td id=\"T_58e95_row7_col3\" class=\"data row7 col3\" >Full-time</td>\n",
       "      <td id=\"T_58e95_row7_col4\" class=\"data row7 col4\" >nan</td>\n",
       "      <td id=\"T_58e95_row7_col5\" class=\"data row7 col5\" >Administrative Coordinator</td>\n",
       "      <td id=\"T_58e95_row7_col6\" class=\"data row7 col6\" >48,498.74</td>\n",
       "      <td id=\"T_58e95_row7_col7\" class=\"data row7 col7\" >52,789.23</td>\n",
       "    </tr>\n",
       "    <tr>\n",
       "      <th id=\"T_58e95_level0_row8\" class=\"row_heading level0 row8\" >8</th>\n",
       "      <td id=\"T_58e95_row8_col0\" class=\"data row8 col0\" >17</td>\n",
       "      <td id=\"T_58e95_row8_col1\" class=\"data row8 col1\" >RI</td>\n",
       "      <td id=\"T_58e95_row8_col2\" class=\"data row8 col2\" >HOURLY</td>\n",
       "      <td id=\"T_58e95_row8_col3\" class=\"data row8 col3\" >Part-time</td>\n",
       "      <td id=\"T_58e95_row8_col4\" class=\"data row8 col4\" >nan</td>\n",
       "      <td id=\"T_58e95_row8_col5\" class=\"data row8 col5\" >Customer Service / Reservationist</td>\n",
       "      <td id=\"T_58e95_row8_col6\" class=\"data row8 col6\" >17,381.02</td>\n",
       "      <td id=\"T_58e95_row8_col7\" class=\"data row8 col7\" >26,294.75</td>\n",
       "    </tr>\n",
       "    <tr>\n",
       "      <th id=\"T_58e95_level0_row9\" class=\"row_heading level0 row9\" >9</th>\n",
       "      <td id=\"T_58e95_row9_col0\" class=\"data row9 col0\" >28</td>\n",
       "      <td id=\"T_58e95_row9_col1\" class=\"data row9 col1\" >PA</td>\n",
       "      <td id=\"T_58e95_row9_col2\" class=\"data row9 col2\" >HOURLY</td>\n",
       "      <td id=\"T_58e95_row9_col3\" class=\"data row9 col3\" >Full-time</td>\n",
       "      <td id=\"T_58e95_row9_col4\" class=\"data row9 col4\" >nan</td>\n",
       "      <td id=\"T_58e95_row9_col5\" class=\"data row9 col5\" >General Laborer</td>\n",
       "      <td id=\"T_58e95_row9_col6\" class=\"data row9 col6\" >40,738.94</td>\n",
       "      <td id=\"T_58e95_row9_col7\" class=\"data row9 col7\" >54,070.73</td>\n",
       "    </tr>\n",
       "  </tbody>\n",
       "</table>\n"
      ],
      "text/plain": [
       "<IPython.core.display.HTML object>"
      ]
     },
     "metadata": {},
     "output_type": "display_data"
    }
   ],
   "source": [
    "xgb_reg.save_model('c:/dev/job-estimator/assets/XGBReggressor.ubj')\n",
    "\n",
    "test = df.head(10).copy()\n",
    "res = xgb_pipe.predict(test[x_cols])\n",
    "test['actual']=res\n",
    "display(HTML(test.style.format(precision=2,thousands=\",\").to_html())) "
   ]
  },
  {
   "cell_type": "code",
   "execution_count": null,
   "id": "2c1f0b7d",
   "metadata": {},
   "outputs": [
    {
     "ename": "KeyError",
     "evalue": "'state'",
     "output_type": "error",
     "traceback": [
      "\u001b[1;31m---------------------------------------------------------------------------\u001b[0m",
      "\u001b[1;31mKeyError\u001b[0m                                  Traceback (most recent call last)",
      "File \u001b[1;32mc:\\dev\\python\\Lib\\site-packages\\pandas\\core\\indexes\\base.py:3805\u001b[0m, in \u001b[0;36mIndex.get_loc\u001b[1;34m(self, key)\u001b[0m\n\u001b[0;32m   3804\u001b[0m \u001b[38;5;28;01mtry\u001b[39;00m:\n\u001b[1;32m-> 3805\u001b[0m     \u001b[38;5;28;01mreturn\u001b[39;00m \u001b[38;5;28;43mself\u001b[39;49m\u001b[38;5;241;43m.\u001b[39;49m\u001b[43m_engine\u001b[49m\u001b[38;5;241;43m.\u001b[39;49m\u001b[43mget_loc\u001b[49m\u001b[43m(\u001b[49m\u001b[43mcasted_key\u001b[49m\u001b[43m)\u001b[49m\n\u001b[0;32m   3806\u001b[0m \u001b[38;5;28;01mexcept\u001b[39;00m \u001b[38;5;167;01mKeyError\u001b[39;00m \u001b[38;5;28;01mas\u001b[39;00m err:\n",
      "File \u001b[1;32mindex.pyx:167\u001b[0m, in \u001b[0;36mpandas._libs.index.IndexEngine.get_loc\u001b[1;34m()\u001b[0m\n",
      "File \u001b[1;32mindex.pyx:196\u001b[0m, in \u001b[0;36mpandas._libs.index.IndexEngine.get_loc\u001b[1;34m()\u001b[0m\n",
      "File \u001b[1;32mpandas\\\\_libs\\\\hashtable_class_helper.pxi:7081\u001b[0m, in \u001b[0;36mpandas._libs.hashtable.PyObjectHashTable.get_item\u001b[1;34m()\u001b[0m\n",
      "File \u001b[1;32mpandas\\\\_libs\\\\hashtable_class_helper.pxi:7089\u001b[0m, in \u001b[0;36mpandas._libs.hashtable.PyObjectHashTable.get_item\u001b[1;34m()\u001b[0m\n",
      "\u001b[1;31mKeyError\u001b[0m: 'state'",
      "\nThe above exception was the direct cause of the following exception:\n",
      "\u001b[1;31mKeyError\u001b[0m                                  Traceback (most recent call last)",
      "Cell \u001b[1;32mIn[11], line 3\u001b[0m\n\u001b[0;32m      1\u001b[0m df \u001b[38;5;241m=\u001b[39m df[[\u001b[38;5;124m'\u001b[39m\u001b[38;5;124mtitle\u001b[39m\u001b[38;5;124m'\u001b[39m,\u001b[38;5;124m'\u001b[39m\u001b[38;5;124mstate\u001b[39m\u001b[38;5;124m'\u001b[39m,\u001b[38;5;124m'\u001b[39m\u001b[38;5;124mavg_salary\u001b[39m\u001b[38;5;124m'\u001b[39m]]\u001b[38;5;241m.\u001b[39mcopy()\u001b[38;5;241m.\u001b[39mdropna(axis\u001b[38;5;241m=\u001b[39m\u001b[38;5;241m1\u001b[39m)\n\u001b[1;32m----> 3\u001b[0m fig \u001b[38;5;241m=\u001b[39m go\u001b[38;5;241m.\u001b[39mFigure(data\u001b[38;5;241m=\u001b[39m[go\u001b[38;5;241m.\u001b[39mScatter3d(x\u001b[38;5;241m=\u001b[39m\u001b[43mdf\u001b[49m\u001b[43m[\u001b[49m\u001b[38;5;124;43m'\u001b[39;49m\u001b[38;5;124;43mstate\u001b[39;49m\u001b[38;5;124;43m'\u001b[39;49m\u001b[43m]\u001b[49m, y\u001b[38;5;241m=\u001b[39mdf[\u001b[38;5;124m'\u001b[39m\u001b[38;5;124mtitle\u001b[39m\u001b[38;5;124m'\u001b[39m], z\u001b[38;5;241m=\u001b[39mdf[\u001b[38;5;124m'\u001b[39m\u001b[38;5;124mavg_salary\u001b[39m\u001b[38;5;124m'\u001b[39m], mode\u001b[38;5;241m=\u001b[39m\u001b[38;5;124m'\u001b[39m\u001b[38;5;124mmarkers\u001b[39m\u001b[38;5;124m'\u001b[39m)])\n\u001b[0;32m      5\u001b[0m fig\u001b[38;5;241m.\u001b[39mupdate_xaxes(title_text\u001b[38;5;241m=\u001b[39m\u001b[38;5;124m\"\u001b[39m\u001b[38;5;124mState\u001b[39m\u001b[38;5;124m\"\u001b[39m)\n\u001b[0;32m      6\u001b[0m fig\u001b[38;5;241m.\u001b[39mupdate_yaxes(title_text\u001b[38;5;241m=\u001b[39m\u001b[38;5;124m\"\u001b[39m\u001b[38;5;124mPosition\u001b[39m\u001b[38;5;124m\"\u001b[39m)\n",
      "File \u001b[1;32mc:\\dev\\python\\Lib\\site-packages\\pandas\\core\\frame.py:4102\u001b[0m, in \u001b[0;36mDataFrame.__getitem__\u001b[1;34m(self, key)\u001b[0m\n\u001b[0;32m   4100\u001b[0m \u001b[38;5;28;01mif\u001b[39;00m \u001b[38;5;28mself\u001b[39m\u001b[38;5;241m.\u001b[39mcolumns\u001b[38;5;241m.\u001b[39mnlevels \u001b[38;5;241m>\u001b[39m \u001b[38;5;241m1\u001b[39m:\n\u001b[0;32m   4101\u001b[0m     \u001b[38;5;28;01mreturn\u001b[39;00m \u001b[38;5;28mself\u001b[39m\u001b[38;5;241m.\u001b[39m_getitem_multilevel(key)\n\u001b[1;32m-> 4102\u001b[0m indexer \u001b[38;5;241m=\u001b[39m \u001b[38;5;28;43mself\u001b[39;49m\u001b[38;5;241;43m.\u001b[39;49m\u001b[43mcolumns\u001b[49m\u001b[38;5;241;43m.\u001b[39;49m\u001b[43mget_loc\u001b[49m\u001b[43m(\u001b[49m\u001b[43mkey\u001b[49m\u001b[43m)\u001b[49m\n\u001b[0;32m   4103\u001b[0m \u001b[38;5;28;01mif\u001b[39;00m is_integer(indexer):\n\u001b[0;32m   4104\u001b[0m     indexer \u001b[38;5;241m=\u001b[39m [indexer]\n",
      "File \u001b[1;32mc:\\dev\\python\\Lib\\site-packages\\pandas\\core\\indexes\\base.py:3812\u001b[0m, in \u001b[0;36mIndex.get_loc\u001b[1;34m(self, key)\u001b[0m\n\u001b[0;32m   3807\u001b[0m     \u001b[38;5;28;01mif\u001b[39;00m \u001b[38;5;28misinstance\u001b[39m(casted_key, \u001b[38;5;28mslice\u001b[39m) \u001b[38;5;129;01mor\u001b[39;00m (\n\u001b[0;32m   3808\u001b[0m         \u001b[38;5;28misinstance\u001b[39m(casted_key, abc\u001b[38;5;241m.\u001b[39mIterable)\n\u001b[0;32m   3809\u001b[0m         \u001b[38;5;129;01mand\u001b[39;00m \u001b[38;5;28many\u001b[39m(\u001b[38;5;28misinstance\u001b[39m(x, \u001b[38;5;28mslice\u001b[39m) \u001b[38;5;28;01mfor\u001b[39;00m x \u001b[38;5;129;01min\u001b[39;00m casted_key)\n\u001b[0;32m   3810\u001b[0m     ):\n\u001b[0;32m   3811\u001b[0m         \u001b[38;5;28;01mraise\u001b[39;00m InvalidIndexError(key)\n\u001b[1;32m-> 3812\u001b[0m     \u001b[38;5;28;01mraise\u001b[39;00m \u001b[38;5;167;01mKeyError\u001b[39;00m(key) \u001b[38;5;28;01mfrom\u001b[39;00m \u001b[38;5;21;01merr\u001b[39;00m\n\u001b[0;32m   3813\u001b[0m \u001b[38;5;28;01mexcept\u001b[39;00m \u001b[38;5;167;01mTypeError\u001b[39;00m:\n\u001b[0;32m   3814\u001b[0m     \u001b[38;5;66;03m# If we have a listlike key, _check_indexing_error will raise\u001b[39;00m\n\u001b[0;32m   3815\u001b[0m     \u001b[38;5;66;03m#  InvalidIndexError. Otherwise we fall through and re-raise\u001b[39;00m\n\u001b[0;32m   3816\u001b[0m     \u001b[38;5;66;03m#  the TypeError.\u001b[39;00m\n\u001b[0;32m   3817\u001b[0m     \u001b[38;5;28mself\u001b[39m\u001b[38;5;241m.\u001b[39m_check_indexing_error(key)\n",
      "\u001b[1;31mKeyError\u001b[0m: 'state'"
     ]
    }
   ],
   "source": [
    "df = df[['title','state','avg_salary']].copy().dropna(axis=1)\n",
    "\n",
    "fig = go.Figure(data=[go.Scatter3d(x=df['state'], y=df['title'], z=df['avg_salary'], mode='markers')])\n",
    "\n",
    "fig.update_xaxes(title_text=\"State\")\n",
    "fig.update_yaxes(title_text=\"Position\")\n",
    "\n",
    "fig.show()"
   ]
  },
  {
   "cell_type": "code",
   "execution_count": null,
   "id": "8a05d1ad",
   "metadata": {},
   "outputs": [],
   "source": [
    "\n",
    "categorizer = Categorizer(j2v.wv, job2vec.tokenize)\n",
    "categorizer.create_category_vectors()\n",
    "\n",
    "df = dm.categorize_job_titles(categorizer.get_similar_categories)"
   ]
  }
 ],
 "metadata": {
  "kernelspec": {
   "display_name": "Python 3 (ipykernel)",
   "language": "python",
   "name": "python3"
  },
  "language_info": {
   "codemirror_mode": {
    "name": "ipython",
    "version": 3
   },
   "file_extension": ".py",
   "mimetype": "text/x-python",
   "name": "python",
   "nbconvert_exporter": "python",
   "pygments_lexer": "ipython3",
   "version": "3.12.4"
  }
 },
 "nbformat": 4,
 "nbformat_minor": 5
}
