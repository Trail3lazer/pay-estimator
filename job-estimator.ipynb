{
 "cells": [
  {
   "cell_type": "markdown",
   "id": "727b38e3-4bf1-469b-bbdf-1c3b01079f22",
   "metadata": {},
   "source": [
    "# Salary estimator from listings"
   ]
  },
  {
   "cell_type": "markdown",
   "id": "c608e48e",
   "metadata": {},
   "source": [
    "The city_state.json file was modified from this github repo [agalea91 - city_to_state_dictionary](https://github.com/agalea91/city_to_state_dictionary/blob/master/city_to_state.py).\n",
    "\n",
    "The state_abbr.json file was modified from this github repo [JeffPaine - us_state_abbreviations.py](https://gist.github.com/JeffPaine/3083347).\n",
    "\n",
    "The job posting dataset can be found on Kaggle [LinkedIn Job Postings (2023 - 2024)](https://www.kaggle.com/datasets/arshkon/linkedin-job-postings)"
   ]
  },
  {
   "cell_type": "markdown",
   "id": "ddaaa672-a66a-449e-acaa-c9f995ec1ef6",
   "metadata": {},
   "source": [
    "## Setup"
   ]
  },
  {
   "cell_type": "code",
   "execution_count": 1,
   "id": "a3e0ae1b",
   "metadata": {},
   "outputs": [],
   "source": [
    "%%capture\n",
    "%pip install pandas xgboost scikit-learn plotly gensim #swifter\n",
    "print('')"
   ]
  },
  {
   "cell_type": "markdown",
   "id": "9a5ffcbf-6ac8-46c6-92b2-446fc546a08d",
   "metadata": {},
   "source": [
    "First we must import our packages to manage the dataset. Then we can import the data."
   ]
  },
  {
   "cell_type": "markdown",
   "id": "1e044b65-ce26-48fa-a2fa-e8e0f7ff831c",
   "metadata": {},
   "source": [
    "## Setup\n",
    "Import the many packages"
   ]
  },
  {
   "cell_type": "code",
   "execution_count": 2,
   "id": "335c66c8-11a7-422b-a512-baa3ff106c6b",
   "metadata": {},
   "outputs": [],
   "source": [
    "import pandas as pd\n",
    "import numpy as np\n",
    "import plotly.graph_objects as go\n",
    "from plotly.subplots import make_subplots\n",
    "\n",
    "%load_ext autoreload\n",
    "%aimport JobPostingManager\n",
    "%aimport Job2Vec\n",
    "%aimport settings\n",
    "%autoreload 1\n",
    "\n",
    "JPM = JobPostingManager.JobPostingManager\n",
    "J2V = Job2Vec.Job2Vec"
   ]
  },
  {
   "cell_type": "markdown",
   "id": "5d8261e7",
   "metadata": {},
   "source": [
    "Extract the job posting data from the CSV and clean it."
   ]
  },
  {
   "cell_type": "code",
   "execution_count": 3,
   "id": "d8fd8abb",
   "metadata": {},
   "outputs": [
    {
     "name": "stdout",
     "output_type": "stream",
     "text": [
      "Average vacation days: 13.445833333333333\n",
      "Retrieving an existing dataset at c:\\dev\\job-estimator/archive/clean_postings.bin\n"
     ]
    }
   ],
   "source": [
    "jpm = JPM()\n",
    "df = jpm.postings.copy()"
   ]
  },
  {
   "cell_type": "code",
   "execution_count": 4,
   "id": "4078bb05",
   "metadata": {},
   "outputs": [
    {
     "name": "stdout",
     "output_type": "stream",
     "text": [
      "YEARLY\n"
     ]
    },
    {
     "data": {
      "text/html": [
       "<style type=\"text/css\">\n",
       "</style>\n",
       "<table id=\"T_dc469\">\n",
       "  <thead>\n",
       "    <tr>\n",
       "      <th class=\"blank level0\" >&nbsp;</th>\n",
       "      <th id=\"T_dc469_level0_col0\" class=\"col_heading level0 col0\" >pay_col</th>\n",
       "      <th id=\"T_dc469_level0_col1\" class=\"col_heading level0 col1\" >min</th>\n",
       "      <th id=\"T_dc469_level0_col2\" class=\"col_heading level0 col2\" >Q1</th>\n",
       "      <th id=\"T_dc469_level0_col3\" class=\"col_heading level0 col3\" >median</th>\n",
       "      <th id=\"T_dc469_level0_col4\" class=\"col_heading level0 col4\" >Q3</th>\n",
       "      <th id=\"T_dc469_level0_col5\" class=\"col_heading level0 col5\" >max</th>\n",
       "      <th id=\"T_dc469_level0_col6\" class=\"col_heading level0 col6\" >mean</th>\n",
       "      <th id=\"T_dc469_level0_col7\" class=\"col_heading level0 col7\" >mode</th>\n",
       "    </tr>\n",
       "  </thead>\n",
       "  <tbody>\n",
       "    <tr>\n",
       "      <th id=\"T_dc469_level0_row0\" class=\"row_heading level0 row0\" >2</th>\n",
       "      <td id=\"T_dc469_row0_col0\" class=\"data row0 col0\" >max_salary</td>\n",
       "      <td id=\"T_dc469_row0_col1\" class=\"data row0 col1\" >12,000</td>\n",
       "      <td id=\"T_dc469_row0_col2\" class=\"data row0 col2\" >85,000</td>\n",
       "      <td id=\"T_dc469_row0_col3\" class=\"data row0 col3\" >120,000</td>\n",
       "      <td id=\"T_dc469_row0_col4\" class=\"data row0 col4\" >170,000</td>\n",
       "      <td id=\"T_dc469_row0_col5\" class=\"data row0 col5\" >1,500,000</td>\n",
       "      <td id=\"T_dc469_row0_col6\" class=\"data row0 col6\" >139,481</td>\n",
       "      <td id=\"T_dc469_row0_col7\" class=\"data row0 col7\" >[150000.0]</td>\n",
       "    </tr>\n",
       "    <tr>\n",
       "      <th id=\"T_dc469_level0_row1\" class=\"row_heading level0 row1\" >1</th>\n",
       "      <td id=\"T_dc469_row1_col0\" class=\"data row1 col0\" >med_salary</td>\n",
       "      <td id=\"T_dc469_row1_col1\" class=\"data row1 col1\" >10,000</td>\n",
       "      <td id=\"T_dc469_row1_col2\" class=\"data row1 col2\" >54,000</td>\n",
       "      <td id=\"T_dc469_row1_col3\" class=\"data row1 col3\" >72,000</td>\n",
       "      <td id=\"T_dc469_row1_col4\" class=\"data row1 col4\" >105,400</td>\n",
       "      <td id=\"T_dc469_row1_col5\" class=\"data row1 col5\" >300,500</td>\n",
       "      <td id=\"T_dc469_row1_col6\" class=\"data row1 col6\" >84,890</td>\n",
       "      <td id=\"T_dc469_row1_col7\" class=\"data row1 col7\" >[60000.0]</td>\n",
       "    </tr>\n",
       "    <tr>\n",
       "      <th id=\"T_dc469_level0_row2\" class=\"row_heading level0 row2\" >0</th>\n",
       "      <td id=\"T_dc469_row2_col0\" class=\"data row2 col0\" >min_salary</td>\n",
       "      <td id=\"T_dc469_row2_col1\" class=\"data row2 col1\" >10,000</td>\n",
       "      <td id=\"T_dc469_row2_col2\" class=\"data row2 col2\" >65,000</td>\n",
       "      <td id=\"T_dc469_row2_col3\" class=\"data row2 col3\" >89,250</td>\n",
       "      <td id=\"T_dc469_row2_col4\" class=\"data row2 col4\" >120,000</td>\n",
       "      <td id=\"T_dc469_row2_col5\" class=\"data row2 col5\" >750,000</td>\n",
       "      <td id=\"T_dc469_row2_col6\" class=\"data row2 col6\" >98,622</td>\n",
       "      <td id=\"T_dc469_row2_col7\" class=\"data row2 col7\" >[100000.0]</td>\n",
       "    </tr>\n",
       "  </tbody>\n",
       "</table>\n"
      ],
      "text/plain": [
       "<IPython.core.display.HTML object>"
      ]
     },
     "metadata": {},
     "output_type": "display_data"
    },
    {
     "name": "stdout",
     "output_type": "stream",
     "text": [
      "MONTHLY\n"
     ]
    },
    {
     "data": {
      "text/html": [
       "<style type=\"text/css\">\n",
       "</style>\n",
       "<table id=\"T_b732a\">\n",
       "  <thead>\n",
       "    <tr>\n",
       "      <th class=\"blank level0\" >&nbsp;</th>\n",
       "      <th id=\"T_b732a_level0_col0\" class=\"col_heading level0 col0\" >pay_col</th>\n",
       "      <th id=\"T_b732a_level0_col1\" class=\"col_heading level0 col1\" >min</th>\n",
       "      <th id=\"T_b732a_level0_col2\" class=\"col_heading level0 col2\" >Q1</th>\n",
       "      <th id=\"T_b732a_level0_col3\" class=\"col_heading level0 col3\" >median</th>\n",
       "      <th id=\"T_b732a_level0_col4\" class=\"col_heading level0 col4\" >Q3</th>\n",
       "      <th id=\"T_b732a_level0_col5\" class=\"col_heading level0 col5\" >max</th>\n",
       "      <th id=\"T_b732a_level0_col6\" class=\"col_heading level0 col6\" >mean</th>\n",
       "      <th id=\"T_b732a_level0_col7\" class=\"col_heading level0 col7\" >mode</th>\n",
       "    </tr>\n",
       "  </thead>\n",
       "  <tbody>\n",
       "    <tr>\n",
       "      <th id=\"T_b732a_level0_row0\" class=\"row_heading level0 row0\" >2</th>\n",
       "      <td id=\"T_b732a_row0_col0\" class=\"data row0 col0\" >max_salary</td>\n",
       "      <td id=\"T_b732a_row0_col1\" class=\"data row0 col1\" >12,000</td>\n",
       "      <td id=\"T_b732a_row0_col2\" class=\"data row0 col2\" >66,996</td>\n",
       "      <td id=\"T_b732a_row0_col3\" class=\"data row0 col3\" >89,364</td>\n",
       "      <td id=\"T_b732a_row0_col4\" class=\"data row0 col4\" >119,184</td>\n",
       "      <td id=\"T_b732a_row0_col5\" class=\"data row0 col5\" >1,320,000</td>\n",
       "      <td id=\"T_b732a_row0_col6\" class=\"data row0 col6\" >103,996</td>\n",
       "      <td id=\"T_b732a_row0_col7\" class=\"data row0 col7\" >[85368.0]</td>\n",
       "    </tr>\n",
       "    <tr>\n",
       "      <th id=\"T_b732a_level0_row1\" class=\"row_heading level0 row1\" >1</th>\n",
       "      <td id=\"T_b732a_row1_col0\" class=\"data row1 col0\" >med_salary</td>\n",
       "      <td id=\"T_b732a_row1_col1\" class=\"data row1 col1\" >12,000</td>\n",
       "      <td id=\"T_b732a_row1_col2\" class=\"data row1 col2\" >25,398</td>\n",
       "      <td id=\"T_b732a_row1_col3\" class=\"data row1 col3\" >28,716</td>\n",
       "      <td id=\"T_b732a_row1_col4\" class=\"data row1 col4\" >36,000</td>\n",
       "      <td id=\"T_b732a_row1_col5\" class=\"data row1 col5\" >300,000</td>\n",
       "      <td id=\"T_b732a_row1_col6\" class=\"data row1 col6\" >36,286</td>\n",
       "      <td id=\"T_b732a_row1_col7\" class=\"data row1 col7\" >[30000.0]</td>\n",
       "    </tr>\n",
       "    <tr>\n",
       "      <th id=\"T_b732a_level0_row2\" class=\"row_heading level0 row2\" >0</th>\n",
       "      <td id=\"T_b732a_row2_col0\" class=\"data row2 col0\" >min_salary</td>\n",
       "      <td id=\"T_b732a_row2_col1\" class=\"data row2 col1\" >12,000</td>\n",
       "      <td id=\"T_b732a_row2_col2\" class=\"data row2 col2\" >45,864</td>\n",
       "      <td id=\"T_b732a_row2_col3\" class=\"data row2 col3\" >68,208</td>\n",
       "      <td id=\"T_b732a_row2_col4\" class=\"data row2 col4\" >81,120</td>\n",
       "      <td id=\"T_b732a_row2_col5\" class=\"data row2 col5\" >1,080,000</td>\n",
       "      <td id=\"T_b732a_row2_col6\" class=\"data row2 col6\" >73,636</td>\n",
       "      <td id=\"T_b732a_row2_col7\" class=\"data row2 col7\" >[68208.0]</td>\n",
       "    </tr>\n",
       "  </tbody>\n",
       "</table>\n"
      ],
      "text/plain": [
       "<IPython.core.display.HTML object>"
      ]
     },
     "metadata": {},
     "output_type": "display_data"
    },
    {
     "name": "stdout",
     "output_type": "stream",
     "text": [
      "BIWEEKLY\n"
     ]
    },
    {
     "data": {
      "text/html": [
       "<style type=\"text/css\">\n",
       "</style>\n",
       "<table id=\"T_92940\">\n",
       "  <thead>\n",
       "    <tr>\n",
       "      <th class=\"blank level0\" >&nbsp;</th>\n",
       "      <th id=\"T_92940_level0_col0\" class=\"col_heading level0 col0\" >pay_col</th>\n",
       "      <th id=\"T_92940_level0_col1\" class=\"col_heading level0 col1\" >min</th>\n",
       "      <th id=\"T_92940_level0_col2\" class=\"col_heading level0 col2\" >Q1</th>\n",
       "      <th id=\"T_92940_level0_col3\" class=\"col_heading level0 col3\" >median</th>\n",
       "      <th id=\"T_92940_level0_col4\" class=\"col_heading level0 col4\" >Q3</th>\n",
       "      <th id=\"T_92940_level0_col5\" class=\"col_heading level0 col5\" >max</th>\n",
       "      <th id=\"T_92940_level0_col6\" class=\"col_heading level0 col6\" >mean</th>\n",
       "      <th id=\"T_92940_level0_col7\" class=\"col_heading level0 col7\" >mode</th>\n",
       "    </tr>\n",
       "  </thead>\n",
       "  <tbody>\n",
       "    <tr>\n",
       "      <th id=\"T_92940_level0_row0\" class=\"row_heading level0 row0\" >2</th>\n",
       "      <td id=\"T_92940_row0_col0\" class=\"data row0 col0\" >max_salary</td>\n",
       "      <td id=\"T_92940_row0_col1\" class=\"data row0 col1\" >53,482</td>\n",
       "      <td id=\"T_92940_row0_col2\" class=\"data row0 col2\" >66,976</td>\n",
       "      <td id=\"T_92940_row0_col3\" class=\"data row0 col3\" >81,434</td>\n",
       "      <td id=\"T_92940_row0_col4\" class=\"data row0 col4\" >87,516</td>\n",
       "      <td id=\"T_92940_row0_col5\" class=\"data row0 col5\" >89,965</td>\n",
       "      <td id=\"T_92940_row0_col6\" class=\"data row0 col6\" >74,550</td>\n",
       "      <td id=\"T_92940_row0_col7\" class=\"data row0 col7\" >[66976.0]</td>\n",
       "    </tr>\n",
       "    <tr>\n",
       "      <th id=\"T_92940_level0_row1\" class=\"row_heading level0 row1\" >1</th>\n",
       "      <td id=\"T_92940_row1_col0\" class=\"data row1 col0\" >med_salary</td>\n",
       "      <td id=\"T_92940_row1_col1\" class=\"data row1 col1\" >nan</td>\n",
       "      <td id=\"T_92940_row1_col2\" class=\"data row1 col2\" >nan</td>\n",
       "      <td id=\"T_92940_row1_col3\" class=\"data row1 col3\" >nan</td>\n",
       "      <td id=\"T_92940_row1_col4\" class=\"data row1 col4\" >nan</td>\n",
       "      <td id=\"T_92940_row1_col5\" class=\"data row1 col5\" >nan</td>\n",
       "      <td id=\"T_92940_row1_col6\" class=\"data row1 col6\" >nan</td>\n",
       "      <td id=\"T_92940_row1_col7\" class=\"data row1 col7\" >[]</td>\n",
       "    </tr>\n",
       "    <tr>\n",
       "      <th id=\"T_92940_level0_row2\" class=\"row_heading level0 row2\" >0</th>\n",
       "      <td id=\"T_92940_row2_col0\" class=\"data row2 col0\" >min_salary</td>\n",
       "      <td id=\"T_92940_row2_col1\" class=\"data row2 col1\" >53,482</td>\n",
       "      <td id=\"T_92940_row2_col2\" class=\"data row2 col2\" >54,009</td>\n",
       "      <td id=\"T_92940_row2_col3\" class=\"data row2 col3\" >58,370</td>\n",
       "      <td id=\"T_92940_row2_col4\" class=\"data row2 col4\" >64,519</td>\n",
       "      <td id=\"T_92940_row2_col5\" class=\"data row2 col5\" >71,323</td>\n",
       "      <td id=\"T_92940_row2_col6\" class=\"data row2 col6\" >60,370</td>\n",
       "      <td id=\"T_92940_row2_col7\" class=\"data row2 col7\" >[54009.0]</td>\n",
       "    </tr>\n",
       "  </tbody>\n",
       "</table>\n"
      ],
      "text/plain": [
       "<IPython.core.display.HTML object>"
      ]
     },
     "metadata": {},
     "output_type": "display_data"
    },
    {
     "name": "stdout",
     "output_type": "stream",
     "text": [
      "WEEKLY\n"
     ]
    },
    {
     "data": {
      "text/html": [
       "<style type=\"text/css\">\n",
       "</style>\n",
       "<table id=\"T_8a1f5\">\n",
       "  <thead>\n",
       "    <tr>\n",
       "      <th class=\"blank level0\" >&nbsp;</th>\n",
       "      <th id=\"T_8a1f5_level0_col0\" class=\"col_heading level0 col0\" >pay_col</th>\n",
       "      <th id=\"T_8a1f5_level0_col1\" class=\"col_heading level0 col1\" >min</th>\n",
       "      <th id=\"T_8a1f5_level0_col2\" class=\"col_heading level0 col2\" >Q1</th>\n",
       "      <th id=\"T_8a1f5_level0_col3\" class=\"col_heading level0 col3\" >median</th>\n",
       "      <th id=\"T_8a1f5_level0_col4\" class=\"col_heading level0 col4\" >Q3</th>\n",
       "      <th id=\"T_8a1f5_level0_col5\" class=\"col_heading level0 col5\" >max</th>\n",
       "      <th id=\"T_8a1f5_level0_col6\" class=\"col_heading level0 col6\" >mean</th>\n",
       "      <th id=\"T_8a1f5_level0_col7\" class=\"col_heading level0 col7\" >mode</th>\n",
       "    </tr>\n",
       "  </thead>\n",
       "  <tbody>\n",
       "    <tr>\n",
       "      <th id=\"T_8a1f5_level0_row0\" class=\"row_heading level0 row0\" >2</th>\n",
       "      <td id=\"T_8a1f5_row0_col0\" class=\"data row0 col0\" >max_salary</td>\n",
       "      <td id=\"T_8a1f5_row0_col1\" class=\"data row0 col1\" >50,804</td>\n",
       "      <td id=\"T_8a1f5_row0_col2\" class=\"data row0 col2\" >100,360</td>\n",
       "      <td id=\"T_8a1f5_row0_col3\" class=\"data row0 col3\" >109,148</td>\n",
       "      <td id=\"T_8a1f5_row0_col4\" class=\"data row0 col4\" >119,658</td>\n",
       "      <td id=\"T_8a1f5_row0_col5\" class=\"data row0 col5\" >210,548</td>\n",
       "      <td id=\"T_8a1f5_row0_col6\" class=\"data row0 col6\" >111,668</td>\n",
       "      <td id=\"T_8a1f5_row0_col7\" class=\"data row0 col7\" >[95726.8, 114884.64000000001, 117303.16, 120931.2]</td>\n",
       "    </tr>\n",
       "    <tr>\n",
       "      <th id=\"T_8a1f5_level0_row1\" class=\"row_heading level0 row1\" >1</th>\n",
       "      <td id=\"T_8a1f5_row1_col0\" class=\"data row1 col0\" >med_salary</td>\n",
       "      <td id=\"T_8a1f5_row1_col1\" class=\"data row1 col1\" >nan</td>\n",
       "      <td id=\"T_8a1f5_row1_col2\" class=\"data row1 col2\" >nan</td>\n",
       "      <td id=\"T_8a1f5_row1_col3\" class=\"data row1 col3\" >nan</td>\n",
       "      <td id=\"T_8a1f5_row1_col4\" class=\"data row1 col4\" >nan</td>\n",
       "      <td id=\"T_8a1f5_row1_col5\" class=\"data row1 col5\" >nan</td>\n",
       "      <td id=\"T_8a1f5_row1_col6\" class=\"data row1 col6\" >nan</td>\n",
       "      <td id=\"T_8a1f5_row1_col7\" class=\"data row1 col7\" >[]</td>\n",
       "    </tr>\n",
       "    <tr>\n",
       "      <th id=\"T_8a1f5_level0_row2\" class=\"row_heading level0 row2\" >0</th>\n",
       "      <td id=\"T_8a1f5_row2_col0\" class=\"data row2 col0\" >min_salary</td>\n",
       "      <td id=\"T_8a1f5_row2_col1\" class=\"data row2 col1\" >50,804</td>\n",
       "      <td id=\"T_8a1f5_row2_col2\" class=\"data row2 col2\" >99,684</td>\n",
       "      <td id=\"T_8a1f5_row2_col3\" class=\"data row2 col3\" >109,148</td>\n",
       "      <td id=\"T_8a1f5_row2_col4\" class=\"data row2 col4\" >119,658</td>\n",
       "      <td id=\"T_8a1f5_row2_col5\" class=\"data row2 col5\" >210,548</td>\n",
       "      <td id=\"T_8a1f5_row2_col6\" class=\"data row2 col6\" >111,452</td>\n",
       "      <td id=\"T_8a1f5_row2_col7\" class=\"data row2 col7\" >[95726.8, 114884.64000000001, 117303.16, 120931.2]</td>\n",
       "    </tr>\n",
       "  </tbody>\n",
       "</table>\n"
      ],
      "text/plain": [
       "<IPython.core.display.HTML object>"
      ]
     },
     "metadata": {},
     "output_type": "display_data"
    },
    {
     "name": "stdout",
     "output_type": "stream",
     "text": [
      "HOURLY\n"
     ]
    },
    {
     "data": {
      "text/html": [
       "<style type=\"text/css\">\n",
       "</style>\n",
       "<table id=\"T_4e3de\">\n",
       "  <thead>\n",
       "    <tr>\n",
       "      <th class=\"blank level0\" >&nbsp;</th>\n",
       "      <th id=\"T_4e3de_level0_col0\" class=\"col_heading level0 col0\" >pay_col</th>\n",
       "      <th id=\"T_4e3de_level0_col1\" class=\"col_heading level0 col1\" >min</th>\n",
       "      <th id=\"T_4e3de_level0_col2\" class=\"col_heading level0 col2\" >Q1</th>\n",
       "      <th id=\"T_4e3de_level0_col3\" class=\"col_heading level0 col3\" >median</th>\n",
       "      <th id=\"T_4e3de_level0_col4\" class=\"col_heading level0 col4\" >Q3</th>\n",
       "      <th id=\"T_4e3de_level0_col5\" class=\"col_heading level0 col5\" >max</th>\n",
       "      <th id=\"T_4e3de_level0_col6\" class=\"col_heading level0 col6\" >mean</th>\n",
       "      <th id=\"T_4e3de_level0_col7\" class=\"col_heading level0 col7\" >mode</th>\n",
       "    </tr>\n",
       "  </thead>\n",
       "  <tbody>\n",
       "    <tr>\n",
       "      <th id=\"T_4e3de_level0_row0\" class=\"row_heading level0 row0\" >2</th>\n",
       "      <td id=\"T_4e3de_row0_col0\" class=\"data row0 col0\" >max_salary</td>\n",
       "      <td id=\"T_4e3de_row0_col1\" class=\"data row0 col1\" >10,335</td>\n",
       "      <td id=\"T_4e3de_row0_col2\" class=\"data row0 col2\" >42,679</td>\n",
       "      <td id=\"T_4e3de_row0_col3\" class=\"data row0 col3\" >58,354</td>\n",
       "      <td id=\"T_4e3de_row0_col4\" class=\"data row0 col4\" >96,997</td>\n",
       "      <td id=\"T_4e3de_row0_col5\" class=\"data row0 col5\" >581,985</td>\n",
       "      <td id=\"T_4e3de_row0_col6\" class=\"data row0 col6\" >74,286</td>\n",
       "      <td id=\"T_4e3de_row0_col7\" class=\"data row0 col7\" >[48498.73990982143]</td>\n",
       "    </tr>\n",
       "    <tr>\n",
       "      <th id=\"T_4e3de_level0_row1\" class=\"row_heading level0 row1\" >1</th>\n",
       "      <td id=\"T_4e3de_row1_col0\" class=\"data row1 col0\" >med_salary</td>\n",
       "      <td id=\"T_4e3de_row1_col1\" class=\"data row1 col1\" >10,335</td>\n",
       "      <td id=\"T_4e3de_row1_col2\" class=\"data row1 col2\" >31,621</td>\n",
       "      <td id=\"T_4e3de_row1_col3\" class=\"data row1 col3\" >38,838</td>\n",
       "      <td id=\"T_4e3de_row1_col4\" class=\"data row1 col4\" >54,319</td>\n",
       "      <td id=\"T_4e3de_row1_col5\" class=\"data row1 col5\" >288,994</td>\n",
       "      <td id=\"T_4e3de_row1_col6\" class=\"data row1 col6\" >49,051</td>\n",
       "      <td id=\"T_4e3de_row1_col7\" class=\"data row1 col7\" >[38798.99192785715]</td>\n",
       "    </tr>\n",
       "    <tr>\n",
       "      <th id=\"T_4e3de_level0_row2\" class=\"row_heading level0 row2\" >0</th>\n",
       "      <td id=\"T_4e3de_row2_col0\" class=\"data row2 col0\" >min_salary</td>\n",
       "      <td id=\"T_4e3de_row2_col1\" class=\"data row2 col1\" >10,100</td>\n",
       "      <td id=\"T_4e3de_row2_col2\" class=\"data row2 col2\" >34,919</td>\n",
       "      <td id=\"T_4e3de_row2_col3\" class=\"data row2 col3\" >46,559</td>\n",
       "      <td id=\"T_4e3de_row2_col4\" class=\"data row2 col4\" >77,598</td>\n",
       "      <td id=\"T_4e3de_row2_col5\" class=\"data row2 col5\" >484,987</td>\n",
       "      <td id=\"T_4e3de_row2_col6\" class=\"data row2 col6\" >59,137</td>\n",
       "      <td id=\"T_4e3de_row2_col7\" class=\"data row2 col7\" >[38798.99192785715]</td>\n",
       "    </tr>\n",
       "  </tbody>\n",
       "</table>\n"
      ],
      "text/plain": [
       "<IPython.core.display.HTML object>"
      ]
     },
     "metadata": {},
     "output_type": "display_data"
    }
   ],
   "source": [
    "\n",
    "from IPython.display import HTML, display\n",
    "def print_pay_summary(x: pd.DataFrame):\n",
    "    pay_df = x[pay_cols]\n",
    "    summary_df = pd.DataFrame([], columns=['pay_col','min','Q1','median','Q3','max','mean','mode'])\n",
    "    for c in pay_cols:\n",
    "        qs = [c]+pay_df[c].dropna().quantile([0,.25, .5, .75, 1]).tolist()+[pay_df[c].mean(), pay_df[c].mode().tolist()]\n",
    "        summary_df.loc[-1] = qs\n",
    "        summary_df.index+=1\n",
    "    return summary_df\n",
    "\n",
    "pay_period_types = ['YEARLY','MONTHLY', 'BIWEEKLY', 'WEEKLY', 'HOURLY']\n",
    "    \n",
    "pay_cols = ['max_salary','med_salary','min_salary']\n",
    "for pay_period in pay_period_types:\n",
    "    pay_period_df = df.loc[df['pay_period']==pay_period, pay_cols]\n",
    "    print(pay_period)\n",
    "    summary = print_pay_summary(pay_period_df)\n",
    "    \n",
    "    display(HTML(summary.style.format(precision=0,thousands=\",\").to_html()))    \n"
   ]
  },
  {
   "cell_type": "code",
   "execution_count": 5,
   "id": "f392e00c",
   "metadata": {},
   "outputs": [
    {
     "name": "stdout",
     "output_type": "stream",
     "text": [
      "Dropping rows where every pay column is empty.\n"
     ]
    },
    {
     "data": {
      "application/vnd.plotly.v1+json": {
       "config": {
        "plotlyServerURL": "https://plot.ly"
       },
       "data": [
        {
         "name": "Average Salary",
         "type": "bar",
         "x": [
          "MT",
          "KY",
          "KS",
          "MS",
          "ME",
          "OK",
          "HI",
          "VT",
          "SD",
          "NE",
          "AR",
          "ND",
          "NH",
          "IA",
          "ID",
          "UT",
          "SC",
          "MO",
          "MI",
          "IN",
          "TN",
          "WY",
          "AL",
          "NM",
          "WI",
          "NV",
          "OH",
          "MN",
          "LA",
          "RI",
          "AZ",
          "FL",
          "CO",
          "WV",
          "PA",
          "OR",
          "NC",
          "TX",
          "MD",
          "DE",
          "GA",
          "CT",
          "IL",
          "NJ",
          "VA",
          "MA",
          "AK",
          "WA",
          "CA",
          "NY",
          "DC"
         ],
         "xaxis": "x",
         "y": [
          63413.280990208565,
          64835.21500536886,
          64858.385318038905,
          64934.014857270464,
          65758.32421231385,
          66316.17964972906,
          66675.66581185712,
          67111.35838391111,
          67130.41888925454,
          67432.56278752822,
          67932.81411373446,
          68061.38598756133,
          68111.48266412843,
          68513.87290590882,
          68584.06625415605,
          69408.0710783261,
          69706.48435701549,
          71089.42066407007,
          71394.0140401065,
          71965.67529726827,
          73177.60295666663,
          73561.48281215489,
          74139.4875884158,
          74752.62355435082,
          75569.71426468312,
          77293.77411627935,
          77422.2324686089,
          77492.79069700814,
          78210.41645977524,
          78775.95310064632,
          79088.24977148153,
          80113.6814679153,
          80966.86620208218,
          81370.44302521061,
          81680.81472107256,
          83364.43814745698,
          87068.69052657622,
          88920.0405946683,
          89982.18449653324,
          90001.59667941964,
          90370.18587389759,
          92399.71331215015,
          94681.72010889987,
          95234.20854448092,
          95960.02356815831,
          99777.29632967805,
          100065.21500902936,
          100325.71940221124,
          102839.83972326865,
          106787.0757470461,
          107875.96734405767
         ],
         "yaxis": "y"
        },
        {
         "name": "Sample Size",
         "type": "scatter",
         "x": [
          "MT",
          "KY",
          "KS",
          "MS",
          "ME",
          "OK",
          "HI",
          "VT",
          "SD",
          "NE",
          "AR",
          "ND",
          "NH",
          "IA",
          "ID",
          "UT",
          "SC",
          "MO",
          "MI",
          "IN",
          "TN",
          "WY",
          "AL",
          "NM",
          "WI",
          "NV",
          "OH",
          "MN",
          "LA",
          "RI",
          "AZ",
          "FL",
          "CO",
          "WV",
          "PA",
          "OR",
          "NC",
          "TX",
          "MD",
          "DE",
          "GA",
          "CT",
          "IL",
          "NJ",
          "VA",
          "MA",
          "AK",
          "WA",
          "CA",
          "NY",
          "DC"
         ],
         "xaxis": "x",
         "y": [
          68,
          296,
          240,
          64,
          101,
          193,
          173,
          43,
          50,
          153,
          138,
          63,
          135,
          202,
          91,
          284,
          289,
          481,
          555,
          453,
          388,
          26,
          220,
          94,
          470,
          215,
          793,
          473,
          104,
          69,
          679,
          1465,
          1176,
          40,
          896,
          419,
          865,
          2138,
          546,
          62,
          791,
          369,
          1144,
          924,
          830,
          908,
          54,
          1473,
          6032,
          3765,
          319
         ],
         "yaxis": "y2"
        }
       ],
       "layout": {
        "template": {
         "data": {
          "bar": [
           {
            "error_x": {
             "color": "#2a3f5f"
            },
            "error_y": {
             "color": "#2a3f5f"
            },
            "marker": {
             "line": {
              "color": "#E5ECF6",
              "width": 0.5
             },
             "pattern": {
              "fillmode": "overlay",
              "size": 10,
              "solidity": 0.2
             }
            },
            "type": "bar"
           }
          ],
          "barpolar": [
           {
            "marker": {
             "line": {
              "color": "#E5ECF6",
              "width": 0.5
             },
             "pattern": {
              "fillmode": "overlay",
              "size": 10,
              "solidity": 0.2
             }
            },
            "type": "barpolar"
           }
          ],
          "carpet": [
           {
            "aaxis": {
             "endlinecolor": "#2a3f5f",
             "gridcolor": "white",
             "linecolor": "white",
             "minorgridcolor": "white",
             "startlinecolor": "#2a3f5f"
            },
            "baxis": {
             "endlinecolor": "#2a3f5f",
             "gridcolor": "white",
             "linecolor": "white",
             "minorgridcolor": "white",
             "startlinecolor": "#2a3f5f"
            },
            "type": "carpet"
           }
          ],
          "choropleth": [
           {
            "colorbar": {
             "outlinewidth": 0,
             "ticks": ""
            },
            "type": "choropleth"
           }
          ],
          "contour": [
           {
            "colorbar": {
             "outlinewidth": 0,
             "ticks": ""
            },
            "colorscale": [
             [
              0,
              "#0d0887"
             ],
             [
              0.1111111111111111,
              "#46039f"
             ],
             [
              0.2222222222222222,
              "#7201a8"
             ],
             [
              0.3333333333333333,
              "#9c179e"
             ],
             [
              0.4444444444444444,
              "#bd3786"
             ],
             [
              0.5555555555555556,
              "#d8576b"
             ],
             [
              0.6666666666666666,
              "#ed7953"
             ],
             [
              0.7777777777777778,
              "#fb9f3a"
             ],
             [
              0.8888888888888888,
              "#fdca26"
             ],
             [
              1,
              "#f0f921"
             ]
            ],
            "type": "contour"
           }
          ],
          "contourcarpet": [
           {
            "colorbar": {
             "outlinewidth": 0,
             "ticks": ""
            },
            "type": "contourcarpet"
           }
          ],
          "heatmap": [
           {
            "colorbar": {
             "outlinewidth": 0,
             "ticks": ""
            },
            "colorscale": [
             [
              0,
              "#0d0887"
             ],
             [
              0.1111111111111111,
              "#46039f"
             ],
             [
              0.2222222222222222,
              "#7201a8"
             ],
             [
              0.3333333333333333,
              "#9c179e"
             ],
             [
              0.4444444444444444,
              "#bd3786"
             ],
             [
              0.5555555555555556,
              "#d8576b"
             ],
             [
              0.6666666666666666,
              "#ed7953"
             ],
             [
              0.7777777777777778,
              "#fb9f3a"
             ],
             [
              0.8888888888888888,
              "#fdca26"
             ],
             [
              1,
              "#f0f921"
             ]
            ],
            "type": "heatmap"
           }
          ],
          "heatmapgl": [
           {
            "colorbar": {
             "outlinewidth": 0,
             "ticks": ""
            },
            "colorscale": [
             [
              0,
              "#0d0887"
             ],
             [
              0.1111111111111111,
              "#46039f"
             ],
             [
              0.2222222222222222,
              "#7201a8"
             ],
             [
              0.3333333333333333,
              "#9c179e"
             ],
             [
              0.4444444444444444,
              "#bd3786"
             ],
             [
              0.5555555555555556,
              "#d8576b"
             ],
             [
              0.6666666666666666,
              "#ed7953"
             ],
             [
              0.7777777777777778,
              "#fb9f3a"
             ],
             [
              0.8888888888888888,
              "#fdca26"
             ],
             [
              1,
              "#f0f921"
             ]
            ],
            "type": "heatmapgl"
           }
          ],
          "histogram": [
           {
            "marker": {
             "pattern": {
              "fillmode": "overlay",
              "size": 10,
              "solidity": 0.2
             }
            },
            "type": "histogram"
           }
          ],
          "histogram2d": [
           {
            "colorbar": {
             "outlinewidth": 0,
             "ticks": ""
            },
            "colorscale": [
             [
              0,
              "#0d0887"
             ],
             [
              0.1111111111111111,
              "#46039f"
             ],
             [
              0.2222222222222222,
              "#7201a8"
             ],
             [
              0.3333333333333333,
              "#9c179e"
             ],
             [
              0.4444444444444444,
              "#bd3786"
             ],
             [
              0.5555555555555556,
              "#d8576b"
             ],
             [
              0.6666666666666666,
              "#ed7953"
             ],
             [
              0.7777777777777778,
              "#fb9f3a"
             ],
             [
              0.8888888888888888,
              "#fdca26"
             ],
             [
              1,
              "#f0f921"
             ]
            ],
            "type": "histogram2d"
           }
          ],
          "histogram2dcontour": [
           {
            "colorbar": {
             "outlinewidth": 0,
             "ticks": ""
            },
            "colorscale": [
             [
              0,
              "#0d0887"
             ],
             [
              0.1111111111111111,
              "#46039f"
             ],
             [
              0.2222222222222222,
              "#7201a8"
             ],
             [
              0.3333333333333333,
              "#9c179e"
             ],
             [
              0.4444444444444444,
              "#bd3786"
             ],
             [
              0.5555555555555556,
              "#d8576b"
             ],
             [
              0.6666666666666666,
              "#ed7953"
             ],
             [
              0.7777777777777778,
              "#fb9f3a"
             ],
             [
              0.8888888888888888,
              "#fdca26"
             ],
             [
              1,
              "#f0f921"
             ]
            ],
            "type": "histogram2dcontour"
           }
          ],
          "mesh3d": [
           {
            "colorbar": {
             "outlinewidth": 0,
             "ticks": ""
            },
            "type": "mesh3d"
           }
          ],
          "parcoords": [
           {
            "line": {
             "colorbar": {
              "outlinewidth": 0,
              "ticks": ""
             }
            },
            "type": "parcoords"
           }
          ],
          "pie": [
           {
            "automargin": true,
            "type": "pie"
           }
          ],
          "scatter": [
           {
            "fillpattern": {
             "fillmode": "overlay",
             "size": 10,
             "solidity": 0.2
            },
            "type": "scatter"
           }
          ],
          "scatter3d": [
           {
            "line": {
             "colorbar": {
              "outlinewidth": 0,
              "ticks": ""
             }
            },
            "marker": {
             "colorbar": {
              "outlinewidth": 0,
              "ticks": ""
             }
            },
            "type": "scatter3d"
           }
          ],
          "scattercarpet": [
           {
            "marker": {
             "colorbar": {
              "outlinewidth": 0,
              "ticks": ""
             }
            },
            "type": "scattercarpet"
           }
          ],
          "scattergeo": [
           {
            "marker": {
             "colorbar": {
              "outlinewidth": 0,
              "ticks": ""
             }
            },
            "type": "scattergeo"
           }
          ],
          "scattergl": [
           {
            "marker": {
             "colorbar": {
              "outlinewidth": 0,
              "ticks": ""
             }
            },
            "type": "scattergl"
           }
          ],
          "scattermapbox": [
           {
            "marker": {
             "colorbar": {
              "outlinewidth": 0,
              "ticks": ""
             }
            },
            "type": "scattermapbox"
           }
          ],
          "scatterpolar": [
           {
            "marker": {
             "colorbar": {
              "outlinewidth": 0,
              "ticks": ""
             }
            },
            "type": "scatterpolar"
           }
          ],
          "scatterpolargl": [
           {
            "marker": {
             "colorbar": {
              "outlinewidth": 0,
              "ticks": ""
             }
            },
            "type": "scatterpolargl"
           }
          ],
          "scatterternary": [
           {
            "marker": {
             "colorbar": {
              "outlinewidth": 0,
              "ticks": ""
             }
            },
            "type": "scatterternary"
           }
          ],
          "surface": [
           {
            "colorbar": {
             "outlinewidth": 0,
             "ticks": ""
            },
            "colorscale": [
             [
              0,
              "#0d0887"
             ],
             [
              0.1111111111111111,
              "#46039f"
             ],
             [
              0.2222222222222222,
              "#7201a8"
             ],
             [
              0.3333333333333333,
              "#9c179e"
             ],
             [
              0.4444444444444444,
              "#bd3786"
             ],
             [
              0.5555555555555556,
              "#d8576b"
             ],
             [
              0.6666666666666666,
              "#ed7953"
             ],
             [
              0.7777777777777778,
              "#fb9f3a"
             ],
             [
              0.8888888888888888,
              "#fdca26"
             ],
             [
              1,
              "#f0f921"
             ]
            ],
            "type": "surface"
           }
          ],
          "table": [
           {
            "cells": {
             "fill": {
              "color": "#EBF0F8"
             },
             "line": {
              "color": "white"
             }
            },
            "header": {
             "fill": {
              "color": "#C8D4E3"
             },
             "line": {
              "color": "white"
             }
            },
            "type": "table"
           }
          ]
         },
         "layout": {
          "annotationdefaults": {
           "arrowcolor": "#2a3f5f",
           "arrowhead": 0,
           "arrowwidth": 1
          },
          "autotypenumbers": "strict",
          "coloraxis": {
           "colorbar": {
            "outlinewidth": 0,
            "ticks": ""
           }
          },
          "colorscale": {
           "diverging": [
            [
             0,
             "#8e0152"
            ],
            [
             0.1,
             "#c51b7d"
            ],
            [
             0.2,
             "#de77ae"
            ],
            [
             0.3,
             "#f1b6da"
            ],
            [
             0.4,
             "#fde0ef"
            ],
            [
             0.5,
             "#f7f7f7"
            ],
            [
             0.6,
             "#e6f5d0"
            ],
            [
             0.7,
             "#b8e186"
            ],
            [
             0.8,
             "#7fbc41"
            ],
            [
             0.9,
             "#4d9221"
            ],
            [
             1,
             "#276419"
            ]
           ],
           "sequential": [
            [
             0,
             "#0d0887"
            ],
            [
             0.1111111111111111,
             "#46039f"
            ],
            [
             0.2222222222222222,
             "#7201a8"
            ],
            [
             0.3333333333333333,
             "#9c179e"
            ],
            [
             0.4444444444444444,
             "#bd3786"
            ],
            [
             0.5555555555555556,
             "#d8576b"
            ],
            [
             0.6666666666666666,
             "#ed7953"
            ],
            [
             0.7777777777777778,
             "#fb9f3a"
            ],
            [
             0.8888888888888888,
             "#fdca26"
            ],
            [
             1,
             "#f0f921"
            ]
           ],
           "sequentialminus": [
            [
             0,
             "#0d0887"
            ],
            [
             0.1111111111111111,
             "#46039f"
            ],
            [
             0.2222222222222222,
             "#7201a8"
            ],
            [
             0.3333333333333333,
             "#9c179e"
            ],
            [
             0.4444444444444444,
             "#bd3786"
            ],
            [
             0.5555555555555556,
             "#d8576b"
            ],
            [
             0.6666666666666666,
             "#ed7953"
            ],
            [
             0.7777777777777778,
             "#fb9f3a"
            ],
            [
             0.8888888888888888,
             "#fdca26"
            ],
            [
             1,
             "#f0f921"
            ]
           ]
          },
          "colorway": [
           "#636efa",
           "#EF553B",
           "#00cc96",
           "#ab63fa",
           "#FFA15A",
           "#19d3f3",
           "#FF6692",
           "#B6E880",
           "#FF97FF",
           "#FECB52"
          ],
          "font": {
           "color": "#2a3f5f"
          },
          "geo": {
           "bgcolor": "white",
           "lakecolor": "white",
           "landcolor": "#E5ECF6",
           "showlakes": true,
           "showland": true,
           "subunitcolor": "white"
          },
          "hoverlabel": {
           "align": "left"
          },
          "hovermode": "closest",
          "mapbox": {
           "style": "light"
          },
          "paper_bgcolor": "white",
          "plot_bgcolor": "#E5ECF6",
          "polar": {
           "angularaxis": {
            "gridcolor": "white",
            "linecolor": "white",
            "ticks": ""
           },
           "bgcolor": "#E5ECF6",
           "radialaxis": {
            "gridcolor": "white",
            "linecolor": "white",
            "ticks": ""
           }
          },
          "scene": {
           "xaxis": {
            "backgroundcolor": "#E5ECF6",
            "gridcolor": "white",
            "gridwidth": 2,
            "linecolor": "white",
            "showbackground": true,
            "ticks": "",
            "zerolinecolor": "white"
           },
           "yaxis": {
            "backgroundcolor": "#E5ECF6",
            "gridcolor": "white",
            "gridwidth": 2,
            "linecolor": "white",
            "showbackground": true,
            "ticks": "",
            "zerolinecolor": "white"
           },
           "zaxis": {
            "backgroundcolor": "#E5ECF6",
            "gridcolor": "white",
            "gridwidth": 2,
            "linecolor": "white",
            "showbackground": true,
            "ticks": "",
            "zerolinecolor": "white"
           }
          },
          "shapedefaults": {
           "line": {
            "color": "#2a3f5f"
           }
          },
          "ternary": {
           "aaxis": {
            "gridcolor": "white",
            "linecolor": "white",
            "ticks": ""
           },
           "baxis": {
            "gridcolor": "white",
            "linecolor": "white",
            "ticks": ""
           },
           "bgcolor": "#E5ECF6",
           "caxis": {
            "gridcolor": "white",
            "linecolor": "white",
            "ticks": ""
           }
          },
          "title": {
           "x": 0.05
          },
          "xaxis": {
           "automargin": true,
           "gridcolor": "white",
           "linecolor": "white",
           "ticks": "",
           "title": {
            "standoff": 15
           },
           "zerolinecolor": "white",
           "zerolinewidth": 2
          },
          "yaxis": {
           "automargin": true,
           "gridcolor": "white",
           "linecolor": "white",
           "ticks": "",
           "title": {
            "standoff": 15
           },
           "zerolinecolor": "white",
           "zerolinewidth": 2
          }
         }
        },
        "xaxis": {
         "anchor": "y",
         "domain": [
          0,
          0.94
         ],
         "tickangle": 90,
         "title": {
          "text": "State"
         }
        },
        "yaxis": {
         "anchor": "x",
         "domain": [
          0,
          1
         ],
         "title": {
          "text": "Dollars per year"
         }
        },
        "yaxis2": {
         "anchor": "x",
         "overlaying": "y",
         "side": "right",
         "title": {
          "text": "Job Listings (log)"
         },
         "type": "log"
        }
       }
      }
     },
     "metadata": {},
     "output_type": "display_data"
    }
   ],
   "source": [
    "df = jpm.postings_with_pay[['state','avg_salary']].copy()\n",
    "\n",
    "groups = df.groupby('state')\n",
    "group_count = groups.count()\n",
    "df = groups.mean()\n",
    "df['count'] = group_count\n",
    "df = df.dropna(axis=1).sort_values(by='avg_salary')\n",
    "\n",
    "fig = make_subplots(specs=[[{\"secondary_y\": True}]])\n",
    "\n",
    "fig.add_trace(\n",
    "    go.Bar(\n",
    "        x = df.index.values, \n",
    "        y=df['avg_salary'],\n",
    "        name=\"Average Salary\",\n",
    "    ), \n",
    "    secondary_y=False)\n",
    "\n",
    "fig.add_trace(\n",
    "    go.Scatter(\n",
    "        x = df.index.values,\n",
    "        y = df['count'],\n",
    "        name=\"Sample Size\"\n",
    "    ),\n",
    "    secondary_y=True\n",
    ")\n",
    "\n",
    "fig.update_xaxes(title_text=\"State\",tickangle=90)\n",
    "\n",
    "# Set y-axes titles\n",
    "fig.update_yaxes(title_text=\"Dollars per year\", secondary_y=False)\n",
    "fig.update_yaxes(title_text=\"Job Listings (log)\", secondary_y=True, type=\"log\")\n",
    "\n",
    "fig.show()"
   ]
  },
  {
   "cell_type": "code",
   "execution_count": 6,
   "id": "0bb0ee27",
   "metadata": {},
   "outputs": [],
   "source": [
    "\n",
    "\n",
    "#tokenized_df = job2vec.dataset\n",
    "#print(tokenized_df.head())\n"
   ]
  },
  {
   "cell_type": "code",
   "execution_count": 12,
   "id": "f9d3c78d",
   "metadata": {},
   "outputs": [
    {
     "name": "stdout",
     "output_type": "stream",
     "text": [
      "Retrieving an existing model from c:\\dev\\job-estimator/assets/w2v/w2v.model\n",
      "0                                 Marketing Coordinator\n",
      "1                     Mental Health Therapist/Counselor\n",
      "2                           Assitant Restaurant Manager\n",
      "3     Senior Elder Law / Trusts and Estates Associat...\n",
      "4                                    Service Technician\n",
      "                            ...                        \n",
      "95                                  Service Coordinator\n",
      "96                                Fundraising Associate\n",
      "97                             Social Media Coordinator\n",
      "98              Professional Window Cleaning Technician\n",
      "99                                Marketing Coordinator\n",
      "Name: title, Length: 100, dtype: object\n",
      "                                                    0  \\\n",
      "0                               Marketing Coordinator   \n",
      "1                   Mental Health Therapist/Counselor   \n",
      "2                         Assitant Restaurant Manager   \n",
      "3   Senior Elder Law / Trusts and Estates Associat...   \n",
      "4                                  Service Technician   \n",
      "..                                                ...   \n",
      "95                                Service Coordinator   \n",
      "96                              Fundraising Associate   \n",
      "97                           Social Media Coordinator   \n",
      "98            Professional Window Cleaning Technician   \n",
      "99                              Marketing Coordinator   \n",
      "\n",
      "                                                    1  \n",
      "0   ('Advertising, promotions, and marketing manag...  \n",
      "1   ('Substance abuse, behavioral disorder, and me...  \n",
      "2        ('Chefs and head cooks', 0.4156661033630371)  \n",
      "3   ('Paralegals and legal assistants', 0.49490395...  \n",
      "4   ('Diesel service technicians and mechanics', 0...  \n",
      "..                                                ...  \n",
      "95  ('Customer service representatives', 0.5327186...  \n",
      "96  ('Public relations and fundraising managers', ...  \n",
      "97  ('Librarians and library media specialists', 0...  \n",
      "98  ('Dental and ophthalmic laboratory technicians...  \n",
      "99  ('Advertising, promotions, and marketing manag...  \n",
      "\n",
      "[100 rows x 2 columns]\n"
     ]
    }
   ],
   "source": [
    "import json\n",
    "\n",
    "from gensim.models import KeyedVectors\n",
    "job2vec = J2V(jpm.postings)\n",
    "j2v = job2vec.get_model()\n",
    "wv = j2v.wv\n",
    "categories = json.load(open(settings.REPO_PATH + '/assets/job_categories.json'))\n",
    "vectors = [wv.get_mean_vector(job2vec.tokenize(category)) for category in categories]\n",
    "#df.to_pickle(settings.REPO_PATH + '/assets/vectorized_categories.bin')\n",
    "\n",
    "kv = KeyedVectors(vector_size=300)\n",
    "kv.add_vectors(categories, vectors)\n",
    "\n",
    "\n",
    "# inspired by https://github.com/piskvorky/gensim/blob/develop/gensim/models/keyedvectors.py#L1165\n",
    "def get_similar_categories(sentence: str, topn=3) -> list[str, float]:\n",
    "    tkn = job2vec.tokenize(sentence)\n",
    "    if len(tkn) == 0:\n",
    "        return []\n",
    "    vec = wv.get_mean_vector(tkn)\n",
    "    categories = kv.similar_by_vector(vec, topn)\n",
    "    return categories\n",
    "\n",
    "def categorize(sentence)-> tuple:\n",
    "    similar = get_similar_categories(sentence, topn=1)\n",
    "    if not similar:\n",
    "        return pd.NA\n",
    "    return similar[0]\n",
    "\n",
    "# # inspired by https://github.com/piskvorky/gensim/blob/develop/gensim/models/keyedvectors.py#L655\n",
    "# best = matutils.argsort(distances(), topn=topn + len(all_keys), reverse=True)\n",
    "top_postings: pd.DataFrame = jpm.postings.head(100)\n",
    "print(top_postings['title'])\n",
    "categorized = []\n",
    "\n",
    "for post in top_postings['title']:\n",
    "    if not post:\n",
    "        continue\n",
    "    category = categorize(post)\n",
    "    categorized.append([post,str(category)])\n",
    "\n",
    "categorized = pd.DataFrame(categorized)\n",
    "print(categorized)"
   ]
  },
  {
   "cell_type": "code",
   "execution_count": null,
   "id": "eb866aff",
   "metadata": {},
   "outputs": [
    {
     "name": "stdout",
     "output_type": "stream",
     "text": [
      "Word2Vec<vocab=74766, vector_size=300, alpha=0.025>\n"
     ]
    }
   ],
   "source": [
    "print(j2v)"
   ]
  },
  {
   "cell_type": "code",
   "execution_count": null,
   "id": "51e0ce4f",
   "metadata": {},
   "outputs": [
    {
     "name": "stdout",
     "output_type": "stream",
     "text": [
      "Training....\n",
      "Init 1/1 with method k-means++\n",
      "Inertia for init 1/1: 576209.375\n",
      "[MiniBatchKMeans] Reassigning 183 cluster centers.\n",
      "Minibatch step 1/14545: mean batch inertia: 34.74737354085603\n",
      "[MiniBatchKMeans] Reassigning 71 cluster centers.\n",
      "Minibatch step 2/14545: mean batch inertia: 36.48498905642023, ewa inertia: 36.48498905642023\n",
      "[MiniBatchKMeans] Reassigning 39 cluster centers.\n",
      "Minibatch step 3/14545: mean batch inertia: 34.97137645914397, ewa inertia: 36.27687668732692\n",
      "[MiniBatchKMeans] Reassigning 78 cluster centers.\n",
      "Minibatch step 4/14545: mean batch inertia: 34.03548151750973, ewa inertia: 35.96869871648791\n",
      "[MiniBatchKMeans] Reassigning 81 cluster centers.\n",
      "Minibatch step 5/14545: mean batch inertia: 34.1098765807393, ewa inertia: 35.71312217128085\n",
      "[MiniBatchKMeans] Reassigning 88 cluster centers.\n",
      "Minibatch step 6/14545: mean batch inertia: 37.8814810311284, ewa inertia: 36.011258101293194\n",
      "[MiniBatchKMeans] Reassigning 90 cluster centers.\n",
      "Minibatch step 7/14545: mean batch inertia: 34.62175644455253, ewa inertia: 35.82021021878762\n",
      "[MiniBatchKMeans] Reassigning 91 cluster centers.\n",
      "Minibatch step 8/14545: mean batch inertia: 35.373844844357976, ewa inertia: 35.75883774096804\n",
      "[MiniBatchKMeans] Reassigning 89 cluster centers.\n",
      "Minibatch step 9/14545: mean batch inertia: 35.66231152723736, ewa inertia: 35.745565983680045\n",
      "[MiniBatchKMeans] Reassigning 91 cluster centers.\n",
      "Minibatch step 10/14545: mean batch inertia: 34.59129681420234, ewa inertia: 35.586861113052215\n",
      "[MiniBatchKMeans] Reassigning 91 cluster centers.\n",
      "Minibatch step 11/14545: mean batch inertia: 33.69295051070039, ewa inertia: 35.32646012074041\n",
      "[MiniBatchKMeans] Reassigning 89 cluster centers.\n",
      "Minibatch step 12/14545: mean batch inertia: 35.9055842655642, ewa inertia: 35.40608610825881\n",
      "[MiniBatchKMeans] Reassigning 88 cluster centers.\n",
      "Minibatch step 13/14545: mean batch inertia: 33.92511247568093, ewa inertia: 35.20246139491067\n",
      "[MiniBatchKMeans] Reassigning 85 cluster centers.\n",
      "Minibatch step 14/14545: mean batch inertia: 33.9820798881323, ewa inertia: 35.03466648686726\n",
      "[MiniBatchKMeans] Reassigning 84 cluster centers.\n",
      "Minibatch step 15/14545: mean batch inertia: 34.79679900291829, ewa inertia: 35.00196117924497\n",
      "[MiniBatchKMeans] Reassigning 85 cluster centers.\n",
      "Minibatch step 16/14545: mean batch inertia: 35.05069309338521, ewa inertia: 35.00866151598928\n",
      "[MiniBatchKMeans] Reassigning 85 cluster centers.\n",
      "Minibatch step 17/14545: mean batch inertia: 32.54602687256809, ewa inertia: 34.67006448609147\n",
      "[MiniBatchKMeans] Reassigning 79 cluster centers.\n",
      "Minibatch step 18/14545: mean batch inertia: 35.20744163424124, ewa inertia: 34.74395051980928\n",
      "[MiniBatchKMeans] Reassigning 81 cluster centers.\n",
      "Minibatch step 19/14545: mean batch inertia: 33.199841926070036, ewa inertia: 34.53164513984701\n",
      "[MiniBatchKMeans] Reassigning 78 cluster centers.\n",
      "Minibatch step 20/14545: mean batch inertia: 33.408311040856034, ewa inertia: 34.377193650050344\n",
      "[MiniBatchKMeans] Reassigning 76 cluster centers.\n",
      "Minibatch step 21/14545: mean batch inertia: 31.892619163424126, ewa inertia: 34.03558002742917\n",
      "[MiniBatchKMeans] Reassigning 75 cluster centers.\n",
      "Minibatch step 22/14545: mean batch inertia: 36.20856639105058, ewa inertia: 34.334352210585216\n",
      "[MiniBatchKMeans] Reassigning 73 cluster centers.\n",
      "Minibatch step 23/14545: mean batch inertia: 31.305559946498054, ewa inertia: 33.91791201003128\n",
      "[MiniBatchKMeans] Reassigning 75 cluster centers.\n",
      "Minibatch step 24/14545: mean batch inertia: 34.24432453793774, ewa inertia: 33.962791713468334\n",
      "[MiniBatchKMeans] Reassigning 66 cluster centers.\n",
      "Minibatch step 25/14545: mean batch inertia: 35.72279912451362, ewa inertia: 34.20478184528512\n",
      "[MiniBatchKMeans] Reassigning 70 cluster centers.\n",
      "Minibatch step 26/14545: mean batch inertia: 33.406958292801555, ewa inertia: 34.0950860420627\n",
      "[MiniBatchKMeans] Reassigning 66 cluster centers.\n",
      "Minibatch step 27/14545: mean batch inertia: 31.839931906614787, ewa inertia: 33.78501629856082\n",
      "[MiniBatchKMeans] Reassigning 70 cluster centers.\n",
      "Minibatch step 28/14545: mean batch inertia: 32.7252705496109, ewa inertia: 33.63930781354463\n",
      "[MiniBatchKMeans] Reassigning 72 cluster centers.\n",
      "Minibatch step 29/14545: mean batch inertia: 32.60798273346303, ewa inertia: 33.49750699469088\n",
      "[MiniBatchKMeans] Reassigning 72 cluster centers.\n",
      "Minibatch step 30/14545: mean batch inertia: 33.553511065175094, ewa inertia: 33.50520720794776\n",
      "[MiniBatchKMeans] Reassigning 70 cluster centers.\n",
      "Minibatch step 31/14545: mean batch inertia: 33.6510122811284, ewa inertia: 33.52525450357681\n",
      "[MiniBatchKMeans] Reassigning 70 cluster centers.\n",
      "Minibatch step 32/14545: mean batch inertia: 31.241658560311283, ewa inertia: 33.211274187437745\n",
      "[MiniBatchKMeans] Reassigning 66 cluster centers.\n",
      "Minibatch step 33/14545: mean batch inertia: 37.1513983463035, ewa inertia: 33.75301688613021\n",
      "[MiniBatchKMeans] Reassigning 66 cluster centers.\n",
      "Minibatch step 34/14545: mean batch inertia: 35.46733341439689, ewa inertia: 33.98872480420344\n",
      "[MiniBatchKMeans] Reassigning 65 cluster centers.\n",
      "Minibatch step 35/14545: mean batch inertia: 35.615646279182876, ewa inertia: 34.21241644306536\n",
      "[MiniBatchKMeans] Reassigning 65 cluster centers.\n",
      "Minibatch step 36/14545: mean batch inertia: 33.38818093385214, ewa inertia: 34.099089159173914\n",
      "[MiniBatchKMeans] Reassigning 63 cluster centers.\n",
      "Minibatch step 37/14545: mean batch inertia: 32.57810980058366, ewa inertia: 33.88996390596986\n",
      "[MiniBatchKMeans] Reassigning 62 cluster centers.\n",
      "Minibatch step 38/14545: mean batch inertia: 31.396692607003892, ewa inertia: 33.547154525449436\n",
      "[MiniBatchKMeans] Reassigning 60 cluster centers.\n",
      "Minibatch step 39/14545: mean batch inertia: 31.436928501945527, ewa inertia: 33.257011500831354\n",
      "[MiniBatchKMeans] Reassigning 57 cluster centers.\n",
      "Minibatch step 40/14545: mean batch inertia: 32.44767448929961, ewa inertia: 33.14573266821073\n",
      "[MiniBatchKMeans] Reassigning 62 cluster centers.\n",
      "Minibatch step 41/14545: mean batch inertia: 31.666795355058365, ewa inertia: 32.94238793618716\n",
      "[MiniBatchKMeans] Reassigning 59 cluster centers.\n",
      "Minibatch step 42/14545: mean batch inertia: 32.03473674610895, ewa inertia: 32.81759151217651\n",
      "[MiniBatchKMeans] Reassigning 60 cluster centers.\n",
      "Minibatch step 43/14545: mean batch inertia: 32.99890260214008, ewa inertia: 32.8425206654771\n",
      "[MiniBatchKMeans] Reassigning 61 cluster centers.\n",
      "Minibatch step 44/14545: mean batch inertia: 36.31452456225681, ewa inertia: 33.31989972387045\n",
      "[MiniBatchKMeans] Reassigning 59 cluster centers.\n",
      "Minibatch step 45/14545: mean batch inertia: 33.86947045233463, ewa inertia: 33.39546229945342\n",
      "[MiniBatchKMeans] Reassigning 58 cluster centers.\n",
      "Minibatch step 46/14545: mean batch inertia: 33.53498905642024, ewa inertia: 33.41464636544\n",
      "[MiniBatchKMeans] Reassigning 57 cluster centers.\n",
      "Minibatch step 47/14545: mean batch inertia: 31.244357976653696, ewa inertia: 33.11624513713442\n",
      "[MiniBatchKMeans] Reassigning 58 cluster centers.\n",
      "Minibatch step 48/14545: mean batch inertia: 33.28518968871595, ewa inertia: 33.13947396790546\n",
      "[MiniBatchKMeans] Reassigning 57 cluster centers.\n",
      "Minibatch step 49/14545: mean batch inertia: 32.109393239299614, ewa inertia: 32.99784423968221\n",
      "[MiniBatchKMeans] Reassigning 49 cluster centers.\n",
      "Minibatch step 50/14545: mean batch inertia: 31.92727991245136, ewa inertia: 32.85064826707487\n",
      "[MiniBatchKMeans] Reassigning 52 cluster centers.\n",
      "Minibatch step 51/14545: mean batch inertia: 32.70420415856031, ewa inertia: 32.8305131080404\n",
      "[MiniBatchKMeans] Reassigning 51 cluster centers.\n",
      "Minibatch step 52/14545: mean batch inertia: 31.925890685797665, ewa inertia: 32.70613312087153\n",
      "[MiniBatchKMeans] Reassigning 50 cluster centers.\n",
      "Minibatch step 53/14545: mean batch inertia: 34.69815175097276, ewa inertia: 32.98002336011398\n",
      "[MiniBatchKMeans] Reassigning 50 cluster centers.\n",
      "Minibatch step 54/14545: mean batch inertia: 32.62065904669261, ewa inertia: 32.930612990004555\n",
      "[MiniBatchKMeans] Reassigning 53 cluster centers.\n",
      "Minibatch step 55/14545: mean batch inertia: 33.83600741731517, ewa inertia: 33.05509912309473\n",
      "[MiniBatchKMeans] Reassigning 54 cluster centers.\n",
      "Minibatch step 56/14545: mean batch inertia: 36.91604754377432, ewa inertia: 33.58595564755854\n",
      "[MiniBatchKMeans] Reassigning 55 cluster centers.\n",
      "Minibatch step 57/14545: mean batch inertia: 31.261946741245136, ewa inertia: 33.2664187989903\n",
      "[MiniBatchKMeans] Reassigning 54 cluster centers.\n",
      "Minibatch step 58/14545: mean batch inertia: 33.315421327821014, ewa inertia: 33.27315634358055\n",
      "[MiniBatchKMeans] Reassigning 55 cluster centers.\n",
      "Minibatch step 59/14545: mean batch inertia: 33.908383998054475, ewa inertia: 33.36049621662604\n",
      "[MiniBatchKMeans] Reassigning 54 cluster centers.\n",
      "Minibatch step 60/14545: mean batch inertia: 33.12682089007782, ewa inertia: 33.328367304714156\n",
      "[MiniBatchKMeans] Reassigning 56 cluster centers.\n",
      "Minibatch step 61/14545: mean batch inertia: 35.48232003891051, ewa inertia: 33.624522481564085\n",
      "[MiniBatchKMeans] Reassigning 54 cluster centers.\n",
      "Minibatch step 62/14545: mean batch inertia: 35.18850012159533, ewa inertia: 33.83955973248389\n",
      "[MiniBatchKMeans] Reassigning 54 cluster centers.\n",
      "Minibatch step 63/14545: mean batch inertia: 30.992111502918288, ewa inertia: 33.44805321490348\n",
      "[MiniBatchKMeans] Reassigning 52 cluster centers.\n",
      "Minibatch step 64/14545: mean batch inertia: 31.000471181906615, ewa inertia: 33.11152582582531\n",
      "[MiniBatchKMeans] Reassigning 52 cluster centers.\n",
      "Minibatch step 65/14545: mean batch inertia: 33.20440479085603, ewa inertia: 33.12429610897852\n",
      "[MiniBatchKMeans] Reassigning 55 cluster centers.\n",
      "Minibatch step 66/14545: mean batch inertia: 34.94174975680934, ewa inertia: 33.37418474299755\n",
      "Minibatch step 67/14545: mean batch inertia: 34.32142509727626, ewa inertia: 33.50442443219178\n",
      "[MiniBatchKMeans] Reassigning 34 cluster centers.\n",
      "Minibatch step 68/14545: mean batch inertia: 33.464679596303505, ewa inertia: 33.498959763114094\n",
      "[MiniBatchKMeans] Reassigning 45 cluster centers.\n",
      "Minibatch step 69/14545: mean batch inertia: 32.62319430933852, ewa inertia: 33.37854743060359\n",
      "[MiniBatchKMeans] Reassigning 47 cluster centers.\n",
      "Minibatch step 70/14545: mean batch inertia: 32.65364785992218, ewa inertia: 33.27887822377966\n",
      "[MiniBatchKMeans] Reassigning 51 cluster centers.\n",
      "Minibatch step 71/14545: mean batch inertia: 34.8580921692607, ewa inertia: 33.49601037244879\n",
      "[MiniBatchKMeans] Reassigning 50 cluster centers.\n",
      "Minibatch step 72/14545: mean batch inertia: 33.342996108949414, ewa inertia: 33.47497185774613\n",
      "[MiniBatchKMeans] Reassigning 47 cluster centers.\n",
      "Minibatch step 73/14545: mean batch inertia: 33.05123115272374, ewa inertia: 33.41671013201646\n",
      "[MiniBatchKMeans] Reassigning 50 cluster centers.\n",
      "Minibatch step 74/14545: mean batch inertia: 32.041609922178985, ewa inertia: 33.2276423593744\n",
      "[MiniBatchKMeans] Reassigning 51 cluster centers.\n",
      "Minibatch step 75/14545: mean batch inertia: 31.592318214980544, ewa inertia: 33.002795405445944\n",
      "[MiniBatchKMeans] Reassigning 50 cluster centers.\n",
      "Minibatch step 76/14545: mean batch inertia: 32.44877188715953, ewa inertia: 32.92662059880686\n",
      "[MiniBatchKMeans] Reassigning 49 cluster centers.\n",
      "Minibatch step 77/14545: mean batch inertia: 33.218841196498055, ewa inertia: 32.96679912334664\n",
      "[MiniBatchKMeans] Reassigning 50 cluster centers.\n",
      "Minibatch step 78/14545: mean batch inertia: 34.17840770914397, ewa inertia: 33.13338780902343\n",
      "[MiniBatchKMeans] Reassigning 47 cluster centers.\n",
      "Minibatch step 79/14545: mean batch inertia: 30.746990515564203, ewa inertia: 32.80527294314997\n",
      "[MiniBatchKMeans] Reassigning 48 cluster centers.\n",
      "Minibatch step 80/14545: mean batch inertia: 32.70158681906615, ewa inertia: 32.7910167424788\n",
      "[MiniBatchKMeans] Reassigning 47 cluster centers.\n",
      "Minibatch step 81/14545: mean batch inertia: 32.54055204280156, ewa inertia: 32.7565793956188\n",
      "[MiniBatchKMeans] Reassigning 50 cluster centers.\n",
      "Minibatch step 82/14545: mean batch inertia: 35.649556177042804, ewa inertia: 33.154345807445395\n",
      "[MiniBatchKMeans] Reassigning 45 cluster centers.\n",
      "Minibatch step 83/14545: mean batch inertia: 33.379274075875486, ewa inertia: 33.18527205297433\n",
      "[MiniBatchKMeans] Reassigning 45 cluster centers.\n",
      "Minibatch step 84/14545: mean batch inertia: 31.18633876459144, ewa inertia: 32.91043109099142\n",
      "[MiniBatchKMeans] Reassigning 44 cluster centers.\n",
      "Minibatch step 85/14545: mean batch inertia: 34.392336454280155, ewa inertia: 33.11418391154873\n",
      "[MiniBatchKMeans] Reassigning 47 cluster centers.\n",
      "Minibatch step 86/14545: mean batch inertia: 30.404064323929962, ewa inertia: 32.74155923273694\n",
      "[MiniBatchKMeans] Reassigning 49 cluster centers.\n",
      "Minibatch step 87/14545: mean batch inertia: 33.82583596789883, ewa inertia: 32.89064057661143\n",
      "[MiniBatchKMeans] Reassigning 50 cluster centers.\n",
      "Minibatch step 88/14545: mean batch inertia: 33.12928319552529, ewa inertia: 32.92345246049649\n",
      "[MiniBatchKMeans] Reassigning 43 cluster centers.\n",
      "Minibatch step 89/14545: mean batch inertia: 33.41755836575876, ewa inertia: 32.991388965988165\n",
      "[MiniBatchKMeans] Reassigning 47 cluster centers.\n",
      "Minibatch step 90/14545: mean batch inertia: 31.06401690175097, ewa inertia: 32.72638722965585\n",
      "[MiniBatchKMeans] Reassigning 39 cluster centers.\n",
      "Minibatch step 91/14545: mean batch inertia: 34.47938655155642, ewa inertia: 32.96741379256646\n",
      "[MiniBatchKMeans] Reassigning 45 cluster centers.\n",
      "Minibatch step 92/14545: mean batch inertia: 31.240521643968872, ewa inertia: 32.729976804489056\n",
      "[MiniBatchKMeans] Reassigning 48 cluster centers.\n",
      "Minibatch step 93/14545: mean batch inertia: 35.08974647373541, ewa inertia: 33.05443053674864\n",
      "Minibatch step 94/14545: mean batch inertia: 34.53715345330739, ewa inertia: 33.258295765823284\n",
      "Minibatch step 95/14545: mean batch inertia: 36.62620683365759, ewa inertia: 33.72136270414282\n",
      "[MiniBatchKMeans] Reassigning 29 cluster centers.\n",
      "Minibatch step 96/14545: mean batch inertia: 30.6872203307393, ewa inertia: 33.30418689665304\n",
      "[MiniBatchKMeans] Reassigning 36 cluster centers.\n",
      "Minibatch step 97/14545: mean batch inertia: 33.1534046692607, ewa inertia: 33.28345527310799\n",
      "[MiniBatchKMeans] Reassigning 37 cluster centers.\n",
      "Minibatch step 98/14545: mean batch inertia: 31.44066147859922, ewa inertia: 33.03008252567195\n",
      "[MiniBatchKMeans] Reassigning 40 cluster centers.\n",
      "Minibatch step 99/14545: mean batch inertia: 33.445476653696495, ewa inertia: 33.087196648695375\n",
      "[MiniBatchKMeans] Reassigning 39 cluster centers.\n",
      "Minibatch step 100/14545: mean batch inertia: 35.23760335603113, ewa inertia: 33.38286426878728\n",
      "[MiniBatchKMeans] Reassigning 40 cluster centers.\n",
      "Minibatch step 101/14545: mean batch inertia: 34.248929961089495, ewa inertia: 33.5019429440968\n",
      "[MiniBatchKMeans] Reassigning 39 cluster centers.\n",
      "Minibatch step 102/14545: mean batch inertia: 32.16670719844358, ewa inertia: 33.31835628868311\n",
      "[MiniBatchKMeans] Reassigning 39 cluster centers.\n",
      "Minibatch step 103/14545: mean batch inertia: 33.657441634241245, ewa inertia: 33.36497842615469\n",
      "[MiniBatchKMeans] Reassigning 40 cluster centers.\n",
      "Minibatch step 104/14545: mean batch inertia: 36.111268847276264, ewa inertia: 33.74257637082453\n",
      "[MiniBatchKMeans] Reassigning 40 cluster centers.\n",
      "Minibatch step 105/14545: mean batch inertia: 32.45420415856031, ewa inertia: 33.565433161359444\n",
      "[MiniBatchKMeans] Reassigning 36 cluster centers.\n",
      "Minibatch step 106/14545: mean batch inertia: 32.46073078793774, ewa inertia: 33.41354341857486\n",
      "[MiniBatchKMeans] Reassigning 38 cluster centers.\n",
      "Minibatch step 107/14545: mean batch inertia: 34.6, ewa inertia: 33.57667385923786\n",
      "[MiniBatchKMeans] Reassigning 37 cluster centers.\n",
      "Minibatch step 108/14545: mean batch inertia: 32.523203428988325, ewa inertia: 33.431828191724584\n",
      "[MiniBatchKMeans] Reassigning 37 cluster centers.\n",
      "Minibatch step 109/14545: mean batch inertia: 32.07731335116731, ewa inertia: 33.24559078001984\n",
      "[MiniBatchKMeans] Reassigning 35 cluster centers.\n",
      "Minibatch step 110/14545: mean batch inertia: 30.015995865758754, ewa inertia: 32.80154145720892\n",
      "[MiniBatchKMeans] Reassigning 36 cluster centers.\n",
      "Minibatch step 111/14545: mean batch inertia: 31.452295111867706, ewa inertia: 32.61602843100608\n",
      "[MiniBatchKMeans] Reassigning 37 cluster centers.\n",
      "Minibatch step 112/14545: mean batch inertia: 33.14339433365759, ewa inertia: 32.68853798039629\n",
      "[MiniBatchKMeans] Reassigning 39 cluster centers.\n",
      "Minibatch step 113/14545: mean batch inertia: 31.95063837548638, ewa inertia: 32.58708134928265\n",
      "[MiniBatchKMeans] Reassigning 33 cluster centers.\n",
      "Minibatch step 114/14545: mean batch inertia: 30.714570160505836, ewa inertia: 32.32962264396311\n",
      "[MiniBatchKMeans] Reassigning 36 cluster centers.\n",
      "Minibatch step 115/14545: mean batch inertia: 34.00760882782101, ewa inertia: 32.56033536441544\n",
      "[MiniBatchKMeans] Reassigning 37 cluster centers.\n",
      "Minibatch step 116/14545: mean batch inertia: 33.64316938229572, ewa inertia: 32.70921834358819\n",
      "[MiniBatchKMeans] Reassigning 35 cluster centers.\n",
      "Minibatch step 117/14545: mean batch inertia: 32.89427285992218, ewa inertia: 32.734662194858316\n",
      "[MiniBatchKMeans] Reassigning 32 cluster centers.\n",
      "Minibatch step 118/14545: mean batch inertia: 35.19053380350194, ewa inertia: 33.07232934930956\n",
      "[MiniBatchKMeans] Reassigning 33 cluster centers.\n",
      "Minibatch step 119/14545: mean batch inertia: 31.312417923151752, ewa inertia: 32.83035241482106\n",
      "[MiniBatchKMeans] Reassigning 31 cluster centers.\n",
      "Minibatch step 120/14545: mean batch inertia: 31.809606031128403, ewa inertia: 32.690006101282194\n",
      "[MiniBatchKMeans] Reassigning 32 cluster centers.\n",
      "Minibatch step 121/14545: mean batch inertia: 30.647352261673152, ewa inertia: 32.409153833955955\n",
      "[MiniBatchKMeans] Reassigning 33 cluster centers.\n",
      "Minibatch step 122/14545: mean batch inertia: 30.05594905155642, ewa inertia: 32.085602733028175\n",
      "[MiniBatchKMeans] Reassigning 24 cluster centers.\n",
      "Minibatch step 123/14545: mean batch inertia: 33.7617765077821, ewa inertia: 32.31606625844006\n",
      "[MiniBatchKMeans] Reassigning 32 cluster centers.\n",
      "Minibatch step 124/14545: mean batch inertia: 33.52105119163424, ewa inertia: 32.48174423285707\n",
      "[MiniBatchKMeans] Reassigning 31 cluster centers.\n",
      "Minibatch step 125/14545: mean batch inertia: 35.33891050583657, ewa inertia: 32.8745869212922\n",
      "[MiniBatchKMeans] Reassigning 28 cluster centers.\n",
      "Minibatch step 126/14545: mean batch inertia: 32.8476653696498, ewa inertia: 32.870885374474966\n",
      "[MiniBatchKMeans] Reassigning 28 cluster centers.\n",
      "Minibatch step 127/14545: mean batch inertia: 34.48138375486381, ewa inertia: 33.092318939422036\n",
      "[MiniBatchKMeans] Reassigning 29 cluster centers.\n",
      "Minibatch step 128/14545: mean batch inertia: 34.14202638618677, ewa inertia: 33.23664721998353\n",
      "[MiniBatchKMeans] Reassigning 32 cluster centers.\n",
      "Minibatch step 129/14545: mean batch inertia: 33.90870318579766, ewa inertia: 33.32905075802263\n",
      "[MiniBatchKMeans] Reassigning 31 cluster centers.\n",
      "Minibatch step 130/14545: mean batch inertia: 32.45054109922179, ewa inertia: 33.20826111429649\n",
      "[MiniBatchKMeans] Reassigning 33 cluster centers.\n",
      "Minibatch step 131/14545: mean batch inertia: 32.68998966439689, ewa inertia: 33.13700199590244\n",
      "[MiniBatchKMeans] Reassigning 24 cluster centers.\n",
      "Minibatch step 132/14545: mean batch inertia: 33.13636004377432, ewa inertia: 33.13691373145586\n",
      "[MiniBatchKMeans] Reassigning 29 cluster centers.\n",
      "Minibatch step 133/14545: mean batch inertia: 34.096598370622566, ewa inertia: 33.26886443284329\n",
      "[MiniBatchKMeans] Reassigning 29 cluster centers.\n",
      "Minibatch step 134/14545: mean batch inertia: 33.948546935797665, ewa inertia: 33.36231657256229\n",
      "[MiniBatchKMeans] Reassigning 31 cluster centers.\n",
      "Minibatch step 135/14545: mean batch inertia: 32.1944734922179, ewa inertia: 33.20174537315694\n",
      "[MiniBatchKMeans] Reassigning 28 cluster centers.\n",
      "Minibatch step 136/14545: mean batch inertia: 33.58583110408561, ewa inertia: 33.254554785249795\n",
      "[MiniBatchKMeans] Reassigning 26 cluster centers.\n",
      "Minibatch step 137/14545: mean batch inertia: 34.20933244163424, ewa inertia: 33.385830806858685\n",
      "[MiniBatchKMeans] Reassigning 31 cluster centers.\n",
      "Minibatch step 138/14545: mean batch inertia: 32.20058365758755, ewa inertia: 33.22286665563546\n",
      "[MiniBatchKMeans] Reassigning 31 cluster centers.\n",
      "Minibatch step 139/14545: mean batch inertia: 34.41275535019455, ewa inertia: 33.38646899062372\n",
      "[MiniBatchKMeans] Reassigning 24 cluster centers.\n",
      "Minibatch step 140/14545: mean batch inertia: 32.983642388132296, ewa inertia: 33.33108282461984\n",
      "[MiniBatchKMeans] Reassigning 27 cluster centers.\n",
      "Minibatch step 141/14545: mean batch inertia: 33.78089129377432, ewa inertia: 33.39292870666551\n",
      "[MiniBatchKMeans] Reassigning 29 cluster centers.\n",
      "Minibatch step 142/14545: mean batch inertia: 31.298130471789882, ewa inertia: 33.1049069075493\n",
      "[MiniBatchKMeans] Reassigning 30 cluster centers.\n",
      "Minibatch step 143/14545: mean batch inertia: 34.21083718385214, ewa inertia: 33.25696547938438\n",
      "[MiniBatchKMeans] Reassigning 26 cluster centers.\n",
      "Minibatch step 144/14545: mean batch inertia: 32.33797118190662, ewa inertia: 33.13060944827344\n",
      "[MiniBatchKMeans] Reassigning 27 cluster centers.\n",
      "Minibatch step 145/14545: mean batch inertia: 32.19713339007782, ewa inertia: 33.00226226464629\n",
      "[MiniBatchKMeans] Reassigning 26 cluster centers.\n",
      "Minibatch step 146/14545: mean batch inertia: 31.25080252918288, ewa inertia: 32.76144738534708\n",
      "[MiniBatchKMeans] Reassigning 22 cluster centers.\n",
      "Minibatch step 147/14545: mean batch inertia: 33.102474464980546, ewa inertia: 32.80833649924268\n",
      "[MiniBatchKMeans] Reassigning 26 cluster centers.\n",
      "Minibatch step 148/14545: mean batch inertia: 35.221488934824905, ewa inertia: 33.14013003165384\n",
      "[MiniBatchKMeans] Reassigning 25 cluster centers.\n",
      "Minibatch step 149/14545: mean batch inertia: 35.92549854085603, ewa inertia: 33.523100971702235\n",
      "[MiniBatchKMeans] Reassigning 27 cluster centers.\n",
      "Minibatch step 150/14545: mean batch inertia: 30.017290856031128, ewa inertia: 33.041073767332676\n",
      "[MiniBatchKMeans] Reassigning 26 cluster centers.\n",
      "Minibatch step 151/14545: mean batch inertia: 32.93473370622568, ewa inertia: 33.02645266673776\n",
      "[MiniBatchKMeans] Reassigning 27 cluster centers.\n",
      "Minibatch step 152/14545: mean batch inertia: 32.508882538910505, ewa inertia: 32.955289975790365\n",
      "[MiniBatchKMeans] Reassigning 25 cluster centers.\n",
      "Minibatch step 153/14545: mean batch inertia: 35.0788484922179, ewa inertia: 33.24726613571219\n",
      "[MiniBatchKMeans] Reassigning 25 cluster centers.\n",
      "Minibatch step 154/14545: mean batch inertia: 32.78756687743191, ewa inertia: 33.184060331345\n",
      "[MiniBatchKMeans] Reassigning 24 cluster centers.\n",
      "Minibatch step 155/14545: mean batch inertia: 32.38863083657588, ewa inertia: 33.07469369624895\n",
      "[MiniBatchKMeans] Reassigning 22 cluster centers.\n",
      "Minibatch step 156/14545: mean batch inertia: 33.75988874027237, ewa inertia: 33.16890377626501\n",
      "[MiniBatchKMeans] Reassigning 24 cluster centers.\n",
      "Minibatch step 157/14545: mean batch inertia: 34.185642631322956, ewa inertia: 33.308699079406715\n",
      "[MiniBatchKMeans] Reassigning 23 cluster centers.\n",
      "Minibatch step 158/14545: mean batch inertia: 33.531535749027235, ewa inertia: 33.33933774303771\n",
      "[MiniBatchKMeans] Reassigning 23 cluster centers.\n",
      "Minibatch step 159/14545: mean batch inertia: 33.56282222762646, ewa inertia: 33.37006547721953\n",
      "[MiniBatchKMeans] Reassigning 23 cluster centers.\n",
      "Minibatch step 160/14545: mean batch inertia: 33.37914944066148, ewa inertia: 33.371314466000456\n",
      "[MiniBatchKMeans] Reassigning 23 cluster centers.\n",
      "Minibatch step 161/14545: mean batch inertia: 34.07468993190661, ewa inertia: 33.46802424156341\n",
      "[MiniBatchKMeans] Reassigning 19 cluster centers.\n",
      "Minibatch step 162/14545: mean batch inertia: 33.20328003404669, ewa inertia: 33.43162355070686\n",
      "[MiniBatchKMeans] Reassigning 19 cluster centers.\n",
      "Minibatch step 163/14545: mean batch inertia: 32.43405277237354, ewa inertia: 33.29446373954329\n",
      "[MiniBatchKMeans] Reassigning 17 cluster centers.\n",
      "Minibatch step 164/14545: mean batch inertia: 35.79521826361868, ewa inertia: 33.63830201722589\n",
      "[MiniBatchKMeans] Reassigning 18 cluster centers.\n",
      "Minibatch step 165/14545: mean batch inertia: 33.10888861867704, ewa inertia: 33.565510949815376\n",
      "[MiniBatchKMeans] Reassigning 18 cluster centers.\n",
      "Minibatch step 166/14545: mean batch inertia: 31.851450024319067, ewa inertia: 33.32983817554194\n",
      "[MiniBatchKMeans] Reassigning 21 cluster centers.\n",
      "Minibatch step 167/14545: mean batch inertia: 29.889658317120624, ewa inertia: 32.856834725563054\n",
      "[MiniBatchKMeans] Reassigning 6 cluster centers.\n",
      "Minibatch step 168/14545: mean batch inertia: 32.47467777237354, ewa inertia: 32.80429050847813\n",
      "[MiniBatchKMeans] Reassigning 15 cluster centers.\n",
      "Minibatch step 169/14545: mean batch inertia: 31.63791646400778, ewa inertia: 32.64392129241817\n",
      "[MiniBatchKMeans] Reassigning 17 cluster centers.\n",
      "Minibatch step 170/14545: mean batch inertia: 33.27870561770428, ewa inertia: 32.731200210442715\n",
      "[MiniBatchKMeans] Reassigning 17 cluster centers.\n",
      "Minibatch step 171/14545: mean batch inertia: 32.387834387159536, ewa inertia: 32.68398953376248\n",
      "[MiniBatchKMeans] Reassigning 19 cluster centers.\n",
      "Minibatch step 172/14545: mean batch inertia: 32.60214311770428, ewa inertia: 32.67273615784693\n",
      "[MiniBatchKMeans] Reassigning 15 cluster centers.\n",
      "Minibatch step 173/14545: mean batch inertia: 32.805976410505835, ewa inertia: 32.69105586837876\n",
      "[MiniBatchKMeans] Reassigning 18 cluster centers.\n",
      "Minibatch step 174/14545: mean batch inertia: 32.115159897859925, ewa inertia: 32.61187373485818\n",
      "[MiniBatchKMeans] Reassigning 16 cluster centers.\n",
      "Minibatch step 175/14545: mean batch inertia: 30.621640928988327, ewa inertia: 32.33822903540064\n",
      "[MiniBatchKMeans] Reassigning 14 cluster centers.\n",
      "Minibatch step 176/14545: mean batch inertia: 33.82883937256809, ewa inertia: 32.543178736018305\n",
      "[MiniBatchKMeans] Reassigning 18 cluster centers.\n",
      "Minibatch step 177/14545: mean batch inertia: 33.244914275291826, ewa inertia: 32.63966303181367\n",
      "[MiniBatchKMeans] Reassigning 7 cluster centers.\n",
      "Minibatch step 178/14545: mean batch inertia: 31.07460177529183, ewa inertia: 32.42447679032953\n",
      "[MiniBatchKMeans] Reassigning 17 cluster centers.\n",
      "Minibatch step 179/14545: mean batch inertia: 32.9176313229572, ewa inertia: 32.49228248796903\n",
      "[MiniBatchKMeans] Reassigning 14 cluster centers.\n",
      "Minibatch step 180/14545: mean batch inertia: 31.99028453307393, ewa inertia: 32.42326087447214\n",
      "[MiniBatchKMeans] Reassigning 15 cluster centers.\n",
      "Minibatch step 181/14545: mean batch inertia: 32.54129681420233, ewa inertia: 32.43949008602839\n",
      "[MiniBatchKMeans] Reassigning 16 cluster centers.\n",
      "Minibatch step 182/14545: mean batch inertia: 34.42652298151751, ewa inertia: 32.71269481760286\n",
      "[MiniBatchKMeans] Reassigning 16 cluster centers.\n",
      "Minibatch step 183/14545: mean batch inertia: 30.200133754863813, ewa inertia: 32.367233213887886\n",
      "[MiniBatchKMeans] Reassigning 13 cluster centers.\n",
      "Minibatch step 184/14545: mean batch inertia: 31.686250607976653, ewa inertia: 32.2736023180546\n",
      "[MiniBatchKMeans] Reassigning 13 cluster centers.\n",
      "Minibatch step 185/14545: mean batch inertia: 33.677565661478596, ewa inertia: 32.46663859302081\n",
      "[MiniBatchKMeans] Reassigning 13 cluster centers.\n",
      "Minibatch step 186/14545: mean batch inertia: 31.42161660992218, ewa inertia: 32.32295453472967\n",
      "[MiniBatchKMeans] Reassigning 13 cluster centers.\n",
      "Minibatch step 187/14545: mean batch inertia: 32.685317363813226, ewa inertia: 32.37277718219418\n",
      "[MiniBatchKMeans] Reassigning 13 cluster centers.\n",
      "Minibatch step 188/14545: mean batch inertia: 32.25621048151751, ewa inertia: 32.356749981919236\n",
      "[MiniBatchKMeans] Reassigning 14 cluster centers.\n",
      "Minibatch step 189/14545: mean batch inertia: 31.8400079036965, ewa inertia: 32.28570114267024\n",
      "[MiniBatchKMeans] Reassigning 11 cluster centers.\n",
      "Minibatch step 190/14545: mean batch inertia: 33.24136977140078, ewa inertia: 32.41709966746527\n",
      "[MiniBatchKMeans] Reassigning 13 cluster centers.\n",
      "Minibatch step 191/14545: mean batch inertia: 34.44998176070039, ewa inertia: 32.69660838011199\n",
      "[MiniBatchKMeans] Reassigning 13 cluster centers.\n",
      "Minibatch step 192/14545: mean batch inertia: 34.17318214980545, ewa inertia: 32.89962813953056\n",
      "[MiniBatchKMeans] Reassigning 14 cluster centers.\n",
      "Minibatch step 193/14545: mean batch inertia: 32.58401021400778, ewa inertia: 32.8562326271471\n",
      "[MiniBatchKMeans] Reassigning 12 cluster centers.\n",
      "Minibatch step 194/14545: mean batch inertia: 33.75594601167315, ewa inertia: 32.97993765199667\n",
      "[MiniBatchKMeans] Reassigning 10 cluster centers.\n",
      "Minibatch step 195/14545: mean batch inertia: 34.0806420233463, ewa inertia: 33.13127769422753\n",
      "[MiniBatchKMeans] Reassigning 12 cluster centers.\n",
      "Minibatch step 196/14545: mean batch inertia: 32.38127431906615, ewa inertia: 33.028156869576826\n",
      "[MiniBatchKMeans] Reassigning 12 cluster centers.\n",
      "Minibatch step 197/14545: mean batch inertia: 31.454274075875485, ewa inertia: 32.811757721299514\n",
      "[MiniBatchKMeans] Reassigning 11 cluster centers.\n",
      "Minibatch step 198/14545: mean batch inertia: 31.328371230544747, ewa inertia: 32.60780125487771\n",
      "[MiniBatchKMeans] Reassigning 13 cluster centers.\n",
      "Minibatch step 199/14545: mean batch inertia: 32.505714980544745, ewa inertia: 32.59376502365079\n",
      "[MiniBatchKMeans] Reassigning 11 cluster centers.\n",
      "Minibatch step 200/14545: mean batch inertia: 33.282599708171205, ewa inertia: 32.68847553172079\n",
      "[MiniBatchKMeans] Reassigning 12 cluster centers.\n",
      "Minibatch step 201/14545: mean batch inertia: 33.083608949416345, ewa inertia: 32.742803932404385\n",
      "[MiniBatchKMeans] Reassigning 8 cluster centers.\n",
      "Minibatch step 202/14545: mean batch inertia: 33.34295355058366, ewa inertia: 32.825320792448025\n",
      "[MiniBatchKMeans] Reassigning 11 cluster centers.\n",
      "Minibatch step 203/14545: mean batch inertia: 34.26621777723735, ewa inertia: 33.02343521463474\n",
      "[MiniBatchKMeans] Reassigning 13 cluster centers.\n",
      "Minibatch step 204/14545: mean batch inertia: 32.79699963521401, ewa inertia: 32.99230172316865\n",
      "[MiniBatchKMeans] Reassigning 8 cluster centers.\n",
      "Minibatch step 205/14545: mean batch inertia: 31.511752188715953, ewa inertia: 32.7887353206893\n",
      "[MiniBatchKMeans] Reassigning 10 cluster centers.\n",
      "Minibatch step 206/14545: mean batch inertia: 33.815190296692606, ewa inertia: 32.92986653035819\n",
      "[MiniBatchKMeans] Reassigning 10 cluster centers.\n",
      "Minibatch step 207/14545: mean batch inertia: 33.16474951361868, ewa inertia: 32.962161487597584\n",
      "[MiniBatchKMeans] Reassigning 9 cluster centers.\n",
      "Minibatch step 208/14545: mean batch inertia: 34.61524501459144, ewa inertia: 33.189450246776055\n",
      "[MiniBatchKMeans] Reassigning 9 cluster centers.\n",
      "Minibatch step 209/14545: mean batch inertia: 31.999556177042802, ewa inertia: 33.02584717273459\n",
      "[MiniBatchKMeans] Reassigning 9 cluster centers.\n",
      "Minibatch step 210/14545: mean batch inertia: 34.009046692607, ewa inertia: 33.16103102475873\n",
      "[MiniBatchKMeans] Reassigning 8 cluster centers.\n",
      "Minibatch step 211/14545: mean batch inertia: 31.699145792801556, ewa inertia: 32.9600308484173\n",
      "[MiniBatchKMeans] Reassigning 8 cluster centers.\n",
      "Minibatch step 212/14545: mean batch inertia: 31.440032222762646, ewa inertia: 32.751040439925184\n",
      "[MiniBatchKMeans] Reassigning 5 cluster centers.\n",
      "Minibatch step 213/14545: mean batch inertia: 34.775291828793776, ewa inertia: 33.02936248411004\n",
      "[MiniBatchKMeans] Reassigning 6 cluster centers.\n",
      "Minibatch step 214/14545: mean batch inertia: 33.722264105058365, ewa inertia: 33.12463217078128\n",
      "[MiniBatchKMeans] Reassigning 8 cluster centers.\n",
      "Minibatch step 215/14545: mean batch inertia: 31.667476288910507, ewa inertia: 32.92428225082152\n",
      "[MiniBatchKMeans] Reassigning 7 cluster centers.\n",
      "Minibatch step 216/14545: mean batch inertia: 32.795826240272376, ewa inertia: 32.90662034398501\n",
      "[MiniBatchKMeans] Reassigning 7 cluster centers.\n",
      "Minibatch step 217/14545: mean batch inertia: 34.99263740272374, ewa inertia: 33.19343478570173\n",
      "[MiniBatchKMeans] Reassigning 8 cluster centers.\n",
      "Minibatch step 218/14545: mean batch inertia: 35.070537451361865, ewa inertia: 33.45152479069038\n",
      "Minibatch step 219/14545: mean batch inertia: 31.198391901750973, ewa inertia: 33.141732956080226\n",
      "[MiniBatchKMeans] Reassigning 5 cluster centers.\n",
      "Minibatch step 220/14545: mean batch inertia: 30.88700145914397, ewa inertia: 32.831721322759314\n",
      "[MiniBatchKMeans] Reassigning 7 cluster centers.\n",
      "Minibatch step 221/14545: mean batch inertia: 34.480946011673154, ewa inertia: 33.05847951557211\n",
      "[MiniBatchKMeans] Reassigning 6 cluster centers.\n",
      "Minibatch step 222/14545: mean batch inertia: 33.125051678015566, ewa inertia: 33.067632776100396\n",
      "Converged (lack of improvement in inertia) at step 222/14545\n",
      "Dumping the model...\n",
      "[('vacancy', 0.6040508151054382), ('announcement', 0.5839992165565491), ('considered', 0.5833683013916016), ('resumes', 0.5503395795822144), ('applicant', 0.5364969968795776), ('posting', 0.5291643738746643), ('reviewed', 0.5288848280906677), ('submitted', 0.5215966701507568), ('ineligible', 0.5209969878196716), ('selected', 0.512418806552887)]\n",
      "[('brochures', 0.7155840992927551), ('newsletters', 0.6881476044654846), ('abstracts', 0.6865290403366089), ('invitations', 0.6833503246307373), ('drafts', 0.6648162603378296), ('briefs', 0.6639350652694702), ('mails', 0.6608701944351196), ('mailings', 0.6600031852722168), ('summaries', 0.6592674255371094), ('letters', 0.6557219624519348)]\n",
      "[('really', 0.6006271839141846), ('truly', 0.5859212875366211), ('want', 0.5563674569129944), ('magic', 0.5560286641120911), ('deserve', 0.545250654220581), ('something', 0.5385892987251282), ('feel', 0.5349621176719666), ('just', 0.5343413352966309), ('forever', 0.5336448550224304), ('genuinely', 0.5265800952911377)]\n",
      "[('urinary', 0.7924387454986572), ('catheters', 0.7772386074066162), ('tubes', 0.758793294429779), ('suture', 0.7519549131393433), ('punctures', 0.7498413920402527), ('bladder', 0.7497009634971619), ('intravenous', 0.7448051571846008), ('sputum', 0.7439588904380798), ('lumbar', 0.7411539554595947), ('endotracheal', 0.7378539443016052)]\n",
      "[('intubated', 0.7984416484832764), ('anesthetized', 0.7837713956832886), ('careconsult', 0.7432642579078674), ('reorienting', 0.7215914726257324), ('draping', 0.7100818157196045), ('waygreet', 0.7096750140190125), ('elderlyable', 0.7080435156822205), ('guarantors', 0.7034900188446045), ('themact', 0.702413022518158), ('fainting', 0.700158417224884)]\n",
      "[('oportuna', 0.9757382869720459), ('empujar', 0.9725286960601807), ('practicas', 0.9724934101104736), ('almacenes', 0.9722092747688293), ('conserjeria', 0.9715726971626282), ('garantizar', 0.9714575409889221), ('tirar', 0.970328688621521), ('capaz', 0.970005989074707), ('inventario', 0.9698271751403809), ('distrito', 0.9697760343551636)]\n",
      "[('lbsstanding', 0.8257138133049011), ('trailersit', 0.7879065871238708), ('windborne', 0.7787211537361145), ('onlinesmart', 0.7701287865638733), ('nathan', 0.7694993615150452), ('trifold', 0.7636895775794983), ('wirerunning', 0.7500081062316895), ('officebenefits', 0.7360242605209351), ('accrualflexible', 0.7328335642814636), ('discountsup', 0.7324501872062683)]\n",
      "[('lscw', 0.9092383980751038), ('lgpc', 0.8155155181884766), ('mhsp', 0.7976824641227722), ('lgmft', 0.792682409286499), ('psychologues', 0.7854316830635071), ('auxiliaires', 0.7840306162834167), ('reeducateurs', 0.7799205183982849), ('clicensed', 0.7753475308418274), ('origenes', 0.7751516699790955), ('חברת', 0.77495276927948)]\n",
      "[('deficiencia', 0.9907386302947998), ('southwood', 0.9665501713752747), ('aiehjkhyes_', 0.9659269452095032), ('alem', 0.9643847942352295), ('odontologica', 0.964038610458374), ('controllo', 0.9639758467674255), ('chineseversion', 0.9636133313179016), ('accessi', 0.9631707668304443), ('bengal', 0.9629210233688354), ('glenolden', 0.9615842700004578)]\n",
      "[('resourceful', 0.7045153975486755), ('inquisitive', 0.686586320400238), ('personable', 0.6834439635276794), ('energetic', 0.6815013289451599), ('getter', 0.6702256202697754), ('coachable', 0.6642675399780273), ('optimistic', 0.6594809293746948), ('tenacious', 0.6589540839195251), ('assertive', 0.6503283381462097), ('spirited', 0.6404497623443604)]\n"
     ]
    }
   ],
   "source": [
    "import os\n",
    "import pickle\n",
    "from sklearn.cluster import MiniBatchKMeans\n",
    "\n",
    "kmeans_path = settings.REPO_PATH +'/assets/kmeans/model.bin'   \n",
    "print('Training....')\n",
    "model = MiniBatchKMeans(n_clusters=200, max_iter=1000, random_state=1, batch_size=(257 * os.cpu_count()), max_no_improvement=100, verbose=1).fit(X=j2v.wv.vectors)\n",
    "\n",
    "print('Dumping the model...')\n",
    "pickle.dump(model, open(kmeans_path,'wb'))\n",
    "\n",
    "categories = model.cluster_centers_\n",
    "for i in range(10):\n",
    "    vectors = j2v.wv.similar_by_vector(model.cluster_centers_[i], topn=10, restrict_vocab=None)\n",
    "    print(vectors)"
   ]
  },
  {
   "cell_type": "code",
   "execution_count": null,
   "id": "2c1f0b7d",
   "metadata": {},
   "outputs": [
    {
     "ename": "AttributeError",
     "evalue": "'JobPostingManager' object has no attribute 'clean'",
     "output_type": "error",
     "traceback": [
      "\u001b[1;31m---------------------------------------------------------------------------\u001b[0m",
      "\u001b[1;31mAttributeError\u001b[0m                            Traceback (most recent call last)",
      "Cell \u001b[1;32mIn[12], line 1\u001b[0m\n\u001b[1;32m----> 1\u001b[0m df \u001b[38;5;241m=\u001b[39m \u001b[43mjpm\u001b[49m\u001b[38;5;241;43m.\u001b[39;49m\u001b[43mclean\u001b[49m[[\u001b[38;5;124m'\u001b[39m\u001b[38;5;124mstate\u001b[39m\u001b[38;5;124m'\u001b[39m,\u001b[38;5;124m'\u001b[39m\u001b[38;5;124mtitle\u001b[39m\u001b[38;5;124m'\u001b[39m,\u001b[38;5;124m'\u001b[39m\u001b[38;5;124mjob_id\u001b[39m\u001b[38;5;124m'\u001b[39m]]\u001b[38;5;241m.\u001b[39mcopy()\n\u001b[0;32m      3\u001b[0m df \u001b[38;5;241m=\u001b[39m df\u001b[38;5;241m.\u001b[39mgroupby([\u001b[38;5;124m'\u001b[39m\u001b[38;5;124mstate\u001b[39m\u001b[38;5;124m'\u001b[39m,\u001b[38;5;124m'\u001b[39m\u001b[38;5;124mtitle\u001b[39m\u001b[38;5;124m'\u001b[39m])\u001b[38;5;241m.\u001b[39msize()\u001b[38;5;241m.\u001b[39mto_frame(name \u001b[38;5;241m=\u001b[39m \u001b[38;5;124m'\u001b[39m\u001b[38;5;124mcount\u001b[39m\u001b[38;5;124m'\u001b[39m)\u001b[38;5;241m.\u001b[39mreset_index()\u001b[38;5;241m.\u001b[39mdropna(axis\u001b[38;5;241m=\u001b[39m\u001b[38;5;241m1\u001b[39m)\n\u001b[0;32m      5\u001b[0m fig \u001b[38;5;241m=\u001b[39m go\u001b[38;5;241m.\u001b[39mFigure(data\u001b[38;5;241m=\u001b[39m[go\u001b[38;5;241m.\u001b[39mScatter3d(x\u001b[38;5;241m=\u001b[39mdf[\u001b[38;5;124m'\u001b[39m\u001b[38;5;124mstate\u001b[39m\u001b[38;5;124m'\u001b[39m], y\u001b[38;5;241m=\u001b[39mdf[\u001b[38;5;124m'\u001b[39m\u001b[38;5;124mtitle\u001b[39m\u001b[38;5;124m'\u001b[39m], z\u001b[38;5;241m=\u001b[39mdf[\u001b[38;5;124m'\u001b[39m\u001b[38;5;124mcount\u001b[39m\u001b[38;5;124m'\u001b[39m], mode\u001b[38;5;241m=\u001b[39m\u001b[38;5;124m'\u001b[39m\u001b[38;5;124mmarkers\u001b[39m\u001b[38;5;124m'\u001b[39m)])\n",
      "\u001b[1;31mAttributeError\u001b[0m: 'JobPostingManager' object has no attribute 'clean'"
     ]
    }
   ],
   "source": [
    "df = jpm.clean[['state','title','job_id']].copy()\n",
    "\n",
    "df = df.groupby(['state','title']).size().to_frame(name = 'count').reset_index().dropna(axis=1)\n",
    "\n",
    "fig = go.Figure(data=[go.Scatter3d(x=df['state'], y=df['title'], z=df['count'], mode='markers')])\n",
    "\n",
    "fig.update_xaxes(title_text=\"State\")\n",
    "fig.update_yaxes(title_text=\"Position\")\n",
    "\n",
    "fig.show()"
   ]
  }
 ],
 "metadata": {
  "kernelspec": {
   "display_name": "Python 3 (ipykernel)",
   "language": "python",
   "name": "python3"
  },
  "language_info": {
   "codemirror_mode": {
    "name": "ipython",
    "version": 3
   },
   "file_extension": ".py",
   "mimetype": "text/x-python",
   "name": "python",
   "nbconvert_exporter": "python",
   "pygments_lexer": "ipython3",
   "version": "3.12.4"
  }
 },
 "nbformat": 4,
 "nbformat_minor": 5
}
