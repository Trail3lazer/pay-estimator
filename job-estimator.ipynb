{
 "cells": [
  {
   "cell_type": "markdown",
   "id": "727b38e3-4bf1-469b-bbdf-1c3b01079f22",
   "metadata": {},
   "source": [
    "# Salary estimator from listings"
   ]
  },
  {
   "cell_type": "markdown",
   "id": "c608e48e",
   "metadata": {},
   "source": [
    "The city_state.json file was modified from this github repo [agalea91 - city_to_state_dictionary](https://github.com/agalea91/city_to_state_dictionary/blob/master/city_to_state.py).\n",
    "\n",
    "The state_abbr.json file was modified from this github repo [JeffPaine - us_state_abbreviations.py](https://gist.github.com/JeffPaine/3083347).\n",
    "\n",
    "The job posting dataset can be found on Kaggle [LinkedIn Job Postings (2023 - 2024)](https://www.kaggle.com/datasets/arshkon/linkedin-job-postings)"
   ]
  },
  {
   "cell_type": "markdown",
   "id": "ddaaa672-a66a-449e-acaa-c9f995ec1ef6",
   "metadata": {},
   "source": [
    "## Setup"
   ]
  },
  {
   "cell_type": "code",
   "execution_count": 9,
   "id": "a3e0ae1b",
   "metadata": {},
   "outputs": [],
   "source": [
    "%%capture\n",
    "%pip install pandas xgboost scikit-learn plotly gensim #swifter\n",
    "print('')"
   ]
  },
  {
   "cell_type": "markdown",
   "id": "9a5ffcbf-6ac8-46c6-92b2-446fc546a08d",
   "metadata": {},
   "source": [
    "First we must import our packages to manage the dataset. Then we can import the data."
   ]
  },
  {
   "cell_type": "markdown",
   "id": "1e044b65-ce26-48fa-a2fa-e8e0f7ff831c",
   "metadata": {},
   "source": [
    "## Setup\n",
    "Import the many packages"
   ]
  },
  {
   "cell_type": "code",
   "execution_count": 10,
   "id": "335c66c8-11a7-422b-a512-baa3ff106c6b",
   "metadata": {},
   "outputs": [
    {
     "name": "stdout",
     "output_type": "stream",
     "text": [
      "The autoreload extension is already loaded. To reload it, use:\n",
      "  %reload_ext autoreload\n"
     ]
    }
   ],
   "source": [
    "import pandas as pd\n",
    "import numpy as np\n",
    "import plotly.graph_objects as go\n",
    "from plotly.subplots import make_subplots\n",
    "\n",
    "%load_ext autoreload\n",
    "%aimport JobPostingManager\n",
    "%aimport Job2Vec\n",
    "%aimport categorizer\n",
    "%aimport settings\n",
    "%autoreload 1\n",
    "\n",
    "JPM = JobPostingManager.JobPostingManager\n",
    "J2V = Job2Vec.Job2Vec"
   ]
  },
  {
   "cell_type": "markdown",
   "id": "5d8261e7",
   "metadata": {},
   "source": [
    "Extract the job posting data from the CSV and clean it."
   ]
  },
  {
   "cell_type": "code",
   "execution_count": 11,
   "id": "d8fd8abb",
   "metadata": {},
   "outputs": [
    {
     "name": "stdout",
     "output_type": "stream",
     "text": [
      "Average vacation days: 13.445833333333333\n",
      "Retrieving an existing dataset at c:\\dev\\job-estimator/archive/clean_postings.bin\n"
     ]
    }
   ],
   "source": [
    "jpm = JPM()\n",
    "df = jpm.postings.copy()"
   ]
  },
  {
   "cell_type": "code",
   "execution_count": 12,
   "id": "4078bb05",
   "metadata": {},
   "outputs": [
    {
     "name": "stdout",
     "output_type": "stream",
     "text": [
      "YEARLY\n"
     ]
    },
    {
     "data": {
      "text/html": [
       "<style type=\"text/css\">\n",
       "</style>\n",
       "<table id=\"T_de140\">\n",
       "  <thead>\n",
       "    <tr>\n",
       "      <th class=\"blank level0\" >&nbsp;</th>\n",
       "      <th id=\"T_de140_level0_col0\" class=\"col_heading level0 col0\" >pay_col</th>\n",
       "      <th id=\"T_de140_level0_col1\" class=\"col_heading level0 col1\" >min</th>\n",
       "      <th id=\"T_de140_level0_col2\" class=\"col_heading level0 col2\" >Q1</th>\n",
       "      <th id=\"T_de140_level0_col3\" class=\"col_heading level0 col3\" >median</th>\n",
       "      <th id=\"T_de140_level0_col4\" class=\"col_heading level0 col4\" >Q3</th>\n",
       "      <th id=\"T_de140_level0_col5\" class=\"col_heading level0 col5\" >max</th>\n",
       "      <th id=\"T_de140_level0_col6\" class=\"col_heading level0 col6\" >mean</th>\n",
       "      <th id=\"T_de140_level0_col7\" class=\"col_heading level0 col7\" >mode</th>\n",
       "    </tr>\n",
       "  </thead>\n",
       "  <tbody>\n",
       "    <tr>\n",
       "      <th id=\"T_de140_level0_row0\" class=\"row_heading level0 row0\" >2</th>\n",
       "      <td id=\"T_de140_row0_col0\" class=\"data row0 col0\" >max_salary</td>\n",
       "      <td id=\"T_de140_row0_col1\" class=\"data row0 col1\" >12,000</td>\n",
       "      <td id=\"T_de140_row0_col2\" class=\"data row0 col2\" >85,000</td>\n",
       "      <td id=\"T_de140_row0_col3\" class=\"data row0 col3\" >120,000</td>\n",
       "      <td id=\"T_de140_row0_col4\" class=\"data row0 col4\" >170,000</td>\n",
       "      <td id=\"T_de140_row0_col5\" class=\"data row0 col5\" >1,500,000</td>\n",
       "      <td id=\"T_de140_row0_col6\" class=\"data row0 col6\" >139,481</td>\n",
       "      <td id=\"T_de140_row0_col7\" class=\"data row0 col7\" >[150000.0]</td>\n",
       "    </tr>\n",
       "    <tr>\n",
       "      <th id=\"T_de140_level0_row1\" class=\"row_heading level0 row1\" >1</th>\n",
       "      <td id=\"T_de140_row1_col0\" class=\"data row1 col0\" >med_salary</td>\n",
       "      <td id=\"T_de140_row1_col1\" class=\"data row1 col1\" >10,000</td>\n",
       "      <td id=\"T_de140_row1_col2\" class=\"data row1 col2\" >54,000</td>\n",
       "      <td id=\"T_de140_row1_col3\" class=\"data row1 col3\" >72,000</td>\n",
       "      <td id=\"T_de140_row1_col4\" class=\"data row1 col4\" >105,400</td>\n",
       "      <td id=\"T_de140_row1_col5\" class=\"data row1 col5\" >300,500</td>\n",
       "      <td id=\"T_de140_row1_col6\" class=\"data row1 col6\" >84,890</td>\n",
       "      <td id=\"T_de140_row1_col7\" class=\"data row1 col7\" >[60000.0]</td>\n",
       "    </tr>\n",
       "    <tr>\n",
       "      <th id=\"T_de140_level0_row2\" class=\"row_heading level0 row2\" >0</th>\n",
       "      <td id=\"T_de140_row2_col0\" class=\"data row2 col0\" >min_salary</td>\n",
       "      <td id=\"T_de140_row2_col1\" class=\"data row2 col1\" >10,000</td>\n",
       "      <td id=\"T_de140_row2_col2\" class=\"data row2 col2\" >65,000</td>\n",
       "      <td id=\"T_de140_row2_col3\" class=\"data row2 col3\" >89,250</td>\n",
       "      <td id=\"T_de140_row2_col4\" class=\"data row2 col4\" >120,000</td>\n",
       "      <td id=\"T_de140_row2_col5\" class=\"data row2 col5\" >750,000</td>\n",
       "      <td id=\"T_de140_row2_col6\" class=\"data row2 col6\" >98,622</td>\n",
       "      <td id=\"T_de140_row2_col7\" class=\"data row2 col7\" >[100000.0]</td>\n",
       "    </tr>\n",
       "  </tbody>\n",
       "</table>\n"
      ],
      "text/plain": [
       "<IPython.core.display.HTML object>"
      ]
     },
     "metadata": {},
     "output_type": "display_data"
    },
    {
     "name": "stdout",
     "output_type": "stream",
     "text": [
      "MONTHLY\n"
     ]
    },
    {
     "data": {
      "text/html": [
       "<style type=\"text/css\">\n",
       "</style>\n",
       "<table id=\"T_51dbd\">\n",
       "  <thead>\n",
       "    <tr>\n",
       "      <th class=\"blank level0\" >&nbsp;</th>\n",
       "      <th id=\"T_51dbd_level0_col0\" class=\"col_heading level0 col0\" >pay_col</th>\n",
       "      <th id=\"T_51dbd_level0_col1\" class=\"col_heading level0 col1\" >min</th>\n",
       "      <th id=\"T_51dbd_level0_col2\" class=\"col_heading level0 col2\" >Q1</th>\n",
       "      <th id=\"T_51dbd_level0_col3\" class=\"col_heading level0 col3\" >median</th>\n",
       "      <th id=\"T_51dbd_level0_col4\" class=\"col_heading level0 col4\" >Q3</th>\n",
       "      <th id=\"T_51dbd_level0_col5\" class=\"col_heading level0 col5\" >max</th>\n",
       "      <th id=\"T_51dbd_level0_col6\" class=\"col_heading level0 col6\" >mean</th>\n",
       "      <th id=\"T_51dbd_level0_col7\" class=\"col_heading level0 col7\" >mode</th>\n",
       "    </tr>\n",
       "  </thead>\n",
       "  <tbody>\n",
       "    <tr>\n",
       "      <th id=\"T_51dbd_level0_row0\" class=\"row_heading level0 row0\" >2</th>\n",
       "      <td id=\"T_51dbd_row0_col0\" class=\"data row0 col0\" >max_salary</td>\n",
       "      <td id=\"T_51dbd_row0_col1\" class=\"data row0 col1\" >12,000</td>\n",
       "      <td id=\"T_51dbd_row0_col2\" class=\"data row0 col2\" >66,996</td>\n",
       "      <td id=\"T_51dbd_row0_col3\" class=\"data row0 col3\" >89,364</td>\n",
       "      <td id=\"T_51dbd_row0_col4\" class=\"data row0 col4\" >119,184</td>\n",
       "      <td id=\"T_51dbd_row0_col5\" class=\"data row0 col5\" >1,320,000</td>\n",
       "      <td id=\"T_51dbd_row0_col6\" class=\"data row0 col6\" >103,996</td>\n",
       "      <td id=\"T_51dbd_row0_col7\" class=\"data row0 col7\" >[85368.0]</td>\n",
       "    </tr>\n",
       "    <tr>\n",
       "      <th id=\"T_51dbd_level0_row1\" class=\"row_heading level0 row1\" >1</th>\n",
       "      <td id=\"T_51dbd_row1_col0\" class=\"data row1 col0\" >med_salary</td>\n",
       "      <td id=\"T_51dbd_row1_col1\" class=\"data row1 col1\" >12,000</td>\n",
       "      <td id=\"T_51dbd_row1_col2\" class=\"data row1 col2\" >25,398</td>\n",
       "      <td id=\"T_51dbd_row1_col3\" class=\"data row1 col3\" >28,716</td>\n",
       "      <td id=\"T_51dbd_row1_col4\" class=\"data row1 col4\" >36,000</td>\n",
       "      <td id=\"T_51dbd_row1_col5\" class=\"data row1 col5\" >300,000</td>\n",
       "      <td id=\"T_51dbd_row1_col6\" class=\"data row1 col6\" >36,286</td>\n",
       "      <td id=\"T_51dbd_row1_col7\" class=\"data row1 col7\" >[30000.0]</td>\n",
       "    </tr>\n",
       "    <tr>\n",
       "      <th id=\"T_51dbd_level0_row2\" class=\"row_heading level0 row2\" >0</th>\n",
       "      <td id=\"T_51dbd_row2_col0\" class=\"data row2 col0\" >min_salary</td>\n",
       "      <td id=\"T_51dbd_row2_col1\" class=\"data row2 col1\" >12,000</td>\n",
       "      <td id=\"T_51dbd_row2_col2\" class=\"data row2 col2\" >45,864</td>\n",
       "      <td id=\"T_51dbd_row2_col3\" class=\"data row2 col3\" >68,208</td>\n",
       "      <td id=\"T_51dbd_row2_col4\" class=\"data row2 col4\" >81,120</td>\n",
       "      <td id=\"T_51dbd_row2_col5\" class=\"data row2 col5\" >1,080,000</td>\n",
       "      <td id=\"T_51dbd_row2_col6\" class=\"data row2 col6\" >73,636</td>\n",
       "      <td id=\"T_51dbd_row2_col7\" class=\"data row2 col7\" >[68208.0]</td>\n",
       "    </tr>\n",
       "  </tbody>\n",
       "</table>\n"
      ],
      "text/plain": [
       "<IPython.core.display.HTML object>"
      ]
     },
     "metadata": {},
     "output_type": "display_data"
    },
    {
     "name": "stdout",
     "output_type": "stream",
     "text": [
      "BIWEEKLY\n"
     ]
    },
    {
     "data": {
      "text/html": [
       "<style type=\"text/css\">\n",
       "</style>\n",
       "<table id=\"T_5148a\">\n",
       "  <thead>\n",
       "    <tr>\n",
       "      <th class=\"blank level0\" >&nbsp;</th>\n",
       "      <th id=\"T_5148a_level0_col0\" class=\"col_heading level0 col0\" >pay_col</th>\n",
       "      <th id=\"T_5148a_level0_col1\" class=\"col_heading level0 col1\" >min</th>\n",
       "      <th id=\"T_5148a_level0_col2\" class=\"col_heading level0 col2\" >Q1</th>\n",
       "      <th id=\"T_5148a_level0_col3\" class=\"col_heading level0 col3\" >median</th>\n",
       "      <th id=\"T_5148a_level0_col4\" class=\"col_heading level0 col4\" >Q3</th>\n",
       "      <th id=\"T_5148a_level0_col5\" class=\"col_heading level0 col5\" >max</th>\n",
       "      <th id=\"T_5148a_level0_col6\" class=\"col_heading level0 col6\" >mean</th>\n",
       "      <th id=\"T_5148a_level0_col7\" class=\"col_heading level0 col7\" >mode</th>\n",
       "    </tr>\n",
       "  </thead>\n",
       "  <tbody>\n",
       "    <tr>\n",
       "      <th id=\"T_5148a_level0_row0\" class=\"row_heading level0 row0\" >2</th>\n",
       "      <td id=\"T_5148a_row0_col0\" class=\"data row0 col0\" >max_salary</td>\n",
       "      <td id=\"T_5148a_row0_col1\" class=\"data row0 col1\" >53,482</td>\n",
       "      <td id=\"T_5148a_row0_col2\" class=\"data row0 col2\" >66,976</td>\n",
       "      <td id=\"T_5148a_row0_col3\" class=\"data row0 col3\" >81,434</td>\n",
       "      <td id=\"T_5148a_row0_col4\" class=\"data row0 col4\" >87,516</td>\n",
       "      <td id=\"T_5148a_row0_col5\" class=\"data row0 col5\" >89,965</td>\n",
       "      <td id=\"T_5148a_row0_col6\" class=\"data row0 col6\" >74,550</td>\n",
       "      <td id=\"T_5148a_row0_col7\" class=\"data row0 col7\" >[66976.0]</td>\n",
       "    </tr>\n",
       "    <tr>\n",
       "      <th id=\"T_5148a_level0_row1\" class=\"row_heading level0 row1\" >1</th>\n",
       "      <td id=\"T_5148a_row1_col0\" class=\"data row1 col0\" >med_salary</td>\n",
       "      <td id=\"T_5148a_row1_col1\" class=\"data row1 col1\" >nan</td>\n",
       "      <td id=\"T_5148a_row1_col2\" class=\"data row1 col2\" >nan</td>\n",
       "      <td id=\"T_5148a_row1_col3\" class=\"data row1 col3\" >nan</td>\n",
       "      <td id=\"T_5148a_row1_col4\" class=\"data row1 col4\" >nan</td>\n",
       "      <td id=\"T_5148a_row1_col5\" class=\"data row1 col5\" >nan</td>\n",
       "      <td id=\"T_5148a_row1_col6\" class=\"data row1 col6\" >nan</td>\n",
       "      <td id=\"T_5148a_row1_col7\" class=\"data row1 col7\" >[]</td>\n",
       "    </tr>\n",
       "    <tr>\n",
       "      <th id=\"T_5148a_level0_row2\" class=\"row_heading level0 row2\" >0</th>\n",
       "      <td id=\"T_5148a_row2_col0\" class=\"data row2 col0\" >min_salary</td>\n",
       "      <td id=\"T_5148a_row2_col1\" class=\"data row2 col1\" >53,482</td>\n",
       "      <td id=\"T_5148a_row2_col2\" class=\"data row2 col2\" >54,009</td>\n",
       "      <td id=\"T_5148a_row2_col3\" class=\"data row2 col3\" >58,370</td>\n",
       "      <td id=\"T_5148a_row2_col4\" class=\"data row2 col4\" >64,519</td>\n",
       "      <td id=\"T_5148a_row2_col5\" class=\"data row2 col5\" >71,323</td>\n",
       "      <td id=\"T_5148a_row2_col6\" class=\"data row2 col6\" >60,370</td>\n",
       "      <td id=\"T_5148a_row2_col7\" class=\"data row2 col7\" >[54009.0]</td>\n",
       "    </tr>\n",
       "  </tbody>\n",
       "</table>\n"
      ],
      "text/plain": [
       "<IPython.core.display.HTML object>"
      ]
     },
     "metadata": {},
     "output_type": "display_data"
    },
    {
     "name": "stdout",
     "output_type": "stream",
     "text": [
      "WEEKLY\n"
     ]
    },
    {
     "data": {
      "text/html": [
       "<style type=\"text/css\">\n",
       "</style>\n",
       "<table id=\"T_e5e4d\">\n",
       "  <thead>\n",
       "    <tr>\n",
       "      <th class=\"blank level0\" >&nbsp;</th>\n",
       "      <th id=\"T_e5e4d_level0_col0\" class=\"col_heading level0 col0\" >pay_col</th>\n",
       "      <th id=\"T_e5e4d_level0_col1\" class=\"col_heading level0 col1\" >min</th>\n",
       "      <th id=\"T_e5e4d_level0_col2\" class=\"col_heading level0 col2\" >Q1</th>\n",
       "      <th id=\"T_e5e4d_level0_col3\" class=\"col_heading level0 col3\" >median</th>\n",
       "      <th id=\"T_e5e4d_level0_col4\" class=\"col_heading level0 col4\" >Q3</th>\n",
       "      <th id=\"T_e5e4d_level0_col5\" class=\"col_heading level0 col5\" >max</th>\n",
       "      <th id=\"T_e5e4d_level0_col6\" class=\"col_heading level0 col6\" >mean</th>\n",
       "      <th id=\"T_e5e4d_level0_col7\" class=\"col_heading level0 col7\" >mode</th>\n",
       "    </tr>\n",
       "  </thead>\n",
       "  <tbody>\n",
       "    <tr>\n",
       "      <th id=\"T_e5e4d_level0_row0\" class=\"row_heading level0 row0\" >2</th>\n",
       "      <td id=\"T_e5e4d_row0_col0\" class=\"data row0 col0\" >max_salary</td>\n",
       "      <td id=\"T_e5e4d_row0_col1\" class=\"data row0 col1\" >50,804</td>\n",
       "      <td id=\"T_e5e4d_row0_col2\" class=\"data row0 col2\" >100,360</td>\n",
       "      <td id=\"T_e5e4d_row0_col3\" class=\"data row0 col3\" >109,148</td>\n",
       "      <td id=\"T_e5e4d_row0_col4\" class=\"data row0 col4\" >119,658</td>\n",
       "      <td id=\"T_e5e4d_row0_col5\" class=\"data row0 col5\" >210,548</td>\n",
       "      <td id=\"T_e5e4d_row0_col6\" class=\"data row0 col6\" >111,668</td>\n",
       "      <td id=\"T_e5e4d_row0_col7\" class=\"data row0 col7\" >[95726.8, 114884.64000000001, 117303.16, 120931.2]</td>\n",
       "    </tr>\n",
       "    <tr>\n",
       "      <th id=\"T_e5e4d_level0_row1\" class=\"row_heading level0 row1\" >1</th>\n",
       "      <td id=\"T_e5e4d_row1_col0\" class=\"data row1 col0\" >med_salary</td>\n",
       "      <td id=\"T_e5e4d_row1_col1\" class=\"data row1 col1\" >nan</td>\n",
       "      <td id=\"T_e5e4d_row1_col2\" class=\"data row1 col2\" >nan</td>\n",
       "      <td id=\"T_e5e4d_row1_col3\" class=\"data row1 col3\" >nan</td>\n",
       "      <td id=\"T_e5e4d_row1_col4\" class=\"data row1 col4\" >nan</td>\n",
       "      <td id=\"T_e5e4d_row1_col5\" class=\"data row1 col5\" >nan</td>\n",
       "      <td id=\"T_e5e4d_row1_col6\" class=\"data row1 col6\" >nan</td>\n",
       "      <td id=\"T_e5e4d_row1_col7\" class=\"data row1 col7\" >[]</td>\n",
       "    </tr>\n",
       "    <tr>\n",
       "      <th id=\"T_e5e4d_level0_row2\" class=\"row_heading level0 row2\" >0</th>\n",
       "      <td id=\"T_e5e4d_row2_col0\" class=\"data row2 col0\" >min_salary</td>\n",
       "      <td id=\"T_e5e4d_row2_col1\" class=\"data row2 col1\" >50,804</td>\n",
       "      <td id=\"T_e5e4d_row2_col2\" class=\"data row2 col2\" >99,684</td>\n",
       "      <td id=\"T_e5e4d_row2_col3\" class=\"data row2 col3\" >109,148</td>\n",
       "      <td id=\"T_e5e4d_row2_col4\" class=\"data row2 col4\" >119,658</td>\n",
       "      <td id=\"T_e5e4d_row2_col5\" class=\"data row2 col5\" >210,548</td>\n",
       "      <td id=\"T_e5e4d_row2_col6\" class=\"data row2 col6\" >111,452</td>\n",
       "      <td id=\"T_e5e4d_row2_col7\" class=\"data row2 col7\" >[95726.8, 114884.64000000001, 117303.16, 120931.2]</td>\n",
       "    </tr>\n",
       "  </tbody>\n",
       "</table>\n"
      ],
      "text/plain": [
       "<IPython.core.display.HTML object>"
      ]
     },
     "metadata": {},
     "output_type": "display_data"
    },
    {
     "name": "stdout",
     "output_type": "stream",
     "text": [
      "HOURLY\n"
     ]
    },
    {
     "data": {
      "text/html": [
       "<style type=\"text/css\">\n",
       "</style>\n",
       "<table id=\"T_02abd\">\n",
       "  <thead>\n",
       "    <tr>\n",
       "      <th class=\"blank level0\" >&nbsp;</th>\n",
       "      <th id=\"T_02abd_level0_col0\" class=\"col_heading level0 col0\" >pay_col</th>\n",
       "      <th id=\"T_02abd_level0_col1\" class=\"col_heading level0 col1\" >min</th>\n",
       "      <th id=\"T_02abd_level0_col2\" class=\"col_heading level0 col2\" >Q1</th>\n",
       "      <th id=\"T_02abd_level0_col3\" class=\"col_heading level0 col3\" >median</th>\n",
       "      <th id=\"T_02abd_level0_col4\" class=\"col_heading level0 col4\" >Q3</th>\n",
       "      <th id=\"T_02abd_level0_col5\" class=\"col_heading level0 col5\" >max</th>\n",
       "      <th id=\"T_02abd_level0_col6\" class=\"col_heading level0 col6\" >mean</th>\n",
       "      <th id=\"T_02abd_level0_col7\" class=\"col_heading level0 col7\" >mode</th>\n",
       "    </tr>\n",
       "  </thead>\n",
       "  <tbody>\n",
       "    <tr>\n",
       "      <th id=\"T_02abd_level0_row0\" class=\"row_heading level0 row0\" >2</th>\n",
       "      <td id=\"T_02abd_row0_col0\" class=\"data row0 col0\" >max_salary</td>\n",
       "      <td id=\"T_02abd_row0_col1\" class=\"data row0 col1\" >10,335</td>\n",
       "      <td id=\"T_02abd_row0_col2\" class=\"data row0 col2\" >42,679</td>\n",
       "      <td id=\"T_02abd_row0_col3\" class=\"data row0 col3\" >58,354</td>\n",
       "      <td id=\"T_02abd_row0_col4\" class=\"data row0 col4\" >96,997</td>\n",
       "      <td id=\"T_02abd_row0_col5\" class=\"data row0 col5\" >581,985</td>\n",
       "      <td id=\"T_02abd_row0_col6\" class=\"data row0 col6\" >74,286</td>\n",
       "      <td id=\"T_02abd_row0_col7\" class=\"data row0 col7\" >[48498.73990982143]</td>\n",
       "    </tr>\n",
       "    <tr>\n",
       "      <th id=\"T_02abd_level0_row1\" class=\"row_heading level0 row1\" >1</th>\n",
       "      <td id=\"T_02abd_row1_col0\" class=\"data row1 col0\" >med_salary</td>\n",
       "      <td id=\"T_02abd_row1_col1\" class=\"data row1 col1\" >10,335</td>\n",
       "      <td id=\"T_02abd_row1_col2\" class=\"data row1 col2\" >31,621</td>\n",
       "      <td id=\"T_02abd_row1_col3\" class=\"data row1 col3\" >38,838</td>\n",
       "      <td id=\"T_02abd_row1_col4\" class=\"data row1 col4\" >54,319</td>\n",
       "      <td id=\"T_02abd_row1_col5\" class=\"data row1 col5\" >288,994</td>\n",
       "      <td id=\"T_02abd_row1_col6\" class=\"data row1 col6\" >49,051</td>\n",
       "      <td id=\"T_02abd_row1_col7\" class=\"data row1 col7\" >[38798.99192785715]</td>\n",
       "    </tr>\n",
       "    <tr>\n",
       "      <th id=\"T_02abd_level0_row2\" class=\"row_heading level0 row2\" >0</th>\n",
       "      <td id=\"T_02abd_row2_col0\" class=\"data row2 col0\" >min_salary</td>\n",
       "      <td id=\"T_02abd_row2_col1\" class=\"data row2 col1\" >10,100</td>\n",
       "      <td id=\"T_02abd_row2_col2\" class=\"data row2 col2\" >34,919</td>\n",
       "      <td id=\"T_02abd_row2_col3\" class=\"data row2 col3\" >46,559</td>\n",
       "      <td id=\"T_02abd_row2_col4\" class=\"data row2 col4\" >77,598</td>\n",
       "      <td id=\"T_02abd_row2_col5\" class=\"data row2 col5\" >484,987</td>\n",
       "      <td id=\"T_02abd_row2_col6\" class=\"data row2 col6\" >59,137</td>\n",
       "      <td id=\"T_02abd_row2_col7\" class=\"data row2 col7\" >[38798.99192785715]</td>\n",
       "    </tr>\n",
       "  </tbody>\n",
       "</table>\n"
      ],
      "text/plain": [
       "<IPython.core.display.HTML object>"
      ]
     },
     "metadata": {},
     "output_type": "display_data"
    }
   ],
   "source": [
    "\n",
    "from IPython.display import HTML, display\n",
    "def print_pay_summary(x: pd.DataFrame):\n",
    "    pay_df = x[pay_cols]\n",
    "    summary_df = pd.DataFrame([], columns=['pay_col','min','Q1','median','Q3','max','mean','mode'])\n",
    "    for c in pay_cols:\n",
    "        qs = [c]+pay_df[c].dropna().quantile([0,.25, .5, .75, 1]).tolist()+[pay_df[c].mean(), pay_df[c].mode().tolist()]\n",
    "        summary_df.loc[-1] = qs\n",
    "        summary_df.index+=1\n",
    "    return summary_df\n",
    "\n",
    "pay_period_types = ['YEARLY','MONTHLY', 'BIWEEKLY', 'WEEKLY', 'HOURLY']\n",
    "    \n",
    "pay_cols = ['max_salary','med_salary','min_salary']\n",
    "for pay_period in pay_period_types:\n",
    "    pay_period_df = df.loc[df['pay_period']==pay_period, pay_cols]\n",
    "    print(pay_period)\n",
    "    summary = print_pay_summary(pay_period_df)\n",
    "    \n",
    "    display(HTML(summary.style.format(precision=0,thousands=\",\").to_html()))    \n"
   ]
  },
  {
   "cell_type": "code",
   "execution_count": 13,
   "id": "f392e00c",
   "metadata": {},
   "outputs": [
    {
     "name": "stdout",
     "output_type": "stream",
     "text": [
      "Dropping rows where every pay column is empty.\n"
     ]
    },
    {
     "data": {
      "application/vnd.plotly.v1+json": {
       "config": {
        "plotlyServerURL": "https://plot.ly"
       },
       "data": [
        {
         "name": "Average Salary",
         "type": "bar",
         "x": [
          "MT",
          "KY",
          "KS",
          "MS",
          "ME",
          "OK",
          "HI",
          "VT",
          "SD",
          "NE",
          "AR",
          "ND",
          "NH",
          "IA",
          "ID",
          "UT",
          "SC",
          "MO",
          "MI",
          "IN",
          "TN",
          "WY",
          "AL",
          "NM",
          "WI",
          "NV",
          "OH",
          "MN",
          "LA",
          "RI",
          "AZ",
          "FL",
          "CO",
          "WV",
          "PA",
          "OR",
          "NC",
          "TX",
          "MD",
          "DE",
          "GA",
          "CT",
          "IL",
          "NJ",
          "VA",
          "MA",
          "AK",
          "WA",
          "CA",
          "NY",
          "DC"
         ],
         "xaxis": "x",
         "y": [
          63413.280990208565,
          64835.21500536886,
          64858.385318038905,
          64934.014857270464,
          65758.32421231385,
          66316.17964972906,
          66675.66581185712,
          67111.35838391111,
          67130.41888925454,
          67432.56278752822,
          67932.81411373446,
          68061.38598756133,
          68111.48266412843,
          68513.87290590882,
          68584.06625415605,
          69408.0710783261,
          69706.48435701549,
          71089.42066407007,
          71394.0140401065,
          71965.67529726827,
          73177.60295666663,
          73561.48281215489,
          74139.4875884158,
          74752.62355435082,
          75569.71426468312,
          77293.77411627935,
          77422.2324686089,
          77492.79069700814,
          78210.41645977524,
          78775.95310064632,
          79088.24977148153,
          80113.6814679153,
          80966.86620208218,
          81370.44302521061,
          81680.81472107256,
          83364.43814745698,
          87068.69052657622,
          88920.0405946683,
          89982.18449653324,
          90001.59667941964,
          90370.18587389759,
          92399.71331215015,
          94681.72010889987,
          95234.20854448092,
          95960.02356815831,
          99777.29632967805,
          100065.21500902936,
          100325.71940221124,
          102839.83972326865,
          106787.0757470461,
          107875.96734405767
         ],
         "yaxis": "y"
        },
        {
         "name": "Sample Size",
         "type": "scatter",
         "x": [
          "MT",
          "KY",
          "KS",
          "MS",
          "ME",
          "OK",
          "HI",
          "VT",
          "SD",
          "NE",
          "AR",
          "ND",
          "NH",
          "IA",
          "ID",
          "UT",
          "SC",
          "MO",
          "MI",
          "IN",
          "TN",
          "WY",
          "AL",
          "NM",
          "WI",
          "NV",
          "OH",
          "MN",
          "LA",
          "RI",
          "AZ",
          "FL",
          "CO",
          "WV",
          "PA",
          "OR",
          "NC",
          "TX",
          "MD",
          "DE",
          "GA",
          "CT",
          "IL",
          "NJ",
          "VA",
          "MA",
          "AK",
          "WA",
          "CA",
          "NY",
          "DC"
         ],
         "xaxis": "x",
         "y": [
          68,
          296,
          240,
          64,
          101,
          193,
          173,
          43,
          50,
          153,
          138,
          63,
          135,
          202,
          91,
          284,
          289,
          481,
          555,
          453,
          388,
          26,
          220,
          94,
          470,
          215,
          793,
          473,
          104,
          69,
          679,
          1465,
          1176,
          40,
          896,
          419,
          865,
          2138,
          546,
          62,
          791,
          369,
          1144,
          924,
          830,
          908,
          54,
          1473,
          6032,
          3765,
          319
         ],
         "yaxis": "y2"
        }
       ],
       "layout": {
        "template": {
         "data": {
          "bar": [
           {
            "error_x": {
             "color": "#2a3f5f"
            },
            "error_y": {
             "color": "#2a3f5f"
            },
            "marker": {
             "line": {
              "color": "#E5ECF6",
              "width": 0.5
             },
             "pattern": {
              "fillmode": "overlay",
              "size": 10,
              "solidity": 0.2
             }
            },
            "type": "bar"
           }
          ],
          "barpolar": [
           {
            "marker": {
             "line": {
              "color": "#E5ECF6",
              "width": 0.5
             },
             "pattern": {
              "fillmode": "overlay",
              "size": 10,
              "solidity": 0.2
             }
            },
            "type": "barpolar"
           }
          ],
          "carpet": [
           {
            "aaxis": {
             "endlinecolor": "#2a3f5f",
             "gridcolor": "white",
             "linecolor": "white",
             "minorgridcolor": "white",
             "startlinecolor": "#2a3f5f"
            },
            "baxis": {
             "endlinecolor": "#2a3f5f",
             "gridcolor": "white",
             "linecolor": "white",
             "minorgridcolor": "white",
             "startlinecolor": "#2a3f5f"
            },
            "type": "carpet"
           }
          ],
          "choropleth": [
           {
            "colorbar": {
             "outlinewidth": 0,
             "ticks": ""
            },
            "type": "choropleth"
           }
          ],
          "contour": [
           {
            "colorbar": {
             "outlinewidth": 0,
             "ticks": ""
            },
            "colorscale": [
             [
              0,
              "#0d0887"
             ],
             [
              0.1111111111111111,
              "#46039f"
             ],
             [
              0.2222222222222222,
              "#7201a8"
             ],
             [
              0.3333333333333333,
              "#9c179e"
             ],
             [
              0.4444444444444444,
              "#bd3786"
             ],
             [
              0.5555555555555556,
              "#d8576b"
             ],
             [
              0.6666666666666666,
              "#ed7953"
             ],
             [
              0.7777777777777778,
              "#fb9f3a"
             ],
             [
              0.8888888888888888,
              "#fdca26"
             ],
             [
              1,
              "#f0f921"
             ]
            ],
            "type": "contour"
           }
          ],
          "contourcarpet": [
           {
            "colorbar": {
             "outlinewidth": 0,
             "ticks": ""
            },
            "type": "contourcarpet"
           }
          ],
          "heatmap": [
           {
            "colorbar": {
             "outlinewidth": 0,
             "ticks": ""
            },
            "colorscale": [
             [
              0,
              "#0d0887"
             ],
             [
              0.1111111111111111,
              "#46039f"
             ],
             [
              0.2222222222222222,
              "#7201a8"
             ],
             [
              0.3333333333333333,
              "#9c179e"
             ],
             [
              0.4444444444444444,
              "#bd3786"
             ],
             [
              0.5555555555555556,
              "#d8576b"
             ],
             [
              0.6666666666666666,
              "#ed7953"
             ],
             [
              0.7777777777777778,
              "#fb9f3a"
             ],
             [
              0.8888888888888888,
              "#fdca26"
             ],
             [
              1,
              "#f0f921"
             ]
            ],
            "type": "heatmap"
           }
          ],
          "heatmapgl": [
           {
            "colorbar": {
             "outlinewidth": 0,
             "ticks": ""
            },
            "colorscale": [
             [
              0,
              "#0d0887"
             ],
             [
              0.1111111111111111,
              "#46039f"
             ],
             [
              0.2222222222222222,
              "#7201a8"
             ],
             [
              0.3333333333333333,
              "#9c179e"
             ],
             [
              0.4444444444444444,
              "#bd3786"
             ],
             [
              0.5555555555555556,
              "#d8576b"
             ],
             [
              0.6666666666666666,
              "#ed7953"
             ],
             [
              0.7777777777777778,
              "#fb9f3a"
             ],
             [
              0.8888888888888888,
              "#fdca26"
             ],
             [
              1,
              "#f0f921"
             ]
            ],
            "type": "heatmapgl"
           }
          ],
          "histogram": [
           {
            "marker": {
             "pattern": {
              "fillmode": "overlay",
              "size": 10,
              "solidity": 0.2
             }
            },
            "type": "histogram"
           }
          ],
          "histogram2d": [
           {
            "colorbar": {
             "outlinewidth": 0,
             "ticks": ""
            },
            "colorscale": [
             [
              0,
              "#0d0887"
             ],
             [
              0.1111111111111111,
              "#46039f"
             ],
             [
              0.2222222222222222,
              "#7201a8"
             ],
             [
              0.3333333333333333,
              "#9c179e"
             ],
             [
              0.4444444444444444,
              "#bd3786"
             ],
             [
              0.5555555555555556,
              "#d8576b"
             ],
             [
              0.6666666666666666,
              "#ed7953"
             ],
             [
              0.7777777777777778,
              "#fb9f3a"
             ],
             [
              0.8888888888888888,
              "#fdca26"
             ],
             [
              1,
              "#f0f921"
             ]
            ],
            "type": "histogram2d"
           }
          ],
          "histogram2dcontour": [
           {
            "colorbar": {
             "outlinewidth": 0,
             "ticks": ""
            },
            "colorscale": [
             [
              0,
              "#0d0887"
             ],
             [
              0.1111111111111111,
              "#46039f"
             ],
             [
              0.2222222222222222,
              "#7201a8"
             ],
             [
              0.3333333333333333,
              "#9c179e"
             ],
             [
              0.4444444444444444,
              "#bd3786"
             ],
             [
              0.5555555555555556,
              "#d8576b"
             ],
             [
              0.6666666666666666,
              "#ed7953"
             ],
             [
              0.7777777777777778,
              "#fb9f3a"
             ],
             [
              0.8888888888888888,
              "#fdca26"
             ],
             [
              1,
              "#f0f921"
             ]
            ],
            "type": "histogram2dcontour"
           }
          ],
          "mesh3d": [
           {
            "colorbar": {
             "outlinewidth": 0,
             "ticks": ""
            },
            "type": "mesh3d"
           }
          ],
          "parcoords": [
           {
            "line": {
             "colorbar": {
              "outlinewidth": 0,
              "ticks": ""
             }
            },
            "type": "parcoords"
           }
          ],
          "pie": [
           {
            "automargin": true,
            "type": "pie"
           }
          ],
          "scatter": [
           {
            "fillpattern": {
             "fillmode": "overlay",
             "size": 10,
             "solidity": 0.2
            },
            "type": "scatter"
           }
          ],
          "scatter3d": [
           {
            "line": {
             "colorbar": {
              "outlinewidth": 0,
              "ticks": ""
             }
            },
            "marker": {
             "colorbar": {
              "outlinewidth": 0,
              "ticks": ""
             }
            },
            "type": "scatter3d"
           }
          ],
          "scattercarpet": [
           {
            "marker": {
             "colorbar": {
              "outlinewidth": 0,
              "ticks": ""
             }
            },
            "type": "scattercarpet"
           }
          ],
          "scattergeo": [
           {
            "marker": {
             "colorbar": {
              "outlinewidth": 0,
              "ticks": ""
             }
            },
            "type": "scattergeo"
           }
          ],
          "scattergl": [
           {
            "marker": {
             "colorbar": {
              "outlinewidth": 0,
              "ticks": ""
             }
            },
            "type": "scattergl"
           }
          ],
          "scattermapbox": [
           {
            "marker": {
             "colorbar": {
              "outlinewidth": 0,
              "ticks": ""
             }
            },
            "type": "scattermapbox"
           }
          ],
          "scatterpolar": [
           {
            "marker": {
             "colorbar": {
              "outlinewidth": 0,
              "ticks": ""
             }
            },
            "type": "scatterpolar"
           }
          ],
          "scatterpolargl": [
           {
            "marker": {
             "colorbar": {
              "outlinewidth": 0,
              "ticks": ""
             }
            },
            "type": "scatterpolargl"
           }
          ],
          "scatterternary": [
           {
            "marker": {
             "colorbar": {
              "outlinewidth": 0,
              "ticks": ""
             }
            },
            "type": "scatterternary"
           }
          ],
          "surface": [
           {
            "colorbar": {
             "outlinewidth": 0,
             "ticks": ""
            },
            "colorscale": [
             [
              0,
              "#0d0887"
             ],
             [
              0.1111111111111111,
              "#46039f"
             ],
             [
              0.2222222222222222,
              "#7201a8"
             ],
             [
              0.3333333333333333,
              "#9c179e"
             ],
             [
              0.4444444444444444,
              "#bd3786"
             ],
             [
              0.5555555555555556,
              "#d8576b"
             ],
             [
              0.6666666666666666,
              "#ed7953"
             ],
             [
              0.7777777777777778,
              "#fb9f3a"
             ],
             [
              0.8888888888888888,
              "#fdca26"
             ],
             [
              1,
              "#f0f921"
             ]
            ],
            "type": "surface"
           }
          ],
          "table": [
           {
            "cells": {
             "fill": {
              "color": "#EBF0F8"
             },
             "line": {
              "color": "white"
             }
            },
            "header": {
             "fill": {
              "color": "#C8D4E3"
             },
             "line": {
              "color": "white"
             }
            },
            "type": "table"
           }
          ]
         },
         "layout": {
          "annotationdefaults": {
           "arrowcolor": "#2a3f5f",
           "arrowhead": 0,
           "arrowwidth": 1
          },
          "autotypenumbers": "strict",
          "coloraxis": {
           "colorbar": {
            "outlinewidth": 0,
            "ticks": ""
           }
          },
          "colorscale": {
           "diverging": [
            [
             0,
             "#8e0152"
            ],
            [
             0.1,
             "#c51b7d"
            ],
            [
             0.2,
             "#de77ae"
            ],
            [
             0.3,
             "#f1b6da"
            ],
            [
             0.4,
             "#fde0ef"
            ],
            [
             0.5,
             "#f7f7f7"
            ],
            [
             0.6,
             "#e6f5d0"
            ],
            [
             0.7,
             "#b8e186"
            ],
            [
             0.8,
             "#7fbc41"
            ],
            [
             0.9,
             "#4d9221"
            ],
            [
             1,
             "#276419"
            ]
           ],
           "sequential": [
            [
             0,
             "#0d0887"
            ],
            [
             0.1111111111111111,
             "#46039f"
            ],
            [
             0.2222222222222222,
             "#7201a8"
            ],
            [
             0.3333333333333333,
             "#9c179e"
            ],
            [
             0.4444444444444444,
             "#bd3786"
            ],
            [
             0.5555555555555556,
             "#d8576b"
            ],
            [
             0.6666666666666666,
             "#ed7953"
            ],
            [
             0.7777777777777778,
             "#fb9f3a"
            ],
            [
             0.8888888888888888,
             "#fdca26"
            ],
            [
             1,
             "#f0f921"
            ]
           ],
           "sequentialminus": [
            [
             0,
             "#0d0887"
            ],
            [
             0.1111111111111111,
             "#46039f"
            ],
            [
             0.2222222222222222,
             "#7201a8"
            ],
            [
             0.3333333333333333,
             "#9c179e"
            ],
            [
             0.4444444444444444,
             "#bd3786"
            ],
            [
             0.5555555555555556,
             "#d8576b"
            ],
            [
             0.6666666666666666,
             "#ed7953"
            ],
            [
             0.7777777777777778,
             "#fb9f3a"
            ],
            [
             0.8888888888888888,
             "#fdca26"
            ],
            [
             1,
             "#f0f921"
            ]
           ]
          },
          "colorway": [
           "#636efa",
           "#EF553B",
           "#00cc96",
           "#ab63fa",
           "#FFA15A",
           "#19d3f3",
           "#FF6692",
           "#B6E880",
           "#FF97FF",
           "#FECB52"
          ],
          "font": {
           "color": "#2a3f5f"
          },
          "geo": {
           "bgcolor": "white",
           "lakecolor": "white",
           "landcolor": "#E5ECF6",
           "showlakes": true,
           "showland": true,
           "subunitcolor": "white"
          },
          "hoverlabel": {
           "align": "left"
          },
          "hovermode": "closest",
          "mapbox": {
           "style": "light"
          },
          "paper_bgcolor": "white",
          "plot_bgcolor": "#E5ECF6",
          "polar": {
           "angularaxis": {
            "gridcolor": "white",
            "linecolor": "white",
            "ticks": ""
           },
           "bgcolor": "#E5ECF6",
           "radialaxis": {
            "gridcolor": "white",
            "linecolor": "white",
            "ticks": ""
           }
          },
          "scene": {
           "xaxis": {
            "backgroundcolor": "#E5ECF6",
            "gridcolor": "white",
            "gridwidth": 2,
            "linecolor": "white",
            "showbackground": true,
            "ticks": "",
            "zerolinecolor": "white"
           },
           "yaxis": {
            "backgroundcolor": "#E5ECF6",
            "gridcolor": "white",
            "gridwidth": 2,
            "linecolor": "white",
            "showbackground": true,
            "ticks": "",
            "zerolinecolor": "white"
           },
           "zaxis": {
            "backgroundcolor": "#E5ECF6",
            "gridcolor": "white",
            "gridwidth": 2,
            "linecolor": "white",
            "showbackground": true,
            "ticks": "",
            "zerolinecolor": "white"
           }
          },
          "shapedefaults": {
           "line": {
            "color": "#2a3f5f"
           }
          },
          "ternary": {
           "aaxis": {
            "gridcolor": "white",
            "linecolor": "white",
            "ticks": ""
           },
           "baxis": {
            "gridcolor": "white",
            "linecolor": "white",
            "ticks": ""
           },
           "bgcolor": "#E5ECF6",
           "caxis": {
            "gridcolor": "white",
            "linecolor": "white",
            "ticks": ""
           }
          },
          "title": {
           "x": 0.05
          },
          "xaxis": {
           "automargin": true,
           "gridcolor": "white",
           "linecolor": "white",
           "ticks": "",
           "title": {
            "standoff": 15
           },
           "zerolinecolor": "white",
           "zerolinewidth": 2
          },
          "yaxis": {
           "automargin": true,
           "gridcolor": "white",
           "linecolor": "white",
           "ticks": "",
           "title": {
            "standoff": 15
           },
           "zerolinecolor": "white",
           "zerolinewidth": 2
          }
         }
        },
        "xaxis": {
         "anchor": "y",
         "domain": [
          0,
          0.94
         ],
         "tickangle": 90,
         "title": {
          "text": "State"
         }
        },
        "yaxis": {
         "anchor": "x",
         "domain": [
          0,
          1
         ],
         "title": {
          "text": "Dollars per year"
         }
        },
        "yaxis2": {
         "anchor": "x",
         "overlaying": "y",
         "side": "right",
         "title": {
          "text": "Job Listings (log)"
         },
         "type": "log"
        }
       }
      }
     },
     "metadata": {},
     "output_type": "display_data"
    }
   ],
   "source": [
    "df = jpm.postings_with_pay[['state','avg_salary']].copy()\n",
    "\n",
    "groups = df.groupby('state')\n",
    "group_count = groups.count()\n",
    "df = groups.mean()\n",
    "df['count'] = group_count\n",
    "df = df.dropna(axis=1).sort_values(by='avg_salary')\n",
    "\n",
    "fig = make_subplots(specs=[[{\"secondary_y\": True}]])\n",
    "\n",
    "fig.add_trace(\n",
    "    go.Bar(\n",
    "        x = df.index.values, \n",
    "        y=df['avg_salary'],\n",
    "        name=\"Average Salary\",\n",
    "    ), \n",
    "    secondary_y=False)\n",
    "\n",
    "fig.add_trace(\n",
    "    go.Scatter(\n",
    "        x = df.index.values,\n",
    "        y = df['count'],\n",
    "        name=\"Sample Size\"\n",
    "    ),\n",
    "    secondary_y=True\n",
    ")\n",
    "\n",
    "fig.update_xaxes(title_text=\"State\",tickangle=90)\n",
    "\n",
    "# Set y-axes titles\n",
    "fig.update_yaxes(title_text=\"Dollars per year\", secondary_y=False)\n",
    "fig.update_yaxes(title_text=\"Job Listings (log)\", secondary_y=True, type=\"log\")\n",
    "\n",
    "fig.show()"
   ]
  },
  {
   "cell_type": "code",
   "execution_count": 14,
   "id": "0bb0ee27",
   "metadata": {},
   "outputs": [],
   "source": [
    "\n",
    "\n",
    "#tokenized_df = job2vec.dataset\n",
    "#print(tokenized_df.head())\n"
   ]
  },
  {
   "cell_type": "code",
   "execution_count": 15,
   "id": "f9d3c78d",
   "metadata": {},
   "outputs": [
    {
     "name": "stdout",
     "output_type": "stream",
     "text": [
      "Retrieving an existing model from c:\\dev\\job-estimator/assets/w2v/w2v.model\n"
     ]
    },
    {
     "ename": "IndexError",
     "evalue": "list index out of range",
     "output_type": "error",
     "traceback": [
      "\u001b[1;31m---------------------------------------------------------------------------\u001b[0m",
      "\u001b[1;31mIndexError\u001b[0m                                Traceback (most recent call last)",
      "Cell \u001b[1;32mIn[15], line 12\u001b[0m\n\u001b[0;32m     10\u001b[0m \u001b[38;5;28;01mfor\u001b[39;00m x \u001b[38;5;129;01min\u001b[39;00m categories:\n\u001b[0;32m     11\u001b[0m     \u001b[38;5;28;01mif\u001b[39;00m \u001b[38;5;28mlen\u001b[39m(x) \u001b[38;5;241m>\u001b[39m \u001b[38;5;241m1\u001b[39m:\n\u001b[1;32m---> 12\u001b[0m         changed\u001b[38;5;241m.\u001b[39mappend([x[\u001b[38;5;241m1\u001b[39m],\u001b[43mx\u001b[49m\u001b[43m[\u001b[49m\u001b[38;5;241;43m2\u001b[39;49m\u001b[43m]\u001b[49m])\n\u001b[0;32m     13\u001b[0m     \u001b[38;5;28;01melse\u001b[39;00m:\n\u001b[0;32m     14\u001b[0m         changed\u001b[38;5;241m.\u001b[39mappend(x)\n",
      "\u001b[1;31mIndexError\u001b[0m: list index out of range"
     ]
    }
   ],
   "source": [
    "import json\n",
    "\n",
    "from gensim.models import KeyedVectors\n",
    "job2vec = J2V(jpm.postings)\n",
    "j2v = job2vec.get_model()\n",
    "wv = j2v.wv\n",
    "categories = json.load(open(settings.REPO_PATH + '/assets/bls_gov_jobs.json'))\n",
    "\n",
    "changed = []\n",
    "for x in categories:\n",
    "    if len(x) > 1:\n",
    "        changed.append([x[1],x[2]])\n",
    "    else:\n",
    "        changed.append(x)\n",
    "\n",
    "print(changed[:50])\n",
    "\n",
    "tkn = job2vec.tokenize(sentence)\n",
    "'''\n",
    "#df.to_pickle(settings.REPO_PATH + '/assets/vectorized_categories.bin')\n",
    "\n",
    "\n",
    "\n",
    "\n",
    "\n",
    "# # inspired by https://github.com/piskvorky/gensim/blob/develop/gensim/models/keyedvectors.py#L655\n",
    "# best = matutils.argsort(distances(), topn=topn + len(all_keys), reverse=True)\n",
    "top_postings: pd.DataFrame = jpm.postings.head(100)\n",
    "print(top_postings['title'])\n",
    "categorized = []\n",
    "\n",
    "for post in top_postings['title']:\n",
    "    if not post:\n",
    "        continue\n",
    "    category = categorize(post)\n",
    "    if isinstance(category, tuple):\n",
    "        categorized.append([post,category[0]])\n",
    "\n",
    "categorized = pd.DataFrame(categorized)\n",
    "\n",
    "categorized.to_csv(settings.REPO_PATH + '/assets/categorized_titles.csv')\n",
    "'''"
   ]
  },
  {
   "cell_type": "code",
   "execution_count": null,
   "id": "eb866aff",
   "metadata": {},
   "outputs": [
    {
     "name": "stdout",
     "output_type": "stream",
     "text": [
      "Word2Vec<vocab=74766, vector_size=300, alpha=0.025>\n"
     ]
    }
   ],
   "source": [
    "print(j2v)"
   ]
  },
  {
   "cell_type": "code",
   "execution_count": null,
   "id": "51e0ce4f",
   "metadata": {},
   "outputs": [
    {
     "name": "stdout",
     "output_type": "stream",
     "text": [
      "Training....\n",
      "Dumping the model...\n"
     ]
    }
   ],
   "source": [
    "#import os\n",
    "#import pickle\n",
    "#from sklearn.cluster import MiniBatchKMeans\n",
    "\n",
    "#kmeans_path = settings.REPO_PATH +'/assets/kmeans/model.bin'   \n",
    "#print('Training....')\n",
    "#model = MiniBatchKMeans(n_clusters=200, max_iter=1000, random_state=1, batch_size=(257 * os.cpu_count()), max_no_improvement=100, verbose=1).fit(X=j2v.wv.vectors)\n",
    "\n",
    "#print('Dumping the model...')\n",
    "#pickle.dump(model, open(kmeans_path,'wb'))\n",
    "\n",
    "#categories = model.cluster_centers_\n",
    "#for i in range(10):\n",
    "#    vectors = j2v.wv.similar_by_vector(model.cluster_centers_[i], topn=10, restrict_vocab=None)\n",
    "#    print(vectors)"
   ]
  },
  {
   "cell_type": "code",
   "execution_count": null,
   "id": "2c1f0b7d",
   "metadata": {},
   "outputs": [
    {
     "ename": "AttributeError",
     "evalue": "'JobPostingManager' object has no attribute 'clean'",
     "output_type": "error",
     "traceback": [
      "\u001b[1;31m---------------------------------------------------------------------------\u001b[0m",
      "\u001b[1;31mAttributeError\u001b[0m                            Traceback (most recent call last)",
      "Cell \u001b[1;32mIn[13], line 1\u001b[0m\n\u001b[1;32m----> 1\u001b[0m df \u001b[38;5;241m=\u001b[39m \u001b[43mjpm\u001b[49m\u001b[38;5;241;43m.\u001b[39;49m\u001b[43mclean\u001b[49m[[\u001b[38;5;124m'\u001b[39m\u001b[38;5;124mstate\u001b[39m\u001b[38;5;124m'\u001b[39m,\u001b[38;5;124m'\u001b[39m\u001b[38;5;124mtitle\u001b[39m\u001b[38;5;124m'\u001b[39m,\u001b[38;5;124m'\u001b[39m\u001b[38;5;124mjob_id\u001b[39m\u001b[38;5;124m'\u001b[39m]]\u001b[38;5;241m.\u001b[39mcopy()\n\u001b[0;32m      3\u001b[0m df \u001b[38;5;241m=\u001b[39m df\u001b[38;5;241m.\u001b[39mgroupby([\u001b[38;5;124m'\u001b[39m\u001b[38;5;124mstate\u001b[39m\u001b[38;5;124m'\u001b[39m,\u001b[38;5;124m'\u001b[39m\u001b[38;5;124mtitle\u001b[39m\u001b[38;5;124m'\u001b[39m])\u001b[38;5;241m.\u001b[39msize()\u001b[38;5;241m.\u001b[39mto_frame(name \u001b[38;5;241m=\u001b[39m \u001b[38;5;124m'\u001b[39m\u001b[38;5;124mcount\u001b[39m\u001b[38;5;124m'\u001b[39m)\u001b[38;5;241m.\u001b[39mreset_index()\u001b[38;5;241m.\u001b[39mdropna(axis\u001b[38;5;241m=\u001b[39m\u001b[38;5;241m1\u001b[39m)\n\u001b[0;32m      5\u001b[0m fig \u001b[38;5;241m=\u001b[39m go\u001b[38;5;241m.\u001b[39mFigure(data\u001b[38;5;241m=\u001b[39m[go\u001b[38;5;241m.\u001b[39mScatter3d(x\u001b[38;5;241m=\u001b[39mdf[\u001b[38;5;124m'\u001b[39m\u001b[38;5;124mstate\u001b[39m\u001b[38;5;124m'\u001b[39m], y\u001b[38;5;241m=\u001b[39mdf[\u001b[38;5;124m'\u001b[39m\u001b[38;5;124mtitle\u001b[39m\u001b[38;5;124m'\u001b[39m], z\u001b[38;5;241m=\u001b[39mdf[\u001b[38;5;124m'\u001b[39m\u001b[38;5;124mcount\u001b[39m\u001b[38;5;124m'\u001b[39m], mode\u001b[38;5;241m=\u001b[39m\u001b[38;5;124m'\u001b[39m\u001b[38;5;124mmarkers\u001b[39m\u001b[38;5;124m'\u001b[39m)])\n",
      "\u001b[1;31mAttributeError\u001b[0m: 'JobPostingManager' object has no attribute 'clean'"
     ]
    }
   ],
   "source": [
    "df = jpm.clean[['state','title','job_id']].copy()\n",
    "\n",
    "df = df.groupby(['state','title']).size().to_frame(name = 'count').reset_index().dropna(axis=1)\n",
    "\n",
    "fig = go.Figure(data=[go.Scatter3d(x=df['state'], y=df['title'], z=df['count'], mode='markers')])\n",
    "\n",
    "fig.update_xaxes(title_text=\"State\")\n",
    "fig.update_yaxes(title_text=\"Position\")\n",
    "\n",
    "fig.show()"
   ]
  }
 ],
 "metadata": {
  "kernelspec": {
   "display_name": "Python 3 (ipykernel)",
   "language": "python",
   "name": "python3"
  },
  "language_info": {
   "codemirror_mode": {
    "name": "ipython",
    "version": 3
   },
   "file_extension": ".py",
   "mimetype": "text/x-python",
   "name": "python",
   "nbconvert_exporter": "python",
   "pygments_lexer": "ipython3",
   "version": "3.12.4"
  }
 },
 "nbformat": 4,
 "nbformat_minor": 5
}
