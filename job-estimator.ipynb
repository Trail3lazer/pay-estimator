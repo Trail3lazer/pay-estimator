{
 "cells": [
  {
   "cell_type": "markdown",
   "id": "727b38e3-4bf1-469b-bbdf-1c3b01079f22",
   "metadata": {},
   "source": [
    "# Salary estimator from listings"
   ]
  },
  {
   "cell_type": "markdown",
   "id": "ddaaa672-a66a-449e-acaa-c9f995ec1ef6",
   "metadata": {},
   "source": [
    "## Setup"
   ]
  },
  {
   "cell_type": "code",
   "execution_count": 24,
   "id": "a3e0ae1b",
   "metadata": {},
   "outputs": [
    {
     "name": "stdout",
     "output_type": "stream",
     "text": [
      "Note: you may need to restart the kernel to use updated packages.\n"
     ]
    },
    {
     "name": "stderr",
     "output_type": "stream",
     "text": [
      "ERROR: Invalid requirement: '#'\n"
     ]
    }
   ],
   "source": [
    "%pip install pandas xgboost scikit-learn plotly # gensim"
   ]
  },
  {
   "cell_type": "markdown",
   "id": "9a5ffcbf-6ac8-46c6-92b2-446fc546a08d",
   "metadata": {},
   "source": [
    "First we must import our packages to manage the dataset. Then we can import the data."
   ]
  },
  {
   "cell_type": "markdown",
   "id": "1e044b65-ce26-48fa-a2fa-e8e0f7ff831c",
   "metadata": {},
   "source": [
    "## Get the data"
   ]
  },
  {
   "cell_type": "markdown",
   "id": "8fc8c7bc-f479-4acc-84a6-128d1489bafe",
   "metadata": {},
   "source": [
    "Now we can load the dataset."
   ]
  },
  {
   "cell_type": "code",
   "execution_count": 25,
   "id": "335c66c8-11a7-422b-a512-baa3ff106c6b",
   "metadata": {},
   "outputs": [],
   "source": [
    "import os\n",
    "import pandas as pd\n",
    "import numpy as np\n",
    "import xgboost as xgb\n",
    "import plotly.express as px\n",
    "from sklearn.model_selection import train_test_split, GridSearchCV\n",
    "from sklearn.metrics import balanced_accuracy_score, roc_auc_score, make_scorer\n",
    "from sklearn.metrics import confusion_matrix, ConfusionMatrixDisplay"
   ]
  },
  {
   "cell_type": "code",
   "execution_count": 26,
   "id": "62d0d0cc-7e4f-4c38-933f-7648dfadff21",
   "metadata": {},
   "outputs": [
    {
     "ename": "KeyboardInterrupt",
     "evalue": "",
     "output_type": "error",
     "traceback": [
      "\u001b[1;31m---------------------------------------------------------------------------\u001b[0m",
      "\u001b[1;31mKeyboardInterrupt\u001b[0m                         Traceback (most recent call last)",
      "Cell \u001b[1;32mIn[26], line 2\u001b[0m\n\u001b[0;32m      1\u001b[0m repo_path \u001b[38;5;241m=\u001b[39m os\u001b[38;5;241m.\u001b[39mpath\u001b[38;5;241m.\u001b[39mabspath(\u001b[38;5;124m'\u001b[39m\u001b[38;5;124m'\u001b[39m)\n\u001b[1;32m----> 2\u001b[0m df \u001b[38;5;241m=\u001b[39m \u001b[43mpd\u001b[49m\u001b[38;5;241;43m.\u001b[39;49m\u001b[43mread_csv\u001b[49m\u001b[43m(\u001b[49m\u001b[43mrepo_path\u001b[49m\u001b[43m \u001b[49m\u001b[38;5;241;43m+\u001b[39;49m\u001b[43m \u001b[49m\u001b[38;5;124;43m'\u001b[39;49m\u001b[38;5;124;43m/archive/postings.csv\u001b[39;49m\u001b[38;5;124;43m'\u001b[39;49m\u001b[43m)\u001b[49m\n\u001b[0;32m      3\u001b[0m df\u001b[38;5;241m.\u001b[39mhead()\n",
      "File \u001b[1;32mc:\\Users\\jared\\AppData\\Local\\Programs\\Python\\Python312\\Lib\\site-packages\\pandas\\io\\parsers\\readers.py:1026\u001b[0m, in \u001b[0;36mread_csv\u001b[1;34m(filepath_or_buffer, sep, delimiter, header, names, index_col, usecols, dtype, engine, converters, true_values, false_values, skipinitialspace, skiprows, skipfooter, nrows, na_values, keep_default_na, na_filter, verbose, skip_blank_lines, parse_dates, infer_datetime_format, keep_date_col, date_parser, date_format, dayfirst, cache_dates, iterator, chunksize, compression, thousands, decimal, lineterminator, quotechar, quoting, doublequote, escapechar, comment, encoding, encoding_errors, dialect, on_bad_lines, delim_whitespace, low_memory, memory_map, float_precision, storage_options, dtype_backend)\u001b[0m\n\u001b[0;32m   1013\u001b[0m kwds_defaults \u001b[38;5;241m=\u001b[39m _refine_defaults_read(\n\u001b[0;32m   1014\u001b[0m     dialect,\n\u001b[0;32m   1015\u001b[0m     delimiter,\n\u001b[1;32m   (...)\u001b[0m\n\u001b[0;32m   1022\u001b[0m     dtype_backend\u001b[38;5;241m=\u001b[39mdtype_backend,\n\u001b[0;32m   1023\u001b[0m )\n\u001b[0;32m   1024\u001b[0m kwds\u001b[38;5;241m.\u001b[39mupdate(kwds_defaults)\n\u001b[1;32m-> 1026\u001b[0m \u001b[38;5;28;01mreturn\u001b[39;00m \u001b[43m_read\u001b[49m\u001b[43m(\u001b[49m\u001b[43mfilepath_or_buffer\u001b[49m\u001b[43m,\u001b[49m\u001b[43m \u001b[49m\u001b[43mkwds\u001b[49m\u001b[43m)\u001b[49m\n",
      "File \u001b[1;32mc:\\Users\\jared\\AppData\\Local\\Programs\\Python\\Python312\\Lib\\site-packages\\pandas\\io\\parsers\\readers.py:626\u001b[0m, in \u001b[0;36m_read\u001b[1;34m(filepath_or_buffer, kwds)\u001b[0m\n\u001b[0;32m    623\u001b[0m     \u001b[38;5;28;01mreturn\u001b[39;00m parser\n\u001b[0;32m    625\u001b[0m \u001b[38;5;28;01mwith\u001b[39;00m parser:\n\u001b[1;32m--> 626\u001b[0m     \u001b[38;5;28;01mreturn\u001b[39;00m \u001b[43mparser\u001b[49m\u001b[38;5;241;43m.\u001b[39;49m\u001b[43mread\u001b[49m\u001b[43m(\u001b[49m\u001b[43mnrows\u001b[49m\u001b[43m)\u001b[49m\n",
      "File \u001b[1;32mc:\\Users\\jared\\AppData\\Local\\Programs\\Python\\Python312\\Lib\\site-packages\\pandas\\io\\parsers\\readers.py:1923\u001b[0m, in \u001b[0;36mTextFileReader.read\u001b[1;34m(self, nrows)\u001b[0m\n\u001b[0;32m   1916\u001b[0m nrows \u001b[38;5;241m=\u001b[39m validate_integer(\u001b[38;5;124m\"\u001b[39m\u001b[38;5;124mnrows\u001b[39m\u001b[38;5;124m\"\u001b[39m, nrows)\n\u001b[0;32m   1917\u001b[0m \u001b[38;5;28;01mtry\u001b[39;00m:\n\u001b[0;32m   1918\u001b[0m     \u001b[38;5;66;03m# error: \"ParserBase\" has no attribute \"read\"\u001b[39;00m\n\u001b[0;32m   1919\u001b[0m     (\n\u001b[0;32m   1920\u001b[0m         index,\n\u001b[0;32m   1921\u001b[0m         columns,\n\u001b[0;32m   1922\u001b[0m         col_dict,\n\u001b[1;32m-> 1923\u001b[0m     ) \u001b[38;5;241m=\u001b[39m \u001b[38;5;28;43mself\u001b[39;49m\u001b[38;5;241;43m.\u001b[39;49m\u001b[43m_engine\u001b[49m\u001b[38;5;241;43m.\u001b[39;49m\u001b[43mread\u001b[49m\u001b[43m(\u001b[49m\u001b[43m  \u001b[49m\u001b[38;5;66;43;03m# type: ignore[attr-defined]\u001b[39;49;00m\n\u001b[0;32m   1924\u001b[0m \u001b[43m        \u001b[49m\u001b[43mnrows\u001b[49m\n\u001b[0;32m   1925\u001b[0m \u001b[43m    \u001b[49m\u001b[43m)\u001b[49m\n\u001b[0;32m   1926\u001b[0m \u001b[38;5;28;01mexcept\u001b[39;00m \u001b[38;5;167;01mException\u001b[39;00m:\n\u001b[0;32m   1927\u001b[0m     \u001b[38;5;28mself\u001b[39m\u001b[38;5;241m.\u001b[39mclose()\n",
      "File \u001b[1;32mc:\\Users\\jared\\AppData\\Local\\Programs\\Python\\Python312\\Lib\\site-packages\\pandas\\io\\parsers\\c_parser_wrapper.py:234\u001b[0m, in \u001b[0;36mCParserWrapper.read\u001b[1;34m(self, nrows)\u001b[0m\n\u001b[0;32m    232\u001b[0m \u001b[38;5;28;01mtry\u001b[39;00m:\n\u001b[0;32m    233\u001b[0m     \u001b[38;5;28;01mif\u001b[39;00m \u001b[38;5;28mself\u001b[39m\u001b[38;5;241m.\u001b[39mlow_memory:\n\u001b[1;32m--> 234\u001b[0m         chunks \u001b[38;5;241m=\u001b[39m \u001b[38;5;28;43mself\u001b[39;49m\u001b[38;5;241;43m.\u001b[39;49m\u001b[43m_reader\u001b[49m\u001b[38;5;241;43m.\u001b[39;49m\u001b[43mread_low_memory\u001b[49m\u001b[43m(\u001b[49m\u001b[43mnrows\u001b[49m\u001b[43m)\u001b[49m\n\u001b[0;32m    235\u001b[0m         \u001b[38;5;66;03m# destructive to chunks\u001b[39;00m\n\u001b[0;32m    236\u001b[0m         data \u001b[38;5;241m=\u001b[39m _concatenate_chunks(chunks)\n",
      "File \u001b[1;32mparsers.pyx:838\u001b[0m, in \u001b[0;36mpandas._libs.parsers.TextReader.read_low_memory\u001b[1;34m()\u001b[0m\n",
      "File \u001b[1;32mparsers.pyx:905\u001b[0m, in \u001b[0;36mpandas._libs.parsers.TextReader._read_rows\u001b[1;34m()\u001b[0m\n",
      "File \u001b[1;32mparsers.pyx:874\u001b[0m, in \u001b[0;36mpandas._libs.parsers.TextReader._tokenize_rows\u001b[1;34m()\u001b[0m\n",
      "File \u001b[1;32mparsers.pyx:891\u001b[0m, in \u001b[0;36mpandas._libs.parsers.TextReader._check_tokenize_status\u001b[1;34m()\u001b[0m\n",
      "File \u001b[1;32mparsers.pyx:2053\u001b[0m, in \u001b[0;36mpandas._libs.parsers.raise_parser_error\u001b[1;34m()\u001b[0m\n",
      "File \u001b[1;32m<frozen codecs>:331\u001b[0m, in \u001b[0;36mgetstate\u001b[1;34m(self)\u001b[0m\n",
      "\u001b[1;31mKeyboardInterrupt\u001b[0m: "
     ]
    }
   ],
   "source": [
    "repo_path = os.path.abspath('')\n",
    "df = pd.read_csv(repo_path + '/archive/postings.csv')\n",
    "df.head()"
   ]
  },
  {
   "cell_type": "code",
   "execution_count": null,
   "id": "bc345891",
   "metadata": {},
   "outputs": [
    {
     "name": "stdout",
     "output_type": "stream",
     "text": [
      "['job_id', 'company_name', 'title', 'description', 'max_salary', 'pay_period', 'location', 'company_id', 'med_salary', 'min_salary', 'formatted_work_type', 'formatted_experience_level', 'skills_desc', 'work_type', 'currency']\n"
     ]
    }
   ],
   "source": [
    "columns_to_drop = [\n",
    "    'views','applies','original_listed_time','remote_allowed','job_posting_url','application_url','application_type',\n",
    "    'expiry','closed_time','listed_time','posting_domain','sponsored','compensation_type','sponsored',\n",
    "    ]\n",
    "if 'views' in df.columns:\n",
    "    df.drop(columns_to_drop, axis=1, inplace=True)\n",
    "print(list(df.columns))"
   ]
  },
  {
   "cell_type": "code",
   "execution_count": null,
   "id": "c48cd649",
   "metadata": {},
   "outputs": [
    {
     "data": {
      "text/plain": [
       "36073"
      ]
     },
     "execution_count": 17,
     "metadata": {},
     "output_type": "execute_result"
    }
   ],
   "source": [
    "pay_cols = ['max_salary','med_salary','min_salary']\n",
    "df.dropna(thresh=1, subset=pay_cols, inplace=True)\n",
    "len(df.index)"
   ]
  },
  {
   "cell_type": "code",
   "execution_count": 50,
   "id": "0141a673",
   "metadata": {},
   "outputs": [
    {
     "name": "stdout",
     "output_type": "stream",
     "text": [
      "3                                  NaN\n",
      "21              OHIO METROPOLITAN AREA\n",
      "31             TEXAS METROPOLITAN AREA\n",
      "32                          CALIFORNIA\n",
      "35    SOUTH CAROLINA METROPOLITAN AREA\n",
      "38            OREGON METROPOLITAN AREA\n",
      "44                        ALABAMA AREA\n",
      "45            KANSAS METROPOLITAN AREA\n",
      "46     MASSACHUSETTS METROPOLITAN AREA\n",
      "56          NEBRASKA METROPOLITAN AREA\n",
      "57                            NEW YORK\n",
      "59                             MI AREA\n",
      "60                            ILLINOIS\n",
      "61         LOUISIANA METROPOLITAN AREA\n",
      "62          NEW YORK METROPOLITAN AREA\n",
      "66                              HAWAII\n",
      "67                                OHIO\n",
      "68                            DELAWARE\n",
      "70    NORTH CAROLINA METROPOLITAN AREA\n",
      "71                            COLORADO\n",
      "72                            NEBRASKA\n",
      "73                          WASHINGTON\n",
      "74                       MASSACHUSETTS\n",
      "75                               TEXAS\n",
      "76                             AR AREA\n",
      "77         WISCONSIN METROPOLITAN AREA\n",
      "78                              OREGON\n",
      "79           INDIANA METROPOLITAN AREA\n",
      "80                            OKLAHOMA\n",
      "81                      NORTH CAROLINA\n",
      "82                             FLORIDA\n",
      "83                                UTAH\n",
      "84                 SOUTH CAROLINA AREA\n",
      "dtype: object\n"
     ]
    }
   ],
   "source": [
    "graph_cols = pay_cols + ['company_name','title','location','pay_period']\n",
    "pay_df = df[graph_cols].copy()\n",
    "pay_df['state'] = pay_df['location'].str.split(',').str[1].str.strip().str.upper()\n",
    "salary_df = pay_df.loc[pay_df['pay_period'] != 'HOURLY']\n",
    "salary_state_df = salary_df[['state']+pay_cols].copy()\n",
    "salary_state_df['avg_salary'] = salary_state_df[pay_cols].mean(axis=1)\n",
    "\n",
    "\n",
    "def get_abnormal(arr: np.array):\n",
    "    ser = pd.Series(arr.unique())\n",
    "    result = ser[(ser != 'UNITED STATES') & (ser.str.len() != 2)]\n",
    "    return result\n",
    "\n",
    "print(get_abnormal(states))"
   ]
  },
  {
   "cell_type": "code",
   "execution_count": 51,
   "id": "b33f18f3",
   "metadata": {},
   "outputs": [
    {
     "name": "stdout",
     "output_type": "stream",
     "text": [
      "3                                  NaN\n",
      "21              OHIO METROPOLITAN AREA\n",
      "31             TEXAS METROPOLITAN AREA\n",
      "32                          CALIFORNIA\n",
      "35    SOUTH CAROLINA METROPOLITAN AREA\n",
      "38            OREGON METROPOLITAN AREA\n",
      "44                        ALABAMA AREA\n",
      "45            KANSAS METROPOLITAN AREA\n",
      "46     MASSACHUSETTS METROPOLITAN AREA\n",
      "56          NEBRASKA METROPOLITAN AREA\n",
      "57                            NEW YORK\n",
      "59                             MI AREA\n",
      "60                            ILLINOIS\n",
      "61         LOUISIANA METROPOLITAN AREA\n",
      "62          NEW YORK METROPOLITAN AREA\n",
      "66                              HAWAII\n",
      "67                                OHIO\n",
      "68                            DELAWARE\n",
      "70    NORTH CAROLINA METROPOLITAN AREA\n",
      "71                            COLORADO\n",
      "72                            NEBRASKA\n",
      "73                          WASHINGTON\n",
      "74                       MASSACHUSETTS\n",
      "75                               TEXAS\n",
      "76                             AR AREA\n",
      "77         WISCONSIN METROPOLITAN AREA\n",
      "78                              OREGON\n",
      "79           INDIANA METROPOLITAN AREA\n",
      "80                            OKLAHOMA\n",
      "81                      NORTH CAROLINA\n",
      "82                             FLORIDA\n",
      "83                                UTAH\n",
      "84                 SOUTH CAROLINA AREA\n",
      "dtype: object\n",
      "2          OH\n",
      "3          NY\n",
      "4          IA\n",
      "6         NaN\n",
      "7          CA\n",
      "         ... \n",
      "123834     CA\n",
      "123836     CA\n",
      "123839    NaN\n",
      "123844     CA\n",
      "123848     CA\n",
      "Name: state, Length: 21332, dtype: object\n"
     ]
    }
   ],
   "source": [
    "state_map = [\n",
    "    ['ALASKA', 'AK'],\n",
    "    ['ALABAMA', 'AL'],\n",
    "    ['ARKANSAS', 'AR'],\n",
    "    ['ARIZONA', 'AZ'],\n",
    "    ['CALIFORNIA', 'CA'],\n",
    "    ['COLORADO', 'CO'],\n",
    "    ['CONNECTICUT', 'CT'],\n",
    "    ['DELAWARE', 'DE'],\n",
    "    ['FLORIDA', 'FL'],\n",
    "    ['GEORGIA', 'GA'],\n",
    "    ['HAWAII', 'HI'],\n",
    "    ['IOWA', 'IA'],\n",
    "    ['IDAHO', 'ID'],\n",
    "    ['ILLINOIS', 'IL'],\n",
    "    ['INDIANA', 'IN'],\n",
    "    ['KANSAS', 'KS'],\n",
    "    ['KENTUCKY', 'KY'],\n",
    "    ['LOUISIANA', 'LA'],\n",
    "    ['MASSACHUSETTS', 'MA'],\n",
    "    ['MARYLAND', 'MD'],\n",
    "    ['MAINE', 'ME'],\n",
    "    ['MICHIGAN', 'MI'],\n",
    "    ['MINNESOTA', 'MN'],\n",
    "    ['MISSOURI', 'MO'],\n",
    "    ['MISSISSIPPI', 'MS'],\n",
    "    ['MONTANA', 'MT'],\n",
    "    ['NORTH CAROLINA', 'NC'],\n",
    "    ['NORTH DAKOTA', 'ND'],\n",
    "    ['NEBRASKA', 'NE'],\n",
    "    ['NEW HAMPSHIRE', 'NH'],\n",
    "    ['NEW JERSEY', 'NJ'],\n",
    "    ['NEW MEXICO', 'NM'],\n",
    "    ['NEVADA', 'NV'],\n",
    "    ['NEW YORK', 'NY'],\n",
    "    ['OHIO', 'OH'],\n",
    "    ['OKLAHOMA', 'OK'],\n",
    "    ['OREGON', 'OR'],\n",
    "    ['PENNSYLVANIA', 'PA'],\n",
    "    ['RHODE ISLAND', 'RI'],\n",
    "    ['SOUTH CAROLINA', 'SC'],\n",
    "    ['SOUTH DAKOTA', 'SD'],\n",
    "    ['TENNESSEE', 'TN'],\n",
    "    ['TEXAS', 'TX'],\n",
    "    ['UTAH', 'UT'],\n",
    "    ['VIRGINIA', 'VA'],\n",
    "    ['VERMONT', 'VT'],\n",
    "    ['WASHINGTON', 'WA'],\n",
    "    ['WISCONSIN', 'WI'],\n",
    "    ['WEST VIRGINIA', 'WV'],\n",
    "    ['WYOMING', 'WY']\n",
    "]\n",
    "state_map_df = pd.DataFrame(state_map, columns=['name', 'abbr'])\n",
    "\n",
    "def clean_state(state: str):\n",
    "    if (state == state and len(state) != 2 and state != 'UNITED STATES'):\n",
    "        state = state.lstrip(' AREA')\n",
    "        state = state.lstrip(' METROPOLITAN')\n",
    "        if state in state_map: \n",
    "            return state_map[state]\n",
    "    return state\n",
    "\n",
    "salary_state_df['state'].apply(clean_state)\n",
    "\n",
    "print(get_abnormal(salary_state_df['state']))\n",
    "\n",
    "#salary_state_df['state'] = np.where(, abbreviate(), arr)\n",
    "print(salary_state_df['state'])"
   ]
  },
  {
   "cell_type": "code",
   "execution_count": null,
   "id": "f392e00c",
   "metadata": {},
   "outputs": [
    {
     "name": "stdout",
     "output_type": "stream",
     "text": [
      "              avg_salary\n",
      "state                   \n",
      "AK              107000.0\n",
      "AL               70000.0\n",
      "ALABAMA AREA    115840.5\n",
      "AR               65000.0\n",
      "AR AREA         101243.5\n"
     ]
    },
    {
     "data": {
      "application/vnd.plotly.v1+json": {
       "config": {
        "plotlyServerURL": "https://plot.ly"
       },
       "data": [
        {
         "alignmentgroup": "True",
         "hovertemplate": "variable=avg_salary<br>state=%{x}<br>value=%{y}<extra></extra>",
         "legendgroup": "avg_salary",
         "marker": {
          "color": "#636efa",
          "pattern": {
           "shape": ""
          }
         },
         "name": "avg_salary",
         "offsetgroup": "avg_salary",
         "orientation": "v",
         "showlegend": true,
         "textposition": "auto",
         "type": "bar",
         "x": [
          "AK",
          "AL",
          "ALABAMA AREA",
          "AR",
          "AR AREA",
          "AZ",
          "CA",
          "CALIFORNIA",
          "CO",
          "COLORADO",
          "CT",
          "DC",
          "DE",
          "DELAWARE",
          "FL",
          "FLORIDA",
          "GA",
          "HAWAII",
          "HI",
          "IA",
          "ID",
          "IL",
          "ILLINOIS",
          "IN",
          "INDIANA METROPOLITAN AREA",
          "KANSAS METROPOLITAN AREA",
          "KS",
          "KY",
          "LA",
          "LOUISIANA METROPOLITAN AREA",
          "MA",
          "MASSACHUSETTS",
          "MASSACHUSETTS METROPOLITAN AREA",
          "MD",
          "ME",
          "MI",
          "MI AREA",
          "MN",
          "MO",
          "MS",
          "MT",
          "NC",
          "ND",
          "NE",
          "NEBRASKA",
          "NEBRASKA METROPOLITAN AREA",
          "NEW YORK",
          "NEW YORK METROPOLITAN AREA",
          "NH",
          "NJ",
          "NM",
          "NORTH CAROLINA",
          "NORTH CAROLINA METROPOLITAN AREA",
          "NV",
          "NY",
          "OH",
          "OHIO",
          "OHIO METROPOLITAN AREA",
          "OK",
          "OKLAHOMA",
          "OR",
          "OREGON",
          "OREGON METROPOLITAN AREA",
          "PA",
          "RI",
          "SC",
          "SD",
          "SOUTH CAROLINA AREA",
          "SOUTH CAROLINA METROPOLITAN AREA",
          "TEXAS",
          "TEXAS METROPOLITAN AREA",
          "TN",
          "TX",
          "UNITED STATES",
          "UT",
          "UTAH",
          "VA",
          "VT",
          "WA",
          "WASHINGTON",
          "WI",
          "WISCONSIN METROPOLITAN AREA",
          "WV",
          "WY"
         ],
         "xaxis": "x",
         "y": [
          107000,
          70000,
          115840.5,
          65000,
          101243.5,
          90500,
          115000,
          91725,
          90000,
          94700,
          99980,
          108000,
          100000,
          128000,
          82500,
          97500,
          95000,
          49335.905,
          74760,
          70000,
          74312.5,
          93050,
          475000,
          75000,
          160000,
          21812.5,
          72500,
          70467.785,
          71000,
          58750,
          102500,
          119800,
          173750,
          99027.5,
          75055.5,
          83750,
          95000,
          89283,
          77519.5,
          72000,
          74706,
          96542.5,
          86750,
          75000,
          101530,
          67000,
          92500,
          86024,
          85000,
          105250,
          96709.5,
          110850,
          100000,
          87500,
          104875,
          85500,
          228000,
          81250,
          77500,
          149287,
          90000,
          95871.5,
          85000,
          90000,
          92409,
          84000,
          63000,
          160000,
          70000,
          69700.895,
          99750,
          85000,
          94500,
          115000,
          81250,
          83300,
          104000,
          59250,
          122500,
          87500,
          80000,
          75000,
          85000,
          87500
         ],
         "yaxis": "y"
        }
       ],
       "layout": {
        "barmode": "relative",
        "legend": {
         "title": {
          "text": "variable"
         },
         "tracegroupgap": 0
        },
        "margin": {
         "t": 60
        },
        "template": {
         "data": {
          "bar": [
           {
            "error_x": {
             "color": "#2a3f5f"
            },
            "error_y": {
             "color": "#2a3f5f"
            },
            "marker": {
             "line": {
              "color": "#E5ECF6",
              "width": 0.5
             },
             "pattern": {
              "fillmode": "overlay",
              "size": 10,
              "solidity": 0.2
             }
            },
            "type": "bar"
           }
          ],
          "barpolar": [
           {
            "marker": {
             "line": {
              "color": "#E5ECF6",
              "width": 0.5
             },
             "pattern": {
              "fillmode": "overlay",
              "size": 10,
              "solidity": 0.2
             }
            },
            "type": "barpolar"
           }
          ],
          "carpet": [
           {
            "aaxis": {
             "endlinecolor": "#2a3f5f",
             "gridcolor": "white",
             "linecolor": "white",
             "minorgridcolor": "white",
             "startlinecolor": "#2a3f5f"
            },
            "baxis": {
             "endlinecolor": "#2a3f5f",
             "gridcolor": "white",
             "linecolor": "white",
             "minorgridcolor": "white",
             "startlinecolor": "#2a3f5f"
            },
            "type": "carpet"
           }
          ],
          "choropleth": [
           {
            "colorbar": {
             "outlinewidth": 0,
             "ticks": ""
            },
            "type": "choropleth"
           }
          ],
          "contour": [
           {
            "colorbar": {
             "outlinewidth": 0,
             "ticks": ""
            },
            "colorscale": [
             [
              0,
              "#0d0887"
             ],
             [
              0.1111111111111111,
              "#46039f"
             ],
             [
              0.2222222222222222,
              "#7201a8"
             ],
             [
              0.3333333333333333,
              "#9c179e"
             ],
             [
              0.4444444444444444,
              "#bd3786"
             ],
             [
              0.5555555555555556,
              "#d8576b"
             ],
             [
              0.6666666666666666,
              "#ed7953"
             ],
             [
              0.7777777777777778,
              "#fb9f3a"
             ],
             [
              0.8888888888888888,
              "#fdca26"
             ],
             [
              1,
              "#f0f921"
             ]
            ],
            "type": "contour"
           }
          ],
          "contourcarpet": [
           {
            "colorbar": {
             "outlinewidth": 0,
             "ticks": ""
            },
            "type": "contourcarpet"
           }
          ],
          "heatmap": [
           {
            "colorbar": {
             "outlinewidth": 0,
             "ticks": ""
            },
            "colorscale": [
             [
              0,
              "#0d0887"
             ],
             [
              0.1111111111111111,
              "#46039f"
             ],
             [
              0.2222222222222222,
              "#7201a8"
             ],
             [
              0.3333333333333333,
              "#9c179e"
             ],
             [
              0.4444444444444444,
              "#bd3786"
             ],
             [
              0.5555555555555556,
              "#d8576b"
             ],
             [
              0.6666666666666666,
              "#ed7953"
             ],
             [
              0.7777777777777778,
              "#fb9f3a"
             ],
             [
              0.8888888888888888,
              "#fdca26"
             ],
             [
              1,
              "#f0f921"
             ]
            ],
            "type": "heatmap"
           }
          ],
          "heatmapgl": [
           {
            "colorbar": {
             "outlinewidth": 0,
             "ticks": ""
            },
            "colorscale": [
             [
              0,
              "#0d0887"
             ],
             [
              0.1111111111111111,
              "#46039f"
             ],
             [
              0.2222222222222222,
              "#7201a8"
             ],
             [
              0.3333333333333333,
              "#9c179e"
             ],
             [
              0.4444444444444444,
              "#bd3786"
             ],
             [
              0.5555555555555556,
              "#d8576b"
             ],
             [
              0.6666666666666666,
              "#ed7953"
             ],
             [
              0.7777777777777778,
              "#fb9f3a"
             ],
             [
              0.8888888888888888,
              "#fdca26"
             ],
             [
              1,
              "#f0f921"
             ]
            ],
            "type": "heatmapgl"
           }
          ],
          "histogram": [
           {
            "marker": {
             "pattern": {
              "fillmode": "overlay",
              "size": 10,
              "solidity": 0.2
             }
            },
            "type": "histogram"
           }
          ],
          "histogram2d": [
           {
            "colorbar": {
             "outlinewidth": 0,
             "ticks": ""
            },
            "colorscale": [
             [
              0,
              "#0d0887"
             ],
             [
              0.1111111111111111,
              "#46039f"
             ],
             [
              0.2222222222222222,
              "#7201a8"
             ],
             [
              0.3333333333333333,
              "#9c179e"
             ],
             [
              0.4444444444444444,
              "#bd3786"
             ],
             [
              0.5555555555555556,
              "#d8576b"
             ],
             [
              0.6666666666666666,
              "#ed7953"
             ],
             [
              0.7777777777777778,
              "#fb9f3a"
             ],
             [
              0.8888888888888888,
              "#fdca26"
             ],
             [
              1,
              "#f0f921"
             ]
            ],
            "type": "histogram2d"
           }
          ],
          "histogram2dcontour": [
           {
            "colorbar": {
             "outlinewidth": 0,
             "ticks": ""
            },
            "colorscale": [
             [
              0,
              "#0d0887"
             ],
             [
              0.1111111111111111,
              "#46039f"
             ],
             [
              0.2222222222222222,
              "#7201a8"
             ],
             [
              0.3333333333333333,
              "#9c179e"
             ],
             [
              0.4444444444444444,
              "#bd3786"
             ],
             [
              0.5555555555555556,
              "#d8576b"
             ],
             [
              0.6666666666666666,
              "#ed7953"
             ],
             [
              0.7777777777777778,
              "#fb9f3a"
             ],
             [
              0.8888888888888888,
              "#fdca26"
             ],
             [
              1,
              "#f0f921"
             ]
            ],
            "type": "histogram2dcontour"
           }
          ],
          "mesh3d": [
           {
            "colorbar": {
             "outlinewidth": 0,
             "ticks": ""
            },
            "type": "mesh3d"
           }
          ],
          "parcoords": [
           {
            "line": {
             "colorbar": {
              "outlinewidth": 0,
              "ticks": ""
             }
            },
            "type": "parcoords"
           }
          ],
          "pie": [
           {
            "automargin": true,
            "type": "pie"
           }
          ],
          "scatter": [
           {
            "fillpattern": {
             "fillmode": "overlay",
             "size": 10,
             "solidity": 0.2
            },
            "type": "scatter"
           }
          ],
          "scatter3d": [
           {
            "line": {
             "colorbar": {
              "outlinewidth": 0,
              "ticks": ""
             }
            },
            "marker": {
             "colorbar": {
              "outlinewidth": 0,
              "ticks": ""
             }
            },
            "type": "scatter3d"
           }
          ],
          "scattercarpet": [
           {
            "marker": {
             "colorbar": {
              "outlinewidth": 0,
              "ticks": ""
             }
            },
            "type": "scattercarpet"
           }
          ],
          "scattergeo": [
           {
            "marker": {
             "colorbar": {
              "outlinewidth": 0,
              "ticks": ""
             }
            },
            "type": "scattergeo"
           }
          ],
          "scattergl": [
           {
            "marker": {
             "colorbar": {
              "outlinewidth": 0,
              "ticks": ""
             }
            },
            "type": "scattergl"
           }
          ],
          "scattermapbox": [
           {
            "marker": {
             "colorbar": {
              "outlinewidth": 0,
              "ticks": ""
             }
            },
            "type": "scattermapbox"
           }
          ],
          "scatterpolar": [
           {
            "marker": {
             "colorbar": {
              "outlinewidth": 0,
              "ticks": ""
             }
            },
            "type": "scatterpolar"
           }
          ],
          "scatterpolargl": [
           {
            "marker": {
             "colorbar": {
              "outlinewidth": 0,
              "ticks": ""
             }
            },
            "type": "scatterpolargl"
           }
          ],
          "scatterternary": [
           {
            "marker": {
             "colorbar": {
              "outlinewidth": 0,
              "ticks": ""
             }
            },
            "type": "scatterternary"
           }
          ],
          "surface": [
           {
            "colorbar": {
             "outlinewidth": 0,
             "ticks": ""
            },
            "colorscale": [
             [
              0,
              "#0d0887"
             ],
             [
              0.1111111111111111,
              "#46039f"
             ],
             [
              0.2222222222222222,
              "#7201a8"
             ],
             [
              0.3333333333333333,
              "#9c179e"
             ],
             [
              0.4444444444444444,
              "#bd3786"
             ],
             [
              0.5555555555555556,
              "#d8576b"
             ],
             [
              0.6666666666666666,
              "#ed7953"
             ],
             [
              0.7777777777777778,
              "#fb9f3a"
             ],
             [
              0.8888888888888888,
              "#fdca26"
             ],
             [
              1,
              "#f0f921"
             ]
            ],
            "type": "surface"
           }
          ],
          "table": [
           {
            "cells": {
             "fill": {
              "color": "#EBF0F8"
             },
             "line": {
              "color": "white"
             }
            },
            "header": {
             "fill": {
              "color": "#C8D4E3"
             },
             "line": {
              "color": "white"
             }
            },
            "type": "table"
           }
          ]
         },
         "layout": {
          "annotationdefaults": {
           "arrowcolor": "#2a3f5f",
           "arrowhead": 0,
           "arrowwidth": 1
          },
          "autotypenumbers": "strict",
          "coloraxis": {
           "colorbar": {
            "outlinewidth": 0,
            "ticks": ""
           }
          },
          "colorscale": {
           "diverging": [
            [
             0,
             "#8e0152"
            ],
            [
             0.1,
             "#c51b7d"
            ],
            [
             0.2,
             "#de77ae"
            ],
            [
             0.3,
             "#f1b6da"
            ],
            [
             0.4,
             "#fde0ef"
            ],
            [
             0.5,
             "#f7f7f7"
            ],
            [
             0.6,
             "#e6f5d0"
            ],
            [
             0.7,
             "#b8e186"
            ],
            [
             0.8,
             "#7fbc41"
            ],
            [
             0.9,
             "#4d9221"
            ],
            [
             1,
             "#276419"
            ]
           ],
           "sequential": [
            [
             0,
             "#0d0887"
            ],
            [
             0.1111111111111111,
             "#46039f"
            ],
            [
             0.2222222222222222,
             "#7201a8"
            ],
            [
             0.3333333333333333,
             "#9c179e"
            ],
            [
             0.4444444444444444,
             "#bd3786"
            ],
            [
             0.5555555555555556,
             "#d8576b"
            ],
            [
             0.6666666666666666,
             "#ed7953"
            ],
            [
             0.7777777777777778,
             "#fb9f3a"
            ],
            [
             0.8888888888888888,
             "#fdca26"
            ],
            [
             1,
             "#f0f921"
            ]
           ],
           "sequentialminus": [
            [
             0,
             "#0d0887"
            ],
            [
             0.1111111111111111,
             "#46039f"
            ],
            [
             0.2222222222222222,
             "#7201a8"
            ],
            [
             0.3333333333333333,
             "#9c179e"
            ],
            [
             0.4444444444444444,
             "#bd3786"
            ],
            [
             0.5555555555555556,
             "#d8576b"
            ],
            [
             0.6666666666666666,
             "#ed7953"
            ],
            [
             0.7777777777777778,
             "#fb9f3a"
            ],
            [
             0.8888888888888888,
             "#fdca26"
            ],
            [
             1,
             "#f0f921"
            ]
           ]
          },
          "colorway": [
           "#636efa",
           "#EF553B",
           "#00cc96",
           "#ab63fa",
           "#FFA15A",
           "#19d3f3",
           "#FF6692",
           "#B6E880",
           "#FF97FF",
           "#FECB52"
          ],
          "font": {
           "color": "#2a3f5f"
          },
          "geo": {
           "bgcolor": "white",
           "lakecolor": "white",
           "landcolor": "#E5ECF6",
           "showlakes": true,
           "showland": true,
           "subunitcolor": "white"
          },
          "hoverlabel": {
           "align": "left"
          },
          "hovermode": "closest",
          "mapbox": {
           "style": "light"
          },
          "paper_bgcolor": "white",
          "plot_bgcolor": "#E5ECF6",
          "polar": {
           "angularaxis": {
            "gridcolor": "white",
            "linecolor": "white",
            "ticks": ""
           },
           "bgcolor": "#E5ECF6",
           "radialaxis": {
            "gridcolor": "white",
            "linecolor": "white",
            "ticks": ""
           }
          },
          "scene": {
           "xaxis": {
            "backgroundcolor": "#E5ECF6",
            "gridcolor": "white",
            "gridwidth": 2,
            "linecolor": "white",
            "showbackground": true,
            "ticks": "",
            "zerolinecolor": "white"
           },
           "yaxis": {
            "backgroundcolor": "#E5ECF6",
            "gridcolor": "white",
            "gridwidth": 2,
            "linecolor": "white",
            "showbackground": true,
            "ticks": "",
            "zerolinecolor": "white"
           },
           "zaxis": {
            "backgroundcolor": "#E5ECF6",
            "gridcolor": "white",
            "gridwidth": 2,
            "linecolor": "white",
            "showbackground": true,
            "ticks": "",
            "zerolinecolor": "white"
           }
          },
          "shapedefaults": {
           "line": {
            "color": "#2a3f5f"
           }
          },
          "ternary": {
           "aaxis": {
            "gridcolor": "white",
            "linecolor": "white",
            "ticks": ""
           },
           "baxis": {
            "gridcolor": "white",
            "linecolor": "white",
            "ticks": ""
           },
           "bgcolor": "#E5ECF6",
           "caxis": {
            "gridcolor": "white",
            "linecolor": "white",
            "ticks": ""
           }
          },
          "title": {
           "x": 0.05
          },
          "xaxis": {
           "automargin": true,
           "gridcolor": "white",
           "linecolor": "white",
           "ticks": "",
           "title": {
            "standoff": 15
           },
           "zerolinecolor": "white",
           "zerolinewidth": 2
          },
          "yaxis": {
           "automargin": true,
           "gridcolor": "white",
           "linecolor": "white",
           "ticks": "",
           "title": {
            "standoff": 15
           },
           "zerolinecolor": "white",
           "zerolinewidth": 2
          }
         }
        },
        "xaxis": {
         "anchor": "y",
         "domain": [
          0,
          1
         ],
         "title": {
          "text": "state"
         }
        },
        "yaxis": {
         "anchor": "x",
         "domain": [
          0,
          1
         ],
         "title": {
          "text": "value"
         }
        }
       }
      }
     },
     "metadata": {},
     "output_type": "display_data"
    }
   ],
   "source": [
    "fig_data = salary_state_df[['state', 'avg_salary']].groupby('state').median()\n",
    "print(fig_data.head())\n",
    "fig = px.bar(fig_data)\n",
    "fig.show()"
   ]
  }
 ],
 "metadata": {
  "kernelspec": {
   "display_name": "Python 3 (ipykernel)",
   "language": "python",
   "name": "python3"
  },
  "language_info": {
   "codemirror_mode": {
    "name": "ipython",
    "version": 3
   },
   "file_extension": ".py",
   "mimetype": "text/x-python",
   "name": "python",
   "nbconvert_exporter": "python",
   "pygments_lexer": "ipython3",
   "version": "3.12.3"
  }
 },
 "nbformat": 4,
 "nbformat_minor": 5
}
